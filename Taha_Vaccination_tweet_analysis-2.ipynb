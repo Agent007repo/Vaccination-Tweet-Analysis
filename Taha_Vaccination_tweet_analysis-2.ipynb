{
  "cells": [
    {
      "cell_type": "markdown",
      "metadata": {
        "id": "Rr45mfVZEKjd"
      },
      "source": []
    },
    {
      "cell_type": "code",
      "execution_count": 25,
      "metadata": {
        "colab": {
          "base_uri": "https://localhost:8080/"
        },
        "id": "bfNqv0ZdNZUs",
        "outputId": "85ca5b06-dac5-4396-ccdf-c6ef1fe4eaa2"
      },
      "outputs": [
        {
          "name": "stderr",
          "output_type": "stream",
          "text": [
            "[nltk_data] Downloading package vader_lexicon to\n",
            "[nltk_data]     /Users/samarthbasavarajannigeri/nltk_data...\n",
            "[nltk_data]   Package vader_lexicon is already up-to-date!\n",
            "[nltk_data] Downloading package punkt to\n",
            "[nltk_data]     /Users/samarthbasavarajannigeri/nltk_data...\n",
            "[nltk_data]   Package punkt is already up-to-date!\n",
            "[nltk_data] Downloading package stopwords to\n",
            "[nltk_data]     /Users/samarthbasavarajannigeri/nltk_data...\n",
            "[nltk_data]   Package stopwords is already up-to-date!\n",
            "[nltk_data] Downloading package wordnet to\n",
            "[nltk_data]     /Users/samarthbasavarajannigeri/nltk_data...\n",
            "[nltk_data]   Package wordnet is already up-to-date!\n"
          ]
        }
      ],
      "source": [
        "# SSL certificate fix and essential imports\n",
        "import os, certifi\n",
        "os.environ['SSL_CERT_FILE'] = certifi.where()\n",
        "import ssl\n",
        "ssl._create_default_https_context = ssl._create_unverified_context\n",
        "\n",
        "# Install required packages\n",
        "!pip install --quiet \"dask[dataframe]\" causalimpact bertopic pyvis folium \\\n",
        " sentence-transformers umap-learn hdbscan python-louvain nltk transformers\n",
        "\n",
        "# Core imports\n",
        "import pandas as pd\n",
        "import dask.dataframe as dd\n",
        "import numpy as np\n",
        "import matplotlib.pyplot as plt\n",
        "import plotly.express as px\n",
        "import seaborn as sns\n",
        "import re\n",
        "import string\n",
        "import ast\n",
        "from tqdm.notebook import tqdm\n",
        "from datetime import datetime, timedelta\n",
        "\n",
        "# NLP imports\n",
        "import nltk\n",
        "from nltk.sentiment.vader import SentimentIntensityAnalyzer\n",
        "nltk.download('vader_lexicon')\n",
        "nltk.download('punkt')\n",
        "nltk.download('stopwords')\n",
        "nltk.download('wordnet')\n",
        "from transformers import pipeline\n",
        "from bertopic import BERTopic\n",
        "\n",
        "# Graph analytics and other imports\n",
        "import networkx as nx\n",
        "from community import community_louvain\n",
        "from pyvis.network import Network\n",
        "import folium\n",
        "from sentence_transformers import SentenceTransformer\n",
        "import umap\n",
        "import hdbscan\n",
        "import statsmodels.formula.api as smf\n",
        "from causalimpact import CausalImpact\n",
        "import warnings\n",
        "warnings.filterwarnings('ignore')\n"
      ]
    },
    {
      "cell_type": "code",
      "execution_count": 26,
      "metadata": {
        "colab": {
          "base_uri": "https://localhost:8080/"
        },
        "id": "PBW_Bq0sNhof",
        "outputId": "352059b1-5f59-47b9-a386-fc53b225e8e9"
      },
      "outputs": [
        {
          "name": "stdout",
          "output_type": "stream",
          "text": [
            "Loading data...\n",
            "Converting to pandas DataFrame...\n",
            "Data loaded: 5,760 tweets\n",
            "Date range: 2020-12-12 11:55:28 → 2021-02-19 07:34:45\n"
          ]
        }
      ],
      "source": [
        "# Load data with Dask for efficient processing\n",
        "def load_data(file_path):\n",
        "    print(\"Loading data...\")\n",
        "    ddf = dd.read_csv(\n",
        "        file_path,\n",
        "        parse_dates=['date'],\n",
        "        dtype={'user_location': 'object'}\n",
        "    )\n",
        "\n",
        "    # Basic cleaning\n",
        "    ddf = ddf.drop_duplicates(subset=['id'])\n",
        "\n",
        "    # Convert to pandas for analysis\n",
        "    print(\"Converting to pandas DataFrame...\")\n",
        "    df = ddf.compute()\n",
        "\n",
        "    # Rename columns for clarity\n",
        "    df = df.rename(columns={\n",
        "        'id': 'tweet_id',\n",
        "        'date': 'created_at'\n",
        "    })\n",
        "\n",
        "    # Derive date features for time analysis\n",
        "    df['date_only'] = df['created_at'].dt.date\n",
        "    df['year_month'] = df['created_at'].dt.to_period('M')\n",
        "    df['day_of_week'] = df['created_at'].dt.day_name()\n",
        "    df['hour_of_day'] = df['created_at'].dt.hour\n",
        "\n",
        "    print(f\"Data loaded: {len(df):,} tweets\")\n",
        "    print(f\"Date range: {df['created_at'].min()} → {df['created_at'].max()}\")\n",
        "\n",
        "    return df\n",
        "\n",
        "# Load the dataset\n",
        "df = load_data('/Users/samarthbasavarajannigeri/Downloads/vaccination_tweets.csv')  # Update with your path\n"
      ]
    },
    {
      "cell_type": "code",
      "execution_count": 27,
      "metadata": {
        "colab": {
          "base_uri": "https://localhost:8080/"
        },
        "id": "G0tu1TlMNhgA",
        "outputId": "5b929b76-9017-4721-b5f1-110f3da66636"
      },
      "outputs": [
        {
          "name": "stdout",
          "output_type": "stream",
          "text": [
            "Preprocessing text data...\n"
          ]
        }
      ],
      "source": [
        "# Text preprocessing functions\n",
        "def clean_text(text):\n",
        "    \"\"\"Clean and preprocess tweet text\"\"\"\n",
        "    if pd.isna(text):\n",
        "        return \"\"\n",
        "\n",
        "    # Convert to lowercase\n",
        "    text = text.lower()\n",
        "\n",
        "    # Remove URLs, mentions, etc.\n",
        "    text = re.sub(r'https?://\\S+|www\\.\\S+', '', text)\n",
        "    text = re.sub(r'@\\w+', '', text)\n",
        "    text = re.sub(r'#', '', text)\n",
        "    text = text.translate(str.maketrans('', '', string.punctuation))\n",
        "    text = re.sub(r'\\s+', ' ', text).strip()\n",
        "\n",
        "    return text\n",
        "\n",
        "def parse_hashtags(hashtags_str):\n",
        "    \"\"\"Parse hashtags string into list\"\"\"\n",
        "    if pd.isna(hashtags_str):\n",
        "        return []\n",
        "    try:\n",
        "        return ast.literal_eval(hashtags_str)\n",
        "    except:\n",
        "        return [h.strip().strip(\"'\\\"\") for h in hashtags_str.strip('[]').split(',') if h]\n",
        "\n",
        "# Apply preprocessing\n",
        "print(\"Preprocessing text data...\")\n",
        "df['clean_text'] = df['text'].apply(clean_text)\n",
        "df['hashtags_list'] = df['hashtags'].apply(parse_hashtags)\n",
        "df['mentions'] = df['text'].apply(lambda x: re.findall(r'@(\\w+)', x) if not pd.isna(x) else [])\n",
        "\n",
        "# Define vaccine keywords\n",
        "vaccine_keywords = {\n",
        "    'pfizer': ['pfizer', 'biontech', 'pfizerbiontech'],\n",
        "    'moderna': ['moderna', 'mrna'],\n",
        "    'astrazeneca': ['astrazeneca', 'oxford', 'oxfordastrazeneca'],\n",
        "    'johnson': ['johnson', 'janssen', 'j&j'],\n",
        "}\n",
        "\n",
        "# Identify vaccines mentioned in tweets\n",
        "def identify_vaccines(text, hashtags):\n",
        "    if pd.isna(text):\n",
        "        text = \"\"\n",
        "\n",
        "    text = text.lower()\n",
        "    hashtag_text = ' '.join(hashtags).lower() if hashtags else \"\"\n",
        "    search_text = text + \" \" + hashtag_text\n",
        "\n",
        "    mentioned_vaccines = []\n",
        "    for vaccine, keywords in vaccine_keywords.items():\n",
        "        if any(keyword in search_text for keyword in keywords):\n",
        "            mentioned_vaccines.append(vaccine)\n",
        "\n",
        "    return mentioned_vaccines\n",
        "\n",
        "# Apply vaccine identification\n",
        "df['mentioned_vaccines'] = df.apply(lambda row: identify_vaccines(row['text'], row['hashtags_list']), axis=1)\n",
        "\n",
        "# Create individual vaccine flags\n",
        "for vaccine in vaccine_keywords.keys():\n",
        "    df[f'mentions_{vaccine}'] = df['mentioned_vaccines'].apply(lambda x: vaccine in x)\n"
      ]
    },
    {
      "cell_type": "code",
      "execution_count": 28,
      "metadata": {
        "colab": {
          "base_uri": "https://localhost:8080/",
          "height": 409
        },
        "id": "ZhuVBLVHNoKw",
        "outputId": "40f03769-4f85-4051-9a9f-837b398f422d"
      },
      "outputs": [
        {
          "name": "stdout",
          "output_type": "stream",
          "text": [
            "Running VADER sentiment analysis...\n"
          ]
        },
        {
          "data": {
            "image/png": "[encoded data removed]",
            "text/plain": [
              "<Figure size 1000x600 with 1 Axes>"
            ]
          },
          "metadata": {},
          "output_type": "display_data"
        }
      ],
      "source": [
        "# Initialize VADER sentiment analyzer\n",
        "vader = SentimentIntensityAnalyzer()\n",
        "\n",
        "def analyze_vader_sentiment(text):\n",
        "    \"\"\"Analyze sentiment using VADER\"\"\"\n",
        "    if pd.isna(text) or text == \"\":\n",
        "        return {'compound': 0, 'category': 'neutral'}\n",
        "\n",
        "    scores = vader.polarity_scores(text)\n",
        "    compound = scores['compound']\n",
        "\n",
        "    # Categorize sentiment\n",
        "    if compound >= 0.05:\n",
        "        category = 'positive'\n",
        "    elif compound <= -0.05:\n",
        "        category = 'negative'\n",
        "    else:\n",
        "        category = 'neutral'\n",
        "\n",
        "    return {'compound': compound, 'category': category}\n",
        "\n",
        "# Apply VADER sentiment analysis\n",
        "print(\"Running VADER sentiment analysis...\")\n",
        "vader_results = df['text'].apply(analyze_vader_sentiment)\n",
        "df['vader_compound'] = vader_results.apply(lambda x: x['compound'])\n",
        "df['vader_sentiment'] = vader_results.apply(lambda x: x['category'])\n",
        "\n",
        "# Sentiment distribution visualization\n",
        "plt.figure(figsize=(10, 6))\n",
        "sns.countplot(data=df, x='vader_sentiment', palette='viridis')\n",
        "plt.title('Overall Sentiment Distribution (VADER)')\n",
        "plt.xlabel('Sentiment')\n",
        "plt.ylabel('Count')\n",
        "plt.tight_layout()\n",
        "plt.show()\n"
      ]
    },
    {
      "cell_type": "code",
      "execution_count": 29,
      "metadata": {
        "colab": {
          "base_uri": "https://localhost:8080/",
          "height": 1000,
          "referenced_widgets": [
            "27586bbb13e04f3995d17e1c8d4dfc3a",
            "570563d9323e4c619cf0fc9a812b73ea",
            "6479422fb311481cbaa915651c1e8ab5",
            "be9ac414d2d945638fd1668df86a16fb",
            "3084313f6a684edb90d056bd58c31292",
            "a9b6922591674779828ae1177bdd4d6e",
            "21a442f2bcf6400fb484d1826bdffcf7",
            "c036577ef2844df681de951056967be7",
            "232330ef8b5a49edb8fc69bd61ecb362",
            "4338ff18446842bfbb1454221553dca4",
            "263e8a46412f4ba286b6f006effe25da",
            "406a1af93483485a8e6bd9ef6246a9f5",
            "6f93402f73cc44baab85f33d5bb27c1d",
            "396aed935d2348a997ec1d659f5b8121",
            "1fe2051fae35459e8f02f90de3634e02",
            "d2bfbed761d14a768dc37bdf4778de1b",
            "aec8c9239f7948f3bfa688593a0bc171",
            "24f331ab58bf48258f29a0832a59af2d",
            "4f4e414ae1fb4bcabb8b0dee422428b1",
            "65c24bcfd74647379423eac698328288",
            "0a746b01042246929a95c89abf979e93",
            "fc7da7fd44d44afcb70060b188700f54",
            "a91380cac0514a0ead70c3388fe5c4f7",
            "1625043d9ce7439bb4daadd69a31876c",
            "7fdc0d2575244a9a89c4b7dbf11efdc6",
            "6789045c6c2b427b95dc1fd366e73aa2",
            "43620df6c446423e80ffe31fc5d2cd24",
            "a42fe7b7fb5e4c7497f3e72c0819906f",
            "30f6d223b16e416a8621a4ca8b3d0f86",
            "9ca960c884524b3fb8930a05c89c57cf",
            "828fe142fcc94276b98015890e9135b1",
            "521ca146f9c8413b8d0ffbdd7aae588d",
            "3737cc88efc1400aa37d9946e1da5f8d",
            "09b68794950c4bd2982591e205c1c7ca",
            "e214b568818a45aa95b59560f5d3b724",
            "906b9318060b4d83bf0d9d2cfbbf8895",
            "ff4d0676ad5647c0990752581c1824ec",
            "4b5a16a0270e4601a9ec857a8b2c3948",
            "d27b10ff1a614a118ed30e4916c2fe7c",
            "4e697a6b0ca04ff09003b5779452bb24",
            "caf34eef10214541ae48ee9e1b013d75",
            "ee8e7dbc087a4e35a7b0efbf7c9fc178",
            "be2545adb78b4401a603acfdbbe067fe",
            "d91e9a65a3b14b8f8060f099f8c5bb56",
            "27277493c5d04026925c4fb0a8e82737",
            "472410a16c334039b4add5ff1aaf076e",
            "431b06c7091f4280aca84c4987f663b7",
            "57b3b3b51ee2405382062ceaa4cba031",
            "3b4bfb672d3543f7a5cb50217f1ce6a9",
            "02ac49cd3de54764a2a4fc8eeb5cc4ec",
            "ae3dc02504134910b4a383a123a80706",
            "7712002c851f40e8a095e91782473d64",
            "28898d95643a48f48c5d6e6b8bdea522",
            "b1e8e2424e064ade96858bd2e53f93c9",
            "28dabe47c5ff40f89757a621d088fa34",
            "1dcf59ebcd6f400da8ae5d3a35be57c0",
            "487de762947a4a8cabdfba3cb76a23c3",
            "f8fe1a54229a4018a698d99be117c2f9",
            "c5067ef5826d4ad7be970616be85ea69",
            "7517224df60c48968e0975f6a5ae804f",
            "027410c8fa314637a0ace4507ff3308d",
            "5deb1f7ba96d40c3b6bc939d5c067f4f",
            "b9374a17b39b41e69be0e3c7c8b88676",
            "81069c4855a14ea6891ccdaa6f25d067",
            "33c183245512489198bf26309f39091f",
            "bc2e246c00924cafb52036f5e7adfa74",
            "f9051ca55ba04c5c85527156f2618d5a",
            "a2384efafd7743c1af0b67992ad931c4",
            "892d024c16f94456a82349d474fc48d1",
            "8397eaef68b74dd2ae80b817bbe64abe",
            "9279a61202a64f2ea9520ab24f39072a",
            "b91e279f189d42e1811521f752dc68e1",
            "d8cc9b21ee2645698d04f0ae9239eeef",
            "a2d2f94ef618434e8248bb896ecfa1c0",
            "3d435b513b0a480bb75ec7af612464a3",
            "17acb1a44fcb46ceb14c0902ed7f6ad3",
            "204208d88a7942a4b2464b6e686ea744",
            "d7cc4907ea02407c91ec33ae34ef6fc9",
            "b13391b21fb444c6b9f9d1e35629bc97",
            "cc482dbe27de43dbb29f21d956ee19c1",
            "e6c672bbf7904e31b8eedf7b2c7525b4",
            "013653af5cd5419b85856905c9560801",
            "a6762141347c4aee96e7671e7c55351b",
            "8b7913692a9f4c30b6b4debe8795e68a",
            "fb916502ad81480bacb59d541970f526",
            "bdf482ce63714708be733444868d14f4",
            "ac787a16b7544f509140eaa7476591d1",
            "1e7b96331e72436e9f0638fdfa0972fa",
            "7a0dafbe60944578bbb3ae1779a39acf",
            "e62a0a75decc4527834a54947373044a",
            "e305a42ff43b4daaae186bdc37d18bb7",
            "73fc6a6de1e747e1a6da9a5b84d7c45c",
            "a7125356065b43a1aa7eecbc21f5faf8",
            "8ceb7e19107c4492a5e55fd884f2cc79",
            "b3642b21a01548929f8d93697f6525f7",
            "cf9316031a2f4a03bac2381420b758f2",
            "7389b774107c46af966a6c1d42b9dbc1",
            "ac54aa94139243d7b91ed6306ab302ee",
            "cd8e940f5570415cb564edacd2ae3a10",
            "3a104f9590974db2a23d2406c9aec3c5",
            "9612863cd3414e78bca8c43ac3fc1fd3",
            "a5e3ac21ab3d47c8aa359f2ababf26ca",
            "4244b605757840bc8e85c4054feb81e8",
            "f86e222886b04030a0ffaa65d5ff13c0",
            "a44bbfcd72c44e018e6bb73c825666fd",
            "72e9bfd356b04bc69b80f8e068bb8f73",
            "3af9108d2709440d8efe7349bfda0dd7",
            "76aef0b87d6a4a50b3c8019118a75cc5",
            "f1d637d20dd44926b5854d7308fedb74",
            "d247fb2c38484780a7079ab9e1805b44",
            "662e438614e34ff48d6559660597083f",
            "dc371ede4fe546138add4c7d366b5b4d",
            "9ea2796555c84392b5beffc2472d352b",
            "ceb9fed8138a4bb6903d9a0008e7545f",
            "594a821fbd3240e097793bc00597a21a",
            "854eb314a9334d838a17aa5c899e034d",
            "d3fde33c91844b27a4eb116af0ef31a3",
            "f874a9d7ac0343e1829a4e36c2e9d4d7",
            "c018555c449c4658a81304038edc471c",
            "1fee51782ce043ce991af89c9fe4b6fe",
            "b889be686ac64653a295be0b3af94e5d",
            "20ce2406710b49c7a5b95e265657c0d9",
            "e6558fcfaffc4c9fa3094515bebf9274",
            "646404a9d52c47b9ad61f84e0e692de5",
            "ace1cf347a0542e19591c6beba3d2a37",
            "5b15be81bcde4547be9112bb7ac14845",
            "f639425e4ee542a485ad2f4d63ccab31",
            "aafed71d7b114c51bd5bec37f7a6c858",
            "4851e084e3e24f59aa4a9bdab70cb7fa",
            "f36eda2a20734a3297021aad447aa284",
            "f6a11bb3630043e49bc589e779cfe65a",
            "c9b725e411b84d2e8bdfc177860cd387"
          ]
        },
        "id": "HBScD7W6NtN4",
        "outputId": "ed3e0a67-9dd2-4529-aa13-dfbf4d7c9807"
      },
      "outputs": [
        {
          "name": "stderr",
          "output_type": "stream",
          "text": [
            "2025-05-10 11:04:18,567 - BERTopic - Embedding - Transforming documents to embeddings.\n"
          ]
        },
        {
          "name": "stdout",
          "output_type": "stream",
          "text": [
            "Performing topic modeling on 5,740 documents...\n"
          ]
        },
        {
          "data": {
            "application/vnd.jupyter.widget-view+json": {
              "model_id": "1551a47caa1c4418a41d0a329dd51bae",
              "version_major": 2,
              "version_minor": 0
            },
            "text/plain": [
              "Batches:   0%|          | 0/180 [00:00<?, ?it/s]"
            ]
          },
          "metadata": {},
          "output_type": "display_data"
        },
        {
          "name": "stderr",
          "output_type": "stream",
          "text": [
            "2025-05-10 11:04:22,396 - BERTopic - Embedding - Completed ✓\n",
            "2025-05-10 11:04:22,396 - BERTopic - Dimensionality - Fitting the dimensionality reduction algorithm\n",
            "2025-05-10 11:04:24,488 - BERTopic - Dimensionality - Completed ✓\n",
            "2025-05-10 11:04:24,488 - BERTopic - Cluster - Start clustering the reduced embeddings\n",
            "2025-05-10 11:04:25,367 - BERTopic - Cluster - Completed ✓\n",
            "2025-05-10 11:04:25,370 - BERTopic - Representation - Fine-tuning topics using representation models.\n",
            "2025-05-10 11:04:25,432 - BERTopic - Representation - Completed ✓\n"
          ]
        },
        {
          "data": {
            "application/vnd.plotly.v1+json": {
              "config": {
                "plotlyServerURL": "https://plot.ly"
              },
              "data": [
                {
                  "customdata": [
                    [
                      0,
                      "pfizerbiontech | covidvaccine | dose | pfizervaccine | and",
                      984
                    ],
                    [
                      1,
                      "vaccine | pfizerbiontech | the | my | dose",
                      709
                    ],
                    [
                      2,
                      "eu | the | uk | is | vaccines",
                      211
                    ],
                    [
                      3,
                      "arm | sore | hours | side | effects",
                      205
                    ],
                    [
                      4,
                      "my | to | today | covid | vaccination",
                      201
                    ],
                    [
                      5,
                      "to | for | all | science | this",
                      139
                    ],
                    [
                      6,
                      "covid19 | vaccines | are | vaccination | dosing",
                      98
                    ],
                    [
                      7,
                      "astrazeneca | oxfordastrazeneca | oxford | vaccine | vaccines",
                      83
                    ],
                    [
                      8,
                      "mrna | moderna | vaccines | rna | mrnavaccine",
                      80
                    ],
                    [
                      9,
                      "coronavirus | against | variants | coronavirusstrain | appears",
                      77
                    ],
                    [
                      10,
                      "my | dose | first | covid19 | received",
                      76
                    ],
                    [
                      11,
                      "norway | 23 | died | after | 29",
                      71
                    ],
                    [
                      12,
                      "allergic | reaction | anaphylaxis | reactions | severe",
                      71
                    ],
                    [
                      13,
                      "israel | lebanon | israeli | largest | israels",
                      69
                    ],
                    [
                      14,
                      "europe | eu | european | doses | delivery",
                      62
                    ],
                    [
                      15,
                      "covid19 | vaccination | vaccinated | vaccino | pfizerbiontech",
                      61
                    ],
                    [
                      16,
                      "borisjohnson | gates | he | ours | this",
                      59
                    ],
                    [
                      17,
                      "dose | doses | second | of | 2nd",
                      58
                    ],
                    [
                      18,
                      "covid19 | vaccine | pfizerbiontech | vaccines | interim",
                      52
                    ],
                    [
                      19,
                      "against | variant | variants | mutation | key",
                      51
                    ],
                    [
                      20,
                      "emegency | view | fda | article | approved",
                      45
                    ],
                    [
                      21,
                      "got | covidvaccination | my | covid | covidvaccine",
                      44
                    ],
                    [
                      22,
                      "dose | second | covid | done | covid19",
                      37
                    ],
                    [
                      23,
                      "coronavirus | iran | cases | sinovac | 24",
                      37
                    ],
                    [
                      24,
                      "dubai | uae | free | breaking | campaign",
                      36
                    ],
                    [
                      25,
                      "covid19 | pandemic | over | 2020 | scientificdictatorship",
                      36
                    ],
                    [
                      26,
                      "singapore | asian | country | approves | asias",
                      34
                    ],
                    [
                      27,
                      "india | emergency | withdraws | application | use",
                      32
                    ],
                    [
                      28,
                      "300million | eu | plans | purchase | covidvaccines",
                      32
                    ],
                    [
                      29,
                      "amp | ahin | uur | funding | collaboration",
                      31
                    ],
                    [
                      30,
                      "dubai | book | appointment | six | video",
                      30
                    ],
                    [
                      31,
                      "covidvaccine | vaccinated | astrazeneca | pfizervaccine | pfizercovidvaccine",
                      30
                    ],
                    [
                      32,
                      "coronavirus | doses | jordan | million | poland",
                      29
                    ],
                    [
                      33,
                      "sarscov2 | b117 | delay | racialethnic | reductions",
                      28
                    ],
                    [
                      34,
                      "approves | eu | spain | european | europe",
                      27
                    ],
                    [
                      35,
                      "canada | ontario | toronto | anita | doses",
                      27
                    ],
                    [
                      36,
                      "inevitable | occur | uturn | regards | when",
                      24
                    ],
                    [
                      37,
                      "moderna | comparison | sidebyside | vaccines | choose",
                      24
                    ],
                    [
                      38,
                      "death | died | dies | itp | miami",
                      23
                    ],
                    [
                      39,
                      "qatar | oman | al | abdullah | batch",
                      21
                    ],
                    [
                      40,
                      "presidentelect | biden | joe | joebiden | publicly",
                      21
                    ],
                    [
                      41,
                      "jab | her | condition | risks | effects",
                      20
                    ],
                    [
                      42,
                      "covidvaccine | my | wave | today | mine",
                      19
                    ],
                    [
                      43,
                      "import | 150000 | iran | vaccinesthi | crescent",
                      18
                    ],
                    [
                      44,
                      "nurse | york | city | ottawa | breakingnews",
                      17
                    ],
                    [
                      45,
                      "uk | 9th | 600000 | 6000 | raf",
                      17
                    ],
                    [
                      46,
                      "iran | purchase | covidvaccines | khameneis | ban",
                      17
                    ],
                    [
                      47,
                      "tiffany | tiffanydover | dover | whereistiffanydover | bob",
                      16
                    ],
                    [
                      48,
                      "exceeds199300 | irancoronavirus | importing15 | crescent | red",
                      16
                    ],
                    [
                      49,
                      "canada | ottawa | todays | deliver | updates",
                      16
                    ],
                    [
                      50,
                      "us | ship | fedex | ups | monday",
                      15
                    ],
                    [
                      51,
                      "vs | moderna | how | compare | differences",
                      14
                    ],
                    [
                      52,
                      "150000 | import | crescent | red | khameneis",
                      14
                    ],
                    [
                      53,
                      "turkish | turks | ugur | turkey | invent",
                      14
                    ],
                    [
                      54,
                      "positive | tested | receiving | after | nurse",
                      14
                    ],
                    [
                      55,
                      "covidvaccination | social | great | media | extinction",
                      13
                    ],
                    [
                      56,
                      "originally | fewer | norway | reported | than",
                      13
                    ],
                    [
                      57,
                      "turkey | turkeys | coronaviruspandemic | toll | reaches",
                      13
                    ],
                    [
                      58,
                      "volunteered | beginning | this | week | today",
                      12
                    ],
                    [
                      59,
                      "hoarding | unitednations | spotlight | covax | under",
                      12
                    ],
                    [
                      60,
                      "died | 55 | people | cherokee | reports",
                      12
                    ],
                    [
                      61,
                      "portuguese | dies | days | sonia | portugal",
                      11
                    ],
                    [
                      62,
                      "jointly | covid19vaccines | covidvaccine | covid19 | batch",
                      11
                    ]
                  ],
                  "hovertemplate": "<b>Topic %{customdata[0]}</b><br>%{customdata[1]}<br>Size: %{customdata[2]}",
                  "legendgroup": "",
                  "marker": {
                    "color": "#B0BEC5",
                    "line": {
                      "color": "DarkSlateGrey",
                      "width": 2
                    },
                    "size": [
                      984,
                      709,
                      211,
                      205,
                      201,
                      139,
                      98,
                      83,
                      80,
                      77,
                      76,
                      71,
                      71,
                      69,
                      62,
                      61,
                      59,
                      58,
                      52,
                      51,
                      45,
                      44,
                      37,
                      37,
                      36,
                      36,
                      34,
                      32,
                      32,
                      31,
                      30,
                      30,
                      29,
                      28,
                      27,
                      27,
                      24,
                      24,
                      23,
                      21,
                      21,
                      20,
                      19,
                      18,
                      17,
                      17,
                      17,
                      16,
                      16,
                      16,
                      15,
                      14,
                      14,
                      14,
                      14,
                      13,
                      13,
                      13,
                      12,
                      12,
                      12,
                      11,
                      11
                    ],
                    "sizemode": "area",
                    "sizeref": 0.615,
                    "symbol": "circle"
                  },
                  "mode": "markers",
                  "name": "",
                  "orientation": "v",
                  "showlegend": false,
                  "type": "scatter",
                  "x": [
                    0.2068948745727539,
                    0.5388684868812561,
                    -8.417613983154297,
                    2.129836320877075,
                    1.7581756114959717,
                    1.7356239557266235,
                    -8.337148666381836,
                    -0.008695081807672977,
                    0.4331763684749603,
                    8.130290031433105,
                    2.1255760192871094,
                    2.3968148231506348,
                    0.3644058108329773,
                    17.7840518951416,
                    17.865203857421875,
                    0.31640130281448364,
                    1.7158743143081665,
                    0.6343968510627747,
                    0.49494466185569763,
                    0.3933641314506531,
                    8.050808906555176,
                    2.024601459503174,
                    1.7401151657104492,
                    8.370793342590332,
                    14.823132514953613,
                    -8.536975860595703,
                    18.18199920654297,
                    0.202653169631958,
                    18.272592544555664,
                    0.7297901511192322,
                    14.936684608459473,
                    0.17428673803806305,
                    8.150155067443848,
                    1.5668394565582275,
                    18.36531639099121,
                    -9.072243690490723,
                    1.6680272817611694,
                    9.192057609558105,
                    2.1201589107513428,
                    14.888033866882324,
                    -8.528783798217773,
                    0.5086977481842041,
                    1.6673614978790283,
                    14.384750366210938,
                    -7.9647979736328125,
                    2.7450449466705322,
                    14.26027774810791,
                    0.3165886700153351,
                    14.329676628112793,
                    -8.931560516357422,
                    2.7827882766723633,
                    9.2620849609375,
                    14.128767967224121,
                    17.52800941467285,
                    -7.925871849060059,
                    0.19508478045463562,
                    2.5184168815612793,
                    8.39704704284668,
                    2.6411290168762207,
                    0.5618368983268738,
                    2.150646209716797,
                    2.2819979190826416,
                    0.21697382628917694
                  ],
                  "xaxis": "x",
                  "y": [
                    21.564409255981445,
                    5.6120829582214355,
                    -1.793189525604248,
                    4.514983654022217,
                    3.0025076866149902,
                    2.51782488822937,
                    -2.029759407043457,
                    5.8599138259887695,
                    5.723494529724121,
                    -6.341788291931152,
                    4.461563587188721,
                    -4.475545883178711,
                    5.547452449798584,
                    -4.478115558624268,
                    -4.382558822631836,
                    20.118595123291016,
                    2.2927300930023193,
                    6.3332085609436035,
                    20.005828857421875,
                    20.089954376220703,
                    -6.25702428817749,
                    4.1718878746032715,
                    4.398476600646973,
                    -6.578850746154785,
                    9.122541427612305,
                    -2.113712787628174,
                    -4.518434047698975,
                    5.40317964553833,
                    -4.3329854011535645,
                    6.452269554138184,
                    9.231921195983887,
                    20.96076774597168,
                    -6.336202144622803,
                    4.347683906555176,
                    -4.141110420227051,
                    -1.786629557609558,
                    2.1478633880615234,
                    9.454347610473633,
                    -4.735925197601318,
                    9.181132316589355,
                    -2.1962554454803467,
                    6.126693248748779,
                    2.9556331634521484,
                    -5.445739269256592,
                    -2.090400457382202,
                    4.587949752807617,
                    -5.5715742111206055,
                    21.73955726623535,
                    -5.498610019683838,
                    -1.732164740562439,
                    4.578198432922363,
                    9.47299575805664,
                    -5.702950954437256,
                    -4.380109786987305,
                    -2.0708985328674316,
                    21.31363296508789,
                    -4.36768913269043,
                    -6.6049065589904785,
                    4.678257942199707,
                    19.93645668029785,
                    -4.828446388244629,
                    -4.877318382263184,
                    20.624269485473633
                  ],
                  "yaxis": "y"
                }
              ],
              "layout": {
                "annotations": [
                  {
                    "showarrow": false,
                    "text": "D1",
                    "x": -10.433080244064332,
                    "y": 8.702424156665803,
                    "yshift": 10
                  },
                  {
                    "showarrow": false,
                    "text": "D2",
                    "x": 5.34351680278778,
                    "xshift": 10,
                    "y": 25.000490856170654
                  }
                ],
                "height": 650,
                "hoverlabel": {
                  "bgcolor": "white",
                  "font": {
                    "family": "Rockwell",
                    "size": 16
                  }
                },
                "legend": {
                  "itemsizing": "constant",
                  "tracegroupgap": 0
                },
                "margin": {
                  "t": 60
                },
                "shapes": [
                  {
                    "line": {
                      "color": "#CFD8DC",
                      "width": 2
                    },
                    "type": "line",
                    "x0": 5.34351680278778,
                    "x1": 5.34351680278778,
                    "y0": -7.59564254283905,
                    "y1": 25.000490856170654
                  },
                  {
                    "line": {
                      "color": "#9E9E9E",
                      "width": 2
                    },
                    "type": "line",
                    "x0": -10.433080244064332,
                    "x1": 21.120113849639893,
                    "y0": 8.702424156665803,
                    "y1": 8.702424156665803
                  }
                ],
                "sliders": [
                  {
                    "active": 0,
                    "pad": {
                      "t": 50
                    },
                    "steps": [
                      {
                        "args": [
                          {
                            "marker.color": [
                              [
                                "red",
                                "#B0BEC5",
                                "#B0BEC5",
                                "#B0BEC5",
                                "#B0BEC5",
                                "#B0BEC5",
                                "#B0BEC5",
                                "#B0BEC5",
                                "#B0BEC5",
                                "#B0BEC5",
                                "#B0BEC5",
                                "#B0BEC5",
                                "#B0BEC5",
                                "#B0BEC5",
                                "#B0BEC5",
                                "#B0BEC5",
                                "#B0BEC5",
                                "#B0BEC5",
                                "#B0BEC5",
                                "#B0BEC5",
                                "#B0BEC5",
                                "#B0BEC5",
                                "#B0BEC5",
                                "#B0BEC5",
                                "#B0BEC5",
                                "#B0BEC5",
                                "#B0BEC5",
                                "#B0BEC5",
                                "#B0BEC5",
                                "#B0BEC5",
                                "#B0BEC5",
                                "#B0BEC5",
                                "#B0BEC5",
                                "#B0BEC5",
                                "#B0BEC5",
                                "#B0BEC5",
                                "#B0BEC5",
                                "#B0BEC5",
                                "#B0BEC5",
                                "#B0BEC5",
                                "#B0BEC5",
                                "#B0BEC5",
                                "#B0BEC5",
                                "#B0BEC5",
                                "#B0BEC5",
                                "#B0BEC5",
                                "#B0BEC5",
                                "#B0BEC5",
                                "#B0BEC5",
                                "#B0BEC5",
                                "#B0BEC5",
                                "#B0BEC5",
                                "#B0BEC5",
                                "#B0BEC5",
                                "#B0BEC5",
                                "#B0BEC5",
                                "#B0BEC5",
                                "#B0BEC5",
                                "#B0BEC5",
                                "#B0BEC5",
                                "#B0BEC5",
                                "#B0BEC5",
                                "#B0BEC5"
                              ]
                            ]
                          }
                        ],
                        "label": "Topic 0",
                        "method": "update"
                      },
                      {
                        "args": [
                          {
                            "marker.color": [
                              [
                                "#B0BEC5",
                                "red",
                                "#B0BEC5",
                                "#B0BEC5",
                                "#B0BEC5",
                                "#B0BEC5",
                                "#B0BEC5",
                                "#B0BEC5",
                                "#B0BEC5",
                                "#B0BEC5",
                                "#B0BEC5",
                                "#B0BEC5",
                                "#B0BEC5",
                                "#B0BEC5",
                                "#B0BEC5",
                                "#B0BEC5",
                                "#B0BEC5",
                                "#B0BEC5",
                                "#B0BEC5",
                                "#B0BEC5",
                                "#B0BEC5",
                                "#B0BEC5",
                                "#B0BEC5",
                                "#B0BEC5",
                                "#B0BEC5",
                                "#B0BEC5",
                                "#B0BEC5",
                                "#B0BEC5",
                                "#B0BEC5",
                                "#B0BEC5",
                                "#B0BEC5",
                                "#B0BEC5",
                                "#B0BEC5",
                                "#B0BEC5",
                                "#B0BEC5",
                                "#B0BEC5",
                                "#B0BEC5",
                                "#B0BEC5",
                                "#B0BEC5",
                                "#B0BEC5",
                                "#B0BEC5",
                                "#B0BEC5",
                                "#B0BEC5",
                                "#B0BEC5",
                                "#B0BEC5",
                                "#B0BEC5",
                                "#B0BEC5",
                                "#B0BEC5",
                                "#B0BEC5",
                                "#B0BEC5",
                                "#B0BEC5",
                                "#B0BEC5",
                                "#B0BEC5",
                                "#B0BEC5",
                                "#B0BEC5",
                                "#B0BEC5",
                                "#B0BEC5",
                                "#B0BEC5",
                                "#B0BEC5",
                                "#B0BEC5",
                                "#B0BEC5",
                                "#B0BEC5",
                                "#B0BEC5"
                              ]
                            ]
                          }
                        ],
                        "label": "Topic 1",
                        "method": "update"
                      },
                      {
                        "args": [
                          {
                            "marker.color": [
                              [
                                "#B0BEC5",
                                "#B0BEC5",
                                "red",
                                "#B0BEC5",
                                "#B0BEC5",
                                "#B0BEC5",
                                "#B0BEC5",
                                "#B0BEC5",
                                "#B0BEC5",
                                "#B0BEC5",
                                "#B0BEC5",
                                "#B0BEC5",
                                "#B0BEC5",
                                "#B0BEC5",
                                "#B0BEC5",
                                "#B0BEC5",
                                "#B0BEC5",
                                "#B0BEC5",
                                "#B0BEC5",
                                "#B0BEC5",
                                "#B0BEC5",
                                "#B0BEC5",
                                "#B0BEC5",
                                "#B0BEC5",
                                "#B0BEC5",
                                "#B0BEC5",
                                "#B0BEC5",
                                "#B0BEC5",
                                "#B0BEC5",
                                "#B0BEC5",
                                "#B0BEC5",
                                "#B0BEC5",
                                "#B0BEC5",
                                "#B0BEC5",
                                "#B0BEC5",
                                "#B0BEC5",
                                "#B0BEC5",
                                "#B0BEC5",
                                "#B0BEC5",
                                "#B0BEC5",
                                "#B0BEC5",
                                "#B0BEC5",
                                "#B0BEC5",
                                "#B0BEC5",
                                "#B0BEC5",
                                "#B0BEC5",
                                "#B0BEC5",
                                "#B0BEC5",
                                "#B0BEC5",
                                "#B0BEC5",
                                "#B0BEC5",
                                "#B0BEC5",
                                "#B0BEC5",
                                "#B0BEC5",
                                "#B0BEC5",
                                "#B0BEC5",
                                "#B0BEC5",
                                "#B0BEC5",
                                "#B0BEC5",
                                "#B0BEC5",
                                "#B0BEC5",
                                "#B0BEC5",
                                "#B0BEC5"
                              ]
                            ]
                          }
                        ],
                        "label": "Topic 2",
                        "method": "update"
                      },
                      {
                        "args": [
                          {
                            "marker.color": [
                              [
                                "#B0BEC5",
                                "#B0BEC5",
                                "#B0BEC5",
                                "red",
                                "#B0BEC5",
                                "#B0BEC5",
                                "#B0BEC5",
                                "#B0BEC5",
                                "#B0BEC5",
                                "#B0BEC5",
                                "#B0BEC5",
                                "#B0BEC5",
                                "#B0BEC5",
                                "#B0BEC5",
                                "#B0BEC5",
                                "#B0BEC5",
                                "#B0BEC5",
                                "#B0BEC5",
                                "#B0BEC5",
                                "#B0BEC5",
                                "#B0BEC5",
                                "#B0BEC5",
                                "#B0BEC5",
                                "#B0BEC5",
                                "#B0BEC5",
                                "#B0BEC5",
                                "#B0BEC5",
                                "#B0BEC5",
                                "#B0BEC5",
                                "#B0BEC5",
                                "#B0BEC5",
                                "#B0BEC5",
                                "#B0BEC5",
                                "#B0BEC5",
                                "#B0BEC5",
                                "#B0BEC5",
                                "#B0BEC5",
                                "#B0BEC5",
                                "#B0BEC5",
                                "#B0BEC5",
                                "#B0BEC5",
                                "#B0BEC5",
                                "#B0BEC5",
                                "#B0BEC5",
                                "#B0BEC5",
                                "#B0BEC5",
                                "#B0BEC5",
                                "#B0BEC5",
                                "#B0BEC5",
                                "#B0BEC5",
                                "#B0BEC5",
                                "#B0BEC5",
                                "#B0BEC5",
                                "#B0BEC5",
                                "#B0BEC5",
                                "#B0BEC5",
                                "#B0BEC5",
                                "#B0BEC5",
                                "#B0BEC5",
                                "#B0BEC5",
                                "#B0BEC5",
                                "#B0BEC5",
                                "#B0BEC5"
                              ]
                            ]
                          }
                        ],
                        "label": "Topic 3",
                        "method": "update"
                      },
                      {
                        "args": [
                          {
                            "marker.color": [
                              [
                                "#B0BEC5",
                                "#B0BEC5",
                                "#B0BEC5",
                                "#B0BEC5",
                                "red",
                                "#B0BEC5",
                                "#B0BEC5",
                                "#B0BEC5",
                                "#B0BEC5",
                                "#B0BEC5",
                                "#B0BEC5",
                                "#B0BEC5",
                                "#B0BEC5",
                                "#B0BEC5",
                                "#B0BEC5",
                                "#B0BEC5",
                                "#B0BEC5",
                                "#B0BEC5",
                                "#B0BEC5",
                                "#B0BEC5",
                                "#B0BEC5",
                                "#B0BEC5",
                                "#B0BEC5",
                                "#B0BEC5",
                                "#B0BEC5",
                                "#B0BEC5",
                                "#B0BEC5",
                                "#B0BEC5",
                                "#B0BEC5",
                                "#B0BEC5",
                                "#B0BEC5",
                                "#B0BEC5",
                                "#B0BEC5",
                                "#B0BEC5",
                                "#B0BEC5",
                                "#B0BEC5",
                                "#B0BEC5",
                                "#B0BEC5",
                                "#B0BEC5",
                                "#B0BEC5",
                                "#B0BEC5",
                                "#B0BEC5",
                                "#B0BEC5",
                                "#B0BEC5",
                                "#B0BEC5",
                                "#B0BEC5",
                                "#B0BEC5",
                                "#B0BEC5",
                                "#B0BEC5",
                                "#B0BEC5",
                                "#B0BEC5",
                                "#B0BEC5",
                                "#B0BEC5",
                                "#B0BEC5",
                                "#B0BEC5",
                                "#B0BEC5",
                                "#B0BEC5",
                                "#B0BEC5",
                                "#B0BEC5",
                                "#B0BEC5",
                                "#B0BEC5",
                                "#B0BEC5",
                                "#B0BEC5"
                              ]
                            ]
                          }
                        ],
                        "label": "Topic 4",
                        "method": "update"
                      },
                      {
                        "args": [
                          {
                            "marker.color": [
                              [
                                "#B0BEC5",
                                "#B0BEC5",
                                "#B0BEC5",
                                "#B0BEC5",
                                "#B0BEC5",
                                "red",
                                "#B0BEC5",
                                "#B0BEC5",
                                "#B0BEC5",
                                "#B0BEC5",
                                "#B0BEC5",
                                "#B0BEC5",
                                "#B0BEC5",
                                "#B0BEC5",
                                "#B0BEC5",
                                "#B0BEC5",
                                "#B0BEC5",
                                "#B0BEC5",
                                "#B0BEC5",
                                "#B0BEC5",
                                "#B0BEC5",
                                "#B0BEC5",
                                "#B0BEC5",
                                "#B0BEC5",
                                "#B0BEC5",
                                "#B0BEC5",
                                "#B0BEC5",
                                "#B0BEC5",
                                "#B0BEC5",
                                "#B0BEC5",
                                "#B0BEC5",
                                "#B0BEC5",
                                "#B0BEC5",
                                "#B0BEC5",
                                "#B0BEC5",
                                "#B0BEC5",
                                "#B0BEC5",
                                "#B0BEC5",
                                "#B0BEC5",
                                "#B0BEC5",
                                "#B0BEC5",
                                "#B0BEC5",
                                "#B0BEC5",
                                "#B0BEC5",
                                "#B0BEC5",
                                "#B0BEC5",
                                "#B0BEC5",
                                "#B0BEC5",
                                "#B0BEC5",
                                "#B0BEC5",
                                "#B0BEC5",
                                "#B0BEC5",
                                "#B0BEC5",
                                "#B0BEC5",
                                "#B0BEC5",
                                "#B0BEC5",
                                "#B0BEC5",
                                "#B0BEC5",
                                "#B0BEC5",
                                "#B0BEC5",
                                "#B0BEC5",
                                "#B0BEC5",
                                "#B0BEC5"
                              ]
                            ]
                          }
                        ],
                        "label": "Topic 5",
                        "method": "update"
                      },
                      {
                        "args": [
                          {
                            "marker.color": [
                              [
                                "#B0BEC5",
                                "#B0BEC5",
                                "#B0BEC5",
                                "#B0BEC5",
                                "#B0BEC5",
                                "#B0BEC5",
                                "red",
                                "#B0BEC5",
                                "#B0BEC5",
                                "#B0BEC5",
                                "#B0BEC5",
                                "#B0BEC5",
                                "#B0BEC5",
                                "#B0BEC5",
                                "#B0BEC5",
                                "#B0BEC5",
                                "#B0BEC5",
                                "#B0BEC5",
                                "#B0BEC5",
                                "#B0BEC5",
                                "#B0BEC5",
                                "#B0BEC5",
                                "#B0BEC5",
                                "#B0BEC5",
                                "#B0BEC5",
                                "#B0BEC5",
                                "#B0BEC5",
                                "#B0BEC5",
                                "#B0BEC5",
                                "#B0BEC5",
                                "#B0BEC5",
                                "#B0BEC5",
                                "#B0BEC5",
                                "#B0BEC5",
                                "#B0BEC5",
                                "#B0BEC5",
                                "#B0BEC5",
                                "#B0BEC5",
                                "#B0BEC5",
                                "#B0BEC5",
                                "#B0BEC5",
                                "#B0BEC5",
                                "#B0BEC5",
                                "#B0BEC5",
                                "#B0BEC5",
                                "#B0BEC5",
                                "#B0BEC5",
                                "#B0BEC5",
                                "#B0BEC5",
                                "#B0BEC5",
                                "#B0BEC5",
                                "#B0BEC5",
                                "#B0BEC5",
                                "#B0BEC5",
                                "#B0BEC5",
                                "#B0BEC5",
                                "#B0BEC5",
                                "#B0BEC5",
                                "#B0BEC5",
                                "#B0BEC5",
                                "#B0BEC5",
                                "#B0BEC5",
                                "#B0BEC5"
                              ]
                            ]
                          }
                        ],
                        "label": "Topic 6",
                        "method": "update"
                      },
                      {
                        "args": [
                          {
                            "marker.color": [
                              [
                                "#B0BEC5",
                                "#B0BEC5",
                                "#B0BEC5",
                                "#B0BEC5",
                                "#B0BEC5",
                                "#B0BEC5",
                                "#B0BEC5",
                                "red",
                                "#B0BEC5",
                                "#B0BEC5",
                                "#B0BEC5",
                                "#B0BEC5",
                                "#B0BEC5",
                                "#B0BEC5",
                                "#B0BEC5",
                                "#B0BEC5",
                                "#B0BEC5",
                                "#B0BEC5",
                                "#B0BEC5",
                                "#B0BEC5",
                                "#B0BEC5",
                                "#B0BEC5",
                                "#B0BEC5",
                                "#B0BEC5",
                                "#B0BEC5",
                                "#B0BEC5",
                                "#B0BEC5",
                                "#B0BEC5",
                                "#B0BEC5",
                                "#B0BEC5",
                                "#B0BEC5",
                                "#B0BEC5",
                                "#B0BEC5",
                                "#B0BEC5",
                                "#B0BEC5",
                                "#B0BEC5",
                                "#B0BEC5",
                                "#B0BEC5",
                                "#B0BEC5",
                                "#B0BEC5",
                                "#B0BEC5",
                                "#B0BEC5",
                                "#B0BEC5",
                                "#B0BEC5",
                                "#B0BEC5",
                                "#B0BEC5",
                                "#B0BEC5",
                                "#B0BEC5",
                                "#B0BEC5",
                                "#B0BEC5",
                                "#B0BEC5",
                                "#B0BEC5",
                                "#B0BEC5",
                                "#B0BEC5",
                                "#B0BEC5",
                                "#B0BEC5",
                                "#B0BEC5",
                                "#B0BEC5",
                                "#B0BEC5",
                                "#B0BEC5",
                                "#B0BEC5",
                                "#B0BEC5",
                                "#B0BEC5"
                              ]
                            ]
                          }
                        ],
                        "label": "Topic 7",
                        "method": "update"
                      },
                      {
                        "args": [
                          {
                            "marker.color": [
                              [
                                "#B0BEC5",
                                "#B0BEC5",
                                "#B0BEC5",
                                "#B0BEC5",
                                "#B0BEC5",
                                "#B0BEC5",
                                "#B0BEC5",
                                "#B0BEC5",
                                "red",
                                "#B0BEC5",
                                "#B0BEC5",
                                "#B0BEC5",
                                "#B0BEC5",
                                "#B0BEC5",
                                "#B0BEC5",
                                "#B0BEC5",
                                "#B0BEC5",
                                "#B0BEC5",
                                "#B0BEC5",
                                "#B0BEC5",
                                "#B0BEC5",
                                "#B0BEC5",
                                "#B0BEC5",
                                "#B0BEC5",
                                "#B0BEC5",
                                "#B0BEC5",
                                "#B0BEC5",
                                "#B0BEC5",
                                "#B0BEC5",
                                "#B0BEC5",
                                "#B0BEC5",
                                "#B0BEC5",
                                "#B0BEC5",
                                "#B0BEC5",
                                "#B0BEC5",
                                "#B0BEC5",
                                "#B0BEC5",
                                "#B0BEC5",
                                "#B0BEC5",
                                "#B0BEC5",
                                "#B0BEC5",
                                "#B0BEC5",
                                "#B0BEC5",
                                "#B0BEC5",
                                "#B0BEC5",
                                "#B0BEC5",
                                "#B0BEC5",
                                "#B0BEC5",
                                "#B0BEC5",
                                "#B0BEC5",
                                "#B0BEC5",
                                "#B0BEC5",
                                "#B0BEC5",
                                "#B0BEC5",
                                "#B0BEC5",
                                "#B0BEC5",
                                "#B0BEC5",
                                "#B0BEC5",
                                "#B0BEC5",
                                "#B0BEC5",
                                "#B0BEC5",
                                "#B0BEC5",
                                "#B0BEC5"
                              ]
                            ]
                          }
                        ],
                        "label": "Topic 8",
                        "method": "update"
                      },
                      {
                        "args": [
                          {
                            "marker.color": [
                              [
                                "#B0BEC5",
                                "#B0BEC5",
                                "#B0BEC5",
                                "#B0BEC5",
                                "#B0BEC5",
                                "#B0BEC5",
                                "#B0BEC5",
                                "#B0BEC5",
                                "#B0BEC5",
                                "red",
                                "#B0BEC5",
                                "#B0BEC5",
                                "#B0BEC5",
                                "#B0BEC5",
                                "#B0BEC5",
                                "#B0BEC5",
                                "#B0BEC5",
                                "#B0BEC5",
                                "#B0BEC5",
                                "#B0BEC5",
                                "#B0BEC5",
                                "#B0BEC5",
                                "#B0BEC5",
                                "#B0BEC5",
                                "#B0BEC5",
                                "#B0BEC5",
                                "#B0BEC5",
                                "#B0BEC5",
                                "#B0BEC5",
                                "#B0BEC5",
                                "#B0BEC5",
                                "#B0BEC5",
                                "#B0BEC5",
                                "#B0BEC5",
                                "#B0BEC5",
                                "#B0BEC5",
                                "#B0BEC5",
                                "#B0BEC5",
                                "#B0BEC5",
                                "#B0BEC5",
                                "#B0BEC5",
                                "#B0BEC5",
                                "#B0BEC5",
                                "#B0BEC5",
                                "#B0BEC5",
                                "#B0BEC5",
                                "#B0BEC5",
                                "#B0BEC5",
                                "#B0BEC5",
                                "#B0BEC5",
                                "#B0BEC5",
                                "#B0BEC5",
                                "#B0BEC5",
                                "#B0BEC5",
                                "#B0BEC5",
                                "#B0BEC5",
                                "#B0BEC5",
                                "#B0BEC5",
                                "#B0BEC5",
                                "#B0BEC5",
                                "#B0BEC5",
                                "#B0BEC5",
                                "#B0BEC5"
                              ]
                            ]
                          }
                        ],
                        "label": "Topic 9",
                        "method": "update"
                      },
                      {
                        "args": [
                          {
                            "marker.color": [
                              [
                                "#B0BEC5",
                                "#B0BEC5",
                                "#B0BEC5",
                                "#B0BEC5",
                                "#B0BEC5",
                                "#B0BEC5",
                                "#B0BEC5",
                                "#B0BEC5",
                                "#B0BEC5",
                                "#B0BEC5",
                                "red",
                                "#B0BEC5",
                                "#B0BEC5",
                                "#B0BEC5",
                                "#B0BEC5",
                                "#B0BEC5",
                                "#B0BEC5",
                                "#B0BEC5",
                                "#B0BEC5",
                                "#B0BEC5",
                                "#B0BEC5",
                                "#B0BEC5",
                                "#B0BEC5",
                                "#B0BEC5",
                                "#B0BEC5",
                                "#B0BEC5",
                                "#B0BEC5",
                                "#B0BEC5",
                                "#B0BEC5",
                                "#B0BEC5",
                                "#B0BEC5",
                                "#B0BEC5",
                                "#B0BEC5",
                                "#B0BEC5",
                                "#B0BEC5",
                                "#B0BEC5",
                                "#B0BEC5",
                                "#B0BEC5",
                                "#B0BEC5",
                                "#B0BEC5",
                                "#B0BEC5",
                                "#B0BEC5",
                                "#B0BEC5",
                                "#B0BEC5",
                                "#B0BEC5",
                                "#B0BEC5",
                                "#B0BEC5",
                                "#B0BEC5",
                                "#B0BEC5",
                                "#B0BEC5",
                                "#B0BEC5",
                                "#B0BEC5",
                                "#B0BEC5",
                                "#B0BEC5",
                                "#B0BEC5",
                                "#B0BEC5",
                                "#B0BEC5",
                                "#B0BEC5",
                                "#B0BEC5",
                                "#B0BEC5",
                                "#B0BEC5",
                                "#B0BEC5",
                                "#B0BEC5"
                              ]
                            ]
                          }
                        ],
                        "label": "Topic 10",
                        "method": "update"
                      },
                      {
                        "args": [
                          {
                            "marker.color": [
                              [
                                "#B0BEC5",
                                "#B0BEC5",
                                "#B0BEC5",
                                "#B0BEC5",
                                "#B0BEC5",
                                "#B0BEC5",
                                "#B0BEC5",
                                "#B0BEC5",
                                "#B0BEC5",
                                "#B0BEC5",
                                "#B0BEC5",
                                "red",
                                "#B0BEC5",
                                "#B0BEC5",
                                "#B0BEC5",
                                "#B0BEC5",
                                "#B0BEC5",
                                "#B0BEC5",
                                "#B0BEC5",
                                "#B0BEC5",
                                "#B0BEC5",
                                "#B0BEC5",
                                "#B0BEC5",
                                "#B0BEC5",
                                "#B0BEC5",
                                "#B0BEC5",
                                "#B0BEC5",
                                "#B0BEC5",
                                "#B0BEC5",
                                "#B0BEC5",
                                "#B0BEC5",
                                "#B0BEC5",
                                "#B0BEC5",
                                "#B0BEC5",
                                "#B0BEC5",
                                "#B0BEC5",
                                "#B0BEC5",
                                "#B0BEC5",
                                "#B0BEC5",
                                "#B0BEC5",
                                "#B0BEC5",
                                "#B0BEC5",
                                "#B0BEC5",
                                "#B0BEC5",
                                "#B0BEC5",
                                "#B0BEC5",
                                "#B0BEC5",
                                "#B0BEC5",
                                "#B0BEC5",
                                "#B0BEC5",
                                "#B0BEC5",
                                "#B0BEC5",
                                "#B0BEC5",
                                "#B0BEC5",
                                "#B0BEC5",
                                "#B0BEC5",
                                "#B0BEC5",
                                "#B0BEC5",
                                "#B0BEC5",
                                "#B0BEC5",
                                "#B0BEC5",
                                "#B0BEC5",
                                "#B0BEC5"
                              ]
                            ]
                          }
                        ],
                        "label": "Topic 11",
                        "method": "update"
                      },
                      {
                        "args": [
                          {
                            "marker.color": [
                              [
                                "#B0BEC5",
                                "#B0BEC5",
                                "#B0BEC5",
                                "#B0BEC5",
                                "#B0BEC5",
                                "#B0BEC5",
                                "#B0BEC5",
                                "#B0BEC5",
                                "#B0BEC5",
                                "#B0BEC5",
                                "#B0BEC5",
                                "#B0BEC5",
                                "red",
                                "#B0BEC5",
                                "#B0BEC5",
                                "#B0BEC5",
                                "#B0BEC5",
                                "#B0BEC5",
                                "#B0BEC5",
                                "#B0BEC5",
                                "#B0BEC5",
                                "#B0BEC5",
                                "#B0BEC5",
                                "#B0BEC5",
                                "#B0BEC5",
                                "#B0BEC5",
                                "#B0BEC5",
                                "#B0BEC5",
                                "#B0BEC5",
                                "#B0BEC5",
                                "#B0BEC5",
                                "#B0BEC5",
                                "#B0BEC5",
                                "#B0BEC5",
                                "#B0BEC5",
                                "#B0BEC5",
                                "#B0BEC5",
                                "#B0BEC5",
                                "#B0BEC5",
                                "#B0BEC5",
                                "#B0BEC5",
                                "#B0BEC5",
                                "#B0BEC5",
                                "#B0BEC5",
                                "#B0BEC5",
                                "#B0BEC5",
                                "#B0BEC5",
                                "#B0BEC5",
                                "#B0BEC5",
                                "#B0BEC5",
                                "#B0BEC5",
                                "#B0BEC5",
                                "#B0BEC5",
                                "#B0BEC5",
                                "#B0BEC5",
                                "#B0BEC5",
                                "#B0BEC5",
                                "#B0BEC5",
                                "#B0BEC5",
                                "#B0BEC5",
                                "#B0BEC5",
                                "#B0BEC5",
                                "#B0BEC5"
                              ]
                            ]
                          }
                        ],
                        "label": "Topic 12",
                        "method": "update"
                      },
                      {
                        "args": [
                          {
                            "marker.color": [
                              [
                                "#B0BEC5",
                                "#B0BEC5",
                                "#B0BEC5",
                                "#B0BEC5",
                                "#B0BEC5",
                                "#B0BEC5",
                                "#B0BEC5",
                                "#B0BEC5",
                                "#B0BEC5",
                                "#B0BEC5",
                                "#B0BEC5",
                                "#B0BEC5",
                                "#B0BEC5",
                                "red",
                                "#B0BEC5",
                                "#B0BEC5",
                                "#B0BEC5",
                                "#B0BEC5",
                                "#B0BEC5",
                                "#B0BEC5",
                                "#B0BEC5",
                                "#B0BEC5",
                                "#B0BEC5",
                                "#B0BEC5",
                                "#B0BEC5",
                                "#B0BEC5",
                                "#B0BEC5",
                                "#B0BEC5",
                                "#B0BEC5",
                                "#B0BEC5",
                                "#B0BEC5",
                                "#B0BEC5",
                                "#B0BEC5",
                                "#B0BEC5",
                                "#B0BEC5",
                                "#B0BEC5",
                                "#B0BEC5",
                                "#B0BEC5",
                                "#B0BEC5",
                                "#B0BEC5",
                                "#B0BEC5",
                                "#B0BEC5",
                                "#B0BEC5",
                                "#B0BEC5",
                                "#B0BEC5",
                                "#B0BEC5",
                                "#B0BEC5",
                                "#B0BEC5",
                                "#B0BEC5",
                                "#B0BEC5",
                                "#B0BEC5",
                                "#B0BEC5",
                                "#B0BEC5",
                                "#B0BEC5",
                                "#B0BEC5",
                                "#B0BEC5",
                                "#B0BEC5",
                                "#B0BEC5",
                                "#B0BEC5",
                                "#B0BEC5",
                                "#B0BEC5",
                                "#B0BEC5",
                                "#B0BEC5"
                              ]
                            ]
                          }
                        ],
                        "label": "Topic 13",
                        "method": "update"
                      },
                      {
                        "args": [
                          {
                            "marker.color": [
                              [
                                "#B0BEC5",
                                "#B0BEC5",
                                "#B0BEC5",
                                "#B0BEC5",
                                "#B0BEC5",
                                "#B0BEC5",
                                "#B0BEC5",
                                "#B0BEC5",
                                "#B0BEC5",
                                "#B0BEC5",
                                "#B0BEC5",
                                "#B0BEC5",
                                "#B0BEC5",
                                "#B0BEC5",
                                "red",
                                "#B0BEC5",
                                "#B0BEC5",
                                "#B0BEC5",
                                "#B0BEC5",
                                "#B0BEC5",
                                "#B0BEC5",
                                "#B0BEC5",
                                "#B0BEC5",
                                "#B0BEC5",
                                "#B0BEC5",
                                "#B0BEC5",
                                "#B0BEC5",
                                "#B0BEC5",
                                "#B0BEC5",
                                "#B0BEC5",
                                "#B0BEC5",
                                "#B0BEC5",
                                "#B0BEC5",
                                "#B0BEC5",
                                "#B0BEC5",
                                "#B0BEC5",
                                "#B0BEC5",
                                "#B0BEC5",
                                "#B0BEC5",
                                "#B0BEC5",
                                "#B0BEC5",
                                "#B0BEC5",
                                "#B0BEC5",
                                "#B0BEC5",
                                "#B0BEC5",
                                "#B0BEC5",
                                "#B0BEC5",
                                "#B0BEC5",
                                "#B0BEC5",
                                "#B0BEC5",
                                "#B0BEC5",
                                "#B0BEC5",
                                "#B0BEC5",
                                "#B0BEC5",
                                "#B0BEC5",
                                "#B0BEC5",
                                "#B0BEC5",
                                "#B0BEC5",
                                "#B0BEC5",
                                "#B0BEC5",
                                "#B0BEC5",
                                "#B0BEC5",
                                "#B0BEC5"
                              ]
                            ]
                          }
                        ],
                        "label": "Topic 14",
                        "method": "update"
                      },
                      {
                        "args": [
                          {
                            "marker.color": [
                              [
                                "#B0BEC5",
                                "#B0BEC5",
                                "#B0BEC5",
                                "#B0BEC5",
                                "#B0BEC5",
                                "#B0BEC5",
                                "#B0BEC5",
                                "#B0BEC5",
                                "#B0BEC5",
                                "#B0BEC5",
                                "#B0BEC5",
                                "#B0BEC5",
                                "#B0BEC5",
                                "#B0BEC5",
                                "#B0BEC5",
                                "red",
                                "#B0BEC5",
                                "#B0BEC5",
                                "#B0BEC5",
                                "#B0BEC5",
                                "#B0BEC5",
                                "#B0BEC5",
                                "#B0BEC5",
                                "#B0BEC5",
                                "#B0BEC5",
                                "#B0BEC5",
                                "#B0BEC5",
                                "#B0BEC5",
                                "#B0BEC5",
                                "#B0BEC5",
                                "#B0BEC5",
                                "#B0BEC5",
                                "#B0BEC5",
                                "#B0BEC5",
                                "#B0BEC5",
                                "#B0BEC5",
                                "#B0BEC5",
                                "#B0BEC5",
                                "#B0BEC5",
                                "#B0BEC5",
                                "#B0BEC5",
                                "#B0BEC5",
                                "#B0BEC5",
                                "#B0BEC5",
                                "#B0BEC5",
                                "#B0BEC5",
                                "#B0BEC5",
                                "#B0BEC5",
                                "#B0BEC5",
                                "#B0BEC5",
                                "#B0BEC5",
                                "#B0BEC5",
                                "#B0BEC5",
                                "#B0BEC5",
                                "#B0BEC5",
                                "#B0BEC5",
                                "#B0BEC5",
                                "#B0BEC5",
                                "#B0BEC5",
                                "#B0BEC5",
                                "#B0BEC5",
                                "#B0BEC5",
                                "#B0BEC5"
                              ]
                            ]
                          }
                        ],
                        "label": "Topic 15",
                        "method": "update"
                      },
                      {
                        "args": [
                          {
                            "marker.color": [
                              [
                                "#B0BEC5",
                                "#B0BEC5",
                                "#B0BEC5",
                                "#B0BEC5",
                                "#B0BEC5",
                                "#B0BEC5",
                                "#B0BEC5",
                                "#B0BEC5",
                                "#B0BEC5",
                                "#B0BEC5",
                                "#B0BEC5",
                                "#B0BEC5",
                                "#B0BEC5",
                                "#B0BEC5",
                                "#B0BEC5",
                                "#B0BEC5",
                                "red",
                                "#B0BEC5",
                                "#B0BEC5",
                                "#B0BEC5",
                                "#B0BEC5",
                                "#B0BEC5",
                                "#B0BEC5",
                                "#B0BEC5",
                                "#B0BEC5",
                                "#B0BEC5",
                                "#B0BEC5",
                                "#B0BEC5",
                                "#B0BEC5",
                                "#B0BEC5",
                                "#B0BEC5",
                                "#B0BEC5",
                                "#B0BEC5",
                                "#B0BEC5",
                                "#B0BEC5",
                                "#B0BEC5",
                                "#B0BEC5",
                                "#B0BEC5",
                                "#B0BEC5",
                                "#B0BEC5",
                                "#B0BEC5",
                                "#B0BEC5",
                                "#B0BEC5",
                                "#B0BEC5",
                                "#B0BEC5",
                                "#B0BEC5",
                                "#B0BEC5",
                                "#B0BEC5",
                                "#B0BEC5",
                                "#B0BEC5",
                                "#B0BEC5",
                                "#B0BEC5",
                                "#B0BEC5",
                                "#B0BEC5",
                                "#B0BEC5",
                                "#B0BEC5",
                                "#B0BEC5",
                                "#B0BEC5",
                                "#B0BEC5",
                                "#B0BEC5",
                                "#B0BEC5",
                                "#B0BEC5",
                                "#B0BEC5"
                              ]
                            ]
                          }
                        ],
                        "label": "Topic 16",
                        "method": "update"
                      },
                      {
                        "args": [
                          {
                            "marker.color": [
                              [
                                "#B0BEC5",
                                "#B0BEC5",
                                "#B0BEC5",
                                "#B0BEC5",
                                "#B0BEC5",
                                "#B0BEC5",
                                "#B0BEC5",
                                "#B0BEC5",
                                "#B0BEC5",
                                "#B0BEC5",
                                "#B0BEC5",
                                "#B0BEC5",
                                "#B0BEC5",
                                "#B0BEC5",
                                "#B0BEC5",
                                "#B0BEC5",
                                "#B0BEC5",
                                "red",
                                "#B0BEC5",
                                "#B0BEC5",
                                "#B0BEC5",
                                "#B0BEC5",
                                "#B0BEC5",
                                "#B0BEC5",
                                "#B0BEC5",
                                "#B0BEC5",
                                "#B0BEC5",
                                "#B0BEC5",
                                "#B0BEC5",
                                "#B0BEC5",
                                "#B0BEC5",
                                "#B0BEC5",
                                "#B0BEC5",
                                "#B0BEC5",
                                "#B0BEC5",
                                "#B0BEC5",
                                "#B0BEC5",
                                "#B0BEC5",
                                "#B0BEC5",
                                "#B0BEC5",
                                "#B0BEC5",
                                "#B0BEC5",
                                "#B0BEC5",
                                "#B0BEC5",
                                "#B0BEC5",
                                "#B0BEC5",
                                "#B0BEC5",
                                "#B0BEC5",
                                "#B0BEC5",
                                "#B0BEC5",
                                "#B0BEC5",
                                "#B0BEC5",
                                "#B0BEC5",
                                "#B0BEC5",
                                "#B0BEC5",
                                "#B0BEC5",
                                "#B0BEC5",
                                "#B0BEC5",
                                "#B0BEC5",
                                "#B0BEC5",
                                "#B0BEC5",
                                "#B0BEC5",
                                "#B0BEC5"
                              ]
                            ]
                          }
                        ],
                        "label": "Topic 17",
                        "method": "update"
                      },
                      {
                        "args": [
                          {
                            "marker.color": [
                              [
                                "#B0BEC5",
                                "#B0BEC5",
                                "#B0BEC5",
                                "#B0BEC5",
                                "#B0BEC5",
                                "#B0BEC5",
                                "#B0BEC5",
                                "#B0BEC5",
                                "#B0BEC5",
                                "#B0BEC5",
                                "#B0BEC5",
                                "#B0BEC5",
                                "#B0BEC5",
                                "#B0BEC5",
                                "#B0BEC5",
                                "#B0BEC5",
                                "#B0BEC5",
                                "#B0BEC5",
                                "red",
                                "#B0BEC5",
                                "#B0BEC5",
                                "#B0BEC5",
                                "#B0BEC5",
                                "#B0BEC5",
                                "#B0BEC5",
                                "#B0BEC5",
                                "#B0BEC5",
                                "#B0BEC5",
                                "#B0BEC5",
                                "#B0BEC5",
                                "#B0BEC5",
                                "#B0BEC5",
                                "#B0BEC5",
                                "#B0BEC5",
                                "#B0BEC5",
                                "#B0BEC5",
                                "#B0BEC5",
                                "#B0BEC5",
                                "#B0BEC5",
                                "#B0BEC5",
                                "#B0BEC5",
                                "#B0BEC5",
                                "#B0BEC5",
                                "#B0BEC5",
                                "#B0BEC5",
                                "#B0BEC5",
                                "#B0BEC5",
                                "#B0BEC5",
                                "#B0BEC5",
                                "#B0BEC5",
                                "#B0BEC5",
                                "#B0BEC5",
                                "#B0BEC5",
                                "#B0BEC5",
                                "#B0BEC5",
                                "#B0BEC5",
                                "#B0BEC5",
                                "#B0BEC5",
                                "#B0BEC5",
                                "#B0BEC5",
                                "#B0BEC5",
                                "#B0BEC5",
                                "#B0BEC5"
                              ]
                            ]
                          }
                        ],
                        "label": "Topic 18",
                        "method": "update"
                      },
                      {
                        "args": [
                          {
                            "marker.color": [
                              [
                                "#B0BEC5",
                                "#B0BEC5",
                                "#B0BEC5",
                                "#B0BEC5",
                                "#B0BEC5",
                                "#B0BEC5",
                                "#B0BEC5",
                                "#B0BEC5",
                                "#B0BEC5",
                                "#B0BEC5",
                                "#B0BEC5",
                                "#B0BEC5",
                                "#B0BEC5",
                                "#B0BEC5",
                                "#B0BEC5",
                                "#B0BEC5",
                                "#B0BEC5",
                                "#B0BEC5",
                                "#B0BEC5",
                                "red",
                                "#B0BEC5",
                                "#B0BEC5",
                                "#B0BEC5",
                                "#B0BEC5",
                                "#B0BEC5",
                                "#B0BEC5",
                                "#B0BEC5",
                                "#B0BEC5",
                                "#B0BEC5",
                                "#B0BEC5",
                                "#B0BEC5",
                                "#B0BEC5",
                                "#B0BEC5",
                                "#B0BEC5",
                                "#B0BEC5",
                                "#B0BEC5",
                                "#B0BEC5",
                                "#B0BEC5",
                                "#B0BEC5",
                                "#B0BEC5",
                                "#B0BEC5",
                                "#B0BEC5",
                                "#B0BEC5",
                                "#B0BEC5",
                                "#B0BEC5",
                                "#B0BEC5",
                                "#B0BEC5",
                                "#B0BEC5",
                                "#B0BEC5",
                                "#B0BEC5",
                                "#B0BEC5",
                                "#B0BEC5",
                                "#B0BEC5",
                                "#B0BEC5",
                                "#B0BEC5",
                                "#B0BEC5",
                                "#B0BEC5",
                                "#B0BEC5",
                                "#B0BEC5",
                                "#B0BEC5",
                                "#B0BEC5",
                                "#B0BEC5",
                                "#B0BEC5"
                              ]
                            ]
                          }
                        ],
                        "label": "Topic 19",
                        "method": "update"
                      },
                      {
                        "args": [
                          {
                            "marker.color": [
                              [
                                "#B0BEC5",
                                "#B0BEC5",
                                "#B0BEC5",
                                "#B0BEC5",
                                "#B0BEC5",
                                "#B0BEC5",
                                "#B0BEC5",
                                "#B0BEC5",
                                "#B0BEC5",
                                "#B0BEC5",
                                "#B0BEC5",
                                "#B0BEC5",
                                "#B0BEC5",
                                "#B0BEC5",
                                "#B0BEC5",
                                "#B0BEC5",
                                "#B0BEC5",
                                "#B0BEC5",
                                "#B0BEC5",
                                "#B0BEC5",
                                "red",
                                "#B0BEC5",
                                "#B0BEC5",
                                "#B0BEC5",
                                "#B0BEC5",
                                "#B0BEC5",
                                "#B0BEC5",
                                "#B0BEC5",
                                "#B0BEC5",
                                "#B0BEC5",
                                "#B0BEC5",
                                "#B0BEC5",
                                "#B0BEC5",
                                "#B0BEC5",
                                "#B0BEC5",
                                "#B0BEC5",
                                "#B0BEC5",
                                "#B0BEC5",
                                "#B0BEC5",
                                "#B0BEC5",
                                "#B0BEC5",
                                "#B0BEC5",
                                "#B0BEC5",
                                "#B0BEC5",
                                "#B0BEC5",
                                "#B0BEC5",
                                "#B0BEC5",
                                "#B0BEC5",
                                "#B0BEC5",
                                "#B0BEC5",
                                "#B0BEC5",
                                "#B0BEC5",
                                "#B0BEC5",
                                "#B0BEC5",
                                "#B0BEC5",
                                "#B0BEC5",
                                "#B0BEC5",
                                "#B0BEC5",
                                "#B0BEC5",
                                "#B0BEC5",
                                "#B0BEC5",
                                "#B0BEC5",
                                "#B0BEC5"
                              ]
                            ]
                          }
                        ],
                        "label": "Topic 20",
                        "method": "update"
                      },
                      {
                        "args": [
                          {
                            "marker.color": [
                              [
                                "#B0BEC5",
                                "#B0BEC5",
                                "#B0BEC5",
                                "#B0BEC5",
                                "#B0BEC5",
                                "#B0BEC5",
                                "#B0BEC5",
                                "#B0BEC5",
                                "#B0BEC5",
                                "#B0BEC5",
                                "#B0BEC5",
                                "#B0BEC5",
                                "#B0BEC5",
                                "#B0BEC5",
                                "#B0BEC5",
                                "#B0BEC5",
                                "#B0BEC5",
                                "#B0BEC5",
                                "#B0BEC5",
                                "#B0BEC5",
                                "#B0BEC5",
                                "red",
                                "#B0BEC5",
                                "#B0BEC5",
                                "#B0BEC5",
                                "#B0BEC5",
                                "#B0BEC5",
                                "#B0BEC5",
                                "#B0BEC5",
                                "#B0BEC5",
                                "#B0BEC5",
                                "#B0BEC5",
                                "#B0BEC5",
                                "#B0BEC5",
                                "#B0BEC5",
                                "#B0BEC5",
                                "#B0BEC5",
                                "#B0BEC5",
                                "#B0BEC5",
                                "#B0BEC5",
                                "#B0BEC5",
                                "#B0BEC5",
                                "#B0BEC5",
                                "#B0BEC5",
                                "#B0BEC5",
                                "#B0BEC5",
                                "#B0BEC5",
                                "#B0BEC5",
                                "#B0BEC5",
                                "#B0BEC5",
                                "#B0BEC5",
                                "#B0BEC5",
                                "#B0BEC5",
                                "#B0BEC5",
                                "#B0BEC5",
                                "#B0BEC5",
                                "#B0BEC5",
                                "#B0BEC5",
                                "#B0BEC5",
                                "#B0BEC5",
                                "#B0BEC5",
                                "#B0BEC5",
                                "#B0BEC5"
                              ]
                            ]
                          }
                        ],
                        "label": "Topic 21",
                        "method": "update"
                      },
                      {
                        "args": [
                          {
                            "marker.color": [
                              [
                                "#B0BEC5",
                                "#B0BEC5",
                                "#B0BEC5",
                                "#B0BEC5",
                                "#B0BEC5",
                                "#B0BEC5",
                                "#B0BEC5",
                                "#B0BEC5",
                                "#B0BEC5",
                                "#B0BEC5",
                                "#B0BEC5",
                                "#B0BEC5",
                                "#B0BEC5",
                                "#B0BEC5",
                                "#B0BEC5",
                                "#B0BEC5",
                                "#B0BEC5",
                                "#B0BEC5",
                                "#B0BEC5",
                                "#B0BEC5",
                                "#B0BEC5",
                                "#B0BEC5",
                                "red",
                                "#B0BEC5",
                                "#B0BEC5",
                                "#B0BEC5",
                                "#B0BEC5",
                                "#B0BEC5",
                                "#B0BEC5",
                                "#B0BEC5",
                                "#B0BEC5",
                                "#B0BEC5",
                                "#B0BEC5",
                                "#B0BEC5",
                                "#B0BEC5",
                                "#B0BEC5",
                                "#B0BEC5",
                                "#B0BEC5",
                                "#B0BEC5",
                                "#B0BEC5",
                                "#B0BEC5",
                                "#B0BEC5",
                                "#B0BEC5",
                                "#B0BEC5",
                                "#B0BEC5",
                                "#B0BEC5",
                                "#B0BEC5",
                                "#B0BEC5",
                                "#B0BEC5",
                                "#B0BEC5",
                                "#B0BEC5",
                                "#B0BEC5",
                                "#B0BEC5",
                                "#B0BEC5",
                                "#B0BEC5",
                                "#B0BEC5",
                                "#B0BEC5",
                                "#B0BEC5",
                                "#B0BEC5",
                                "#B0BEC5",
                                "#B0BEC5",
                                "#B0BEC5",
                                "#B0BEC5"
                              ]
                            ]
                          }
                        ],
                        "label": "Topic 22",
                        "method": "update"
                      },
                      {
                        "args": [
                          {
                            "marker.color": [
                              [
                                "#B0BEC5",
                                "#B0BEC5",
                                "#B0BEC5",
                                "#B0BEC5",
                                "#B0BEC5",
                                "#B0BEC5",
                                "#B0BEC5",
                                "#B0BEC5",
                                "#B0BEC5",
                                "#B0BEC5",
                                "#B0BEC5",
                                "#B0BEC5",
                                "#B0BEC5",
                                "#B0BEC5",
                                "#B0BEC5",
                                "#B0BEC5",
                                "#B0BEC5",
                                "#B0BEC5",
                                "#B0BEC5",
                                "#B0BEC5",
                                "#B0BEC5",
                                "#B0BEC5",
                                "#B0BEC5",
                                "red",
                                "#B0BEC5",
                                "#B0BEC5",
                                "#B0BEC5",
                                "#B0BEC5",
                                "#B0BEC5",
                                "#B0BEC5",
                                "#B0BEC5",
                                "#B0BEC5",
                                "#B0BEC5",
                                "#B0BEC5",
                                "#B0BEC5",
                                "#B0BEC5",
                                "#B0BEC5",
                                "#B0BEC5",
                                "#B0BEC5",
                                "#B0BEC5",
                                "#B0BEC5",
                                "#B0BEC5",
                                "#B0BEC5",
                                "#B0BEC5",
                                "#B0BEC5",
                                "#B0BEC5",
                                "#B0BEC5",
                                "#B0BEC5",
                                "#B0BEC5",
                                "#B0BEC5",
                                "#B0BEC5",
                                "#B0BEC5",
                                "#B0BEC5",
                                "#B0BEC5",
                                "#B0BEC5",
                                "#B0BEC5",
                                "#B0BEC5",
                                "#B0BEC5",
                                "#B0BEC5",
                                "#B0BEC5",
                                "#B0BEC5",
                                "#B0BEC5",
                                "#B0BEC5"
                              ]
                            ]
                          }
                        ],
                        "label": "Topic 23",
                        "method": "update"
                      },
                      {
                        "args": [
                          {
                            "marker.color": [
                              [
                                "#B0BEC5",
                                "#B0BEC5",
                                "#B0BEC5",
                                "#B0BEC5",
                                "#B0BEC5",
                                "#B0BEC5",
                                "#B0BEC5",
                                "#B0BEC5",
                                "#B0BEC5",
                                "#B0BEC5",
                                "#B0BEC5",
                                "#B0BEC5",
                                "#B0BEC5",
                                "#B0BEC5",
                                "#B0BEC5",
                                "#B0BEC5",
                                "#B0BEC5",
                                "#B0BEC5",
                                "#B0BEC5",
                                "#B0BEC5",
                                "#B0BEC5",
                                "#B0BEC5",
                                "#B0BEC5",
                                "#B0BEC5",
                                "red",
                                "#B0BEC5",
                                "#B0BEC5",
                                "#B0BEC5",
                                "#B0BEC5",
                                "#B0BEC5",
                                "#B0BEC5",
                                "#B0BEC5",
                                "#B0BEC5",
                                "#B0BEC5",
                                "#B0BEC5",
                                "#B0BEC5",
                                "#B0BEC5",
                                "#B0BEC5",
                                "#B0BEC5",
                                "#B0BEC5",
                                "#B0BEC5",
                                "#B0BEC5",
                                "#B0BEC5",
                                "#B0BEC5",
                                "#B0BEC5",
                                "#B0BEC5",
                                "#B0BEC5",
                                "#B0BEC5",
                                "#B0BEC5",
                                "#B0BEC5",
                                "#B0BEC5",
                                "#B0BEC5",
                                "#B0BEC5",
                                "#B0BEC5",
                                "#B0BEC5",
                                "#B0BEC5",
                                "#B0BEC5",
                                "#B0BEC5",
                                "#B0BEC5",
                                "#B0BEC5",
                                "#B0BEC5",
                                "#B0BEC5",
                                "#B0BEC5"
                              ]
                            ]
                          }
                        ],
                        "label": "Topic 24",
                        "method": "update"
                      },
                      {
                        "args": [
                          {
                            "marker.color": [
                              [
                                "#B0BEC5",
                                "#B0BEC5",
                                "#B0BEC5",
                                "#B0BEC5",
                                "#B0BEC5",
                                "#B0BEC5",
                                "#B0BEC5",
                                "#B0BEC5",
                                "#B0BEC5",
                                "#B0BEC5",
                                "#B0BEC5",
                                "#B0BEC5",
                                "#B0BEC5",
                                "#B0BEC5",
                                "#B0BEC5",
                                "#B0BEC5",
                                "#B0BEC5",
                                "#B0BEC5",
                                "#B0BEC5",
                                "#B0BEC5",
                                "#B0BEC5",
                                "#B0BEC5",
                                "#B0BEC5",
                                "#B0BEC5",
                                "#B0BEC5",
                                "red",
                                "#B0BEC5",
                                "#B0BEC5",
                                "#B0BEC5",
                                "#B0BEC5",
                                "#B0BEC5",
                                "#B0BEC5",
                                "#B0BEC5",
                                "#B0BEC5",
                                "#B0BEC5",
                                "#B0BEC5",
                                "#B0BEC5",
                                "#B0BEC5",
                                "#B0BEC5",
                                "#B0BEC5",
                                "#B0BEC5",
                                "#B0BEC5",
                                "#B0BEC5",
                                "#B0BEC5",
                                "#B0BEC5",
                                "#B0BEC5",
                                "#B0BEC5",
                                "#B0BEC5",
                                "#B0BEC5",
                                "#B0BEC5",
                                "#B0BEC5",
                                "#B0BEC5",
                                "#B0BEC5",
                                "#B0BEC5",
                                "#B0BEC5",
                                "#B0BEC5",
                                "#B0BEC5",
                                "#B0BEC5",
                                "#B0BEC5",
                                "#B0BEC5",
                                "#B0BEC5",
                                "#B0BEC5",
                                "#B0BEC5"
                              ]
                            ]
                          }
                        ],
                        "label": "Topic 25",
                        "method": "update"
                      },
                      {
                        "args": [
                          {
                            "marker.color": [
                              [
                                "#B0BEC5",
                                "#B0BEC5",
                                "#B0BEC5",
                                "#B0BEC5",
                                "#B0BEC5",
                                "#B0BEC5",
                                "#B0BEC5",
                                "#B0BEC5",
                                "#B0BEC5",
                                "#B0BEC5",
                                "#B0BEC5",
                                "#B0BEC5",
                                "#B0BEC5",
                                "#B0BEC5",
                                "#B0BEC5",
                                "#B0BEC5",
                                "#B0BEC5",
                                "#B0BEC5",
                                "#B0BEC5",
                                "#B0BEC5",
                                "#B0BEC5",
                                "#B0BEC5",
                                "#B0BEC5",
                                "#B0BEC5",
                                "#B0BEC5",
                                "#B0BEC5",
                                "red",
                                "#B0BEC5",
                                "#B0BEC5",
                                "#B0BEC5",
                                "#B0BEC5",
                                "#B0BEC5",
                                "#B0BEC5",
                                "#B0BEC5",
                                "#B0BEC5",
                                "#B0BEC5",
                                "#B0BEC5",
                                "#B0BEC5",
                                "#B0BEC5",
                                "#B0BEC5",
                                "#B0BEC5",
                                "#B0BEC5",
                                "#B0BEC5",
                                "#B0BEC5",
                                "#B0BEC5",
                                "#B0BEC5",
                                "#B0BEC5",
                                "#B0BEC5",
                                "#B0BEC5",
                                "#B0BEC5",
                                "#B0BEC5",
                                "#B0BEC5",
                                "#B0BEC5",
                                "#B0BEC5",
                                "#B0BEC5",
                                "#B0BEC5",
                                "#B0BEC5",
                                "#B0BEC5",
                                "#B0BEC5",
                                "#B0BEC5",
                                "#B0BEC5",
                                "#B0BEC5",
                                "#B0BEC5"
                              ]
                            ]
                          }
                        ],
                        "label": "Topic 26",
                        "method": "update"
                      },
                      {
                        "args": [
                          {
                            "marker.color": [
                              [
                                "#B0BEC5",
                                "#B0BEC5",
                                "#B0BEC5",
                                "#B0BEC5",
                                "#B0BEC5",
                                "#B0BEC5",
                                "#B0BEC5",
                                "#B0BEC5",
                                "#B0BEC5",
                                "#B0BEC5",
                                "#B0BEC5",
                                "#B0BEC5",
                                "#B0BEC5",
                                "#B0BEC5",
                                "#B0BEC5",
                                "#B0BEC5",
                                "#B0BEC5",
                                "#B0BEC5",
                                "#B0BEC5",
                                "#B0BEC5",
                                "#B0BEC5",
                                "#B0BEC5",
                                "#B0BEC5",
                                "#B0BEC5",
                                "#B0BEC5",
                                "#B0BEC5",
                                "#B0BEC5",
                                "red",
                                "#B0BEC5",
                                "#B0BEC5",
                                "#B0BEC5",
                                "#B0BEC5",
                                "#B0BEC5",
                                "#B0BEC5",
                                "#B0BEC5",
                                "#B0BEC5",
                                "#B0BEC5",
                                "#B0BEC5",
                                "#B0BEC5",
                                "#B0BEC5",
                                "#B0BEC5",
                                "#B0BEC5",
                                "#B0BEC5",
                                "#B0BEC5",
                                "#B0BEC5",
                                "#B0BEC5",
                                "#B0BEC5",
                                "#B0BEC5",
                                "#B0BEC5",
                                "#B0BEC5",
                                "#B0BEC5",
                                "#B0BEC5",
                                "#B0BEC5",
                                "#B0BEC5",
                                "#B0BEC5",
                                "#B0BEC5",
                                "#B0BEC5",
                                "#B0BEC5",
                                "#B0BEC5",
                                "#B0BEC5",
                                "#B0BEC5",
                                "#B0BEC5",
                                "#B0BEC5"
                              ]
                            ]
                          }
                        ],
                        "label": "Topic 27",
                        "method": "update"
                      },
                      {
                        "args": [
                          {
                            "marker.color": [
                              [
                                "#B0BEC5",
                                "#B0BEC5",
                                "#B0BEC5",
                                "#B0BEC5",
                                "#B0BEC5",
                                "#B0BEC5",
                                "#B0BEC5",
                                "#B0BEC5",
                                "#B0BEC5",
                                "#B0BEC5",
                                "#B0BEC5",
                                "#B0BEC5",
                                "#B0BEC5",
                                "#B0BEC5",
                                "#B0BEC5",
                                "#B0BEC5",
                                "#B0BEC5",
                                "#B0BEC5",
                                "#B0BEC5",
                                "#B0BEC5",
                                "#B0BEC5",
                                "#B0BEC5",
                                "#B0BEC5",
                                "#B0BEC5",
                                "#B0BEC5",
                                "#B0BEC5",
                                "#B0BEC5",
                                "#B0BEC5",
                                "red",
                                "#B0BEC5",
                                "#B0BEC5",
                                "#B0BEC5",
                                "#B0BEC5",
                                "#B0BEC5",
                                "#B0BEC5",
                                "#B0BEC5",
                                "#B0BEC5",
                                "#B0BEC5",
                                "#B0BEC5",
                                "#B0BEC5",
                                "#B0BEC5",
                                "#B0BEC5",
                                "#B0BEC5",
                                "#B0BEC5",
                                "#B0BEC5",
                                "#B0BEC5",
                                "#B0BEC5",
                                "#B0BEC5",
                                "#B0BEC5",
                                "#B0BEC5",
                                "#B0BEC5",
                                "#B0BEC5",
                                "#B0BEC5",
                                "#B0BEC5",
                                "#B0BEC5",
                                "#B0BEC5",
                                "#B0BEC5",
                                "#B0BEC5",
                                "#B0BEC5",
                                "#B0BEC5",
                                "#B0BEC5",
                                "#B0BEC5",
                                "#B0BEC5"
                              ]
                            ]
                          }
                        ],
                        "label": "Topic 28",
                        "method": "update"
                      },
                      {
                        "args": [
                          {
                            "marker.color": [
                              [
                                "#B0BEC5",
                                "#B0BEC5",
                                "#B0BEC5",
                                "#B0BEC5",
                                "#B0BEC5",
                                "#B0BEC5",
                                "#B0BEC5",
                                "#B0BEC5",
                                "#B0BEC5",
                                "#B0BEC5",
                                "#B0BEC5",
                                "#B0BEC5",
                                "#B0BEC5",
                                "#B0BEC5",
                                "#B0BEC5",
                                "#B0BEC5",
                                "#B0BEC5",
                                "#B0BEC5",
                                "#B0BEC5",
                                "#B0BEC5",
                                "#B0BEC5",
                                "#B0BEC5",
                                "#B0BEC5",
                                "#B0BEC5",
                                "#B0BEC5",
                                "#B0BEC5",
                                "#B0BEC5",
                                "#B0BEC5",
                                "#B0BEC5",
                                "red",
                                "#B0BEC5",
                                "#B0BEC5",
                                "#B0BEC5",
                                "#B0BEC5",
                                "#B0BEC5",
                                "#B0BEC5",
                                "#B0BEC5",
                                "#B0BEC5",
                                "#B0BEC5",
                                "#B0BEC5",
                                "#B0BEC5",
                                "#B0BEC5",
                                "#B0BEC5",
                                "#B0BEC5",
                                "#B0BEC5",
                                "#B0BEC5",
                                "#B0BEC5",
                                "#B0BEC5",
                                "#B0BEC5",
                                "#B0BEC5",
                                "#B0BEC5",
                                "#B0BEC5",
                                "#B0BEC5",
                                "#B0BEC5",
                                "#B0BEC5",
                                "#B0BEC5",
                                "#B0BEC5",
                                "#B0BEC5",
                                "#B0BEC5",
                                "#B0BEC5",
                                "#B0BEC5",
                                "#B0BEC5",
                                "#B0BEC5"
                              ]
                            ]
                          }
                        ],
                        "label": "Topic 29",
                        "method": "update"
                      },
                      {
                        "args": [
                          {
                            "marker.color": [
                              [
                                "#B0BEC5",
                                "#B0BEC5",
                                "#B0BEC5",
                                "#B0BEC5",
                                "#B0BEC5",
                                "#B0BEC5",
                                "#B0BEC5",
                                "#B0BEC5",
                                "#B0BEC5",
                                "#B0BEC5",
                                "#B0BEC5",
                                "#B0BEC5",
                                "#B0BEC5",
                                "#B0BEC5",
                                "#B0BEC5",
                                "#B0BEC5",
                                "#B0BEC5",
                                "#B0BEC5",
                                "#B0BEC5",
                                "#B0BEC5",
                                "#B0BEC5",
                                "#B0BEC5",
                                "#B0BEC5",
                                "#B0BEC5",
                                "#B0BEC5",
                                "#B0BEC5",
                                "#B0BEC5",
                                "#B0BEC5",
                                "#B0BEC5",
                                "#B0BEC5",
                                "red",
                                "#B0BEC5",
                                "#B0BEC5",
                                "#B0BEC5",
                                "#B0BEC5",
                                "#B0BEC5",
                                "#B0BEC5",
                                "#B0BEC5",
                                "#B0BEC5",
                                "#B0BEC5",
                                "#B0BEC5",
                                "#B0BEC5",
                                "#B0BEC5",
                                "#B0BEC5",
                                "#B0BEC5",
                                "#B0BEC5",
                                "#B0BEC5",
                                "#B0BEC5",
                                "#B0BEC5",
                                "#B0BEC5",
                                "#B0BEC5",
                                "#B0BEC5",
                                "#B0BEC5",
                                "#B0BEC5",
                                "#B0BEC5",
                                "#B0BEC5",
                                "#B0BEC5",
                                "#B0BEC5",
                                "#B0BEC5",
                                "#B0BEC5",
                                "#B0BEC5",
                                "#B0BEC5",
                                "#B0BEC5"
                              ]
                            ]
                          }
                        ],
                        "label": "Topic 30",
                        "method": "update"
                      },
                      {
                        "args": [
                          {
                            "marker.color": [
                              [
                                "#B0BEC5",
                                "#B0BEC5",
                                "#B0BEC5",
                                "#B0BEC5",
                                "#B0BEC5",
                                "#B0BEC5",
                                "#B0BEC5",
                                "#B0BEC5",
                                "#B0BEC5",
                                "#B0BEC5",
                                "#B0BEC5",
                                "#B0BEC5",
                                "#B0BEC5",
                                "#B0BEC5",
                                "#B0BEC5",
                                "#B0BEC5",
                                "#B0BEC5",
                                "#B0BEC5",
                                "#B0BEC5",
                                "#B0BEC5",
                                "#B0BEC5",
                                "#B0BEC5",
                                "#B0BEC5",
                                "#B0BEC5",
                                "#B0BEC5",
                                "#B0BEC5",
                                "#B0BEC5",
                                "#B0BEC5",
                                "#B0BEC5",
                                "#B0BEC5",
                                "#B0BEC5",
                                "red",
                                "#B0BEC5",
                                "#B0BEC5",
                                "#B0BEC5",
                                "#B0BEC5",
                                "#B0BEC5",
                                "#B0BEC5",
                                "#B0BEC5",
                                "#B0BEC5",
                                "#B0BEC5",
                                "#B0BEC5",
                                "#B0BEC5",
                                "#B0BEC5",
                                "#B0BEC5",
                                "#B0BEC5",
                                "#B0BEC5",
                                "#B0BEC5",
                                "#B0BEC5",
                                "#B0BEC5",
                                "#B0BEC5",
                                "#B0BEC5",
                                "#B0BEC5",
                                "#B0BEC5",
                                "#B0BEC5",
                                "#B0BEC5",
                                "#B0BEC5",
                                "#B0BEC5",
                                "#B0BEC5",
                                "#B0BEC5",
                                "#B0BEC5",
                                "#B0BEC5",
                                "#B0BEC5"
                              ]
                            ]
                          }
                        ],
                        "label": "Topic 31",
                        "method": "update"
                      },
                      {
                        "args": [
                          {
                            "marker.color": [
                              [
                                "#B0BEC5",
                                "#B0BEC5",
                                "#B0BEC5",
                                "#B0BEC5",
                                "#B0BEC5",
                                "#B0BEC5",
                                "#B0BEC5",
                                "#B0BEC5",
                                "#B0BEC5",
                                "#B0BEC5",
                                "#B0BEC5",
                                "#B0BEC5",
                                "#B0BEC5",
                                "#B0BEC5",
                                "#B0BEC5",
                                "#B0BEC5",
                                "#B0BEC5",
                                "#B0BEC5",
                                "#B0BEC5",
                                "#B0BEC5",
                                "#B0BEC5",
                                "#B0BEC5",
                                "#B0BEC5",
                                "#B0BEC5",
                                "#B0BEC5",
                                "#B0BEC5",
                                "#B0BEC5",
                                "#B0BEC5",
                                "#B0BEC5",
                                "#B0BEC5",
                                "#B0BEC5",
                                "#B0BEC5",
                                "red",
                                "#B0BEC5",
                                "#B0BEC5",
                                "#B0BEC5",
                                "#B0BEC5",
                                "#B0BEC5",
                                "#B0BEC5",
                                "#B0BEC5",
                                "#B0BEC5",
                                "#B0BEC5",
                                "#B0BEC5",
                                "#B0BEC5",
                                "#B0BEC5",
                                "#B0BEC5",
                                "#B0BEC5",
                                "#B0BEC5",
                                "#B0BEC5",
                                "#B0BEC5",
                                "#B0BEC5",
                                "#B0BEC5",
                                "#B0BEC5",
                                "#B0BEC5",
                                "#B0BEC5",
                                "#B0BEC5",
                                "#B0BEC5",
                                "#B0BEC5",
                                "#B0BEC5",
                                "#B0BEC5",
                                "#B0BEC5",
                                "#B0BEC5",
                                "#B0BEC5"
                              ]
                            ]
                          }
                        ],
                        "label": "Topic 32",
                        "method": "update"
                      },
                      {
                        "args": [
                          {
                            "marker.color": [
                              [
                                "#B0BEC5",
                                "#B0BEC5",
                                "#B0BEC5",
                                "#B0BEC5",
                                "#B0BEC5",
                                "#B0BEC5",
                                "#B0BEC5",
                                "#B0BEC5",
                                "#B0BEC5",
                                "#B0BEC5",
                                "#B0BEC5",
                                "#B0BEC5",
                                "#B0BEC5",
                                "#B0BEC5",
                                "#B0BEC5",
                                "#B0BEC5",
                                "#B0BEC5",
                                "#B0BEC5",
                                "#B0BEC5",
                                "#B0BEC5",
                                "#B0BEC5",
                                "#B0BEC5",
                                "#B0BEC5",
                                "#B0BEC5",
                                "#B0BEC5",
                                "#B0BEC5",
                                "#B0BEC5",
                                "#B0BEC5",
                                "#B0BEC5",
                                "#B0BEC5",
                                "#B0BEC5",
                                "#B0BEC5",
                                "#B0BEC5",
                                "red",
                                "#B0BEC5",
                                "#B0BEC5",
                                "#B0BEC5",
                                "#B0BEC5",
                                "#B0BEC5",
                                "#B0BEC5",
                                "#B0BEC5",
                                "#B0BEC5",
                                "#B0BEC5",
                                "#B0BEC5",
                                "#B0BEC5",
                                "#B0BEC5",
                                "#B0BEC5",
                                "#B0BEC5",
                                "#B0BEC5",
                                "#B0BEC5",
                                "#B0BEC5",
                                "#B0BEC5",
                                "#B0BEC5",
                                "#B0BEC5",
                                "#B0BEC5",
                                "#B0BEC5",
                                "#B0BEC5",
                                "#B0BEC5",
                                "#B0BEC5",
                                "#B0BEC5",
                                "#B0BEC5",
                                "#B0BEC5",
                                "#B0BEC5"
                              ]
                            ]
                          }
                        ],
                        "label": "Topic 33",
                        "method": "update"
                      },
                      {
                        "args": [
                          {
                            "marker.color": [
                              [
                                "#B0BEC5",
                                "#B0BEC5",
                                "#B0BEC5",
                                "#B0BEC5",
                                "#B0BEC5",
                                "#B0BEC5",
                                "#B0BEC5",
                                "#B0BEC5",
                                "#B0BEC5",
                                "#B0BEC5",
                                "#B0BEC5",
                                "#B0BEC5",
                                "#B0BEC5",
                                "#B0BEC5",
                                "#B0BEC5",
                                "#B0BEC5",
                                "#B0BEC5",
                                "#B0BEC5",
                                "#B0BEC5",
                                "#B0BEC5",
                                "#B0BEC5",
                                "#B0BEC5",
                                "#B0BEC5",
                                "#B0BEC5",
                                "#B0BEC5",
                                "#B0BEC5",
                                "#B0BEC5",
                                "#B0BEC5",
                                "#B0BEC5",
                                "#B0BEC5",
                                "#B0BEC5",
                                "#B0BEC5",
                                "#B0BEC5",
                                "#B0BEC5",
                                "red",
                                "#B0BEC5",
                                "#B0BEC5",
                                "#B0BEC5",
                                "#B0BEC5",
                                "#B0BEC5",
                                "#B0BEC5",
                                "#B0BEC5",
                                "#B0BEC5",
                                "#B0BEC5",
                                "#B0BEC5",
                                "#B0BEC5",
                                "#B0BEC5",
                                "#B0BEC5",
                                "#B0BEC5",
                                "#B0BEC5",
                                "#B0BEC5",
                                "#B0BEC5",
                                "#B0BEC5",
                                "#B0BEC5",
                                "#B0BEC5",
                                "#B0BEC5",
                                "#B0BEC5",
                                "#B0BEC5",
                                "#B0BEC5",
                                "#B0BEC5",
                                "#B0BEC5",
                                "#B0BEC5",
                                "#B0BEC5"
                              ]
                            ]
                          }
                        ],
                        "label": "Topic 34",
                        "method": "update"
                      },
                      {
                        "args": [
                          {
                            "marker.color": [
                              [
                                "#B0BEC5",
                                "#B0BEC5",
                                "#B0BEC5",
                                "#B0BEC5",
                                "#B0BEC5",
                                "#B0BEC5",
                                "#B0BEC5",
                                "#B0BEC5",
                                "#B0BEC5",
                                "#B0BEC5",
                                "#B0BEC5",
                                "#B0BEC5",
                                "#B0BEC5",
                                "#B0BEC5",
                                "#B0BEC5",
                                "#B0BEC5",
                                "#B0BEC5",
                                "#B0BEC5",
                                "#B0BEC5",
                                "#B0BEC5",
                                "#B0BEC5",
                                "#B0BEC5",
                                "#B0BEC5",
                                "#B0BEC5",
                                "#B0BEC5",
                                "#B0BEC5",
                                "#B0BEC5",
                                "#B0BEC5",
                                "#B0BEC5",
                                "#B0BEC5",
                                "#B0BEC5",
                                "#B0BEC5",
                                "#B0BEC5",
                                "#B0BEC5",
                                "#B0BEC5",
                                "red",
                                "#B0BEC5",
                                "#B0BEC5",
                                "#B0BEC5",
                                "#B0BEC5",
                                "#B0BEC5",
                                "#B0BEC5",
                                "#B0BEC5",
                                "#B0BEC5",
                                "#B0BEC5",
                                "#B0BEC5",
                                "#B0BEC5",
                                "#B0BEC5",
                                "#B0BEC5",
                                "#B0BEC5",
                                "#B0BEC5",
                                "#B0BEC5",
                                "#B0BEC5",
                                "#B0BEC5",
                                "#B0BEC5",
                                "#B0BEC5",
                                "#B0BEC5",
                                "#B0BEC5",
                                "#B0BEC5",
                                "#B0BEC5",
                                "#B0BEC5",
                                "#B0BEC5",
                                "#B0BEC5"
                              ]
                            ]
                          }
                        ],
                        "label": "Topic 35",
                        "method": "update"
                      },
                      {
                        "args": [
                          {
                            "marker.color": [
                              [
                                "#B0BEC5",
                                "#B0BEC5",
                                "#B0BEC5",
                                "#B0BEC5",
                                "#B0BEC5",
                                "#B0BEC5",
                                "#B0BEC5",
                                "#B0BEC5",
                                "#B0BEC5",
                                "#B0BEC5",
                                "#B0BEC5",
                                "#B0BEC5",
                                "#B0BEC5",
                                "#B0BEC5",
                                "#B0BEC5",
                                "#B0BEC5",
                                "#B0BEC5",
                                "#B0BEC5",
                                "#B0BEC5",
                                "#B0BEC5",
                                "#B0BEC5",
                                "#B0BEC5",
                                "#B0BEC5",
                                "#B0BEC5",
                                "#B0BEC5",
                                "#B0BEC5",
                                "#B0BEC5",
                                "#B0BEC5",
                                "#B0BEC5",
                                "#B0BEC5",
                                "#B0BEC5",
                                "#B0BEC5",
                                "#B0BEC5",
                                "#B0BEC5",
                                "#B0BEC5",
                                "#B0BEC5",
                                "red",
                                "#B0BEC5",
                                "#B0BEC5",
                                "#B0BEC5",
                                "#B0BEC5",
                                "#B0BEC5",
                                "#B0BEC5",
                                "#B0BEC5",
                                "#B0BEC5",
                                "#B0BEC5",
                                "#B0BEC5",
                                "#B0BEC5",
                                "#B0BEC5",
                                "#B0BEC5",
                                "#B0BEC5",
                                "#B0BEC5",
                                "#B0BEC5",
                                "#B0BEC5",
                                "#B0BEC5",
                                "#B0BEC5",
                                "#B0BEC5",
                                "#B0BEC5",
                                "#B0BEC5",
                                "#B0BEC5",
                                "#B0BEC5",
                                "#B0BEC5",
                                "#B0BEC5"
                              ]
                            ]
                          }
                        ],
                        "label": "Topic 36",
                        "method": "update"
                      },
                      {
                        "args": [
                          {
                            "marker.color": [
                              [
                                "#B0BEC5",
                                "#B0BEC5",
                                "#B0BEC5",
                                "#B0BEC5",
                                "#B0BEC5",
                                "#B0BEC5",
                                "#B0BEC5",
                                "#B0BEC5",
                                "#B0BEC5",
                                "#B0BEC5",
                                "#B0BEC5",
                                "#B0BEC5",
                                "#B0BEC5",
                                "#B0BEC5",
                                "#B0BEC5",
                                "#B0BEC5",
                                "#B0BEC5",
                                "#B0BEC5",
                                "#B0BEC5",
                                "#B0BEC5",
                                "#B0BEC5",
                                "#B0BEC5",
                                "#B0BEC5",
                                "#B0BEC5",
                                "#B0BEC5",
                                "#B0BEC5",
                                "#B0BEC5",
                                "#B0BEC5",
                                "#B0BEC5",
                                "#B0BEC5",
                                "#B0BEC5",
                                "#B0BEC5",
                                "#B0BEC5",
                                "#B0BEC5",
                                "#B0BEC5",
                                "#B0BEC5",
                                "#B0BEC5",
                                "red",
                                "#B0BEC5",
                                "#B0BEC5",
                                "#B0BEC5",
                                "#B0BEC5",
                                "#B0BEC5",
                                "#B0BEC5",
                                "#B0BEC5",
                                "#B0BEC5",
                                "#B0BEC5",
                                "#B0BEC5",
                                "#B0BEC5",
                                "#B0BEC5",
                                "#B0BEC5",
                                "#B0BEC5",
                                "#B0BEC5",
                                "#B0BEC5",
                                "#B0BEC5",
                                "#B0BEC5",
                                "#B0BEC5",
                                "#B0BEC5",
                                "#B0BEC5",
                                "#B0BEC5",
                                "#B0BEC5",
                                "#B0BEC5",
                                "#B0BEC5"
                              ]
                            ]
                          }
                        ],
                        "label": "Topic 37",
                        "method": "update"
                      },
                      {
                        "args": [
                          {
                            "marker.color": [
                              [
                                "#B0BEC5",
                                "#B0BEC5",
                                "#B0BEC5",
                                "#B0BEC5",
                                "#B0BEC5",
                                "#B0BEC5",
                                "#B0BEC5",
                                "#B0BEC5",
                                "#B0BEC5",
                                "#B0BEC5",
                                "#B0BEC5",
                                "#B0BEC5",
                                "#B0BEC5",
                                "#B0BEC5",
                                "#B0BEC5",
                                "#B0BEC5",
                                "#B0BEC5",
                                "#B0BEC5",
                                "#B0BEC5",
                                "#B0BEC5",
                                "#B0BEC5",
                                "#B0BEC5",
                                "#B0BEC5",
                                "#B0BEC5",
                                "#B0BEC5",
                                "#B0BEC5",
                                "#B0BEC5",
                                "#B0BEC5",
                                "#B0BEC5",
                                "#B0BEC5",
                                "#B0BEC5",
                                "#B0BEC5",
                                "#B0BEC5",
                                "#B0BEC5",
                                "#B0BEC5",
                                "#B0BEC5",
                                "#B0BEC5",
                                "#B0BEC5",
                                "red",
                                "#B0BEC5",
                                "#B0BEC5",
                                "#B0BEC5",
                                "#B0BEC5",
                                "#B0BEC5",
                                "#B0BEC5",
                                "#B0BEC5",
                                "#B0BEC5",
                                "#B0BEC5",
                                "#B0BEC5",
                                "#B0BEC5",
                                "#B0BEC5",
                                "#B0BEC5",
                                "#B0BEC5",
                                "#B0BEC5",
                                "#B0BEC5",
                                "#B0BEC5",
                                "#B0BEC5",
                                "#B0BEC5",
                                "#B0BEC5",
                                "#B0BEC5",
                                "#B0BEC5",
                                "#B0BEC5",
                                "#B0BEC5"
                              ]
                            ]
                          }
                        ],
                        "label": "Topic 38",
                        "method": "update"
                      },
                      {
                        "args": [
                          {
                            "marker.color": [
                              [
                                "#B0BEC5",
                                "#B0BEC5",
                                "#B0BEC5",
                                "#B0BEC5",
                                "#B0BEC5",
                                "#B0BEC5",
                                "#B0BEC5",
                                "#B0BEC5",
                                "#B0BEC5",
                                "#B0BEC5",
                                "#B0BEC5",
                                "#B0BEC5",
                                "#B0BEC5",
                                "#B0BEC5",
                                "#B0BEC5",
                                "#B0BEC5",
                                "#B0BEC5",
                                "#B0BEC5",
                                "#B0BEC5",
                                "#B0BEC5",
                                "#B0BEC5",
                                "#B0BEC5",
                                "#B0BEC5",
                                "#B0BEC5",
                                "#B0BEC5",
                                "#B0BEC5",
                                "#B0BEC5",
                                "#B0BEC5",
                                "#B0BEC5",
                                "#B0BEC5",
                                "#B0BEC5",
                                "#B0BEC5",
                                "#B0BEC5",
                                "#B0BEC5",
                                "#B0BEC5",
                                "#B0BEC5",
                                "#B0BEC5",
                                "#B0BEC5",
                                "#B0BEC5",
                                "red",
                                "#B0BEC5",
                                "#B0BEC5",
                                "#B0BEC5",
                                "#B0BEC5",
                                "#B0BEC5",
                                "#B0BEC5",
                                "#B0BEC5",
                                "#B0BEC5",
                                "#B0BEC5",
                                "#B0BEC5",
                                "#B0BEC5",
                                "#B0BEC5",
                                "#B0BEC5",
                                "#B0BEC5",
                                "#B0BEC5",
                                "#B0BEC5",
                                "#B0BEC5",
                                "#B0BEC5",
                                "#B0BEC5",
                                "#B0BEC5",
                                "#B0BEC5",
                                "#B0BEC5",
                                "#B0BEC5"
                              ]
                            ]
                          }
                        ],
                        "label": "Topic 39",
                        "method": "update"
                      },
                      {
                        "args": [
                          {
                            "marker.color": [
                              [
                                "#B0BEC5",
                                "#B0BEC5",
                                "#B0BEC5",
                                "#B0BEC5",
                                "#B0BEC5",
                                "#B0BEC5",
                                "#B0BEC5",
                                "#B0BEC5",
                                "#B0BEC5",
                                "#B0BEC5",
                                "#B0BEC5",
                                "#B0BEC5",
                                "#B0BEC5",
                                "#B0BEC5",
                                "#B0BEC5",
                                "#B0BEC5",
                                "#B0BEC5",
                                "#B0BEC5",
                                "#B0BEC5",
                                "#B0BEC5",
                                "#B0BEC5",
                                "#B0BEC5",
                                "#B0BEC5",
                                "#B0BEC5",
                                "#B0BEC5",
                                "#B0BEC5",
                                "#B0BEC5",
                                "#B0BEC5",
                                "#B0BEC5",
                                "#B0BEC5",
                                "#B0BEC5",
                                "#B0BEC5",
                                "#B0BEC5",
                                "#B0BEC5",
                                "#B0BEC5",
                                "#B0BEC5",
                                "#B0BEC5",
                                "#B0BEC5",
                                "#B0BEC5",
                                "#B0BEC5",
                                "red",
                                "#B0BEC5",
                                "#B0BEC5",
                                "#B0BEC5",
                                "#B0BEC5",
                                "#B0BEC5",
                                "#B0BEC5",
                                "#B0BEC5",
                                "#B0BEC5",
                                "#B0BEC5",
                                "#B0BEC5",
                                "#B0BEC5",
                                "#B0BEC5",
                                "#B0BEC5",
                                "#B0BEC5",
                                "#B0BEC5",
                                "#B0BEC5",
                                "#B0BEC5",
                                "#B0BEC5",
                                "#B0BEC5",
                                "#B0BEC5",
                                "#B0BEC5",
                                "#B0BEC5"
                              ]
                            ]
                          }
                        ],
                        "label": "Topic 40",
                        "method": "update"
                      },
                      {
                        "args": [
                          {
                            "marker.color": [
                              [
                                "#B0BEC5",
                                "#B0BEC5",
                                "#B0BEC5",
                                "#B0BEC5",
                                "#B0BEC5",
                                "#B0BEC5",
                                "#B0BEC5",
                                "#B0BEC5",
                                "#B0BEC5",
                                "#B0BEC5",
                                "#B0BEC5",
                                "#B0BEC5",
                                "#B0BEC5",
                                "#B0BEC5",
                                "#B0BEC5",
                                "#B0BEC5",
                                "#B0BEC5",
                                "#B0BEC5",
                                "#B0BEC5",
                                "#B0BEC5",
                                "#B0BEC5",
                                "#B0BEC5",
                                "#B0BEC5",
                                "#B0BEC5",
                                "#B0BEC5",
                                "#B0BEC5",
                                "#B0BEC5",
                                "#B0BEC5",
                                "#B0BEC5",
                                "#B0BEC5",
                                "#B0BEC5",
                                "#B0BEC5",
                                "#B0BEC5",
                                "#B0BEC5",
                                "#B0BEC5",
                                "#B0BEC5",
                                "#B0BEC5",
                                "#B0BEC5",
                                "#B0BEC5",
                                "#B0BEC5",
                                "#B0BEC5",
                                "red",
                                "#B0BEC5",
                                "#B0BEC5",
                                "#B0BEC5",
                                "#B0BEC5",
                                "#B0BEC5",
                                "#B0BEC5",
                                "#B0BEC5",
                                "#B0BEC5",
                                "#B0BEC5",
                                "#B0BEC5",
                                "#B0BEC5",
                                "#B0BEC5",
                                "#B0BEC5",
                                "#B0BEC5",
                                "#B0BEC5",
                                "#B0BEC5",
                                "#B0BEC5",
                                "#B0BEC5",
                                "#B0BEC5",
                                "#B0BEC5",
                                "#B0BEC5"
                              ]
                            ]
                          }
                        ],
                        "label": "Topic 41",
                        "method": "update"
                      },
                      {
                        "args": [
                          {
                            "marker.color": [
                              [
                                "#B0BEC5",
                                "#B0BEC5",
                                "#B0BEC5",
                                "#B0BEC5",
                                "#B0BEC5",
                                "#B0BEC5",
                                "#B0BEC5",
                                "#B0BEC5",
                                "#B0BEC5",
                                "#B0BEC5",
                                "#B0BEC5",
                                "#B0BEC5",
                                "#B0BEC5",
                                "#B0BEC5",
                                "#B0BEC5",
                                "#B0BEC5",
                                "#B0BEC5",
                                "#B0BEC5",
                                "#B0BEC5",
                                "#B0BEC5",
                                "#B0BEC5",
                                "#B0BEC5",
                                "#B0BEC5",
                                "#B0BEC5",
                                "#B0BEC5",
                                "#B0BEC5",
                                "#B0BEC5",
                                "#B0BEC5",
                                "#B0BEC5",
                                "#B0BEC5",
                                "#B0BEC5",
                                "#B0BEC5",
                                "#B0BEC5",
                                "#B0BEC5",
                                "#B0BEC5",
                                "#B0BEC5",
                                "#B0BEC5",
                                "#B0BEC5",
                                "#B0BEC5",
                                "#B0BEC5",
                                "#B0BEC5",
                                "#B0BEC5",
                                "red",
                                "#B0BEC5",
                                "#B0BEC5",
                                "#B0BEC5",
                                "#B0BEC5",
                                "#B0BEC5",
                                "#B0BEC5",
                                "#B0BEC5",
                                "#B0BEC5",
                                "#B0BEC5",
                                "#B0BEC5",
                                "#B0BEC5",
                                "#B0BEC5",
                                "#B0BEC5",
                                "#B0BEC5",
                                "#B0BEC5",
                                "#B0BEC5",
                                "#B0BEC5",
                                "#B0BEC5",
                                "#B0BEC5",
                                "#B0BEC5"
                              ]
                            ]
                          }
                        ],
                        "label": "Topic 42",
                        "method": "update"
                      },
                      {
                        "args": [
                          {
                            "marker.color": [
                              [
                                "#B0BEC5",
                                "#B0BEC5",
                                "#B0BEC5",
                                "#B0BEC5",
                                "#B0BEC5",
                                "#B0BEC5",
                                "#B0BEC5",
                                "#B0BEC5",
                                "#B0BEC5",
                                "#B0BEC5",
                                "#B0BEC5",
                                "#B0BEC5",
                                "#B0BEC5",
                                "#B0BEC5",
                                "#B0BEC5",
                                "#B0BEC5",
                                "#B0BEC5",
                                "#B0BEC5",
                                "#B0BEC5",
                                "#B0BEC5",
                                "#B0BEC5",
                                "#B0BEC5",
                                "#B0BEC5",
                                "#B0BEC5",
                                "#B0BEC5",
                                "#B0BEC5",
                                "#B0BEC5",
                                "#B0BEC5",
                                "#B0BEC5",
                                "#B0BEC5",
                                "#B0BEC5",
                                "#B0BEC5",
                                "#B0BEC5",
                                "#B0BEC5",
                                "#B0BEC5",
                                "#B0BEC5",
                                "#B0BEC5",
                                "#B0BEC5",
                                "#B0BEC5",
                                "#B0BEC5",
                                "#B0BEC5",
                                "#B0BEC5",
                                "#B0BEC5",
                                "red",
                                "#B0BEC5",
                                "#B0BEC5",
                                "#B0BEC5",
                                "#B0BEC5",
                                "#B0BEC5",
                                "#B0BEC5",
                                "#B0BEC5",
                                "#B0BEC5",
                                "#B0BEC5",
                                "#B0BEC5",
                                "#B0BEC5",
                                "#B0BEC5",
                                "#B0BEC5",
                                "#B0BEC5",
                                "#B0BEC5",
                                "#B0BEC5",
                                "#B0BEC5",
                                "#B0BEC5",
                                "#B0BEC5"
                              ]
                            ]
                          }
                        ],
                        "label": "Topic 43",
                        "method": "update"
                      },
                      {
                        "args": [
                          {
                            "marker.color": [
                              [
                                "#B0BEC5",
                                "#B0BEC5",
                                "#B0BEC5",
                                "#B0BEC5",
                                "#B0BEC5",
                                "#B0BEC5",
                                "#B0BEC5",
                                "#B0BEC5",
                                "#B0BEC5",
                                "#B0BEC5",
                                "#B0BEC5",
                                "#B0BEC5",
                                "#B0BEC5",
                                "#B0BEC5",
                                "#B0BEC5",
                                "#B0BEC5",
                                "#B0BEC5",
                                "#B0BEC5",
                                "#B0BEC5",
                                "#B0BEC5",
                                "#B0BEC5",
                                "#B0BEC5",
                                "#B0BEC5",
                                "#B0BEC5",
                                "#B0BEC5",
                                "#B0BEC5",
                                "#B0BEC5",
                                "#B0BEC5",
                                "#B0BEC5",
                                "#B0BEC5",
                                "#B0BEC5",
                                "#B0BEC5",
                                "#B0BEC5",
                                "#B0BEC5",
                                "#B0BEC5",
                                "#B0BEC5",
                                "#B0BEC5",
                                "#B0BEC5",
                                "#B0BEC5",
                                "#B0BEC5",
                                "#B0BEC5",
                                "#B0BEC5",
                                "#B0BEC5",
                                "#B0BEC5",
                                "red",
                                "#B0BEC5",
                                "#B0BEC5",
                                "#B0BEC5",
                                "#B0BEC5",
                                "#B0BEC5",
                                "#B0BEC5",
                                "#B0BEC5",
                                "#B0BEC5",
                                "#B0BEC5",
                                "#B0BEC5",
                                "#B0BEC5",
                                "#B0BEC5",
                                "#B0BEC5",
                                "#B0BEC5",
                                "#B0BEC5",
                                "#B0BEC5",
                                "#B0BEC5",
                                "#B0BEC5"
                              ]
                            ]
                          }
                        ],
                        "label": "Topic 44",
                        "method": "update"
                      },
                      {
                        "args": [
                          {
                            "marker.color": [
                              [
                                "#B0BEC5",
                                "#B0BEC5",
                                "#B0BEC5",
                                "#B0BEC5",
                                "#B0BEC5",
                                "#B0BEC5",
                                "#B0BEC5",
                                "#B0BEC5",
                                "#B0BEC5",
                                "#B0BEC5",
                                "#B0BEC5",
                                "#B0BEC5",
                                "#B0BEC5",
                                "#B0BEC5",
                                "#B0BEC5",
                                "#B0BEC5",
                                "#B0BEC5",
                                "#B0BEC5",
                                "#B0BEC5",
                                "#B0BEC5",
                                "#B0BEC5",
                                "#B0BEC5",
                                "#B0BEC5",
                                "#B0BEC5",
                                "#B0BEC5",
                                "#B0BEC5",
                                "#B0BEC5",
                                "#B0BEC5",
                                "#B0BEC5",
                                "#B0BEC5",
                                "#B0BEC5",
                                "#B0BEC5",
                                "#B0BEC5",
                                "#B0BEC5",
                                "#B0BEC5",
                                "#B0BEC5",
                                "#B0BEC5",
                                "#B0BEC5",
                                "#B0BEC5",
                                "#B0BEC5",
                                "#B0BEC5",
                                "#B0BEC5",
                                "#B0BEC5",
                                "#B0BEC5",
                                "#B0BEC5",
                                "red",
                                "#B0BEC5",
                                "#B0BEC5",
                                "#B0BEC5",
                                "#B0BEC5",
                                "#B0BEC5",
                                "#B0BEC5",
                                "#B0BEC5",
                                "#B0BEC5",
                                "#B0BEC5",
                                "#B0BEC5",
                                "#B0BEC5",
                                "#B0BEC5",
                                "#B0BEC5",
                                "#B0BEC5",
                                "#B0BEC5",
                                "#B0BEC5",
                                "#B0BEC5"
                              ]
                            ]
                          }
                        ],
                        "label": "Topic 45",
                        "method": "update"
                      },
                      {
                        "args": [
                          {
                            "marker.color": [
                              [
                                "#B0BEC5",
                                "#B0BEC5",
                                "#B0BEC5",
                                "#B0BEC5",
                                "#B0BEC5",
                                "#B0BEC5",
                                "#B0BEC5",
                                "#B0BEC5",
                                "#B0BEC5",
                                "#B0BEC5",
                                "#B0BEC5",
                                "#B0BEC5",
                                "#B0BEC5",
                                "#B0BEC5",
                                "#B0BEC5",
                                "#B0BEC5",
                                "#B0BEC5",
                                "#B0BEC5",
                                "#B0BEC5",
                                "#B0BEC5",
                                "#B0BEC5",
                                "#B0BEC5",
                                "#B0BEC5",
                                "#B0BEC5",
                                "#B0BEC5",
                                "#B0BEC5",
                                "#B0BEC5",
                                "#B0BEC5",
                                "#B0BEC5",
                                "#B0BEC5",
                                "#B0BEC5",
                                "#B0BEC5",
                                "#B0BEC5",
                                "#B0BEC5",
                                "#B0BEC5",
                                "#B0BEC5",
                                "#B0BEC5",
                                "#B0BEC5",
                                "#B0BEC5",
                                "#B0BEC5",
                                "#B0BEC5",
                                "#B0BEC5",
                                "#B0BEC5",
                                "#B0BEC5",
                                "#B0BEC5",
                                "#B0BEC5",
                                "red",
                                "#B0BEC5",
                                "#B0BEC5",
                                "#B0BEC5",
                                "#B0BEC5",
                                "#B0BEC5",
                                "#B0BEC5",
                                "#B0BEC5",
                                "#B0BEC5",
                                "#B0BEC5",
                                "#B0BEC5",
                                "#B0BEC5",
                                "#B0BEC5",
                                "#B0BEC5",
                                "#B0BEC5",
                                "#B0BEC5",
                                "#B0BEC5"
                              ]
                            ]
                          }
                        ],
                        "label": "Topic 46",
                        "method": "update"
                      },
                      {
                        "args": [
                          {
                            "marker.color": [
                              [
                                "#B0BEC5",
                                "#B0BEC5",
                                "#B0BEC5",
                                "#B0BEC5",
                                "#B0BEC5",
                                "#B0BEC5",
                                "#B0BEC5",
                                "#B0BEC5",
                                "#B0BEC5",
                                "#B0BEC5",
                                "#B0BEC5",
                                "#B0BEC5",
                                "#B0BEC5",
                                "#B0BEC5",
                                "#B0BEC5",
                                "#B0BEC5",
                                "#B0BEC5",
                                "#B0BEC5",
                                "#B0BEC5",
                                "#B0BEC5",
                                "#B0BEC5",
                                "#B0BEC5",
                                "#B0BEC5",
                                "#B0BEC5",
                                "#B0BEC5",
                                "#B0BEC5",
                                "#B0BEC5",
                                "#B0BEC5",
                                "#B0BEC5",
                                "#B0BEC5",
                                "#B0BEC5",
                                "#B0BEC5",
                                "#B0BEC5",
                                "#B0BEC5",
                                "#B0BEC5",
                                "#B0BEC5",
                                "#B0BEC5",
                                "#B0BEC5",
                                "#B0BEC5",
                                "#B0BEC5",
                                "#B0BEC5",
                                "#B0BEC5",
                                "#B0BEC5",
                                "#B0BEC5",
                                "#B0BEC5",
                                "#B0BEC5",
                                "#B0BEC5",
                                "red",
                                "#B0BEC5",
                                "#B0BEC5",
                                "#B0BEC5",
                                "#B0BEC5",
                                "#B0BEC5",
                                "#B0BEC5",
                                "#B0BEC5",
                                "#B0BEC5",
                                "#B0BEC5",
                                "#B0BEC5",
                                "#B0BEC5",
                                "#B0BEC5",
                                "#B0BEC5",
                                "#B0BEC5",
                                "#B0BEC5"
                              ]
                            ]
                          }
                        ],
                        "label": "Topic 47",
                        "method": "update"
                      },
                      {
                        "args": [
                          {
                            "marker.color": [
                              [
                                "#B0BEC5",
                                "#B0BEC5",
                                "#B0BEC5",
                                "#B0BEC5",
                                "#B0BEC5",
                                "#B0BEC5",
                                "#B0BEC5",
                                "#B0BEC5",
                                "#B0BEC5",
                                "#B0BEC5",
                                "#B0BEC5",
                                "#B0BEC5",
                                "#B0BEC5",
                                "#B0BEC5",
                                "#B0BEC5",
                                "#B0BEC5",
                                "#B0BEC5",
                                "#B0BEC5",
                                "#B0BEC5",
                                "#B0BEC5",
                                "#B0BEC5",
                                "#B0BEC5",
                                "#B0BEC5",
                                "#B0BEC5",
                                "#B0BEC5",
                                "#B0BEC5",
                                "#B0BEC5",
                                "#B0BEC5",
                                "#B0BEC5",
                                "#B0BEC5",
                                "#B0BEC5",
                                "#B0BEC5",
                                "#B0BEC5",
                                "#B0BEC5",
                                "#B0BEC5",
                                "#B0BEC5",
                                "#B0BEC5",
                                "#B0BEC5",
                                "#B0BEC5",
                                "#B0BEC5",
                                "#B0BEC5",
                                "#B0BEC5",
                                "#B0BEC5",
                                "#B0BEC5",
                                "#B0BEC5",
                                "#B0BEC5",
                                "#B0BEC5",
                                "#B0BEC5",
                                "red",
                                "#B0BEC5",
                                "#B0BEC5",
                                "#B0BEC5",
                                "#B0BEC5",
                                "#B0BEC5",
                                "#B0BEC5",
                                "#B0BEC5",
                                "#B0BEC5",
                                "#B0BEC5",
                                "#B0BEC5",
                                "#B0BEC5",
                                "#B0BEC5",
                                "#B0BEC5",
                                "#B0BEC5"
                              ]
                            ]
                          }
                        ],
                        "label": "Topic 48",
                        "method": "update"
                      },
                      {
                        "args": [
                          {
                            "marker.color": [
                              [
                                "#B0BEC5",
                                "#B0BEC5",
                                "#B0BEC5",
                                "#B0BEC5",
                                "#B0BEC5",
                                "#B0BEC5",
                                "#B0BEC5",
                                "#B0BEC5",
                                "#B0BEC5",
                                "#B0BEC5",
                                "#B0BEC5",
                                "#B0BEC5",
                                "#B0BEC5",
                                "#B0BEC5",
                                "#B0BEC5",
                                "#B0BEC5",
                                "#B0BEC5",
                                "#B0BEC5",
                                "#B0BEC5",
                                "#B0BEC5",
                                "#B0BEC5",
                                "#B0BEC5",
                                "#B0BEC5",
                                "#B0BEC5",
                                "#B0BEC5",
                                "#B0BEC5",
                                "#B0BEC5",
                                "#B0BEC5",
                                "#B0BEC5",
                                "#B0BEC5",
                                "#B0BEC5",
                                "#B0BEC5",
                                "#B0BEC5",
                                "#B0BEC5",
                                "#B0BEC5",
                                "#B0BEC5",
                                "#B0BEC5",
                                "#B0BEC5",
                                "#B0BEC5",
                                "#B0BEC5",
                                "#B0BEC5",
                                "#B0BEC5",
                                "#B0BEC5",
                                "#B0BEC5",
                                "#B0BEC5",
                                "#B0BEC5",
                                "#B0BEC5",
                                "#B0BEC5",
                                "#B0BEC5",
                                "red",
                                "#B0BEC5",
                                "#B0BEC5",
                                "#B0BEC5",
                                "#B0BEC5",
                                "#B0BEC5",
                                "#B0BEC5",
                                "#B0BEC5",
                                "#B0BEC5",
                                "#B0BEC5",
                                "#B0BEC5",
                                "#B0BEC5",
                                "#B0BEC5",
                                "#B0BEC5"
                              ]
                            ]
                          }
                        ],
                        "label": "Topic 49",
                        "method": "update"
                      },
                      {
                        "args": [
                          {
                            "marker.color": [
                              [
                                "#B0BEC5",
                                "#B0BEC5",
                                "#B0BEC5",
                                "#B0BEC5",
                                "#B0BEC5",
                                "#B0BEC5",
                                "#B0BEC5",
                                "#B0BEC5",
                                "#B0BEC5",
                                "#B0BEC5",
                                "#B0BEC5",
                                "#B0BEC5",
                                "#B0BEC5",
                                "#B0BEC5",
                                "#B0BEC5",
                                "#B0BEC5",
                                "#B0BEC5",
                                "#B0BEC5",
                                "#B0BEC5",
                                "#B0BEC5",
                                "#B0BEC5",
                                "#B0BEC5",
                                "#B0BEC5",
                                "#B0BEC5",
                                "#B0BEC5",
                                "#B0BEC5",
                                "#B0BEC5",
                                "#B0BEC5",
                                "#B0BEC5",
                                "#B0BEC5",
                                "#B0BEC5",
                                "#B0BEC5",
                                "#B0BEC5",
                                "#B0BEC5",
                                "#B0BEC5",
                                "#B0BEC5",
                                "#B0BEC5",
                                "#B0BEC5",
                                "#B0BEC5",
                                "#B0BEC5",
                                "#B0BEC5",
                                "#B0BEC5",
                                "#B0BEC5",
                                "#B0BEC5",
                                "#B0BEC5",
                                "#B0BEC5",
                                "#B0BEC5",
                                "#B0BEC5",
                                "#B0BEC5",
                                "#B0BEC5",
                                "red",
                                "#B0BEC5",
                                "#B0BEC5",
                                "#B0BEC5",
                                "#B0BEC5",
                                "#B0BEC5",
                                "#B0BEC5",
                                "#B0BEC5",
                                "#B0BEC5",
                                "#B0BEC5",
                                "#B0BEC5",
                                "#B0BEC5",
                                "#B0BEC5"
                              ]
                            ]
                          }
                        ],
                        "label": "Topic 50",
                        "method": "update"
                      },
                      {
                        "args": [
                          {
                            "marker.color": [
                              [
                                "#B0BEC5",
                                "#B0BEC5",
                                "#B0BEC5",
                                "#B0BEC5",
                                "#B0BEC5",
                                "#B0BEC5",
                                "#B0BEC5",
                                "#B0BEC5",
                                "#B0BEC5",
                                "#B0BEC5",
                                "#B0BEC5",
                                "#B0BEC5",
                                "#B0BEC5",
                                "#B0BEC5",
                                "#B0BEC5",
                                "#B0BEC5",
                                "#B0BEC5",
                                "#B0BEC5",
                                "#B0BEC5",
                                "#B0BEC5",
                                "#B0BEC5",
                                "#B0BEC5",
                                "#B0BEC5",
                                "#B0BEC5",
                                "#B0BEC5",
                                "#B0BEC5",
                                "#B0BEC5",
                                "#B0BEC5",
                                "#B0BEC5",
                                "#B0BEC5",
                                "#B0BEC5",
                                "#B0BEC5",
                                "#B0BEC5",
                                "#B0BEC5",
                                "#B0BEC5",
                                "#B0BEC5",
                                "#B0BEC5",
                                "#B0BEC5",
                                "#B0BEC5",
                                "#B0BEC5",
                                "#B0BEC5",
                                "#B0BEC5",
                                "#B0BEC5",
                                "#B0BEC5",
                                "#B0BEC5",
                                "#B0BEC5",
                                "#B0BEC5",
                                "#B0BEC5",
                                "#B0BEC5",
                                "#B0BEC5",
                                "#B0BEC5",
                                "red",
                                "#B0BEC5",
                                "#B0BEC5",
                                "#B0BEC5",
                                "#B0BEC5",
                                "#B0BEC5",
                                "#B0BEC5",
                                "#B0BEC5",
                                "#B0BEC5",
                                "#B0BEC5",
                                "#B0BEC5",
                                "#B0BEC5"
                              ]
                            ]
                          }
                        ],
                        "label": "Topic 51",
                        "method": "update"
                      },
                      {
                        "args": [
                          {
                            "marker.color": [
                              [
                                "#B0BEC5",
                                "#B0BEC5",
                                "#B0BEC5",
                                "#B0BEC5",
                                "#B0BEC5",
                                "#B0BEC5",
                                "#B0BEC5",
                                "#B0BEC5",
                                "#B0BEC5",
                                "#B0BEC5",
                                "#B0BEC5",
                                "#B0BEC5",
                                "#B0BEC5",
                                "#B0BEC5",
                                "#B0BEC5",
                                "#B0BEC5",
                                "#B0BEC5",
                                "#B0BEC5",
                                "#B0BEC5",
                                "#B0BEC5",
                                "#B0BEC5",
                                "#B0BEC5",
                                "#B0BEC5",
                                "#B0BEC5",
                                "#B0BEC5",
                                "#B0BEC5",
                                "#B0BEC5",
                                "#B0BEC5",
                                "#B0BEC5",
                                "#B0BEC5",
                                "#B0BEC5",
                                "#B0BEC5",
                                "#B0BEC5",
                                "#B0BEC5",
                                "#B0BEC5",
                                "#B0BEC5",
                                "#B0BEC5",
                                "#B0BEC5",
                                "#B0BEC5",
                                "#B0BEC5",
                                "#B0BEC5",
                                "#B0BEC5",
                                "#B0BEC5",
                                "#B0BEC5",
                                "#B0BEC5",
                                "#B0BEC5",
                                "#B0BEC5",
                                "#B0BEC5",
                                "#B0BEC5",
                                "#B0BEC5",
                                "#B0BEC5",
                                "#B0BEC5",
                                "red",
                                "#B0BEC5",
                                "#B0BEC5",
                                "#B0BEC5",
                                "#B0BEC5",
                                "#B0BEC5",
                                "#B0BEC5",
                                "#B0BEC5",
                                "#B0BEC5",
                                "#B0BEC5",
                                "#B0BEC5"
                              ]
                            ]
                          }
                        ],
                        "label": "Topic 52",
                        "method": "update"
                      },
                      {
                        "args": [
                          {
                            "marker.color": [
                              [
                                "#B0BEC5",
                                "#B0BEC5",
                                "#B0BEC5",
                                "#B0BEC5",
                                "#B0BEC5",
                                "#B0BEC5",
                                "#B0BEC5",
                                "#B0BEC5",
                                "#B0BEC5",
                                "#B0BEC5",
                                "#B0BEC5",
                                "#B0BEC5",
                                "#B0BEC5",
                                "#B0BEC5",
                                "#B0BEC5",
                                "#B0BEC5",
                                "#B0BEC5",
                                "#B0BEC5",
                                "#B0BEC5",
                                "#B0BEC5",
                                "#B0BEC5",
                                "#B0BEC5",
                                "#B0BEC5",
                                "#B0BEC5",
                                "#B0BEC5",
                                "#B0BEC5",
                                "#B0BEC5",
                                "#B0BEC5",
                                "#B0BEC5",
                                "#B0BEC5",
                                "#B0BEC5",
                                "#B0BEC5",
                                "#B0BEC5",
                                "#B0BEC5",
                                "#B0BEC5",
                                "#B0BEC5",
                                "#B0BEC5",
                                "#B0BEC5",
                                "#B0BEC5",
                                "#B0BEC5",
                                "#B0BEC5",
                                "#B0BEC5",
                                "#B0BEC5",
                                "#B0BEC5",
                                "#B0BEC5",
                                "#B0BEC5",
                                "#B0BEC5",
                                "#B0BEC5",
                                "#B0BEC5",
                                "#B0BEC5",
                                "#B0BEC5",
                                "#B0BEC5",
                                "#B0BEC5",
                                "red",
                                "#B0BEC5",
                                "#B0BEC5",
                                "#B0BEC5",
                                "#B0BEC5",
                                "#B0BEC5",
                                "#B0BEC5",
                                "#B0BEC5",
                                "#B0BEC5",
                                "#B0BEC5"
                              ]
                            ]
                          }
                        ],
                        "label": "Topic 53",
                        "method": "update"
                      },
                      {
                        "args": [
                          {
                            "marker.color": [
                              [
                                "#B0BEC5",
                                "#B0BEC5",
                                "#B0BEC5",
                                "#B0BEC5",
                                "#B0BEC5",
                                "#B0BEC5",
                                "#B0BEC5",
                                "#B0BEC5",
                                "#B0BEC5",
                                "#B0BEC5",
                                "#B0BEC5",
                                "#B0BEC5",
                                "#B0BEC5",
                                "#B0BEC5",
                                "#B0BEC5",
                                "#B0BEC5",
                                "#B0BEC5",
                                "#B0BEC5",
                                "#B0BEC5",
                                "#B0BEC5",
                                "#B0BEC5",
                                "#B0BEC5",
                                "#B0BEC5",
                                "#B0BEC5",
                                "#B0BEC5",
                                "#B0BEC5",
                                "#B0BEC5",
                                "#B0BEC5",
                                "#B0BEC5",
                                "#B0BEC5",
                                "#B0BEC5",
                                "#B0BEC5",
                                "#B0BEC5",
                                "#B0BEC5",
                                "#B0BEC5",
                                "#B0BEC5",
                                "#B0BEC5",
                                "#B0BEC5",
                                "#B0BEC5",
                                "#B0BEC5",
                                "#B0BEC5",
                                "#B0BEC5",
                                "#B0BEC5",
                                "#B0BEC5",
                                "#B0BEC5",
                                "#B0BEC5",
                                "#B0BEC5",
                                "#B0BEC5",
                                "#B0BEC5",
                                "#B0BEC5",
                                "#B0BEC5",
                                "#B0BEC5",
                                "#B0BEC5",
                                "#B0BEC5",
                                "red",
                                "#B0BEC5",
                                "#B0BEC5",
                                "#B0BEC5",
                                "#B0BEC5",
                                "#B0BEC5",
                                "#B0BEC5",
                                "#B0BEC5",
                                "#B0BEC5"
                              ]
                            ]
                          }
                        ],
                        "label": "Topic 54",
                        "method": "update"
                      },
                      {
                        "args": [
                          {
                            "marker.color": [
                              [
                                "#B0BEC5",
                                "#B0BEC5",
                                "#B0BEC5",
                                "#B0BEC5",
                                "#B0BEC5",
                                "#B0BEC5",
                                "#B0BEC5",
                                "#B0BEC5",
                                "#B0BEC5",
                                "#B0BEC5",
                                "#B0BEC5",
                                "#B0BEC5",
                                "#B0BEC5",
                                "#B0BEC5",
                                "#B0BEC5",
                                "#B0BEC5",
                                "#B0BEC5",
                                "#B0BEC5",
                                "#B0BEC5",
                                "#B0BEC5",
                                "#B0BEC5",
                                "#B0BEC5",
                                "#B0BEC5",
                                "#B0BEC5",
                                "#B0BEC5",
                                "#B0BEC5",
                                "#B0BEC5",
                                "#B0BEC5",
                                "#B0BEC5",
                                "#B0BEC5",
                                "#B0BEC5",
                                "#B0BEC5",
                                "#B0BEC5",
                                "#B0BEC5",
                                "#B0BEC5",
                                "#B0BEC5",
                                "#B0BEC5",
                                "#B0BEC5",
                                "#B0BEC5",
                                "#B0BEC5",
                                "#B0BEC5",
                                "#B0BEC5",
                                "#B0BEC5",
                                "#B0BEC5",
                                "#B0BEC5",
                                "#B0BEC5",
                                "#B0BEC5",
                                "#B0BEC5",
                                "#B0BEC5",
                                "#B0BEC5",
                                "#B0BEC5",
                                "#B0BEC5",
                                "#B0BEC5",
                                "#B0BEC5",
                                "#B0BEC5",
                                "red",
                                "#B0BEC5",
                                "#B0BEC5",
                                "#B0BEC5",
                                "#B0BEC5",
                                "#B0BEC5",
                                "#B0BEC5",
                                "#B0BEC5"
                              ]
                            ]
                          }
                        ],
                        "label": "Topic 55",
                        "method": "update"
                      },
                      {
                        "args": [
                          {
                            "marker.color": [
                              [
                                "#B0BEC5",
                                "#B0BEC5",
                                "#B0BEC5",
                                "#B0BEC5",
                                "#B0BEC5",
                                "#B0BEC5",
                                "#B0BEC5",
                                "#B0BEC5",
                                "#B0BEC5",
                                "#B0BEC5",
                                "#B0BEC5",
                                "#B0BEC5",
                                "#B0BEC5",
                                "#B0BEC5",
                                "#B0BEC5",
                                "#B0BEC5",
                                "#B0BEC5",
                                "#B0BEC5",
                                "#B0BEC5",
                                "#B0BEC5",
                                "#B0BEC5",
                                "#B0BEC5",
                                "#B0BEC5",
                                "#B0BEC5",
                                "#B0BEC5",
                                "#B0BEC5",
                                "#B0BEC5",
                                "#B0BEC5",
                                "#B0BEC5",
                                "#B0BEC5",
                                "#B0BEC5",
                                "#B0BEC5",
                                "#B0BEC5",
                                "#B0BEC5",
                                "#B0BEC5",
                                "#B0BEC5",
                                "#B0BEC5",
                                "#B0BEC5",
                                "#B0BEC5",
                                "#B0BEC5",
                                "#B0BEC5",
                                "#B0BEC5",
                                "#B0BEC5",
                                "#B0BEC5",
                                "#B0BEC5",
                                "#B0BEC5",
                                "#B0BEC5",
                                "#B0BEC5",
                                "#B0BEC5",
                                "#B0BEC5",
                                "#B0BEC5",
                                "#B0BEC5",
                                "#B0BEC5",
                                "#B0BEC5",
                                "#B0BEC5",
                                "#B0BEC5",
                                "red",
                                "#B0BEC5",
                                "#B0BEC5",
                                "#B0BEC5",
                                "#B0BEC5",
                                "#B0BEC5",
                                "#B0BEC5"
                              ]
                            ]
                          }
                        ],
                        "label": "Topic 56",
                        "method": "update"
                      },
                      {
                        "args": [
                          {
                            "marker.color": [
                              [
                                "#B0BEC5",
                                "#B0BEC5",
                                "#B0BEC5",
                                "#B0BEC5",
                                "#B0BEC5",
                                "#B0BEC5",
                                "#B0BEC5",
                                "#B0BEC5",
                                "#B0BEC5",
                                "#B0BEC5",
                                "#B0BEC5",
                                "#B0BEC5",
                                "#B0BEC5",
                                "#B0BEC5",
                                "#B0BEC5",
                                "#B0BEC5",
                                "#B0BEC5",
                                "#B0BEC5",
                                "#B0BEC5",
                                "#B0BEC5",
                                "#B0BEC5",
                                "#B0BEC5",
                                "#B0BEC5",
                                "#B0BEC5",
                                "#B0BEC5",
                                "#B0BEC5",
                                "#B0BEC5",
                                "#B0BEC5",
                                "#B0BEC5",
                                "#B0BEC5",
                                "#B0BEC5",
                                "#B0BEC5",
                                "#B0BEC5",
                                "#B0BEC5",
                                "#B0BEC5",
                                "#B0BEC5",
                                "#B0BEC5",
                                "#B0BEC5",
                                "#B0BEC5",
                                "#B0BEC5",
                                "#B0BEC5",
                                "#B0BEC5",
                                "#B0BEC5",
                                "#B0BEC5",
                                "#B0BEC5",
                                "#B0BEC5",
                                "#B0BEC5",
                                "#B0BEC5",
                                "#B0BEC5",
                                "#B0BEC5",
                                "#B0BEC5",
                                "#B0BEC5",
                                "#B0BEC5",
                                "#B0BEC5",
                                "#B0BEC5",
                                "#B0BEC5",
                                "#B0BEC5",
                                "red",
                                "#B0BEC5",
                                "#B0BEC5",
                                "#B0BEC5",
                                "#B0BEC5",
                                "#B0BEC5"
                              ]
                            ]
                          }
                        ],
                        "label": "Topic 57",
                        "method": "update"
                      },
                      {
                        "args": [
                          {
                            "marker.color": [
                              [
                                "#B0BEC5",
                                "#B0BEC5",
                                "#B0BEC5",
                                "#B0BEC5",
                                "#B0BEC5",
                                "#B0BEC5",
                                "#B0BEC5",
                                "#B0BEC5",
                                "#B0BEC5",
                                "#B0BEC5",
                                "#B0BEC5",
                                "#B0BEC5",
                                "#B0BEC5",
                                "#B0BEC5",
                                "#B0BEC5",
                                "#B0BEC5",
                                "#B0BEC5",
                                "#B0BEC5",
                                "#B0BEC5",
                                "#B0BEC5",
                                "#B0BEC5",
                                "#B0BEC5",
                                "#B0BEC5",
                                "#B0BEC5",
                                "#B0BEC5",
                                "#B0BEC5",
                                "#B0BEC5",
                                "#B0BEC5",
                                "#B0BEC5",
                                "#B0BEC5",
                                "#B0BEC5",
                                "#B0BEC5",
                                "#B0BEC5",
                                "#B0BEC5",
                                "#B0BEC5",
                                "#B0BEC5",
                                "#B0BEC5",
                                "#B0BEC5",
                                "#B0BEC5",
                                "#B0BEC5",
                                "#B0BEC5",
                                "#B0BEC5",
                                "#B0BEC5",
                                "#B0BEC5",
                                "#B0BEC5",
                                "#B0BEC5",
                                "#B0BEC5",
                                "#B0BEC5",
                                "#B0BEC5",
                                "#B0BEC5",
                                "#B0BEC5",
                                "#B0BEC5",
                                "#B0BEC5",
                                "#B0BEC5",
                                "#B0BEC5",
                                "#B0BEC5",
                                "#B0BEC5",
                                "#B0BEC5",
                                "red",
                                "#B0BEC5",
                                "#B0BEC5",
                                "#B0BEC5",
                                "#B0BEC5"
                              ]
                            ]
                          }
                        ],
                        "label": "Topic 58",
                        "method": "update"
                      },
                      {
                        "args": [
                          {
                            "marker.color": [
                              [
                                "#B0BEC5",
                                "#B0BEC5",
                                "#B0BEC5",
                                "#B0BEC5",
                                "#B0BEC5",
                                "#B0BEC5",
                                "#B0BEC5",
                                "#B0BEC5",
                                "#B0BEC5",
                                "#B0BEC5",
                                "#B0BEC5",
                                "#B0BEC5",
                                "#B0BEC5",
                                "#B0BEC5",
                                "#B0BEC5",
                                "#B0BEC5",
                                "#B0BEC5",
                                "#B0BEC5",
                                "#B0BEC5",
                                "#B0BEC5",
                                "#B0BEC5",
                                "#B0BEC5",
                                "#B0BEC5",
                                "#B0BEC5",
                                "#B0BEC5",
                                "#B0BEC5",
                                "#B0BEC5",
                                "#B0BEC5",
                                "#B0BEC5",
                                "#B0BEC5",
                                "#B0BEC5",
                                "#B0BEC5",
                                "#B0BEC5",
                                "#B0BEC5",
                                "#B0BEC5",
                                "#B0BEC5",
                                "#B0BEC5",
                                "#B0BEC5",
                                "#B0BEC5",
                                "#B0BEC5",
                                "#B0BEC5",
                                "#B0BEC5",
                                "#B0BEC5",
                                "#B0BEC5",
                                "#B0BEC5",
                                "#B0BEC5",
                                "#B0BEC5",
                                "#B0BEC5",
                                "#B0BEC5",
                                "#B0BEC5",
                                "#B0BEC5",
                                "#B0BEC5",
                                "#B0BEC5",
                                "#B0BEC5",
                                "#B0BEC5",
                                "#B0BEC5",
                                "#B0BEC5",
                                "#B0BEC5",
                                "#B0BEC5",
                                "red",
                                "#B0BEC5",
                                "#B0BEC5",
                                "#B0BEC5"
                              ]
                            ]
                          }
                        ],
                        "label": "Topic 59",
                        "method": "update"
                      },
                      {
                        "args": [
                          {
                            "marker.color": [
                              [
                                "#B0BEC5",
                                "#B0BEC5",
                                "#B0BEC5",
                                "#B0BEC5",
                                "#B0BEC5",
                                "#B0BEC5",
                                "#B0BEC5",
                                "#B0BEC5",
                                "#B0BEC5",
                                "#B0BEC5",
                                "#B0BEC5",
                                "#B0BEC5",
                                "#B0BEC5",
                                "#B0BEC5",
                                "#B0BEC5",
                                "#B0BEC5",
                                "#B0BEC5",
                                "#B0BEC5",
                                "#B0BEC5",
                                "#B0BEC5",
                                "#B0BEC5",
                                "#B0BEC5",
                                "#B0BEC5",
                                "#B0BEC5",
                                "#B0BEC5",
                                "#B0BEC5",
                                "#B0BEC5",
                                "#B0BEC5",
                                "#B0BEC5",
                                "#B0BEC5",
                                "#B0BEC5",
                                "#B0BEC5",
                                "#B0BEC5",
                                "#B0BEC5",
                                "#B0BEC5",
                                "#B0BEC5",
                                "#B0BEC5",
                                "#B0BEC5",
                                "#B0BEC5",
                                "#B0BEC5",
                                "#B0BEC5",
                                "#B0BEC5",
                                "#B0BEC5",
                                "#B0BEC5",
                                "#B0BEC5",
                                "#B0BEC5",
                                "#B0BEC5",
                                "#B0BEC5",
                                "#B0BEC5",
                                "#B0BEC5",
                                "#B0BEC5",
                                "#B0BEC5",
                                "#B0BEC5",
                                "#B0BEC5",
                                "#B0BEC5",
                                "#B0BEC5",
                                "#B0BEC5",
                                "#B0BEC5",
                                "#B0BEC5",
                                "#B0BEC5",
                                "red",
                                "#B0BEC5",
                                "#B0BEC5"
                              ]
                            ]
                          }
                        ],
                        "label": "Topic 60",
                        "method": "update"
                      },
                      {
                        "args": [
                          {
                            "marker.color": [
                              [
                                "#B0BEC5",
                                "#B0BEC5",
                                "#B0BEC5",
                                "#B0BEC5",
                                "#B0BEC5",
                                "#B0BEC5",
                                "#B0BEC5",
                                "#B0BEC5",
                                "#B0BEC5",
                                "#B0BEC5",
                                "#B0BEC5",
                                "#B0BEC5",
                                "#B0BEC5",
                                "#B0BEC5",
                                "#B0BEC5",
                                "#B0BEC5",
                                "#B0BEC5",
                                "#B0BEC5",
                                "#B0BEC5",
                                "#B0BEC5",
                                "#B0BEC5",
                                "#B0BEC5",
                                "#B0BEC5",
                                "#B0BEC5",
                                "#B0BEC5",
                                "#B0BEC5",
                                "#B0BEC5",
                                "#B0BEC5",
                                "#B0BEC5",
                                "#B0BEC5",
                                "#B0BEC5",
                                "#B0BEC5",
                                "#B0BEC5",
                                "#B0BEC5",
                                "#B0BEC5",
                                "#B0BEC5",
                                "#B0BEC5",
                                "#B0BEC5",
                                "#B0BEC5",
                                "#B0BEC5",
                                "#B0BEC5",
                                "#B0BEC5",
                                "#B0BEC5",
                                "#B0BEC5",
                                "#B0BEC5",
                                "#B0BEC5",
                                "#B0BEC5",
                                "#B0BEC5",
                                "#B0BEC5",
                                "#B0BEC5",
                                "#B0BEC5",
                                "#B0BEC5",
                                "#B0BEC5",
                                "#B0BEC5",
                                "#B0BEC5",
                                "#B0BEC5",
                                "#B0BEC5",
                                "#B0BEC5",
                                "#B0BEC5",
                                "#B0BEC5",
                                "#B0BEC5",
                                "red",
                                "#B0BEC5"
                              ]
                            ]
                          }
                        ],
                        "label": "Topic 61",
                        "method": "update"
                      },
                      {
                        "args": [
                          {
                            "marker.color": [
                              [
                                "#B0BEC5",
                                "#B0BEC5",
                                "#B0BEC5",
                                "#B0BEC5",
                                "#B0BEC5",
                                "#B0BEC5",
                                "#B0BEC5",
                                "#B0BEC5",
                                "#B0BEC5",
                                "#B0BEC5",
                                "#B0BEC5",
                                "#B0BEC5",
                                "#B0BEC5",
                                "#B0BEC5",
                                "#B0BEC5",
                                "#B0BEC5",
                                "#B0BEC5",
                                "#B0BEC5",
                                "#B0BEC5",
                                "#B0BEC5",
                                "#B0BEC5",
                                "#B0BEC5",
                                "#B0BEC5",
                                "#B0BEC5",
                                "#B0BEC5",
                                "#B0BEC5",
                                "#B0BEC5",
                                "#B0BEC5",
                                "#B0BEC5",
                                "#B0BEC5",
                                "#B0BEC5",
                                "#B0BEC5",
                                "#B0BEC5",
                                "#B0BEC5",
                                "#B0BEC5",
                                "#B0BEC5",
                                "#B0BEC5",
                                "#B0BEC5",
                                "#B0BEC5",
                                "#B0BEC5",
                                "#B0BEC5",
                                "#B0BEC5",
                                "#B0BEC5",
                                "#B0BEC5",
                                "#B0BEC5",
                                "#B0BEC5",
                                "#B0BEC5",
                                "#B0BEC5",
                                "#B0BEC5",
                                "#B0BEC5",
                                "#B0BEC5",
                                "#B0BEC5",
                                "#B0BEC5",
                                "#B0BEC5",
                                "#B0BEC5",
                                "#B0BEC5",
                                "#B0BEC5",
                                "#B0BEC5",
                                "#B0BEC5",
                                "#B0BEC5",
                                "#B0BEC5",
                                "#B0BEC5",
                                "red"
                              ]
                            ]
                          }
                        ],
                        "label": "Topic 62",
                        "method": "update"
                      }
                    ]
                  }
                ],
                "template": {
                  "data": {
                    "bar": [
                      {
                        "error_x": {
                          "color": "rgb(36,36,36)"
                        },
                        "error_y": {
                          "color": "rgb(36,36,36)"
                        },
                        "marker": {
                          "line": {
                            "color": "white",
                            "width": 0.5
                          },
                          "pattern": {
                            "fillmode": "overlay",
                            "size": 10,
                            "solidity": 0.2
                          }
                        },
                        "type": "bar"
                      }
                    ],
                    "barpolar": [
                      {
                        "marker": {
                          "line": {
                            "color": "white",
                            "width": 0.5
                          },
                          "pattern": {
                            "fillmode": "overlay",
                            "size": 10,
                            "solidity": 0.2
                          }
                        },
                        "type": "barpolar"
                      }
                    ],
                    "carpet": [
                      {
                        "aaxis": {
                          "endlinecolor": "rgb(36,36,36)",
                          "gridcolor": "white",
                          "linecolor": "white",
                          "minorgridcolor": "white",
                          "startlinecolor": "rgb(36,36,36)"
                        },
                        "baxis": {
                          "endlinecolor": "rgb(36,36,36)",
                          "gridcolor": "white",
                          "linecolor": "white",
                          "minorgridcolor": "white",
                          "startlinecolor": "rgb(36,36,36)"
                        },
                        "type": "carpet"
                      }
                    ],
                    "choropleth": [
                      {
                        "colorbar": {
                          "outlinewidth": 1,
                          "tickcolor": "rgb(36,36,36)",
                          "ticks": "outside"
                        },
                        "type": "choropleth"
                      }
                    ],
                    "contour": [
                      {
                        "colorbar": {
                          "outlinewidth": 1,
                          "tickcolor": "rgb(36,36,36)",
                          "ticks": "outside"
                        },
                        "colorscale": [
                          [
                            0,
                            "#440154"
                          ],
                          [
                            0.1111111111111111,
                            "#482878"
                          ],
                          [
                            0.2222222222222222,
                            "#3e4989"
                          ],
                          [
                            0.3333333333333333,
                            "#31688e"
                          ],
                          [
                            0.4444444444444444,
                            "#26828e"
                          ],
                          [
                            0.5555555555555556,
                            "#1f9e89"
                          ],
                          [
                            0.6666666666666666,
                            "#35b779"
                          ],
                          [
                            0.7777777777777778,
                            "#6ece58"
                          ],
                          [
                            0.8888888888888888,
                            "#b5de2b"
                          ],
                          [
                            1,
                            "#fde725"
                          ]
                        ],
                        "type": "contour"
                      }
                    ],
                    "contourcarpet": [
                      {
                        "colorbar": {
                          "outlinewidth": 1,
                          "tickcolor": "rgb(36,36,36)",
                          "ticks": "outside"
                        },
                        "type": "contourcarpet"
                      }
                    ],
                    "heatmap": [
                      {
                        "colorbar": {
                          "outlinewidth": 1,
                          "tickcolor": "rgb(36,36,36)",
                          "ticks": "outside"
                        },
                        "colorscale": [
                          [
                            0,
                            "#440154"
                          ],
                          [
                            0.1111111111111111,
                            "#482878"
                          ],
                          [
                            0.2222222222222222,
                            "#3e4989"
                          ],
                          [
                            0.3333333333333333,
                            "#31688e"
                          ],
                          [
                            0.4444444444444444,
                            "#26828e"
                          ],
                          [
                            0.5555555555555556,
                            "#1f9e89"
                          ],
                          [
                            0.6666666666666666,
                            "#35b779"
                          ],
                          [
                            0.7777777777777778,
                            "#6ece58"
                          ],
                          [
                            0.8888888888888888,
                            "#b5de2b"
                          ],
                          [
                            1,
                            "#fde725"
                          ]
                        ],
                        "type": "heatmap"
                      }
                    ],
                    "heatmapgl": [
                      {
                        "colorbar": {
                          "outlinewidth": 1,
                          "tickcolor": "rgb(36,36,36)",
                          "ticks": "outside"
                        },
                        "colorscale": [
                          [
                            0,
                            "#440154"
                          ],
                          [
                            0.1111111111111111,
                            "#482878"
                          ],
                          [
                            0.2222222222222222,
                            "#3e4989"
                          ],
                          [
                            0.3333333333333333,
                            "#31688e"
                          ],
                          [
                            0.4444444444444444,
                            "#26828e"
                          ],
                          [
                            0.5555555555555556,
                            "#1f9e89"
                          ],
                          [
                            0.6666666666666666,
                            "#35b779"
                          ],
                          [
                            0.7777777777777778,
                            "#6ece58"
                          ],
                          [
                            0.8888888888888888,
                            "#b5de2b"
                          ],
                          [
                            1,
                            "#fde725"
                          ]
                        ],
                        "type": "heatmapgl"
                      }
                    ],
                    "histogram": [
                      {
                        "marker": {
                          "line": {
                            "color": "white",
                            "width": 0.6
                          }
                        },
                        "type": "histogram"
                      }
                    ],
                    "histogram2d": [
                      {
                        "colorbar": {
                          "outlinewidth": 1,
                          "tickcolor": "rgb(36,36,36)",
                          "ticks": "outside"
                        },
                        "colorscale": [
                          [
                            0,
                            "#440154"
                          ],
                          [
                            0.1111111111111111,
                            "#482878"
                          ],
                          [
                            0.2222222222222222,
                            "#3e4989"
                          ],
                          [
                            0.3333333333333333,
                            "#31688e"
                          ],
                          [
                            0.4444444444444444,
                            "#26828e"
                          ],
                          [
                            0.5555555555555556,
                            "#1f9e89"
                          ],
                          [
                            0.6666666666666666,
                            "#35b779"
                          ],
                          [
                            0.7777777777777778,
                            "#6ece58"
                          ],
                          [
                            0.8888888888888888,
                            "#b5de2b"
                          ],
                          [
                            1,
                            "#fde725"
                          ]
                        ],
                        "type": "histogram2d"
                      }
                    ],
                    "histogram2dcontour": [
                      {
                        "colorbar": {
                          "outlinewidth": 1,
                          "tickcolor": "rgb(36,36,36)",
                          "ticks": "outside"
                        },
                        "colorscale": [
                          [
                            0,
                            "#440154"
                          ],
                          [
                            0.1111111111111111,
                            "#482878"
                          ],
                          [
                            0.2222222222222222,
                            "#3e4989"
                          ],
                          [
                            0.3333333333333333,
                            "#31688e"
                          ],
                          [
                            0.4444444444444444,
                            "#26828e"
                          ],
                          [
                            0.5555555555555556,
                            "#1f9e89"
                          ],
                          [
                            0.6666666666666666,
                            "#35b779"
                          ],
                          [
                            0.7777777777777778,
                            "#6ece58"
                          ],
                          [
                            0.8888888888888888,
                            "#b5de2b"
                          ],
                          [
                            1,
                            "#fde725"
                          ]
                        ],
                        "type": "histogram2dcontour"
                      }
                    ],
                    "mesh3d": [
                      {
                        "colorbar": {
                          "outlinewidth": 1,
                          "tickcolor": "rgb(36,36,36)",
                          "ticks": "outside"
                        },
                        "type": "mesh3d"
                      }
                    ],
                    "parcoords": [
                      {
                        "line": {
                          "colorbar": {
                            "outlinewidth": 1,
                            "tickcolor": "rgb(36,36,36)",
                            "ticks": "outside"
                          }
                        },
                        "type": "parcoords"
                      }
                    ],
                    "pie": [
                      {
                        "automargin": true,
                        "type": "pie"
                      }
                    ],
                    "scatter": [
                      {
                        "fillpattern": {
                          "fillmode": "overlay",
                          "size": 10,
                          "solidity": 0.2
                        },
                        "type": "scatter"
                      }
                    ],
                    "scatter3d": [
                      {
                        "line": {
                          "colorbar": {
                            "outlinewidth": 1,
                            "tickcolor": "rgb(36,36,36)",
                            "ticks": "outside"
                          }
                        },
                        "marker": {
                          "colorbar": {
                            "outlinewidth": 1,
                            "tickcolor": "rgb(36,36,36)",
                            "ticks": "outside"
                          }
                        },
                        "type": "scatter3d"
                      }
                    ],
                    "scattercarpet": [
                      {
                        "marker": {
                          "colorbar": {
                            "outlinewidth": 1,
                            "tickcolor": "rgb(36,36,36)",
                            "ticks": "outside"
                          }
                        },
                        "type": "scattercarpet"
                      }
                    ],
                    "scattergeo": [
                      {
                        "marker": {
                          "colorbar": {
                            "outlinewidth": 1,
                            "tickcolor": "rgb(36,36,36)",
                            "ticks": "outside"
                          }
                        },
                        "type": "scattergeo"
                      }
                    ],
                    "scattergl": [
                      {
                        "marker": {
                          "colorbar": {
                            "outlinewidth": 1,
                            "tickcolor": "rgb(36,36,36)",
                            "ticks": "outside"
                          }
                        },
                        "type": "scattergl"
                      }
                    ],
                    "scattermapbox": [
                      {
                        "marker": {
                          "colorbar": {
                            "outlinewidth": 1,
                            "tickcolor": "rgb(36,36,36)",
                            "ticks": "outside"
                          }
                        },
                        "type": "scattermapbox"
                      }
                    ],
                    "scatterpolar": [
                      {
                        "marker": {
                          "colorbar": {
                            "outlinewidth": 1,
                            "tickcolor": "rgb(36,36,36)",
                            "ticks": "outside"
                          }
                        },
                        "type": "scatterpolar"
                      }
                    ],
                    "scatterpolargl": [
                      {
                        "marker": {
                          "colorbar": {
                            "outlinewidth": 1,
                            "tickcolor": "rgb(36,36,36)",
                            "ticks": "outside"
                          }
                        },
                        "type": "scatterpolargl"
                      }
                    ],
                    "scatterternary": [
                      {
                        "marker": {
                          "colorbar": {
                            "outlinewidth": 1,
                            "tickcolor": "rgb(36,36,36)",
                            "ticks": "outside"
                          }
                        },
                        "type": "scatterternary"
                      }
                    ],
                    "surface": [
                      {
                        "colorbar": {
                          "outlinewidth": 1,
                          "tickcolor": "rgb(36,36,36)",
                          "ticks": "outside"
                        },
                        "colorscale": [
                          [
                            0,
                            "#440154"
                          ],
                          [
                            0.1111111111111111,
                            "#482878"
                          ],
                          [
                            0.2222222222222222,
                            "#3e4989"
                          ],
                          [
                            0.3333333333333333,
                            "#31688e"
                          ],
                          [
                            0.4444444444444444,
                            "#26828e"
                          ],
                          [
                            0.5555555555555556,
                            "#1f9e89"
                          ],
                          [
                            0.6666666666666666,
                            "#35b779"
                          ],
                          [
                            0.7777777777777778,
                            "#6ece58"
                          ],
                          [
                            0.8888888888888888,
                            "#b5de2b"
                          ],
                          [
                            1,
                            "#fde725"
                          ]
                        ],
                        "type": "surface"
                      }
                    ],
                    "table": [
                      {
                        "cells": {
                          "fill": {
                            "color": "rgb(237,237,237)"
                          },
                          "line": {
                            "color": "white"
                          }
                        },
                        "header": {
                          "fill": {
                            "color": "rgb(217,217,217)"
                          },
                          "line": {
                            "color": "white"
                          }
                        },
                        "type": "table"
                      }
                    ]
                  },
                  "layout": {
                    "annotationdefaults": {
                      "arrowhead": 0,
                      "arrowwidth": 1
                    },
                    "autotypenumbers": "strict",
                    "coloraxis": {
                      "colorbar": {
                        "outlinewidth": 1,
                        "tickcolor": "rgb(36,36,36)",
                        "ticks": "outside"
                      }
                    },
                    "colorscale": {
                      "diverging": [
                        [
                          0,
                          "rgb(103,0,31)"
                        ],
                        [
                          0.1,
                          "rgb(178,24,43)"
                        ],
                        [
                          0.2,
                          "rgb(214,96,77)"
                        ],
                        [
                          0.3,
                          "rgb(244,165,130)"
                        ],
                        [
                          0.4,
                          "rgb(253,219,199)"
                        ],
                        [
                          0.5,
                          "rgb(247,247,247)"
                        ],
                        [
                          0.6,
                          "rgb(209,229,240)"
                        ],
                        [
                          0.7,
                          "rgb(146,197,222)"
                        ],
                        [
                          0.8,
                          "rgb(67,147,195)"
                        ],
                        [
                          0.9,
                          "rgb(33,102,172)"
                        ],
                        [
                          1,
                          "rgb(5,48,97)"
                        ]
                      ],
                      "sequential": [
                        [
                          0,
                          "#440154"
                        ],
                        [
                          0.1111111111111111,
                          "#482878"
                        ],
                        [
                          0.2222222222222222,
                          "#3e4989"
                        ],
                        [
                          0.3333333333333333,
                          "#31688e"
                        ],
                        [
                          0.4444444444444444,
                          "#26828e"
                        ],
                        [
                          0.5555555555555556,
                          "#1f9e89"
                        ],
                        [
                          0.6666666666666666,
                          "#35b779"
                        ],
                        [
                          0.7777777777777778,
                          "#6ece58"
                        ],
                        [
                          0.8888888888888888,
                          "#b5de2b"
                        ],
                        [
                          1,
                          "#fde725"
                        ]
                      ],
                      "sequentialminus": [
                        [
                          0,
                          "#440154"
                        ],
                        [
                          0.1111111111111111,
                          "#482878"
                        ],
                        [
                          0.2222222222222222,
                          "#3e4989"
                        ],
                        [
                          0.3333333333333333,
                          "#31688e"
                        ],
                        [
                          0.4444444444444444,
                          "#26828e"
                        ],
                        [
                          0.5555555555555556,
                          "#1f9e89"
                        ],
                        [
                          0.6666666666666666,
                          "#35b779"
                        ],
                        [
                          0.7777777777777778,
                          "#6ece58"
                        ],
                        [
                          0.8888888888888888,
                          "#b5de2b"
                        ],
                        [
                          1,
                          "#fde725"
                        ]
                      ]
                    },
                    "colorway": [
                      "#1F77B4",
                      "#FF7F0E",
                      "#2CA02C",
                      "#D62728",
                      "#9467BD",
                      "#8C564B",
                      "#E377C2",
                      "#7F7F7F",
                      "#BCBD22",
                      "#17BECF"
                    ],
                    "font": {
                      "color": "rgb(36,36,36)"
                    },
                    "geo": {
                      "bgcolor": "white",
                      "lakecolor": "white",
                      "landcolor": "white",
                      "showlakes": true,
                      "showland": true,
                      "subunitcolor": "white"
                    },
                    "hoverlabel": {
                      "align": "left"
                    },
                    "hovermode": "closest",
                    "mapbox": {
                      "style": "light"
                    },
                    "paper_bgcolor": "white",
                    "plot_bgcolor": "white",
                    "polar": {
                      "angularaxis": {
                        "gridcolor": "rgb(232,232,232)",
                        "linecolor": "rgb(36,36,36)",
                        "showgrid": false,
                        "showline": true,
                        "ticks": "outside"
                      },
                      "bgcolor": "white",
                      "radialaxis": {
                        "gridcolor": "rgb(232,232,232)",
                        "linecolor": "rgb(36,36,36)",
                        "showgrid": false,
                        "showline": true,
                        "ticks": "outside"
                      }
                    },
                    "scene": {
                      "xaxis": {
                        "backgroundcolor": "white",
                        "gridcolor": "rgb(232,232,232)",
                        "gridwidth": 2,
                        "linecolor": "rgb(36,36,36)",
                        "showbackground": true,
                        "showgrid": false,
                        "showline": true,
                        "ticks": "outside",
                        "zeroline": false,
                        "zerolinecolor": "rgb(36,36,36)"
                      },
                      "yaxis": {
                        "backgroundcolor": "white",
                        "gridcolor": "rgb(232,232,232)",
                        "gridwidth": 2,
                        "linecolor": "rgb(36,36,36)",
                        "showbackground": true,
                        "showgrid": false,
                        "showline": true,
                        "ticks": "outside",
                        "zeroline": false,
                        "zerolinecolor": "rgb(36,36,36)"
                      },
                      "zaxis": {
                        "backgroundcolor": "white",
                        "gridcolor": "rgb(232,232,232)",
                        "gridwidth": 2,
                        "linecolor": "rgb(36,36,36)",
                        "showbackground": true,
                        "showgrid": false,
                        "showline": true,
                        "ticks": "outside",
                        "zeroline": false,
                        "zerolinecolor": "rgb(36,36,36)"
                      }
                    },
                    "shapedefaults": {
                      "fillcolor": "black",
                      "line": {
                        "width": 0
                      },
                      "opacity": 0.3
                    },
                    "ternary": {
                      "aaxis": {
                        "gridcolor": "rgb(232,232,232)",
                        "linecolor": "rgb(36,36,36)",
                        "showgrid": false,
                        "showline": true,
                        "ticks": "outside"
                      },
                      "baxis": {
                        "gridcolor": "rgb(232,232,232)",
                        "linecolor": "rgb(36,36,36)",
                        "showgrid": false,
                        "showline": true,
                        "ticks": "outside"
                      },
                      "bgcolor": "white",
                      "caxis": {
                        "gridcolor": "rgb(232,232,232)",
                        "linecolor": "rgb(36,36,36)",
                        "showgrid": false,
                        "showline": true,
                        "ticks": "outside"
                      }
                    },
                    "title": {
                      "x": 0.05
                    },
                    "xaxis": {
                      "automargin": true,
                      "gridcolor": "rgb(232,232,232)",
                      "linecolor": "rgb(36,36,36)",
                      "showgrid": false,
                      "showline": true,
                      "ticks": "outside",
                      "title": {
                        "standoff": 15
                      },
                      "zeroline": false,
                      "zerolinecolor": "rgb(36,36,36)"
                    },
                    "yaxis": {
                      "automargin": true,
                      "gridcolor": "rgb(232,232,232)",
                      "linecolor": "rgb(36,36,36)",
                      "showgrid": false,
                      "showline": true,
                      "ticks": "outside",
                      "title": {
                        "standoff": 15
                      },
                      "zeroline": false,
                      "zerolinecolor": "rgb(36,36,36)"
                    }
                  }
                },
                "title": {
                  "font": {
                    "color": "Black",
                    "size": 22
                  },
                  "text": "<b>Intertopic Distance Map</b>",
                  "x": 0.5,
                  "xanchor": "center",
                  "y": 0.95,
                  "yanchor": "top"
                },
                "width": 650,
                "xaxis": {
                  "anchor": "y",
                  "domain": [
                    0,
                    1
                  ],
                  "range": [
                    -10.433080244064332,
                    21.120113849639893
                  ],
                  "title": {
                    "text": ""
                  },
                  "visible": false
                },
                "yaxis": {
                  "anchor": "x",
                  "domain": [
                    0,
                    1
                  ],
                  "range": [
                    -7.59564254283905,
                    25.000490856170654
                  ],
                  "title": {
                    "text": ""
                  },
                  "visible": false
                }
              }
            }
          },
          "metadata": {},
          "output_type": "display_data"
        },
        {
          "name": "stdout",
          "output_type": "stream",
          "text": [
            "\n",
            "Top Topics:\n",
            "Topic 0: 0_pfizerbiontech_covidvaccine_dose_pfizervaccine (size: 984)\n",
            "  Top words: pfizerbiontech, covidvaccine, dose, pfizervaccine, and\n",
            "Topic 1: 1_vaccine_pfizerbiontech_the_my (size: 709)\n",
            "  Top words: vaccine, pfizerbiontech, the, my, dose\n",
            "Topic 2: 2_eu_the_uk_is (size: 211)\n",
            "  Top words: eu, the, uk, is, vaccines\n",
            "Topic 3: 3_arm_sore_hours_side (size: 205)\n",
            "  Top words: arm, sore, hours, side, effects\n",
            "Topic 4: 4_my_to_today_covid (size: 201)\n",
            "  Top words: my, to, today, covid, vaccination\n",
            "Topic 5: 5_to_for_all_science (size: 139)\n",
            "  Top words: to, for, all, science, this\n",
            "Topic 6: 6_covid19_vaccines_are_vaccination (size: 98)\n",
            "  Top words: covid19, vaccines, are, vaccination, dosing\n",
            "Topic 7: 7_astrazeneca_oxfordastrazeneca_oxford_vaccine (size: 83)\n",
            "  Top words: astrazeneca, oxfordastrazeneca, oxford, vaccine, vaccines\n",
            "Topic 8: 8_mrna_moderna_vaccines_rna (size: 80)\n",
            "  Top words: mrna, moderna, vaccines, rna, mrnavaccine\n"
          ]
        },
        {
          "name": "stderr",
          "output_type": "stream",
          "text": [
            "10it [00:00, 21.20it/s]\n"
          ]
        },
        {
          "data": {
            "application/vnd.plotly.v1+json": {
              "config": {
                "plotlyServerURL": "https://plot.ly"
              },
              "data": [
                {
                  "hoverinfo": "text",
                  "hovertext": [
                    "<b>Topic 0</b><br>Words: covidvaccine, pfizerbiontech, covid19vaccine, pfizervaccine, the",
                    "<b>Topic 0</b><br>Words: pfizerbiontech, covidvaccine, christmas, pfizervaccine, and",
                    "<b>Topic 0</b><br>Words: pfizerbiontech, covidvaccine, pfizervaccine, and, dose",
                    "<b>Topic 0</b><br>Words: pfizerbiontech, covidvaccine, pfizervaccine, and, dose",
                    "<b>Topic 0</b><br>Words: covidvaccine, pfizerbiontech, dose, my, pfizercovidvaccine",
                    "<b>Topic 0</b><br>Words: effective, dose, single, pfizerbiontech, around",
                    "<b>Topic 0</b><br>Words: pfizerbiontech, covidvaccine, pfizervaccine, and, is",
                    "<b>Topic 0</b><br>Words: brand, pfizerbiontech, boycott, products, covidvaccine",
                    "<b>Topic 0</b><br>Words: pfizerbiontech, recent, assures, univer, covid19vaccine",
                    "<b>Topic 0</b><br>Words: calling, pfizerbiontech, pressure, biontechleaks, itself"
                  ],
                  "marker": {
                    "color": "#E69F00"
                  },
                  "mode": "lines",
                  "name": "0_pfizerbiontech_covidvaccine_dose_pfize...",
                  "type": "scatter",
                  "x": [
                    "2020-12-12T10:16:22.043000",
                    "2020-12-19T09:05:23.700000",
                    "2020-12-26T06:15:19.400000",
                    "2021-01-02T03:25:15.100000",
                    "2021-01-09T00:35:10.800000",
                    "2021-01-15T21:45:06.500000",
                    "2021-01-22T18:55:02.200000",
                    "2021-01-29T16:04:57.900000",
                    "2021-02-05T13:14:53.600000",
                    "2021-02-12T10:24:49.300000"
                  ],
                  "y": [
                    138,
                    102,
                    100,
                    119,
                    123,
                    132,
                    106,
                    61,
                    66,
                    37
                  ]
                },
                {
                  "hoverinfo": "text",
                  "hovertext": [
                    "<b>Topic 1</b><br>Words: vaccine, pfizerbiontech, the, pfizer, of",
                    "<b>Topic 1</b><br>Words: vaccine, pfizerbiontech, the, vaccination, pfizer",
                    "<b>Topic 1</b><br>Words: vaccine, validation, emergency, pfizerbiontech, the",
                    "<b>Topic 1</b><br>Words: vaccine, pfizerbiontech, the, my, of",
                    "<b>Topic 1</b><br>Words: vaccine, pfizerbiontech, my, dose, the",
                    "<b>Topic 1</b><br>Words: vaccine, pfizerbiontech, my, the, dose",
                    "<b>Topic 1</b><br>Words: vaccine, pfizerbiontech, dose, the, of",
                    "<b>Topic 1</b><br>Words: second, vaccine, pfizerbiontech, dose, my",
                    "<b>Topic 1</b><br>Words: vaccine, pfizerbiontech, the, my, johnson",
                    "<b>Topic 1</b><br>Words: vaccine, pfizerbiontech, well, the, you"
                  ],
                  "marker": {
                    "color": "#56B4E9"
                  },
                  "mode": "lines",
                  "name": "1_vaccine_pfizerbiontech_the_my",
                  "type": "scatter",
                  "x": [
                    "2020-12-12T10:16:22.043000",
                    "2020-12-19T09:05:23.700000",
                    "2020-12-26T06:15:19.400000",
                    "2021-01-02T03:25:15.100000",
                    "2021-01-09T00:35:10.800000",
                    "2021-01-15T21:45:06.500000",
                    "2021-01-22T18:55:02.200000",
                    "2021-01-29T16:04:57.900000",
                    "2021-02-05T13:14:53.600000",
                    "2021-02-12T10:24:49.300000"
                  ],
                  "y": [
                    94,
                    65,
                    69,
                    116,
                    95,
                    83,
                    70,
                    50,
                    30,
                    37
                  ]
                },
                {
                  "hoverinfo": "text",
                  "hovertext": [
                    "<b>Topic 2</b><br>Words: trump, it, will, is, be",
                    "<b>Topic 2</b><br>Words: we, is, vaccination, uk, us",
                    "<b>Topic 2</b><br>Words: countries, millions, eu, measles, licensed",
                    "<b>Topic 2</b><br>Words: country, vaccines, the, will, as",
                    "<b>Topic 2</b><br>Words: lets, lack, add, eu, the",
                    "<b>Topic 2</b><br>Words: the, uk, austria, austrian, is",
                    "<b>Topic 2</b><br>Words: eu, not, uk, they, should",
                    "<b>Topic 2</b><br>Words: eu, concerted, voices, babel, tower",
                    "<b>Topic 2</b><br>Words: vaccines, uk, be, are, as",
                    "<b>Topic 2</b><br>Words: campaigning, badly, 26bn, nationalism, a4"
                  ],
                  "marker": {
                    "color": "#009E73"
                  },
                  "mode": "lines",
                  "name": "2_eu_the_uk_is",
                  "type": "scatter",
                  "x": [
                    "2020-12-12T10:16:22.043000",
                    "2020-12-19T09:05:23.700000",
                    "2020-12-26T06:15:19.400000",
                    "2021-01-02T03:25:15.100000",
                    "2021-01-09T00:35:10.800000",
                    "2021-01-15T21:45:06.500000",
                    "2021-01-22T18:55:02.200000",
                    "2021-01-29T16:04:57.900000",
                    "2021-02-05T13:14:53.600000",
                    "2021-02-12T10:24:49.300000"
                  ],
                  "y": [
                    42,
                    21,
                    20,
                    24,
                    16,
                    21,
                    30,
                    20,
                    12,
                    5
                  ]
                },
                {
                  "hoverinfo": "text",
                  "hovertext": [
                    "<b>Topic 3</b><br>Words: little, soreness, arm, hours, side",
                    "<b>Topic 3</b><br>Words: arm, sore, hours, side, post",
                    "<b>Topic 3</b><br>Words: arm, sore, soreness, 48, little",
                    "<b>Topic 3</b><br>Words: arm, sore, hours, soreness, side",
                    "<b>Topic 3</b><br>Words: arm, sore, side, effects, hours",
                    "<b>Topic 3</b><br>Words: hours, arm, side, effects, pain",
                    "<b>Topic 3</b><br>Words: arm, sore, hours, side, effects",
                    "<b>Topic 3</b><br>Words: injection, side, arm, headache, pain",
                    "<b>Topic 3</b><br>Words: arm, hours, sore, side, effects",
                    "<b>Topic 3</b><br>Words: arm, sore, bit, side, but"
                  ],
                  "marker": {
                    "color": "#F0E442"
                  },
                  "mode": "lines",
                  "name": "3_arm_sore_hours_side",
                  "type": "scatter",
                  "x": [
                    "2020-12-12T10:16:22.043000",
                    "2020-12-19T09:05:23.700000",
                    "2020-12-26T06:15:19.400000",
                    "2021-01-02T03:25:15.100000",
                    "2021-01-09T00:35:10.800000",
                    "2021-01-15T21:45:06.500000",
                    "2021-01-22T18:55:02.200000",
                    "2021-01-29T16:04:57.900000",
                    "2021-02-05T13:14:53.600000",
                    "2021-02-12T10:24:49.300000"
                  ],
                  "y": [
                    12,
                    21,
                    7,
                    26,
                    55,
                    23,
                    22,
                    12,
                    16,
                    11
                  ]
                },
                {
                  "hoverinfo": "text",
                  "hovertext": [
                    "<b>Topic 4</b><br>Words: today, to, covid, my, vaccinated",
                    "<b>Topic 4</b><br>Words: got, my, vaccination, incredibly, super",
                    "<b>Topic 4</b><br>Words: rabies, and, to, vaccinated, my",
                    "<b>Topic 4</b><br>Words: to, today, my, family, covid",
                    "<b>Topic 4</b><br>Words: today, my, to, vaccination, covid",
                    "<b>Topic 4</b><br>Words: to, my, covid, staff, you",
                    "<b>Topic 4</b><br>Words: today, got, day, grateful, vaccinating",
                    "<b>Topic 4</b><br>Words: resources, vaccinating, so, vaccinated, vaccination",
                    "<b>Topic 4</b><br>Words: 6km37mi, organised, well, vaccinating, am",
                    "<b>Topic 4</b><br>Words: blue, phases, overjoyed, violets, southport"
                  ],
                  "marker": {
                    "color": "#D55E00"
                  },
                  "mode": "lines",
                  "name": "4_my_to_today_covid",
                  "type": "scatter",
                  "x": [
                    "2020-12-12T10:16:22.043000",
                    "2020-12-19T09:05:23.700000",
                    "2020-12-26T06:15:19.400000",
                    "2021-01-02T03:25:15.100000",
                    "2021-01-09T00:35:10.800000",
                    "2021-01-15T21:45:06.500000",
                    "2021-01-22T18:55:02.200000",
                    "2021-01-29T16:04:57.900000",
                    "2021-02-05T13:14:53.600000",
                    "2021-02-12T10:24:49.300000"
                  ],
                  "y": [
                    39,
                    13,
                    13,
                    24,
                    49,
                    25,
                    11,
                    11,
                    10,
                    6
                  ]
                },
                {
                  "hoverinfo": "text",
                  "hovertext": [
                    "<b>Topic 5</b><br>Words: day, team, oklahoma, great, to",
                    "<b>Topic 5</b><br>Words: workers, care, support, protection, to",
                    "<b>Topic 5</b><br>Words: science, day, grateful, never, believe",
                    "<b>Topic 5</b><br>Words: morality, all, for, frontline, to",
                    "<b>Topic 5</b><br>Words: thank, staff, frontline, hospital, at",
                    "<b>Topic 5</b><br>Words: we, once, you, was, all",
                    "<b>Topic 5</b><br>Words: needed, proud, self, 14lb, hello",
                    "<b>Topic 5</b><br>Words: mental, level, our, webinar, experiencing",
                    "<b>Topic 5</b><br>Words: davos, wef21, sunny, seeds, rainy",
                    "<b>Topic 5</b><br>Words: operation, team, celebrated, naas, queues"
                  ],
                  "marker": {
                    "color": "#0072B2"
                  },
                  "mode": "lines",
                  "name": "5_to_for_all_science",
                  "type": "scatter",
                  "x": [
                    "2020-12-12T10:16:22.043000",
                    "2020-12-19T09:05:23.700000",
                    "2020-12-26T06:15:19.400000",
                    "2021-01-02T03:25:15.100000",
                    "2021-01-09T00:35:10.800000",
                    "2021-01-15T21:45:06.500000",
                    "2021-01-22T18:55:02.200000",
                    "2021-01-29T16:04:57.900000",
                    "2021-02-05T13:14:53.600000",
                    "2021-02-12T10:24:49.300000"
                  ],
                  "y": [
                    23,
                    12,
                    14,
                    27,
                    18,
                    13,
                    6,
                    9,
                    10,
                    7
                  ]
                },
                {
                  "hoverinfo": "text",
                  "hovertext": [
                    "<b>Topic 6</b><br>Words: covid19, hahn, fdas, polish, politico",
                    "<b>Topic 6</b><br>Words: covidsecondwave, covid19, via, hesitancymy, pediatrician",
                    "<b>Topic 6</b><br>Words: covid19, ready, bhd, declined, addit",
                    "<b>Topic 6</b><br>Words: dosing, extending, interval, covid19, whats",
                    "<b>Topic 6</b><br>Words: know, covid19, facilitate, ecoronapass, documents",
                    "<b>Topic 6</b><br>Words: via, vaccination, covid19, dosing, introduce",
                    "<b>Topic 6</b><br>Words: covid19, vaccines, state, covax, syn",
                    "<b>Topic 6</b><br>Words: diminish, npr, meltdown, equal, 500",
                    "<b>Topic 6</b><br>Words: patents, recently, arct, feasibility, arcturustherapeutics",
                    "<b>Topic 6</b><br>Words: ukraine, directed, covidisairborne, ntd, iii"
                  ],
                  "marker": {
                    "color": "#CC79A7"
                  },
                  "mode": "lines",
                  "name": "6_covid19_vaccines_are_vaccination",
                  "type": "scatter",
                  "x": [
                    "2020-12-12T10:16:22.043000",
                    "2020-12-19T09:05:23.700000",
                    "2020-12-26T06:15:19.400000",
                    "2021-01-02T03:25:15.100000",
                    "2021-01-09T00:35:10.800000",
                    "2021-01-15T21:45:06.500000",
                    "2021-01-22T18:55:02.200000",
                    "2021-01-29T16:04:57.900000",
                    "2021-02-05T13:14:53.600000",
                    "2021-02-12T10:24:49.300000"
                  ],
                  "y": [
                    21,
                    9,
                    9,
                    14,
                    7,
                    10,
                    10,
                    6,
                    6,
                    6
                  ]
                },
                {
                  "hoverinfo": "text",
                  "hovertext": [
                    "<b>Topic 7</b><br>Words: handful, astrazeneca, run, vacc, coming",
                    "<b>Topic 7</b><br>Words: astrazeneca, oxford, developed, astrazenecaoxfordjenner, reservations",
                    "<b>Topic 7</b><br>Words: astrazeneca, oxfordastrazeneca, oxford, rollout, changed",
                    "<b>Topic 7</b><br>Words: astrazeneca, oxfordastrazeneca, oxford, asked, uk",
                    "<b>Topic 7</b><br>Words: astrazeneca, correction, rate, oxfordvaccine, shows",
                    "<b>Topic 7</b><br>Words: oxfordastrazeneca, mixed, astrazeneca, different, oxford",
                    "<b>Topic 7</b><br>Words: astrazeneca, oxfordastrazeneca, can, data, efficacy",
                    "<b>Topic 7</b><br>Words: astrazeneca, formulas, oxfordastrazeneca, manufacturers, variant",
                    "<b>Topic 7</b><br>Words: astrazeneca, using, kent, agains, suspended",
                    "<b>Topic 7</b><br>Words: astrazeneca, who, seruminstituteofindia, journalist, oxfordastrazeneca"
                  ],
                  "marker": {
                    "color": "#E69F00"
                  },
                  "mode": "lines",
                  "name": "7_astrazeneca_oxfordastrazeneca_oxford_v...",
                  "type": "scatter",
                  "x": [
                    "2020-12-12T10:16:22.043000",
                    "2020-12-19T09:05:23.700000",
                    "2020-12-26T06:15:19.400000",
                    "2021-01-02T03:25:15.100000",
                    "2021-01-09T00:35:10.800000",
                    "2021-01-15T21:45:06.500000",
                    "2021-01-22T18:55:02.200000",
                    "2021-01-29T16:04:57.900000",
                    "2021-02-05T13:14:53.600000",
                    "2021-02-12T10:24:49.300000"
                  ],
                  "y": [
                    2,
                    4,
                    18,
                    14,
                    8,
                    9,
                    9,
                    8,
                    6,
                    5
                  ]
                },
                {
                  "hoverinfo": "text",
                  "hovertext": [
                    "<b>Topic 8</b><br>Words: mrna, rna, how, vaccines, moderna",
                    "<b>Topic 8</b><br>Words: mrna, based, spike, protein, moderna",
                    "<b>Topic 8</b><br>Words: mrna, mrnavaccine, katalinkarik, moderna, stablity",
                    "<b>Topic 8</b><br>Words: mrna, trying, modernaday1, 3d, pfizerbiontechday1",
                    "<b>Topic 8</b><br>Words: mrna, moderna, vaccines, technology, rna",
                    "<b>Topic 8</b><br>Words: mrna, technology, demonstrating, yup, brain",
                    "<b>Topic 8</b><br>Words: mrna, rna, eau, moderna, conditional",
                    "<b>Topic 8</b><br>Words: mrna, moderna, vaccines, both, mrnavaccine",
                    "<b>Topic 8</b><br>Words: intro, short, mrna, moderna, about",
                    "<b>Topic 8</b><br>Words: mrnabased, modernas, mrna, untimely, mounting"
                  ],
                  "marker": {
                    "color": "#56B4E9"
                  },
                  "mode": "lines",
                  "name": "8_mrna_moderna_vaccines_rna",
                  "type": "scatter",
                  "x": [
                    "2020-12-12T10:16:22.043000",
                    "2020-12-19T09:05:23.700000",
                    "2020-12-26T06:15:19.400000",
                    "2021-01-02T03:25:15.100000",
                    "2021-01-09T00:35:10.800000",
                    "2021-01-15T21:45:06.500000",
                    "2021-01-22T18:55:02.200000",
                    "2021-01-29T16:04:57.900000",
                    "2021-02-05T13:14:53.600000",
                    "2021-02-12T10:24:49.300000"
                  ],
                  "y": [
                    14,
                    11,
                    7,
                    6,
                    10,
                    6,
                    12,
                    9,
                    1,
                    4
                  ]
                },
                {
                  "hoverinfo": "text",
                  "hovertext": [
                    "<b>Topic 9</b><br>Words: coronavirus, bbcnews, coronavaccine, against, monda",
                    "<b>Topic 9</b><br>Words: coronavirus, against, testing, coronavirusstrain, vaccineswork",
                    "<b>Topic 9</b><br>Words: coronavirus, state, r4, denied, ve",
                    "<b>Topic 9</b><br>Words: coronavirus, appears, against, variants, mutation",
                    "<b>Topic 9</b><br>Words: coronavirus, inoculated, johnson, coronavirusstrain, confinement",
                    "<b>Topic 9</b><br>Words: coronavirus, coronavirusstrain, against, coronavaccine, variant",
                    "<b>Topic 9</b><br>Words: coronavirus, african, variants, south, similarities",
                    "<b>Topic 9</b><br>Words: c4news, coronavirus, linked, sideeffects, new",
                    "<b>Topic 9</b><br>Words: coronavirus, against, variants, protection, sou",
                    "<b>Topic 9</b><br>Words: coronavirus, sout, potency, loses, variant"
                  ],
                  "marker": {
                    "color": "#009E73"
                  },
                  "mode": "lines",
                  "name": "9_coronavirus_against_variants_coronavir...",
                  "type": "scatter",
                  "x": [
                    "2020-12-12T10:16:22.043000",
                    "2020-12-19T09:05:23.700000",
                    "2020-12-26T06:15:19.400000",
                    "2021-01-02T03:25:15.100000",
                    "2021-01-09T00:35:10.800000",
                    "2021-01-15T21:45:06.500000",
                    "2021-01-22T18:55:02.200000",
                    "2021-01-29T16:04:57.900000",
                    "2021-02-05T13:14:53.600000",
                    "2021-02-12T10:24:49.300000"
                  ],
                  "y": [
                    9,
                    10,
                    6,
                    18,
                    7,
                    9,
                    5,
                    2,
                    4,
                    7
                  ]
                },
                {
                  "hoverinfo": "text",
                  "hovertext": [
                    "<b>Topic 10</b><br>Words: my, first, possi, album, u2",
                    "<b>Topic 10</b><br>Words: martin, armor, noir, santaclaracounty, thomas",
                    "<b>Topic 10</b><br>Words: feelinggood, supervising, just, had, evening",
                    "<b>Topic 10</b><br>Words: my, received, covid19, grateful, dose",
                    "<b>Topic 10</b><br>Words: my, first, dose, covid19, received",
                    "<b>Topic 10</b><br>Words: dose, my, first, today, swan",
                    "<b>Topic 10</b><br>Words: my, dose, thrilled, received, second",
                    "<b>Topic 10</b><br>Words: my, covid, premedtwitter, alhamdulillah, dose",
                    "<b>Topic 10</b><br>Words: feel, do, how, after, first",
                    "<b>Topic 10</b><br>Words: grandchildren, covid19vaccination, ever, tell, wait"
                  ],
                  "marker": {
                    "color": "#F0E442"
                  },
                  "mode": "lines",
                  "name": "10_my_dose_first_covid19",
                  "type": "scatter",
                  "x": [
                    "2020-12-12T10:16:22.043000",
                    "2020-12-19T09:05:23.700000",
                    "2020-12-26T06:15:19.400000",
                    "2021-01-02T03:25:15.100000",
                    "2021-01-09T00:35:10.800000",
                    "2021-01-15T21:45:06.500000",
                    "2021-01-22T18:55:02.200000",
                    "2021-01-29T16:04:57.900000",
                    "2021-02-05T13:14:53.600000",
                    "2021-02-12T10:24:49.300000"
                  ],
                  "y": [
                    6,
                    5,
                    3,
                    13,
                    21,
                    9,
                    10,
                    6,
                    1,
                    2
                  ]
                },
                {
                  "hoverinfo": "text",
                  "hovertext": [
                    "<b>Topic 11</b><br>Words: isle, sheppey, become, elderly, video",
                    "<b>Topic 11</b><br>Words: died, norway, after, nursing, receiving",
                    "<b>Topic 11</b><br>Words: norway, one, pfizers, died, revived",
                    "<b>Topic 11</b><br>Words: norway, 23, died, after, people",
                    "<b>Topic 11</b><br>Words: norway, 23, died, 29, elderly",
                    "<b>Topic 11</b><br>Words: norway, deaths, 29, cna, flies"
                  ],
                  "marker": {
                    "color": "#D55E00"
                  },
                  "mode": "lines",
                  "name": "11_norway_23_died_after",
                  "type": "scatter",
                  "x": [
                    "2020-12-12T10:16:22.043000",
                    "2020-12-26T06:15:19.400000",
                    "2021-01-02T03:25:15.100000",
                    "2021-01-09T00:35:10.800000",
                    "2021-01-15T21:45:06.500000",
                    "2021-01-22T18:55:02.200000"
                  ],
                  "y": [
                    1,
                    5,
                    4,
                    11,
                    46,
                    4
                  ]
                },
                {
                  "hoverinfo": "text",
                  "hovertext": [
                    "<b>Topic 12</b><br>Words: allergic, reaction, worker, severe, alaska",
                    "<b>Topic 12</b><br>Words: allergic, reactions, peg, reaction, polyethylene",
                    "<b>Topic 12</b><br>Words: allergic, reaction, oxfordvaccine, sensitive, commercially",
                    "<b>Topic 12</b><br>Words: allergic, anaphylaxis, reaction, history, reactions",
                    "<b>Topic 12</b><br>Words: cite, refer, mention, allergic, reaction",
                    "<b>Topic 12</b><br>Words: allergic, anaphylaxis, 111, reaction, cases",
                    "<b>Topic 12</b><br>Words: allergic, anaphylaxis, reactions, wederom, eigen",
                    "<b>Topic 12</b><br>Words: anaphylaxis, singapore, via, other, effects",
                    "<b>Topic 12</b><br>Words: miralax, glycol, polyethylene, allergy, history",
                    "<b>Topic 12</b><br>Words: 111, occurred, mi, anaphylaxis, 70"
                  ],
                  "marker": {
                    "color": "#0072B2"
                  },
                  "mode": "lines",
                  "name": "12_allergic_reaction_anaphylaxis_reactio...",
                  "type": "scatter",
                  "x": [
                    "2020-12-12T10:16:22.043000",
                    "2020-12-19T09:05:23.700000",
                    "2020-12-26T06:15:19.400000",
                    "2021-01-02T03:25:15.100000",
                    "2021-01-09T00:35:10.800000",
                    "2021-01-15T21:45:06.500000",
                    "2021-01-22T18:55:02.200000",
                    "2021-01-29T16:04:57.900000",
                    "2021-02-05T13:14:53.600000",
                    "2021-02-12T10:24:49.300000"
                  ],
                  "y": [
                    35,
                    10,
                    4,
                    9,
                    1,
                    5,
                    4,
                    1,
                    1,
                    1
                  ]
                },
                {
                  "hoverinfo": "text",
                  "hovertext": [
                    "<b>Topic 13</b><br>Words: obta, contract, lebanon, sign, shipments",
                    "<b>Topic 13</b><br>Words: benjamin, israel, netanyahu, injected, minister",
                    "<b>Topic 13</b><br>Words: israel, lebanon, israeli, connections, alomst",
                    "<b>Topic 13</b><br>Words: israel, israeli, population, percent, injected",
                    "<b>Topic 13</b><br>Words: israel, tunisia, queue, leading, lebanon",
                    "<b>Topic 13</b><br>Words: israel, israels, lebanon, must, mutating",
                    "<b>Topic 13</b><br>Words: israel, occupy, muslims, intere, 128k",
                    "<b>Topic 13</b><br>Words: avance, israel, palestinian, vaccineswoes, territories",
                    "<b>Topic 13</b><br>Words: israel, largest, realworld, study, lab",
                    "<b>Topic 13</b><br>Words: lebanon, israel, symptomatic, largest, israeli"
                  ],
                  "marker": {
                    "color": "#CC79A7"
                  },
                  "mode": "lines",
                  "name": "13_israel_lebanon_israeli_largest",
                  "type": "scatter",
                  "x": [
                    "2020-12-12T10:16:22.043000",
                    "2020-12-19T09:05:23.700000",
                    "2020-12-26T06:15:19.400000",
                    "2021-01-02T03:25:15.100000",
                    "2021-01-09T00:35:10.800000",
                    "2021-01-15T21:45:06.500000",
                    "2021-01-22T18:55:02.200000",
                    "2021-01-29T16:04:57.900000",
                    "2021-02-05T13:14:53.600000",
                    "2021-02-12T10:24:49.300000"
                  ],
                  "y": [
                    1,
                    7,
                    5,
                    7,
                    10,
                    10,
                    7,
                    4,
                    6,
                    12
                  ]
                },
                {
                  "hoverinfo": "text",
                  "hovertext": [
                    "<b>Topic 14</b><br>Words: europe, eu, christmas, brussels, transporting",
                    "<b>Topic 14</b><br>Words: europe, agency, medicines, eu, european",
                    "<b>Topic 14</b><br>Words: europe, buy, eu, union, european",
                    "<b>Topic 14</b><br>Words: europe, 422021, doubled, vaccinationsdone, breaking",
                    "<b>Topic 14</b><br>Words: variantecovid, dogstudio, 129860, fro, hungary",
                    "<b>Topic 14</b><br>Words: eu, revenge, albania, six, romania",
                    "<b>Topic 14</b><br>Words: eu, europe, belgium, made, european",
                    "<b>Topic 14</b><br>Words: aztrazeneca, polling, theeu, eu, interesting",
                    "<b>Topic 14</b><br>Words: authorit, 238, bulgaria, eul, weather",
                    "<b>Topic 14</b><br>Words: serbia, northmacedonia, donates, 4860, 500m"
                  ],
                  "marker": {
                    "color": "#E69F00"
                  },
                  "mode": "lines",
                  "name": "14_europe_eu_european_doses",
                  "type": "scatter",
                  "x": [
                    "2020-12-12T10:16:22.043000",
                    "2020-12-19T09:05:23.700000",
                    "2020-12-26T06:15:19.400000",
                    "2021-01-02T03:25:15.100000",
                    "2021-01-09T00:35:10.800000",
                    "2021-01-15T21:45:06.500000",
                    "2021-01-22T18:55:02.200000",
                    "2021-01-29T16:04:57.900000",
                    "2021-02-05T13:14:53.600000",
                    "2021-02-12T10:24:49.300000"
                  ],
                  "y": [
                    6,
                    10,
                    10,
                    4,
                    4,
                    9,
                    10,
                    5,
                    2,
                    2
                  ]
                },
                {
                  "hoverinfo": "text",
                  "hovertext": [
                    "<b>Topic 15</b><br>Words: baptist, radin, nhsengland, bite, wearadamnmask",
                    "<b>Topic 15</b><br>Words: covid19, vaccination, giving, vaccino, vaccinoanticovid",
                    "<b>Topic 15</b><br>Words: vaccination, covid19, quindi, famo, 501pharmacy",
                    "<b>Topic 15</b><br>Words: peppe, vaccinated, letsvaccinateitaly, cobrakai, bournemouth",
                    "<b>Topic 15</b><br>Words: uncap, description, shoot, fuck, folks",
                    "<b>Topic 15</b><br>Words: vaccinationcovid, dictaturesanitaire, affected, covid19, nhs",
                    "<b>Topic 15</b><br>Words: normality, closer, complete, big, step",
                    "<b>Topic 15</b><br>Words: lombardy, teamusa, equipe, cremona, 447000",
                    "<b>Topic 15</b><br>Words: vacinnatedpfizerbiontech, pwme, fisioterapia, mondaythoughts, af",
                    "<b>Topic 15</b><br>Words: muhyiddinyassin, vaccino, prime, nstnation, expected"
                  ],
                  "marker": {
                    "color": "#56B4E9"
                  },
                  "mode": "lines",
                  "name": "15_covid19_vaccination_vaccinated_vaccin...",
                  "type": "scatter",
                  "x": [
                    "2020-12-12T10:16:22.043000",
                    "2020-12-19T09:05:23.700000",
                    "2020-12-26T06:15:19.400000",
                    "2021-01-02T03:25:15.100000",
                    "2021-01-09T00:35:10.800000",
                    "2021-01-15T21:45:06.500000",
                    "2021-01-22T18:55:02.200000",
                    "2021-01-29T16:04:57.900000",
                    "2021-02-05T13:14:53.600000",
                    "2021-02-12T10:24:49.300000"
                  ],
                  "y": [
                    5,
                    10,
                    10,
                    6,
                    4,
                    10,
                    1,
                    3,
                    5,
                    7
                  ]
                },
                {
                  "hoverinfo": "text",
                  "hovertext": [
                    "<b>Topic 16</b><br>Words: borisjohnson, conservatives, britishcitizen, proudtobebritish, thetories",
                    "<b>Topic 16</b><br>Words: nstnation, ours, elected, corruption, neighbour",
                    "<b>Topic 16</b><br>Words: breach, evil, gates, billgates, government",
                    "<b>Topic 16</b><br>Words: jcvi, borisjohnson, he, this, government",
                    "<b>Topic 16</b><br>Words: laura, beating, wron, ours, country",
                    "<b>Topic 16</b><br>Words: fillin, fck, underwhelming, impoverished, increasingly",
                    "<b>Topic 16</b><br>Words: bloomberg, csuite, bigamp, thinkingif, reveal",
                    "<b>Topic 16</b><br>Words: cooperati, candidate, sanofi, gave, up",
                    "<b>Topic 16</b><br>Words: algorithms, peddling, cahill, theory, otoole"
                  ],
                  "marker": {
                    "color": "#009E73"
                  },
                  "mode": "lines",
                  "name": "16_borisjohnson_gates_he_ours",
                  "type": "scatter",
                  "x": [
                    "2020-12-12T10:16:22.043000",
                    "2020-12-19T09:05:23.700000",
                    "2020-12-26T06:15:19.400000",
                    "2021-01-02T03:25:15.100000",
                    "2021-01-09T00:35:10.800000",
                    "2021-01-15T21:45:06.500000",
                    "2021-01-22T18:55:02.200000",
                    "2021-01-29T16:04:57.900000",
                    "2021-02-12T10:24:49.300000"
                  ],
                  "y": [
                    12,
                    8,
                    8,
                    13,
                    4,
                    4,
                    4,
                    1,
                    5
                  ]
                },
                {
                  "hoverinfo": "text",
                  "hovertext": [
                    "<b>Topic 17</b><br>Words: systemic, immediately, date, bnt162b2, 200",
                    "<b>Topic 17</b><br>Words: briefly, customarily, postvoteround, robin, committees",
                    "<b>Topic 17</b><br>Words: dose, harder, collecting, regimens, sticking",
                    "<b>Topic 17</b><br>Words: dose, delivered, shocked, prescribing, cronyloving",
                    "<b>Topic 17</b><br>Words: dose, missourians, single, dos, of",
                    "<b>Topic 17</b><br>Words: dose, doses, per, typographic, bloody",
                    "<b>Topic 17</b><br>Words: position, majori, trouble, written, officer",
                    "<b>Topic 17</b><br>Words: dose, date, doses, 2nd, second",
                    "<b>Topic 17</b><br>Words: addenbrookes, repost, cambridge, doses, detail"
                  ],
                  "marker": {
                    "color": "#F0E442"
                  },
                  "mode": "lines",
                  "name": "17_dose_doses_second_of",
                  "type": "scatter",
                  "x": [
                    "2020-12-12T10:16:22.043000",
                    "2020-12-19T09:05:23.700000",
                    "2020-12-26T06:15:19.400000",
                    "2021-01-02T03:25:15.100000",
                    "2021-01-09T00:35:10.800000",
                    "2021-01-15T21:45:06.500000",
                    "2021-01-22T18:55:02.200000",
                    "2021-01-29T16:04:57.900000",
                    "2021-02-05T13:14:53.600000"
                  ],
                  "y": [
                    2,
                    2,
                    5,
                    8,
                    14,
                    11,
                    4,
                    9,
                    3
                  ]
                },
                {
                  "hoverinfo": "text",
                  "hovertext": [
                    "<b>Topic 18</b><br>Words: interim, covid19, acip, use, cdc",
                    "<b>Topic 18</b><br>Words: covid19, campaign, roll, vaccine, joins",
                    "<b>Topic 18</b><br>Words: covid19, 132, assessed, explainerwhere, admitted",
                    "<b>Topic 18</b><br>Words: covidfree, toryshambles, challenged, staying, being",
                    "<b>Topic 18</b><br>Words: fridg, receiver, 70c, legally, university",
                    "<b>Topic 18</b><br>Words: qampas, coled, covid19, modernavaccine, exclusive",
                    "<b>Topic 18</b><br>Words: harries, kudakwashe, anthony, res, takarinda",
                    "<b>Topic 18</b><br>Words: anaheim, toystory, superpod, disneyland, parking",
                    "<b>Topic 18</b><br>Words: lonza, exploring, polymun, nhpc, adr",
                    "<b>Topic 18</b><br>Words: teens, vaccinerollout, eventually, older, fo"
                  ],
                  "marker": {
                    "color": "#D55E00"
                  },
                  "mode": "lines",
                  "name": "18_covid19_vaccine_pfizerbiontech_vaccin...",
                  "type": "scatter",
                  "x": [
                    "2020-12-12T10:16:22.043000",
                    "2020-12-19T09:05:23.700000",
                    "2020-12-26T06:15:19.400000",
                    "2021-01-02T03:25:15.100000",
                    "2021-01-09T00:35:10.800000",
                    "2021-01-15T21:45:06.500000",
                    "2021-01-22T18:55:02.200000",
                    "2021-01-29T16:04:57.900000",
                    "2021-02-05T13:14:53.600000",
                    "2021-02-12T10:24:49.300000"
                  ],
                  "y": [
                    11,
                    11,
                    7,
                    3,
                    3,
                    5,
                    5,
                    2,
                    3,
                    2
                  ]
                },
                {
                  "hoverinfo": "text",
                  "hovertext": [
                    "<b>Topic 19</b><br>Words: civilian, sequencing, rejecting, caution, genetic",
                    "<b>Topic 19</b><br>Words: mutation, variant, against, virus, new",
                    "<b>Topic 19</b><br>Words: against, mutation, variant, key, appears",
                    "<b>Topic 19</b><br>Words: key, laboratory, variants, shown, tests",
                    "<b>Topic 19</b><br>Words: variant, against, detected, study, works",
                    "<b>Topic 19</b><br>Words: south, variant, study, against, variants",
                    "<b>Topic 19</b><br>Words: against, variant, mutation, variants, south",
                    "<b>Topic 19</b><br>Words: natur, neutralize, elicits, african, variants",
                    "<b>Topic 19</b><br>Words: protection, variant, reduce, pfzier, varient"
                  ],
                  "marker": {
                    "color": "#0072B2"
                  },
                  "mode": "lines",
                  "name": "19_against_variant_variants_mutation",
                  "type": "scatter",
                  "x": [
                    "2020-12-12T10:16:22.043000",
                    "2020-12-19T09:05:23.700000",
                    "2021-01-02T03:25:15.100000",
                    "2021-01-09T00:35:10.800000",
                    "2021-01-15T21:45:06.500000",
                    "2021-01-22T18:55:02.200000",
                    "2021-01-29T16:04:57.900000",
                    "2021-02-05T13:14:53.600000",
                    "2021-02-12T10:24:49.300000"
                  ],
                  "y": [
                    2,
                    6,
                    16,
                    6,
                    4,
                    7,
                    6,
                    1,
                    3
                  ]
                },
                {
                  "hoverinfo": "text",
                  "hovertext": [
                    "<b>Topic 20</b><br>Words: emegency, view, fda, article, approved",
                    "<b>Topic 20</b><br>Words: approved, fda, coronavirus, emegency, view",
                    "<b>Topic 20</b><br>Words: esta, coronavirus, use, emegency, albert",
                    "<b>Topic 20</b><br>Words: refuses, coronavirus, boss, use, legal",
                    "<b>Topic 20</b><br>Words: monito, strains, confirms, company, coronavirus",
                    "<b>Topic 20</b><br>Words: pakistan, administer, population, plans, elderly"
                  ],
                  "marker": {
                    "color": "#CC79A7"
                  },
                  "mode": "lines",
                  "name": "20_emegency_view_fda_article",
                  "type": "scatter",
                  "x": [
                    "2020-12-12T10:16:22.043000",
                    "2020-12-19T09:05:23.700000",
                    "2020-12-26T06:15:19.400000",
                    "2021-01-02T03:25:15.100000",
                    "2021-01-22T18:55:02.200000",
                    "2021-02-05T13:14:53.600000"
                  ],
                  "y": [
                    34,
                    5,
                    2,
                    2,
                    1,
                    1
                  ]
                },
                {
                  "hoverinfo": "text",
                  "hovertext": [
                    "<b>Topic 21</b><br>Words: cardiotwitter, jut, waking, booked, scheduled",
                    "<b>Topic 21</b><br>Words: got, gotmmc, frontlinefirst, rnlife, hurraah",
                    "<b>Topic 21</b><br>Words: got, my, flattenthecurve, covid, covidvaccine",
                    "<b>Topic 21</b><br>Words: covidvaccination, got, my, today, covidvaccine",
                    "<b>Topic 21</b><br>Words: thinggot, nhsstaff, coronavac, covidvaccine, pfizervaccine",
                    "<b>Topic 21</b><br>Words: got, florida, twitter, covidvaccination, keep",
                    "<b>Topic 21</b><br>Words: wearamasksavealife, continue, got, covid19vaccine, vaccinated",
                    "<b>Topic 21</b><br>Words: beatcovid, flattenthecurve, maskup, vaccinationcovid, covidvaccination",
                    "<b>Topic 21</b><br>Words: 1stjabdone, just, had, vaccination, covid"
                  ],
                  "marker": {
                    "color": "#E69F00"
                  },
                  "mode": "lines",
                  "name": "21_got_covidvaccination_my_covid",
                  "type": "scatter",
                  "x": [
                    "2020-12-12T10:16:22.043000",
                    "2020-12-19T09:05:23.700000",
                    "2021-01-02T03:25:15.100000",
                    "2021-01-09T00:35:10.800000",
                    "2021-01-15T21:45:06.500000",
                    "2021-01-22T18:55:02.200000",
                    "2021-01-29T16:04:57.900000",
                    "2021-02-05T13:14:53.600000",
                    "2021-02-12T10:24:49.300000"
                  ],
                  "y": [
                    4,
                    4,
                    8,
                    16,
                    4,
                    3,
                    2,
                    2,
                    1
                  ]
                },
                {
                  "hoverinfo": "text",
                  "hovertext": [
                    "<b>Topic 22</b><br>Words: hospitalist, weeks, dose, arm, 2nd",
                    "<b>Topic 22</b><br>Words: zsmu, reddy, alumni, vijay, moderate",
                    "<b>Topic 22</b><br>Words: dose, backfire, 20th, second, offers",
                    "<b>Topic 22</b><br>Words: hill, 2128, dose, patient, 29",
                    "<b>Topic 22</b><br>Words: dose, second, covid, vaccineswork, completed",
                    "<b>Topic 22</b><br>Words: april, dose, 19, first, second",
                    "<b>Topic 22</b><br>Words: pandemiclife, getthejab, alltogethernm, database, dose",
                    "<b>Topic 22</b><br>Words: naasgeneralhospital, latersecond, eventful, dose, done",
                    "<b>Topic 22</b><br>Words: nhs, 1st, covidvaccine, dose, of"
                  ],
                  "marker": {
                    "color": "#56B4E9"
                  },
                  "mode": "lines",
                  "name": "22_dose_second_covid_done",
                  "type": "scatter",
                  "x": [
                    "2020-12-12T10:16:22.043000",
                    "2020-12-19T09:05:23.700000",
                    "2020-12-26T06:15:19.400000",
                    "2021-01-02T03:25:15.100000",
                    "2021-01-09T00:35:10.800000",
                    "2021-01-15T21:45:06.500000",
                    "2021-01-22T18:55:02.200000",
                    "2021-01-29T16:04:57.900000",
                    "2021-02-05T13:14:53.600000"
                  ],
                  "y": [
                    1,
                    2,
                    5,
                    8,
                    10,
                    2,
                    5,
                    3,
                    1
                  ]
                },
                {
                  "hoverinfo": "text",
                  "hovertext": [
                    "<b>Topic 23</b><br>Words: coronavirus, toll, death, cases, iran",
                    "<b>Topic 23</b><br>Words: 78425044, rises, infections, coronavirus, worldwide",
                    "<b>Topic 23</b><br>Words: rebook, appo, imagine, amount, huge",
                    "<b>Topic 23</b><br>Words: iran, india, 150606, coronavirus, reaches",
                    "<b>Topic 23</b><br>Words: iran, coronavirus, 6485, 83, cases",
                    "<b>Topic 23</b><br>Words: coronavirus, iran, cases, sinovac, 12400",
                    "<b>Topic 23</b><br>Words: transmissibility, amongst, place, trials, test",
                    "<b>Topic 23</b><br>Words: although, corona, vacc, she, research"
                  ],
                  "marker": {
                    "color": "#009E73"
                  },
                  "mode": "lines",
                  "name": "23_coronavirus_iran_cases_sinovac",
                  "type": "scatter",
                  "x": [
                    "2020-12-12T10:16:22.043000",
                    "2020-12-19T09:05:23.700000",
                    "2020-12-26T06:15:19.400000",
                    "2021-01-02T03:25:15.100000",
                    "2021-01-09T00:35:10.800000",
                    "2021-01-15T21:45:06.500000",
                    "2021-01-22T18:55:02.200000",
                    "2021-01-29T16:04:57.900000"
                  ],
                  "y": [
                    11,
                    3,
                    1,
                    5,
                    5,
                    10,
                    1,
                    1
                  ]
                },
                {
                  "hoverinfo": "text",
                  "hovertext": [
                    "<b>Topic 24</b><br>Words: dubai, uae, breaking, free, campaign",
                    "<b>Topic 24</b><br>Words: supreme, disaster, crisis, dubais, management",
                    "<b>Topic 24</b><br>Words: dubai, monaalmarri, director, general, mother",
                    "<b>Topic 24</b><br>Words: dubai, uae, free, expat, entitled",
                    "<b>Topic 24</b><br>Words: loses, move, black, dubai, market",
                    "<b>Topic 24</b><br>Words: lowcost, wire, sinopha, uae, extensive",
                    "<b>Topic 24</b><br>Words: dubai, uae, dha, confirms, fresh"
                  ],
                  "marker": {
                    "color": "#F0E442"
                  },
                  "mode": "lines",
                  "name": "24_dubai_uae_free_breaking",
                  "type": "scatter",
                  "x": [
                    "2020-12-19T09:05:23.700000",
                    "2020-12-26T06:15:19.400000",
                    "2021-01-02T03:25:15.100000",
                    "2021-01-15T21:45:06.500000",
                    "2021-01-22T18:55:02.200000",
                    "2021-01-29T16:04:57.900000",
                    "2021-02-12T10:24:49.300000"
                  ],
                  "y": [
                    26,
                    1,
                    1,
                    3,
                    1,
                    1,
                    3
                  ]
                },
                {
                  "hoverinfo": "text",
                  "hovertext": [
                    "<b>Topic 25</b><br>Words: schedule, over, 2020, pseudoepidemic, scientificdictatorship",
                    "<b>Topic 25</b><br>Words: covid20, 2020, pandemic, scientificdictatorship, pseudoepidemic",
                    "<b>Topic 25</b><br>Words: toryincompetence, covid2019, coronavirusandcancer, secondly, coronavirusupdate",
                    "<b>Topic 25</b><br>Words: grand, rounds, overview, share, jan",
                    "<b>Topic 25</b><br>Words: group, thephilippines, prone, platforms, direction",
                    "<b>Topic 25</b><br>Words: upside, swearing, inaugurationday, americaortrump, crossescovid19",
                    "<b>Topic 25</b><br>Words: criticise, ukgov, acknowledge, game, management",
                    "<b>Topic 25</b><br>Words: nstnation, procured, fired, recovery, participating",
                    "<b>Topic 25</b><br>Words: flucommon, differentiate, cold, help, video"
                  ],
                  "marker": {
                    "color": "#D55E00"
                  },
                  "mode": "lines",
                  "name": "25_covid19_pandemic_over_2020",
                  "type": "scatter",
                  "x": [
                    "2020-12-12T10:16:22.043000",
                    "2020-12-19T09:05:23.700000",
                    "2020-12-26T06:15:19.400000",
                    "2021-01-02T03:25:15.100000",
                    "2021-01-09T00:35:10.800000",
                    "2021-01-15T21:45:06.500000",
                    "2021-01-22T18:55:02.200000",
                    "2021-01-29T16:04:57.900000",
                    "2021-02-12T10:24:49.300000"
                  ],
                  "y": [
                    9,
                    6,
                    3,
                    6,
                    4,
                    2,
                    1,
                    4,
                    1
                  ]
                },
                {
                  "hoverinfo": "text",
                  "hovertext": [
                    "<b>Topic 26</b><br>Words: singapore, approves, asian, approve, country",
                    "<b>Topic 26</b><br>Words: singapore, asias, shipment, malaysia, arrived",
                    "<b>Topic 26</b><br>Words: singapore, asian, became, country, begin",
                    "<b>Topic 26</b><br>Words: malaysias, parliam, prices, detail, purchasing",
                    "<b>Topic 26</b><br>Words: singapore, malaysians, phillippines, seri, opened",
                    "<b>Topic 26</b><br>Words: malaysians, singapore, nstnation, begin, receiving",
                    "<b>Topic 26</b><br>Words: singapore, reader, changi, airport, his",
                    "<b>Topic 26</b><br>Words: singapore, touches, flight, sydney, delivers"
                  ],
                  "marker": {
                    "color": "#0072B2"
                  },
                  "mode": "lines",
                  "name": "26_singapore_asian_country_approves",
                  "type": "scatter",
                  "x": [
                    "2020-12-12T10:16:22.043000",
                    "2020-12-19T09:05:23.700000",
                    "2020-12-26T06:15:19.400000",
                    "2021-01-02T03:25:15.100000",
                    "2021-01-09T00:35:10.800000",
                    "2021-01-15T21:45:06.500000",
                    "2021-01-22T18:55:02.200000",
                    "2021-02-12T10:24:49.300000"
                  ],
                  "y": [
                    9,
                    8,
                    5,
                    1,
                    4,
                    1,
                    1,
                    5
                  ]
                },
                {
                  "hoverinfo": "text",
                  "hovertext": [
                    "<b>Topic 27</b><br>Words: india, unlikely, mass, distribution, find",
                    "<b>Topic 27</b><br>Words: india, bureaucracy, stopping, deployment, mad",
                    "<b>Topic 27</b><br>Words: india, cou, providing, eua, emergency",
                    "<b>Topic 27</b><br>Words: india, disclosures, trail, 103, bharat",
                    "<b>Topic 27</b><br>Words: india, tourists, pehle, jobloss, aap",
                    "<b>Topic 27</b><br>Words: india, soniaacevedo, justice, forthcoming, forget",
                    "<b>Topic 27</b><br>Words: india, withdraws, application, emergency, use",
                    "<b>Topic 27</b><br>Words: india, allowed, emergency, use, yet",
                    "<b>Topic 27</b><br>Words: qua, hotel, expatriate, srilanka, option"
                  ],
                  "marker": {
                    "color": "#CC79A7"
                  },
                  "mode": "lines",
                  "name": "27_india_emergency_withdraws_application",
                  "type": "scatter",
                  "x": [
                    "2020-12-12T10:16:22.043000",
                    "2020-12-19T09:05:23.700000",
                    "2020-12-26T06:15:19.400000",
                    "2021-01-02T03:25:15.100000",
                    "2021-01-09T00:35:10.800000",
                    "2021-01-15T21:45:06.500000",
                    "2021-01-29T16:04:57.900000",
                    "2021-02-05T13:14:53.600000",
                    "2021-02-12T10:24:49.300000"
                  ],
                  "y": [
                    1,
                    3,
                    5,
                    3,
                    2,
                    4,
                    7,
                    6,
                    1
                  ]
                },
                {
                  "hoverinfo": "text",
                  "hovertext": [
                    "<b>Topic 28</b><br>Words: eu, 300million, belgian, plans, purchase",
                    "<b>Topic 28</b><br>Words: additional, agreement, 100, supply, million",
                    "<b>Topic 28</b><br>Words: extra, buy, 100, eu, million",
                    "<b>Topic 28</b><br>Words: eu, purchase, million, 300million, plans",
                    "<b>Topic 28</b><br>Words: 300million, plans, purchase, covidvaccines, eu",
                    "<b>Topic 28</b><br>Words: 300million, plans, purchase, covidvaccines, eu",
                    "<b>Topic 28</b><br>Words: 300million, plans, purchase, covidvaccines, eu",
                    "<b>Topic 28</b><br>Words: australi, purchase, advance, governments, means",
                    "<b>Topic 28</b><br>Words: finalized, boosti, aimed, eu, 200"
                  ],
                  "marker": {
                    "color": "#E69F00"
                  },
                  "mode": "lines",
                  "name": "28_300million_eu_plans_purchase",
                  "type": "scatter",
                  "x": [
                    "2020-12-12T10:16:22.043000",
                    "2020-12-19T09:05:23.700000",
                    "2020-12-26T06:15:19.400000",
                    "2021-01-02T03:25:15.100000",
                    "2021-01-09T00:35:10.800000",
                    "2021-01-15T21:45:06.500000",
                    "2021-01-22T18:55:02.200000",
                    "2021-02-05T13:14:53.600000",
                    "2021-02-12T10:24:49.300000"
                  ],
                  "y": [
                    4,
                    1,
                    2,
                    4,
                    7,
                    9,
                    3,
                    1,
                    1
                  ]
                },
                {
                  "hoverinfo": "text",
                  "hovertext": [
                    "<b>Topic 29</b><br>Words: amp, struggling, suppressant, core, awakening",
                    "<b>Topic 29</b><br>Words: over, amp, obey, 100s, marketing",
                    "<b>Topic 29</b><br>Words: beyon, gvt, nye, angry, reassurance",
                    "<b>Topic 29</b><br>Words: amp, logics, radio, stat, iv",
                    "<b>Topic 29</b><br>Words: amp, sivuh, yeller, dude, bonniehenry",
                    "<b>Topic 29</b><br>Words: amp, blood, immunosuppressants, mths, think",
                    "<b>Topic 29</b><br>Words: amp, tongue, vibrations, bestie, tue",
                    "<b>Topic 29</b><br>Words: uur, ahin, amp, funding, longterm"
                  ],
                  "marker": {
                    "color": "#56B4E9"
                  },
                  "mode": "lines",
                  "name": "29_amp_ahin_uur_funding",
                  "type": "scatter",
                  "x": [
                    "2020-12-12T10:16:22.043000",
                    "2020-12-19T09:05:23.700000",
                    "2020-12-26T06:15:19.400000",
                    "2021-01-02T03:25:15.100000",
                    "2021-01-09T00:35:10.800000",
                    "2021-01-15T21:45:06.500000",
                    "2021-01-22T18:55:02.200000",
                    "2021-01-29T16:04:57.900000"
                  ],
                  "y": [
                    5,
                    3,
                    1,
                    4,
                    3,
                    4,
                    5,
                    6
                  ]
                },
                {
                  "hoverinfo": "text",
                  "hovertext": [
                    "<b>Topic 30</b><br>Words: dubai, book, appointment, six, how",
                    "<b>Topic 30</b><br>Words: dubai, book, appointment, six, available",
                    "<b>Topic 30</b><br>Words: dubai, categories, author, heath, rece",
                    "<b>Topic 30</b><br>Words: dubai, seventh, opens, clinic, shots",
                    "<b>Topic 30</b><br>Words: uaebarqen, rescheduling, dha, working, 1st"
                  ],
                  "marker": {
                    "color": "#009E73"
                  },
                  "mode": "lines",
                  "name": "30_dubai_book_appointment_six",
                  "type": "scatter",
                  "x": [
                    "2020-12-19T09:05:23.700000",
                    "2020-12-26T06:15:19.400000",
                    "2021-01-02T03:25:15.100000",
                    "2021-01-09T00:35:10.800000",
                    "2021-01-22T18:55:02.200000"
                  ],
                  "y": [
                    17,
                    5,
                    2,
                    5,
                    1
                  ]
                },
                {
                  "hoverinfo": "text",
                  "hovertext": [
                    "<b>Topic 31</b><br>Words: pfizervaccine, covidvaccine, belong, preregistered, keepingupwithralph",
                    "<b>Topic 31</b><br>Words: freshly, vaccinated, covidvaccine, covid, pfizerbiontech",
                    "<b>Topic 31</b><br>Words: medtech, answers, yo, covid19vacccine, ask",
                    "<b>Topic 31</b><br>Words: immortal, become, three, taking, vaccinations",
                    "<b>Topic 31</b><br>Words: vaccineadvocate, william, shakespeare, pfizercovidvaccine, prick",
                    "<b>Topic 31</b><br>Words: vaxx, covidvaccine, astrazeneca, covidvaccination, tents",
                    "<b>Topic 31</b><br>Words: covidcanada, educated, fauciouchi, vaccinated, fauciouchie",
                    "<b>Topic 31</b><br>Words: 80stheme, assistedliving, astrazenecavaccine, round, covidvaccine",
                    "<b>Topic 31</b><br>Words: craddock, vibes, house, nursing, home"
                  ],
                  "marker": {
                    "color": "#F0E442"
                  },
                  "mode": "lines",
                  "name": "31_covidvaccine_vaccinated_astrazeneca_p...",
                  "type": "scatter",
                  "x": [
                    "2020-12-12T10:16:22.043000",
                    "2020-12-19T09:05:23.700000",
                    "2020-12-26T06:15:19.400000",
                    "2021-01-02T03:25:15.100000",
                    "2021-01-09T00:35:10.800000",
                    "2021-01-15T21:45:06.500000",
                    "2021-01-22T18:55:02.200000",
                    "2021-02-05T13:14:53.600000",
                    "2021-02-12T10:24:49.300000"
                  ],
                  "y": [
                    7,
                    1,
                    2,
                    2,
                    3,
                    8,
                    2,
                    3,
                    2
                  ]
                },
                {
                  "hoverinfo": "text",
                  "hovertext": [
                    "<b>Topic 32</b><br>Words: coronavirus, doses, shipment, us, set",
                    "<b>Topic 32</b><br>Words: buys, doses, usa, 100, another",
                    "<b>Topic 32</b><br>Words: jordan, coronavirus, poland, doses, batch",
                    "<b>Topic 32</b><br>Words: jordan, doses, another, coronavirus, poland",
                    "<b>Topic 32</b><br>Words: produce, 100, million, doses, coronavirus"
                  ],
                  "marker": {
                    "color": "#D55E00"
                  },
                  "mode": "lines",
                  "name": "32_coronavirus_doses_jordan_million",
                  "type": "scatter",
                  "x": [
                    "2020-12-12T10:16:22.043000",
                    "2020-12-19T09:05:23.700000",
                    "2020-12-26T06:15:19.400000",
                    "2021-01-02T03:25:15.100000",
                    "2021-01-22T18:55:02.200000"
                  ],
                  "y": [
                    15,
                    3,
                    7,
                    3,
                    1
                  ]
                },
                {
                  "hoverinfo": "text",
                  "hovertext": [
                    "<b>Topic 33</b><br>Words: sarscov2, yellowfever, antivaccine, auspol, pmlive",
                    "<b>Topic 33</b><br>Words: sarscov2, anotherpfizerbiontech, frm, nt, innoculation",
                    "<b>Topic 33</b><br>Words: sarscov2, simplified, experimented, experimentalvaccine, nashvilletn",
                    "<b>Topic 33</b><br>Words: delay, sarscov2, opinion, or, second",
                    "<b>Topic 33</b><br>Words: sarscov2, vitro, mutat, elicits, neutralize",
                    "<b>Topic 33</b><br>Words: sarscov2, minorities, racialethnic, healthdisparities, b117",
                    "<b>Topic 33</b><br>Words: sarscov2, vari, elicited, neutralise, b117",
                    "<b>Topic 33</b><br>Words: sarscov2, contagion, mrna1273, journal, were",
                    "<b>Topic 33</b><br>Words: sarscov2, reductions, infection, early, illness"
                  ],
                  "marker": {
                    "color": "#0072B2"
                  },
                  "mode": "lines",
                  "name": "33_sarscov2_b117_delay_racialethnic",
                  "type": "scatter",
                  "x": [
                    "2020-12-12T10:16:22.043000",
                    "2020-12-19T09:05:23.700000",
                    "2020-12-26T06:15:19.400000",
                    "2021-01-02T03:25:15.100000",
                    "2021-01-09T00:35:10.800000",
                    "2021-01-15T21:45:06.500000",
                    "2021-01-29T16:04:57.900000",
                    "2021-02-05T13:14:53.600000",
                    "2021-02-12T10:24:49.300000"
                  ],
                  "y": [
                    2,
                    1,
                    4,
                    2,
                    2,
                    7,
                    2,
                    2,
                    6
                  ]
                },
                {
                  "hoverinfo": "text",
                  "hovertext": [
                    "<b>Topic 34</b><br>Words: approves, eu, european, medicines, europe",
                    "<b>Topic 34</b><br>Words: delivery, questionwhat, assurance, wuhanviruspandemic, spain",
                    "<b>Topic 34</b><br>Words: deliveries, secures, double, temporarily, reduce",
                    "<b>Topic 34</b><br>Words: spain, administer, jabs, started, rec",
                    "<b>Topic 34</b><br>Words: eu, postjab, gibraltar, threat, instructions",
                    "<b>Topic 34</b><br>Words: recognises, northernireland, eu, gove, mistake"
                  ],
                  "marker": {
                    "color": "#CC79A7"
                  },
                  "mode": "lines",
                  "name": "34_approves_eu_spain_european",
                  "type": "scatter",
                  "x": [
                    "2020-12-19T09:05:23.700000",
                    "2020-12-26T06:15:19.400000",
                    "2021-01-09T00:35:10.800000",
                    "2021-01-15T21:45:06.500000",
                    "2021-01-22T18:55:02.200000",
                    "2021-01-29T16:04:57.900000"
                  ],
                  "y": [
                    15,
                    2,
                    2,
                    3,
                    3,
                    2
                  ]
                },
                {
                  "hoverinfo": "text",
                  "hovertext": [
                    "<b>Topic 35</b><br>Words: canada, toronto, anita, ontario, doses",
                    "<b>Topic 35</b><br>Words: canada, quarter, pm, additional, way",
                    "<b>Topic 35</b><br>Words: ontario, course, five, such, great",
                    "<b>Topic 35</b><br>Words: anand, temporary, anita, canadas, procurement",
                    "<b>Topic 35</b><br>Words: fortin, 200000, ontario, shipped, canada",
                    "<b>Topic 35</b><br>Words: adjusts, vaccinationplan, ontario, vaccina, accelerating",
                    "<b>Topic 35</b><br>Words: canada, appendices, summaries, attention, msm",
                    "<b>Topic 35</b><br>Words: competing, withdraw, rather, syringes, special",
                    "<b>Topic 35</b><br>Words: blessings10, large, canadians, biggest, supplies"
                  ],
                  "marker": {
                    "color": "#E69F00"
                  },
                  "mode": "lines",
                  "name": "35_canada_ontario_toronto_anita",
                  "type": "scatter",
                  "x": [
                    "2020-12-12T10:16:22.043000",
                    "2020-12-19T09:05:23.700000",
                    "2021-01-02T03:25:15.100000",
                    "2021-01-09T00:35:10.800000",
                    "2021-01-15T21:45:06.500000",
                    "2021-01-22T18:55:02.200000",
                    "2021-01-29T16:04:57.900000",
                    "2021-02-05T13:14:53.600000",
                    "2021-02-12T10:24:49.300000"
                  ],
                  "y": [
                    15,
                    3,
                    1,
                    1,
                    2,
                    1,
                    2,
                    1,
                    1
                  ]
                },
                {
                  "hoverinfo": "text",
                  "hovertext": [
                    "<b>Topic 36</b><br>Words: end, beginning, inevitable, occur, uturn",
                    "<b>Topic 36</b><br>Words: thou, pu, beholdest, thine, training",
                    "<b>Topic 36</b><br>Words: inevitable, upcomingevent, houses, gryffindor, tune",
                    "<b>Topic 36</b><br>Words: end, beginning, prophecy, sell, inevitable",
                    "<b>Topic 36</b><br>Words: imo, scenario, particularly, break, sudden",
                    "<b>Topic 36</b><br>Words: inevitable, occur, uturn, regards, when"
                  ],
                  "marker": {
                    "color": "#56B4E9"
                  },
                  "mode": "lines",
                  "name": "36_inevitable_occur_uturn_regards",
                  "type": "scatter",
                  "x": [
                    "2020-12-12T10:16:22.043000",
                    "2020-12-26T06:15:19.400000",
                    "2021-01-02T03:25:15.100000",
                    "2021-01-09T00:35:10.800000",
                    "2021-01-15T21:45:06.500000",
                    "2021-01-22T18:55:02.200000"
                  ],
                  "y": [
                    3,
                    2,
                    2,
                    2,
                    1,
                    14
                  ]
                },
                {
                  "hoverinfo": "text",
                  "hovertext": [
                    "<b>Topic 37</b><br>Words: suffice, requirements, handling, includin, moderna",
                    "<b>Topic 37</b><br>Words: moderna, comparison, ur, modernawiki, oott",
                    "<b>Topic 37</b><br>Words: comparison, moderna, sidebyside, shouldnt, capacity",
                    "<b>Topic 37</b><br>Words: moderna, comparison, reactions, teh, handle",
                    "<b>Topic 37</b><br>Words: stat, sidebyside, offers, comparison, moderna",
                    "<b>Topic 37</b><br>Words: advantage, jandjvaccine, singledose, addition, moderna",
                    "<b>Topic 37</b><br>Words: choose, option, moderna, or, if",
                    "<b>Topic 37</b><br>Words: moderna, jansen, arranged, kathrin, allen",
                    "<b>Topic 37</b><br>Words: better, which, moderna, pfizervaccine, vaccinated"
                  ],
                  "marker": {
                    "color": "#009E73"
                  },
                  "mode": "lines",
                  "name": "37_moderna_comparison_sidebyside_vaccine...",
                  "type": "scatter",
                  "x": [
                    "2020-12-12T10:16:22.043000",
                    "2020-12-19T09:05:23.700000",
                    "2020-12-26T06:15:19.400000",
                    "2021-01-02T03:25:15.100000",
                    "2021-01-09T00:35:10.800000",
                    "2021-01-15T21:45:06.500000",
                    "2021-01-22T18:55:02.200000",
                    "2021-01-29T16:04:57.900000",
                    "2021-02-12T10:24:49.300000"
                  ],
                  "y": [
                    2,
                    5,
                    3,
                    6,
                    1,
                    1,
                    1,
                    4,
                    1
                  ]
                },
                {
                  "hoverinfo": "text",
                  "hovertext": [
                    "<b>Topic 38</b><br>Words: worry, nothing, death, then, deaths",
                    "<b>Topic 38</b><br>Words: overdose, admitted, pfizerbiotech, germany, hospital",
                    "<b>Topic 38</b><br>Words: died, dies, after, miami, obstetrician",
                    "<b>Topic 38</b><br>Words: death, miami, itp, doctor, caused",
                    "<b>Topic 38</b><br>Words: itp, purpora, thrombocytic, contributed, gregory",
                    "<b>Topic 38</b><br>Words: reports, 22012021, rectalhemorrhage, cardiacfailure, sample",
                    "<b>Topic 38</b><br>Words: eudravigilance, 917, 30012021, caused, tozinameran"
                  ],
                  "marker": {
                    "color": "#F0E442"
                  },
                  "mode": "lines",
                  "name": "38_death_died_dies_itp",
                  "type": "scatter",
                  "x": [
                    "2020-12-12T10:16:22.043000",
                    "2020-12-26T06:15:19.400000",
                    "2021-01-02T03:25:15.100000",
                    "2021-01-09T00:35:10.800000",
                    "2021-01-15T21:45:06.500000",
                    "2021-01-22T18:55:02.200000",
                    "2021-01-29T16:04:57.900000"
                  ],
                  "y": [
                    1,
                    1,
                    6,
                    9,
                    2,
                    3,
                    1
                  ]
                },
                {
                  "hoverinfo": "text",
                  "hovertext": [
                    "<b>Topic 39</b><br>Words: qatar, oman, al, abdullah, batch",
                    "<b>Topic 39</b><br>Words: qatar, emir, al, oman, humaid",
                    "<b>Topic 39</b><br>Words: general, al, qatar, oman, mohammed",
                    "<b>Topic 39</b><br>Words: oman, qatar, thekhybermail, relying, heavily",
                    "<b>Topic 39</b><br>Words: qatar, covid19vaccination, first, pfizer, dose"
                  ],
                  "marker": {
                    "color": "#D55E00"
                  },
                  "mode": "lines",
                  "name": "39_qatar_oman_al_abdullah",
                  "type": "scatter",
                  "x": [
                    "2020-12-19T09:05:23.700000",
                    "2020-12-26T06:15:19.400000",
                    "2021-01-02T03:25:15.100000",
                    "2021-01-22T18:55:02.200000",
                    "2021-02-12T10:24:49.300000"
                  ],
                  "y": [
                    12,
                    3,
                    3,
                    2,
                    1
                  ]
                },
                {
                  "hoverinfo": "text",
                  "hovertext": [
                    "<b>Topic 40</b><br>Words: publicly, vice, wife, his, friday",
                    "<b>Topic 40</b><br>Words: presidentelect, biden, joe, joebiden, receives",
                    "<b>Topic 40</b><br>Words: biden, joe, opposition, bidens, reversal",
                    "<b>Topic 40</b><br>Words: activate, defenseproductionact, biden, biotech, companies",
                    "<b>Topic 40</b><br>Words: summertime, biden, aims, americans, administration"
                  ],
                  "marker": {
                    "color": "#0072B2"
                  },
                  "mode": "lines",
                  "name": "40_presidentelect_biden_joe_joebiden",
                  "type": "scatter",
                  "x": [
                    "2020-12-12T10:16:22.043000",
                    "2020-12-19T09:05:23.700000",
                    "2021-01-09T00:35:10.800000",
                    "2021-01-15T21:45:06.500000",
                    "2021-01-22T18:55:02.200000"
                  ],
                  "y": [
                    3,
                    14,
                    2,
                    1,
                    1
                  ]
                },
                {
                  "hoverinfo": "text",
                  "hovertext": [
                    "<b>Topic 41</b><br>Words: leicestershire, practices, starts, ou, gp",
                    "<b>Topic 41</b><br>Words: jab, keenans, 8th, recipient, margaret",
                    "<b>Topic 41</b><br>Words: mother, mona, almarri, ghanem, her",
                    "<b>Topic 41</b><br>Words: jab, pattern, nonsense, typos, frameshift",
                    "<b>Topic 41</b><br>Words: jab, dice, populat, geriatric, frailer",
                    "<b>Topic 41</b><br>Words: jab, exclassmates, paracetamols, ex, curb",
                    "<b>Topic 41</b><br>Words: prudent, exacerbated, underlying, condition, risks",
                    "<b>Topic 41</b><br>Words: jab, reevaluation, employment, consequence, legallytechnically"
                  ],
                  "marker": {
                    "color": "#CC79A7"
                  },
                  "mode": "lines",
                  "name": "41_jab_her_condition_risks",
                  "type": "scatter",
                  "x": [
                    "2020-12-12T10:16:22.043000",
                    "2020-12-26T06:15:19.400000",
                    "2021-01-02T03:25:15.100000",
                    "2021-01-09T00:35:10.800000",
                    "2021-01-15T21:45:06.500000",
                    "2021-01-22T18:55:02.200000",
                    "2021-02-05T13:14:53.600000",
                    "2021-02-12T10:24:49.300000"
                  ],
                  "y": [
                    1,
                    2,
                    2,
                    4,
                    4,
                    3,
                    1,
                    3
                  ]
                },
                {
                  "hoverinfo": "text",
                  "hovertext": [
                    "<b>Topic 42</b><br>Words: wave, your, turn, lucky, please",
                    "<b>Topic 42</b><br>Words: feed, getti, favorite, managed, icu",
                    "<b>Topic 42</b><br>Words: mine, really, okwow, quest, couplegoals",
                    "<b>Topic 42</b><br>Words: powered, 15mins, returning, hamilton, unit",
                    "<b>Topic 42</b><br>Words: wait, colleaguesfrie, covid19time, abingtonparkmedicalcentre, virtual",
                    "<b>Topic 42</b><br>Words: noninauguration, covidvaccine, gotten, thrilled, return",
                    "<b>Topic 42</b><br>Words: relatives, 70, years, within, old",
                    "<b>Topic 42</b><br>Words: perserverence, wea, mars, landing, im"
                  ],
                  "marker": {
                    "color": "#E69F00"
                  },
                  "mode": "lines",
                  "name": "42_covidvaccine_my_wave_today",
                  "type": "scatter",
                  "x": [
                    "2020-12-12T10:16:22.043000",
                    "2020-12-19T09:05:23.700000",
                    "2020-12-26T06:15:19.400000",
                    "2021-01-02T03:25:15.100000",
                    "2021-01-09T00:35:10.800000",
                    "2021-01-15T21:45:06.500000",
                    "2021-01-22T18:55:02.200000",
                    "2021-02-12T10:24:49.300000"
                  ],
                  "y": [
                    1,
                    3,
                    3,
                    3,
                    4,
                    3,
                    1,
                    1
                  ]
                },
                {
                  "hoverinfo": "text",
                  "hovertext": [
                    "<b>Topic 43</b><br>Words: bec, import, intend, iran, organization",
                    "<b>Topic 43</b><br>Words: import, 150000, bans, scraps, iran",
                    "<b>Topic 43</b><br>Words: import, 150000, vaccinesthi, iran, crescent",
                    "<b>Topic 43</b><br>Words: iran, ayatollahs, sanctions, ease, iranians"
                  ],
                  "marker": {
                    "color": "#56B4E9"
                  },
                  "mode": "lines",
                  "name": "43_import_150000_iran_vaccinesthi",
                  "type": "scatter",
                  "x": [
                    "2020-12-12T10:16:22.043000",
                    "2021-01-02T03:25:15.100000",
                    "2021-01-09T00:35:10.800000",
                    "2021-02-12T10:24:49.300000"
                  ],
                  "y": [
                    1,
                    1,
                    15,
                    1
                  ]
                },
                {
                  "hoverinfo": "text",
                  "hovertext": [
                    "<b>Topic 44</b><br>Words: nurse, york, city, became, united",
                    "<b>Topic 44</b><br>Words: trumpcrimefamily, trumpforprison, grifterinchief, dumbsville, donthecon",
                    "<b>Topic 44</b><br>Words: californian, caught, nurse, hospitals, different",
                    "<b>Topic 44</b><br>Words: nashville, injured, military, ohio, nurse",
                    "<b>Topic 44</b><br>Words: nurse, henn, annalise, dalgan, missionaries",
                    "<b>Topic 44</b><br>Words: ottawa, nurse, positive, breakingnews, ontario"
                  ],
                  "marker": {
                    "color": "#009E73"
                  },
                  "mode": "lines",
                  "name": "44_nurse_york_city_ottawa",
                  "type": "scatter",
                  "x": [
                    "2020-12-12T10:16:22.043000",
                    "2020-12-19T09:05:23.700000",
                    "2020-12-26T06:15:19.400000",
                    "2021-01-02T03:25:15.100000",
                    "2021-01-09T00:35:10.800000",
                    "2021-01-22T18:55:02.200000"
                  ],
                  "y": [
                    8,
                    1,
                    1,
                    2,
                    3,
                    2
                  ]
                },
                {
                  "hoverinfo": "text",
                  "hovertext": [
                    "<b>Topic 45</b><br>Words: uk, 137000, cook, oxfordshire, presenter",
                    "<b>Topic 45</b><br>Words: 600000, uk, over, britain, citizens",
                    "<b>Topic 45</b><br>Words: uk, pms, alarming, spokesman, p12302020",
                    "<b>Topic 45</b><br>Words: blaming, seve, hundred, thousand, roughly",
                    "<b>Topic 45</b><br>Words: coul, determine, journal, living, britain",
                    "<b>Topic 45</b><br>Words: 9th, raf, 6000, 2dose, nearly",
                    "<b>Topic 45</b><br>Words: 9th, 6000, raf, nearly, delivered"
                  ],
                  "marker": {
                    "color": "#F0E442"
                  },
                  "mode": "lines",
                  "name": "45_uk_9th_600000_6000",
                  "type": "scatter",
                  "x": [
                    "2020-12-12T10:16:22.043000",
                    "2020-12-19T09:05:23.700000",
                    "2020-12-26T06:15:19.400000",
                    "2021-01-02T03:25:15.100000",
                    "2021-01-29T16:04:57.900000",
                    "2021-02-05T13:14:53.600000",
                    "2021-02-12T10:24:49.300000"
                  ],
                  "y": [
                    4,
                    4,
                    2,
                    2,
                    2,
                    2,
                    1
                  ]
                },
                {
                  "hoverinfo": "text",
                  "hovertext": [
                    "<b>Topic 46</b><br>Words: iran, nationallockdown, 6073, records, purchase",
                    "<b>Topic 46</b><br>Words: purchase, iran, covidvaccines, khameneis, ban",
                    "<b>Topic 46</b><br>Words: iran, khamenei, treason, purchase, act"
                  ],
                  "marker": {
                    "color": "#D55E00"
                  },
                  "mode": "lines",
                  "name": "46_iran_purchase_covidvaccines_khameneis",
                  "type": "scatter",
                  "x": [
                    "2021-01-02T03:25:15.100000",
                    "2021-01-09T00:35:10.800000",
                    "2021-01-15T21:45:06.500000"
                  ],
                  "y": [
                    1,
                    15,
                    1
                  ]
                },
                {
                  "hoverinfo": "text",
                  "hovertext": [
                    "<b>Topic 47</b><br>Words: shropsh, radio, xmas, btw, heard",
                    "<b>Topic 47</b><br>Words: tiffany, tiffanydover, dover, canceled, tiffanypontesdover",
                    "<b>Topic 47</b><br>Words: tiffanydover, tiffany, dover, vaccinatiestrategie, where",
                    "<b>Topic 47</b><br>Words: tiffanydover, bob, tiffany, dover, whereistiffanydover",
                    "<b>Topic 47</b><br>Words: tiffany, dover, tiffanydover, chi, collapsed",
                    "<b>Topic 47</b><br>Words: tiffany, nonewnormal, dover, tiffanydover, whereistiffanydover",
                    "<b>Topic 47</b><br>Words: tiffany, 100th, lillis, maureen, kilrush",
                    "<b>Topic 47</b><br>Words: proudtovaccinate, village, tiffany, university, gates"
                  ],
                  "marker": {
                    "color": "#0072B2"
                  },
                  "mode": "lines",
                  "name": "47_tiffany_tiffanydover_dover_whereistif...",
                  "type": "scatter",
                  "x": [
                    "2020-12-12T10:16:22.043000",
                    "2020-12-19T09:05:23.700000",
                    "2020-12-26T06:15:19.400000",
                    "2021-01-02T03:25:15.100000",
                    "2021-01-09T00:35:10.800000",
                    "2021-01-15T21:45:06.500000",
                    "2021-01-22T18:55:02.200000",
                    "2021-01-29T16:04:57.900000"
                  ],
                  "y": [
                    1,
                    3,
                    2,
                    4,
                    2,
                    1,
                    2,
                    1
                  ]
                },
                {
                  "hoverinfo": "text",
                  "hovertext": [
                    "<b>Topic 48</b><br>Words: irancoronavirus, exceeds199300, importing15, crescent, red"
                  ],
                  "marker": {
                    "color": "#CC79A7"
                  },
                  "mode": "lines",
                  "name": "48_exceeds199300_irancoronavirus_importi...",
                  "type": "scatter",
                  "x": [
                    "2021-01-09T00:35:10.800000"
                  ],
                  "y": [
                    16
                  ]
                },
                {
                  "hoverinfo": "text",
                  "hovertext": [
                    "<b>Topic 49</b><br>Words: county, canada, cbcnews, calhoun, ottawa",
                    "<b>Topic 49</b><br>Words: canada, stu, depar, 201220, biotech",
                    "<b>Topic 49</b><br>Words: canada, breastmilk, columbia, pleas, defies",
                    "<b>Topic 49</b><br>Words: todays, updates, live, 11950, estimated",
                    "<b>Topic 49</b><br>Words: yql, ottawas, syringe, lnn, shandro",
                    "<b>Topic 49</b><br>Words: canada, unlike, either, studies, confirmed"
                  ],
                  "marker": {
                    "color": "#E69F00"
                  },
                  "mode": "lines",
                  "name": "49_canada_ottawa_todays_deliver",
                  "type": "scatter",
                  "x": [
                    "2020-12-12T10:16:22.043000",
                    "2020-12-19T09:05:23.700000",
                    "2021-01-02T03:25:15.100000",
                    "2021-01-15T21:45:06.500000",
                    "2021-01-22T18:55:02.200000",
                    "2021-02-12T10:24:49.300000"
                  ],
                  "y": [
                    3,
                    3,
                    4,
                    2,
                    2,
                    2
                  ]
                },
                {
                  "hoverinfo": "text",
                  "hovertext": [
                    "<b>Topic 50</b><br>Words: us, ship, fedex, ups, monday",
                    "<b>Topic 50</b><br>Words: farright, doubting, manufactured, leader, brazilian",
                    "<b>Topic 50</b><br>Words: reaches, begins, saturday, france, shipment"
                  ],
                  "marker": {
                    "color": "#56B4E9"
                  },
                  "mode": "lines",
                  "name": "50_us_ship_fedex_ups",
                  "type": "scatter",
                  "x": [
                    "2020-12-12T10:16:22.043000",
                    "2020-12-19T09:05:23.700000",
                    "2020-12-26T06:15:19.400000"
                  ],
                  "y": [
                    12,
                    2,
                    1
                  ]
                },
                {
                  "hoverinfo": "text",
                  "hovertext": [
                    "<b>Topic 51</b><br>Words: differ, answer, question, moderna, how",
                    "<b>Topic 51</b><br>Words: moderna, vs, differences, stacks, how",
                    "<b>Topic 51</b><br>Words: vs, infographic, compare, covaxin, top",
                    "<b>Topic 51</b><br>Words: repub, czech, unive, differences, comparison",
                    "<b>Topic 51</b><br>Words: vs, covidshield, covaxin, awesome, medtwitter",
                    "<b>Topic 51</b><br>Words: gamaleya, compare, bbc, moderna, how",
                    "<b>Topic 51</b><br>Words: difference, whats, between, oxfordastrazeneca, vaccines"
                  ],
                  "marker": {
                    "color": "#009E73"
                  },
                  "mode": "lines",
                  "name": "51_vs_moderna_how_compare",
                  "type": "scatter",
                  "x": [
                    "2020-12-12T10:16:22.043000",
                    "2020-12-19T09:05:23.700000",
                    "2021-01-02T03:25:15.100000",
                    "2021-01-09T00:35:10.800000",
                    "2021-01-15T21:45:06.500000",
                    "2021-01-22T18:55:02.200000",
                    "2021-02-05T13:14:53.600000"
                  ],
                  "y": [
                    1,
                    4,
                    3,
                    2,
                    2,
                    1,
                    1
                  ]
                },
                {
                  "hoverinfo": "text",
                  "hovertext": [
                    "<b>Topic 52</b><br>Words: 150000, import, crescent, red, khameneis"
                  ],
                  "marker": {
                    "color": "#F0E442"
                  },
                  "mode": "lines",
                  "name": "52_150000_import_crescent_red",
                  "type": "scatter",
                  "x": [
                    "2021-01-09T00:35:10.800000"
                  ],
                  "y": [
                    14
                  ]
                },
                {
                  "hoverinfo": "text",
                  "hovertext": [
                    "<b>Topic 53</b><br>Words: turkish, ankaras, chinas, newspaper, column",
                    "<b>Topic 53</b><br>Words: turkish, wanna, ugur, owner, newnormal",
                    "<b>Topic 53</b><br>Words: opts, sellout, turks, correctly, turkey",
                    "<b>Topic 53</b><br>Words: turks, invents, direct, translate, lovely",
                    "<b>Topic 53</b><br>Words: turkish, turks, invent, entity, fbih",
                    "<b>Topic 53</b><br>Words: turkishpresident, compatriots, erdogan, ugur, turkey"
                  ],
                  "marker": {
                    "color": "#D55E00"
                  },
                  "mode": "lines",
                  "name": "53_turkish_turks_ugur_turkey",
                  "type": "scatter",
                  "x": [
                    "2020-12-12T10:16:22.043000",
                    "2020-12-19T09:05:23.700000",
                    "2020-12-26T06:15:19.400000",
                    "2021-01-02T03:25:15.100000",
                    "2021-01-09T00:35:10.800000",
                    "2021-01-15T21:45:06.500000"
                  ],
                  "y": [
                    1,
                    4,
                    1,
                    1,
                    5,
                    2
                  ]
                },
                {
                  "hoverinfo": "text",
                  "hovertext": [
                    "<b>Topic 54</b><br>Words: positive, tested, receiving, nurse, despite",
                    "<b>Topic 54</b><br>Words: positive, tested, kevin, brady, republican",
                    "<b>Topic 54</b><br>Words: aampe, positive, tested, month, after",
                    "<b>Topic 54</b><br>Words: positive, tested, 78, central, spain",
                    "<b>Topic 54</b><br>Words: b117, positive, tested, infected, despite"
                  ],
                  "marker": {
                    "color": "#0072B2"
                  },
                  "mode": "lines",
                  "name": "54_positive_tested_receiving_after",
                  "type": "scatter",
                  "x": [
                    "2020-12-26T06:15:19.400000",
                    "2021-01-02T03:25:15.100000",
                    "2021-01-09T00:35:10.800000",
                    "2021-01-29T16:04:57.900000",
                    "2021-02-05T13:14:53.600000"
                  ],
                  "y": [
                    5,
                    2,
                    1,
                    4,
                    2
                  ]
                },
                {
                  "hoverinfo": "text",
                  "hovertext": [
                    "<b>Topic 55</b><br>Words: excellent, covidvaccination, read, pfizerbiontech, social",
                    "<b>Topic 55</b><br>Words: booked, appointment, getvaccinated, lets, pandemic",
                    "<b>Topic 55</b><br>Words: covidvaccination, great, 10minute, extinction, uptake",
                    "<b>Topic 55</b><br>Words: social, covidvaccination, media, uclahealth, legit",
                    "<b>Topic 55</b><br>Words: covidvaccination, one, down, go, just",
                    "<b>Topic 55</b><br>Words: hell, covidvaccinated, yes, covidvaccination, pfizerbiontech"
                  ],
                  "marker": {
                    "color": "#CC79A7"
                  },
                  "mode": "lines",
                  "name": "55_covidvaccination_social_great_media",
                  "type": "scatter",
                  "x": [
                    "2020-12-19T09:05:23.700000",
                    "2020-12-26T06:15:19.400000",
                    "2021-01-09T00:35:10.800000",
                    "2021-01-22T18:55:02.200000",
                    "2021-01-29T16:04:57.900000",
                    "2021-02-12T10:24:49.300000"
                  ],
                  "y": [
                    1,
                    1,
                    6,
                    2,
                    2,
                    1
                  ]
                },
                {
                  "hoverinfo": "text",
                  "hovertext": [
                    "<b>Topic 56</b><br>Words: norway, cumulative, dkpol, denmark, originally",
                    "<b>Topic 56</b><br>Words: originally, norway, fewer, reported, than",
                    "<b>Topic 56</b><br>Words: originally, fewer, reported, norway, than"
                  ],
                  "marker": {
                    "color": "#E69F00"
                  },
                  "mode": "lines",
                  "name": "56_originally_fewer_norway_reported",
                  "type": "scatter",
                  "x": [
                    "2021-01-09T00:35:10.800000",
                    "2021-01-15T21:45:06.500000",
                    "2021-01-22T18:55:02.200000"
                  ],
                  "y": [
                    2,
                    7,
                    4
                  ]
                },
                {
                  "hoverinfo": "text",
                  "hovertext": [
                    "<b>Topic 57</b><br>Words: turkeys, turkey, toll, death, 16417",
                    "<b>Topic 57</b><br>Words: turkey, 50m, men, ankara, 3m",
                    "<b>Topic 57</b><br>Words: suggesting, 907, cyprus, record, turkey",
                    "<b>Topic 57</b><br>Words: turkey, 186, coronaviruspandemic, reports, deaths",
                    "<b>Topic 57</b><br>Words: turkey, 186, coronaviruspandemic, turkeys, deaths",
                    "<b>Topic 57</b><br>Words: turkey, turkeys, 23664, reaches, coronavac"
                  ],
                  "marker": {
                    "color": "#56B4E9"
                  },
                  "mode": "lines",
                  "name": "57_turkey_turkeys_coronaviruspandemic_to...",
                  "type": "scatter",
                  "x": [
                    "2020-12-12T10:16:22.043000",
                    "2020-12-19T09:05:23.700000",
                    "2020-12-26T06:15:19.400000",
                    "2021-01-02T03:25:15.100000",
                    "2021-01-09T00:35:10.800000",
                    "2021-01-15T21:45:06.500000"
                  ],
                  "y": [
                    4,
                    2,
                    1,
                    1,
                    4,
                    1
                  ]
                },
                {
                  "hoverinfo": "text",
                  "hovertext": [
                    "<b>Topic 58</b><br>Words: beginning, full, eager, achiev, drama",
                    "<b>Topic 58</b><br>Words: note, gives, green, begins, become",
                    "<b>Topic 58</b><br>Words: road, nottodayrona, volunteered, recieved, normality",
                    "<b>Topic 58</b><br>Words: beautifu, quit, excellen, psychiatrists, camhs",
                    "<b>Topic 58</b><br>Words: byron, volunteered, hall, center, seems",
                    "<b>Topic 58</b><br>Words: took, just, today, covid19, vaccine"
                  ],
                  "marker": {
                    "color": "#009E73"
                  },
                  "mode": "lines",
                  "name": "58_volunteered_beginning_this_week",
                  "type": "scatter",
                  "x": [
                    "2020-12-19T09:05:23.700000",
                    "2020-12-26T06:15:19.400000",
                    "2021-01-02T03:25:15.100000",
                    "2021-01-09T00:35:10.800000",
                    "2021-01-15T21:45:06.500000",
                    "2021-02-05T13:14:53.600000"
                  ],
                  "y": [
                    4,
                    1,
                    2,
                    2,
                    2,
                    1
                  ]
                },
                {
                  "hoverinfo": "text",
                  "hovertext": [
                    "<b>Topic 59</b><br>Words: hustlepfizerbiontech, spies, scamdemic2020, bed, ccp",
                    "<b>Topic 59</b><br>Words: covax, 40, signed, hoarding, unitednations",
                    "<b>Topic 59</b><br>Words: hoarding, spotlight, unitednations, covax, under",
                    "<b>Topic 59</b><br>Words: hoarding, spotlight, unitednations, covax, under",
                    "<b>Topic 59</b><br>Words: covax, ambitio, q1, unitednations, hoarding"
                  ],
                  "marker": {
                    "color": "#F0E442"
                  },
                  "mode": "lines",
                  "name": "59_hoarding_unitednations_spotlight_cova...",
                  "type": "scatter",
                  "x": [
                    "2020-12-12T10:16:22.043000",
                    "2021-01-15T21:45:06.500000",
                    "2021-01-22T18:55:02.200000",
                    "2021-01-29T16:04:57.900000",
                    "2021-02-05T13:14:53.600000"
                  ],
                  "y": [
                    1,
                    1,
                    8,
                    1,
                    1
                  ]
                },
                {
                  "hoverinfo": "text",
                  "hovertext": [
                    "<b>Topic 60</b><br>Words: lives, jeopardized, dengvaxia, repeat, mistake",
                    "<b>Topic 60</b><br>Words: cherokee, died, 3150, fluent, language",
                    "<b>Topic 60</b><br>Words: 55, died, people, submitted, receiving",
                    "<b>Topic 60</b><br>Words: mostly, died, 55, silent, submitte",
                    "<b>Topic 60</b><br>Words: 143, brits, regulators, shortly, play"
                  ],
                  "marker": {
                    "color": "#D55E00"
                  },
                  "mode": "lines",
                  "name": "60_died_55_people_cherokee",
                  "type": "scatter",
                  "x": [
                    "2020-12-12T10:16:22.043000",
                    "2020-12-19T09:05:23.700000",
                    "2021-01-15T21:45:06.500000",
                    "2021-01-22T18:55:02.200000",
                    "2021-02-05T13:14:53.600000"
                  ],
                  "y": [
                    1,
                    2,
                    5,
                    3,
                    1
                  ]
                },
                {
                  "hoverinfo": "text",
                  "hovertext": [
                    "<b>Topic 61</b><br>Words: portuguese, dies, days, sonia, portugal",
                    "<b>Topic 61</b><br>Words: portuguese, healthworkers, death, also, worrying"
                  ],
                  "marker": {
                    "color": "#0072B2"
                  },
                  "mode": "lines",
                  "name": "61_portuguese_dies_days_sonia",
                  "type": "scatter",
                  "x": [
                    "2021-01-02T03:25:15.100000",
                    "2021-01-15T21:45:06.500000"
                  ],
                  "y": [
                    9,
                    2
                  ]
                },
                {
                  "hoverinfo": "text",
                  "hovertext": [
                    "<b>Topic 62</b><br>Words: contain, disease, cause, not, cannot",
                    "<b>Topic 62</b><br>Words: academic, easing, pharmacists, critical, concerns",
                    "<b>Topic 62</b><br>Words: c19, priority, order, against, covidvaccine",
                    "<b>Topic 62</b><br>Words: fully, vaccinated, covidvaccine, covid19, pfizerbiontech",
                    "<b>Topic 62</b><br>Words: pfizercovidvaccine, vaccinated, today, covid19, vaccine",
                    "<b>Topic 62</b><br>Words: fully, against, vaccinated, covidvaccine, covid19",
                    "<b>Topic 62</b><br>Words: jointly, 22230, 8th, label, covid19vaccines",
                    "<b>Topic 62</b><br>Words: 29250, jointly, reached, 9th, covid19vaccines"
                  ],
                  "marker": {
                    "color": "#CC79A7"
                  },
                  "mode": "lines",
                  "name": "62_jointly_covid19vaccines_covidvaccine_...",
                  "type": "scatter",
                  "x": [
                    "2020-12-12T10:16:22.043000",
                    "2020-12-19T09:05:23.700000",
                    "2020-12-26T06:15:19.400000",
                    "2021-01-02T03:25:15.100000",
                    "2021-01-09T00:35:10.800000",
                    "2021-01-22T18:55:02.200000",
                    "2021-02-05T13:14:53.600000",
                    "2021-02-12T10:24:49.300000"
                  ],
                  "y": [
                    2,
                    1,
                    1,
                    1,
                    1,
                    1,
                    3,
                    1
                  ]
                }
              ],
              "layout": {
                "height": 450,
                "hoverlabel": {
                  "bgcolor": "white",
                  "font": {
                    "family": "Rockwell",
                    "size": 16
                  }
                },
                "legend": {
                  "title": {
                    "text": "<b>Global Topic Representation"
                  }
                },
                "template": {
                  "data": {
                    "bar": [
                      {
                        "error_x": {
                          "color": "rgb(36,36,36)"
                        },
                        "error_y": {
                          "color": "rgb(36,36,36)"
                        },
                        "marker": {
                          "line": {
                            "color": "white",
                            "width": 0.5
                          },
                          "pattern": {
                            "fillmode": "overlay",
                            "size": 10,
                            "solidity": 0.2
                          }
                        },
                        "type": "bar"
                      }
                    ],
                    "barpolar": [
                      {
                        "marker": {
                          "line": {
                            "color": "white",
                            "width": 0.5
                          },
                          "pattern": {
                            "fillmode": "overlay",
                            "size": 10,
                            "solidity": 0.2
                          }
                        },
                        "type": "barpolar"
                      }
                    ],
                    "carpet": [
                      {
                        "aaxis": {
                          "endlinecolor": "rgb(36,36,36)",
                          "gridcolor": "white",
                          "linecolor": "white",
                          "minorgridcolor": "white",
                          "startlinecolor": "rgb(36,36,36)"
                        },
                        "baxis": {
                          "endlinecolor": "rgb(36,36,36)",
                          "gridcolor": "white",
                          "linecolor": "white",
                          "minorgridcolor": "white",
                          "startlinecolor": "rgb(36,36,36)"
                        },
                        "type": "carpet"
                      }
                    ],
                    "choropleth": [
                      {
                        "colorbar": {
                          "outlinewidth": 1,
                          "tickcolor": "rgb(36,36,36)",
                          "ticks": "outside"
                        },
                        "type": "choropleth"
                      }
                    ],
                    "contour": [
                      {
                        "colorbar": {
                          "outlinewidth": 1,
                          "tickcolor": "rgb(36,36,36)",
                          "ticks": "outside"
                        },
                        "colorscale": [
                          [
                            0,
                            "#440154"
                          ],
                          [
                            0.1111111111111111,
                            "#482878"
                          ],
                          [
                            0.2222222222222222,
                            "#3e4989"
                          ],
                          [
                            0.3333333333333333,
                            "#31688e"
                          ],
                          [
                            0.4444444444444444,
                            "#26828e"
                          ],
                          [
                            0.5555555555555556,
                            "#1f9e89"
                          ],
                          [
                            0.6666666666666666,
                            "#35b779"
                          ],
                          [
                            0.7777777777777778,
                            "#6ece58"
                          ],
                          [
                            0.8888888888888888,
                            "#b5de2b"
                          ],
                          [
                            1,
                            "#fde725"
                          ]
                        ],
                        "type": "contour"
                      }
                    ],
                    "contourcarpet": [
                      {
                        "colorbar": {
                          "outlinewidth": 1,
                          "tickcolor": "rgb(36,36,36)",
                          "ticks": "outside"
                        },
                        "type": "contourcarpet"
                      }
                    ],
                    "heatmap": [
                      {
                        "colorbar": {
                          "outlinewidth": 1,
                          "tickcolor": "rgb(36,36,36)",
                          "ticks": "outside"
                        },
                        "colorscale": [
                          [
                            0,
                            "#440154"
                          ],
                          [
                            0.1111111111111111,
                            "#482878"
                          ],
                          [
                            0.2222222222222222,
                            "#3e4989"
                          ],
                          [
                            0.3333333333333333,
                            "#31688e"
                          ],
                          [
                            0.4444444444444444,
                            "#26828e"
                          ],
                          [
                            0.5555555555555556,
                            "#1f9e89"
                          ],
                          [
                            0.6666666666666666,
                            "#35b779"
                          ],
                          [
                            0.7777777777777778,
                            "#6ece58"
                          ],
                          [
                            0.8888888888888888,
                            "#b5de2b"
                          ],
                          [
                            1,
                            "#fde725"
                          ]
                        ],
                        "type": "heatmap"
                      }
                    ],
                    "heatmapgl": [
                      {
                        "colorbar": {
                          "outlinewidth": 1,
                          "tickcolor": "rgb(36,36,36)",
                          "ticks": "outside"
                        },
                        "colorscale": [
                          [
                            0,
                            "#440154"
                          ],
                          [
                            0.1111111111111111,
                            "#482878"
                          ],
                          [
                            0.2222222222222222,
                            "#3e4989"
                          ],
                          [
                            0.3333333333333333,
                            "#31688e"
                          ],
                          [
                            0.4444444444444444,
                            "#26828e"
                          ],
                          [
                            0.5555555555555556,
                            "#1f9e89"
                          ],
                          [
                            0.6666666666666666,
                            "#35b779"
                          ],
                          [
                            0.7777777777777778,
                            "#6ece58"
                          ],
                          [
                            0.8888888888888888,
                            "#b5de2b"
                          ],
                          [
                            1,
                            "#fde725"
                          ]
                        ],
                        "type": "heatmapgl"
                      }
                    ],
                    "histogram": [
                      {
                        "marker": {
                          "line": {
                            "color": "white",
                            "width": 0.6
                          }
                        },
                        "type": "histogram"
                      }
                    ],
                    "histogram2d": [
                      {
                        "colorbar": {
                          "outlinewidth": 1,
                          "tickcolor": "rgb(36,36,36)",
                          "ticks": "outside"
                        },
                        "colorscale": [
                          [
                            0,
                            "#440154"
                          ],
                          [
                            0.1111111111111111,
                            "#482878"
                          ],
                          [
                            0.2222222222222222,
                            "#3e4989"
                          ],
                          [
                            0.3333333333333333,
                            "#31688e"
                          ],
                          [
                            0.4444444444444444,
                            "#26828e"
                          ],
                          [
                            0.5555555555555556,
                            "#1f9e89"
                          ],
                          [
                            0.6666666666666666,
                            "#35b779"
                          ],
                          [
                            0.7777777777777778,
                            "#6ece58"
                          ],
                          [
                            0.8888888888888888,
                            "#b5de2b"
                          ],
                          [
                            1,
                            "#fde725"
                          ]
                        ],
                        "type": "histogram2d"
                      }
                    ],
                    "histogram2dcontour": [
                      {
                        "colorbar": {
                          "outlinewidth": 1,
                          "tickcolor": "rgb(36,36,36)",
                          "ticks": "outside"
                        },
                        "colorscale": [
                          [
                            0,
                            "#440154"
                          ],
                          [
                            0.1111111111111111,
                            "#482878"
                          ],
                          [
                            0.2222222222222222,
                            "#3e4989"
                          ],
                          [
                            0.3333333333333333,
                            "#31688e"
                          ],
                          [
                            0.4444444444444444,
                            "#26828e"
                          ],
                          [
                            0.5555555555555556,
                            "#1f9e89"
                          ],
                          [
                            0.6666666666666666,
                            "#35b779"
                          ],
                          [
                            0.7777777777777778,
                            "#6ece58"
                          ],
                          [
                            0.8888888888888888,
                            "#b5de2b"
                          ],
                          [
                            1,
                            "#fde725"
                          ]
                        ],
                        "type": "histogram2dcontour"
                      }
                    ],
                    "mesh3d": [
                      {
                        "colorbar": {
                          "outlinewidth": 1,
                          "tickcolor": "rgb(36,36,36)",
                          "ticks": "outside"
                        },
                        "type": "mesh3d"
                      }
                    ],
                    "parcoords": [
                      {
                        "line": {
                          "colorbar": {
                            "outlinewidth": 1,
                            "tickcolor": "rgb(36,36,36)",
                            "ticks": "outside"
                          }
                        },
                        "type": "parcoords"
                      }
                    ],
                    "pie": [
                      {
                        "automargin": true,
                        "type": "pie"
                      }
                    ],
                    "scatter": [
                      {
                        "fillpattern": {
                          "fillmode": "overlay",
                          "size": 10,
                          "solidity": 0.2
                        },
                        "type": "scatter"
                      }
                    ],
                    "scatter3d": [
                      {
                        "line": {
                          "colorbar": {
                            "outlinewidth": 1,
                            "tickcolor": "rgb(36,36,36)",
                            "ticks": "outside"
                          }
                        },
                        "marker": {
                          "colorbar": {
                            "outlinewidth": 1,
                            "tickcolor": "rgb(36,36,36)",
                            "ticks": "outside"
                          }
                        },
                        "type": "scatter3d"
                      }
                    ],
                    "scattercarpet": [
                      {
                        "marker": {
                          "colorbar": {
                            "outlinewidth": 1,
                            "tickcolor": "rgb(36,36,36)",
                            "ticks": "outside"
                          }
                        },
                        "type": "scattercarpet"
                      }
                    ],
                    "scattergeo": [
                      {
                        "marker": {
                          "colorbar": {
                            "outlinewidth": 1,
                            "tickcolor": "rgb(36,36,36)",
                            "ticks": "outside"
                          }
                        },
                        "type": "scattergeo"
                      }
                    ],
                    "scattergl": [
                      {
                        "marker": {
                          "colorbar": {
                            "outlinewidth": 1,
                            "tickcolor": "rgb(36,36,36)",
                            "ticks": "outside"
                          }
                        },
                        "type": "scattergl"
                      }
                    ],
                    "scattermapbox": [
                      {
                        "marker": {
                          "colorbar": {
                            "outlinewidth": 1,
                            "tickcolor": "rgb(36,36,36)",
                            "ticks": "outside"
                          }
                        },
                        "type": "scattermapbox"
                      }
                    ],
                    "scatterpolar": [
                      {
                        "marker": {
                          "colorbar": {
                            "outlinewidth": 1,
                            "tickcolor": "rgb(36,36,36)",
                            "ticks": "outside"
                          }
                        },
                        "type": "scatterpolar"
                      }
                    ],
                    "scatterpolargl": [
                      {
                        "marker": {
                          "colorbar": {
                            "outlinewidth": 1,
                            "tickcolor": "rgb(36,36,36)",
                            "ticks": "outside"
                          }
                        },
                        "type": "scatterpolargl"
                      }
                    ],
                    "scatterternary": [
                      {
                        "marker": {
                          "colorbar": {
                            "outlinewidth": 1,
                            "tickcolor": "rgb(36,36,36)",
                            "ticks": "outside"
                          }
                        },
                        "type": "scatterternary"
                      }
                    ],
                    "surface": [
                      {
                        "colorbar": {
                          "outlinewidth": 1,
                          "tickcolor": "rgb(36,36,36)",
                          "ticks": "outside"
                        },
                        "colorscale": [
                          [
                            0,
                            "#440154"
                          ],
                          [
                            0.1111111111111111,
                            "#482878"
                          ],
                          [
                            0.2222222222222222,
                            "#3e4989"
                          ],
                          [
                            0.3333333333333333,
                            "#31688e"
                          ],
                          [
                            0.4444444444444444,
                            "#26828e"
                          ],
                          [
                            0.5555555555555556,
                            "#1f9e89"
                          ],
                          [
                            0.6666666666666666,
                            "#35b779"
                          ],
                          [
                            0.7777777777777778,
                            "#6ece58"
                          ],
                          [
                            0.8888888888888888,
                            "#b5de2b"
                          ],
                          [
                            1,
                            "#fde725"
                          ]
                        ],
                        "type": "surface"
                      }
                    ],
                    "table": [
                      {
                        "cells": {
                          "fill": {
                            "color": "rgb(237,237,237)"
                          },
                          "line": {
                            "color": "white"
                          }
                        },
                        "header": {
                          "fill": {
                            "color": "rgb(217,217,217)"
                          },
                          "line": {
                            "color": "white"
                          }
                        },
                        "type": "table"
                      }
                    ]
                  },
                  "layout": {
                    "annotationdefaults": {
                      "arrowhead": 0,
                      "arrowwidth": 1
                    },
                    "autotypenumbers": "strict",
                    "coloraxis": {
                      "colorbar": {
                        "outlinewidth": 1,
                        "tickcolor": "rgb(36,36,36)",
                        "ticks": "outside"
                      }
                    },
                    "colorscale": {
                      "diverging": [
                        [
                          0,
                          "rgb(103,0,31)"
                        ],
                        [
                          0.1,
                          "rgb(178,24,43)"
                        ],
                        [
                          0.2,
                          "rgb(214,96,77)"
                        ],
                        [
                          0.3,
                          "rgb(244,165,130)"
                        ],
                        [
                          0.4,
                          "rgb(253,219,199)"
                        ],
                        [
                          0.5,
                          "rgb(247,247,247)"
                        ],
                        [
                          0.6,
                          "rgb(209,229,240)"
                        ],
                        [
                          0.7,
                          "rgb(146,197,222)"
                        ],
                        [
                          0.8,
                          "rgb(67,147,195)"
                        ],
                        [
                          0.9,
                          "rgb(33,102,172)"
                        ],
                        [
                          1,
                          "rgb(5,48,97)"
                        ]
                      ],
                      "sequential": [
                        [
                          0,
                          "#440154"
                        ],
                        [
                          0.1111111111111111,
                          "#482878"
                        ],
                        [
                          0.2222222222222222,
                          "#3e4989"
                        ],
                        [
                          0.3333333333333333,
                          "#31688e"
                        ],
                        [
                          0.4444444444444444,
                          "#26828e"
                        ],
                        [
                          0.5555555555555556,
                          "#1f9e89"
                        ],
                        [
                          0.6666666666666666,
                          "#35b779"
                        ],
                        [
                          0.7777777777777778,
                          "#6ece58"
                        ],
                        [
                          0.8888888888888888,
                          "#b5de2b"
                        ],
                        [
                          1,
                          "#fde725"
                        ]
                      ],
                      "sequentialminus": [
                        [
                          0,
                          "#440154"
                        ],
                        [
                          0.1111111111111111,
                          "#482878"
                        ],
                        [
                          0.2222222222222222,
                          "#3e4989"
                        ],
                        [
                          0.3333333333333333,
                          "#31688e"
                        ],
                        [
                          0.4444444444444444,
                          "#26828e"
                        ],
                        [
                          0.5555555555555556,
                          "#1f9e89"
                        ],
                        [
                          0.6666666666666666,
                          "#35b779"
                        ],
                        [
                          0.7777777777777778,
                          "#6ece58"
                        ],
                        [
                          0.8888888888888888,
                          "#b5de2b"
                        ],
                        [
                          1,
                          "#fde725"
                        ]
                      ]
                    },
                    "colorway": [
                      "#1F77B4",
                      "#FF7F0E",
                      "#2CA02C",
                      "#D62728",
                      "#9467BD",
                      "#8C564B",
                      "#E377C2",
                      "#7F7F7F",
                      "#BCBD22",
                      "#17BECF"
                    ],
                    "font": {
                      "color": "rgb(36,36,36)"
                    },
                    "geo": {
                      "bgcolor": "white",
                      "lakecolor": "white",
                      "landcolor": "white",
                      "showlakes": true,
                      "showland": true,
                      "subunitcolor": "white"
                    },
                    "hoverlabel": {
                      "align": "left"
                    },
                    "hovermode": "closest",
                    "mapbox": {
                      "style": "light"
                    },
                    "paper_bgcolor": "white",
                    "plot_bgcolor": "white",
                    "polar": {
                      "angularaxis": {
                        "gridcolor": "rgb(232,232,232)",
                        "linecolor": "rgb(36,36,36)",
                        "showgrid": false,
                        "showline": true,
                        "ticks": "outside"
                      },
                      "bgcolor": "white",
                      "radialaxis": {
                        "gridcolor": "rgb(232,232,232)",
                        "linecolor": "rgb(36,36,36)",
                        "showgrid": false,
                        "showline": true,
                        "ticks": "outside"
                      }
                    },
                    "scene": {
                      "xaxis": {
                        "backgroundcolor": "white",
                        "gridcolor": "rgb(232,232,232)",
                        "gridwidth": 2,
                        "linecolor": "rgb(36,36,36)",
                        "showbackground": true,
                        "showgrid": false,
                        "showline": true,
                        "ticks": "outside",
                        "zeroline": false,
                        "zerolinecolor": "rgb(36,36,36)"
                      },
                      "yaxis": {
                        "backgroundcolor": "white",
                        "gridcolor": "rgb(232,232,232)",
                        "gridwidth": 2,
                        "linecolor": "rgb(36,36,36)",
                        "showbackground": true,
                        "showgrid": false,
                        "showline": true,
                        "ticks": "outside",
                        "zeroline": false,
                        "zerolinecolor": "rgb(36,36,36)"
                      },
                      "zaxis": {
                        "backgroundcolor": "white",
                        "gridcolor": "rgb(232,232,232)",
                        "gridwidth": 2,
                        "linecolor": "rgb(36,36,36)",
                        "showbackground": true,
                        "showgrid": false,
                        "showline": true,
                        "ticks": "outside",
                        "zeroline": false,
                        "zerolinecolor": "rgb(36,36,36)"
                      }
                    },
                    "shapedefaults": {
                      "fillcolor": "black",
                      "line": {
                        "width": 0
                      },
                      "opacity": 0.3
                    },
                    "ternary": {
                      "aaxis": {
                        "gridcolor": "rgb(232,232,232)",
                        "linecolor": "rgb(36,36,36)",
                        "showgrid": false,
                        "showline": true,
                        "ticks": "outside"
                      },
                      "baxis": {
                        "gridcolor": "rgb(232,232,232)",
                        "linecolor": "rgb(36,36,36)",
                        "showgrid": false,
                        "showline": true,
                        "ticks": "outside"
                      },
                      "bgcolor": "white",
                      "caxis": {
                        "gridcolor": "rgb(232,232,232)",
                        "linecolor": "rgb(36,36,36)",
                        "showgrid": false,
                        "showline": true,
                        "ticks": "outside"
                      }
                    },
                    "title": {
                      "x": 0.05
                    },
                    "xaxis": {
                      "automargin": true,
                      "gridcolor": "rgb(232,232,232)",
                      "linecolor": "rgb(36,36,36)",
                      "showgrid": false,
                      "showline": true,
                      "ticks": "outside",
                      "title": {
                        "standoff": 15
                      },
                      "zeroline": false,
                      "zerolinecolor": "rgb(36,36,36)"
                    },
                    "yaxis": {
                      "automargin": true,
                      "gridcolor": "rgb(232,232,232)",
                      "linecolor": "rgb(36,36,36)",
                      "showgrid": false,
                      "showline": true,
                      "ticks": "outside",
                      "title": {
                        "standoff": 15
                      },
                      "zeroline": false,
                      "zerolinecolor": "rgb(36,36,36)"
                    }
                  }
                },
                "title": {
                  "font": {
                    "color": "Black",
                    "size": 22
                  },
                  "text": "<b>Topics over Time</b>",
                  "x": 0.4,
                  "xanchor": "center",
                  "y": 0.95,
                  "yanchor": "top"
                },
                "width": 1250,
                "xaxis": {
                  "showgrid": true
                },
                "yaxis": {
                  "showgrid": true,
                  "title": {
                    "text": "Frequency"
                  }
                }
              }
            }
          },
          "metadata": {},
          "output_type": "display_data"
        }
      ],
      "source": [
        "# Filter for non-empty text\n",
        "text_df = df[df['clean_text'].str.len() > 10].reset_index(drop=False)  # Change drop=True to drop=False\n",
        "\n",
        "# Prepare corpus for BERTopic\n",
        "docs = text_df['clean_text'].tolist()\n",
        "\n",
        "print(f\"Performing topic modeling on {len(docs):,} documents...\")\n",
        "\n",
        "# Train BERTopic model\n",
        "topic_model = BERTopic(language=\"english\", calculate_probabilities=True, verbose=True)\n",
        "topics, probs = topic_model.fit_transform(docs)\n",
        "\n",
        "# Add topics to the dataframe\n",
        "text_df['topic'] = topics\n",
        "text_df['topic_prob'] = probs.max(axis=1)\n",
        "\n",
        "# Visualize the topics\n",
        "fig = topic_model.visualize_topics()\n",
        "fig.show()\n",
        "\n",
        "# Get topic info\n",
        "topic_info = topic_model.get_topic_info()\n",
        "print(\"\\nTop Topics:\")\n",
        "for i, row in topic_info.head(10).iterrows():\n",
        "    if row['Topic'] != -1:  # Skip outlier topic\n",
        "        print(f\"Topic {row['Topic']}: {row['Name']} (size: {row['Count']})\")\n",
        "        words = topic_model.get_topic(row['Topic'])\n",
        "        print(f\"  Top words: {', '.join([word for word, _ in words[:5]])}\")\n",
        "\n",
        "# Add topics back to main dataframe\n",
        "topic_mapping = dict(zip(text_df['index'], text_df['topic']))\n",
        "df['topic'] = df.index.map(topic_mapping).fillna(-1).astype(int)\n",
        "\n",
        "# Track topics over time\n",
        "topics_over_time = topic_model.topics_over_time(docs,\n",
        "                                                text_df['created_at'].tolist(),  # Use text_df instead of df.loc\n",
        "                                                nr_bins=10)\n",
        "fig = topic_model.visualize_topics_over_time(topics_over_time)\n",
        "fig.show()\n"
      ]
    },
    {
      "cell_type": "code",
      "execution_count": 30,
      "metadata": {
        "colab": {
          "base_uri": "https://localhost:8080/",
          "height": 596,
          "referenced_widgets": [
            "13927f5fba5149fdb1c3af54d0ef0c97",
            "38b97a9710d84dc489312e459f1d5aae",
            "ee215cee1b124e00aa7b3b820dcfd43f",
            "a1ac28e805d743749fff61dbcc8f8cb1",
            "d7e459d80a0e445cadc3bf871307e212",
            "ce30bdbae33e4d29a5c661516fee8d26",
            "2fb93d692aae4057ab2fa28c83003357",
            "57f130ca3d974a64b97d25857b9aa76b",
            "839579d56a104b1ebe0db0e6e807c688",
            "a2ac3d62dafb4fd88110d3ee7ed98cfe",
            "12fd421ac4d443f293aae752589eee60",
            "b004917466a44eaebae5a3860078fd3a",
            "11a7651157914185add40f92cf4ba128",
            "1780637a970f472781110a4fefb73f37",
            "0c2fd0a467ff4fa194f711c276f59b01",
            "30e0c2892b2f410c9ccf1e42d7c56856",
            "8a37e224aeeb48c8b3b240d487bd85f6",
            "8fbb3a89bada495fae29ad3933eda3aa",
            "a494347971e54a679385f1ec10e24cf1",
            "99f0f1150e0c47ca8b5de3f47bf216eb",
            "78b95e875d2f4bed9a021eae6827923e",
            "1d622c810b8145fdbb6c1bec214fdfab",
            "deef6f45007e42eda1b680283105370d",
            "e5a08c0f17004ece83175a1eaad92909",
            "2b177419b7d24ed8b47ff363d4c94145",
            "dcb6812789854d53aa6420fdb955c179",
            "e87092b0fdd245338334f867b77ce7b3",
            "a508f62631424dcfbee3d6ae23adba08",
            "d9e3b5e7a2ad4bc78a912a627adafc23",
            "adb7decfe4b84827b294d9af6bbad169",
            "59e9d79d77a64d3ebc33663886347bae",
            "c5dc5102eba742df80fc23e3f924e546",
            "7c08bfecf7f348aa9f69ac9d4f7b99b5",
            "f70e550edee54d6e91fdc6982b8e4729",
            "fbee9a79e23d438fbd4c05daf52073b9",
            "a4b89dc349d848a5a7fdda4f7208f0f0",
            "79b4651f81c94fa49fd7ca0fd0360d99",
            "afed6b063c824aed8035f4feffa2c246",
            "6cd2590fee4a4702adcf35d3d1921864",
            "2ca0905aeab04ed0958d8bd57b819573",
            "8cfcfc2305314bf1898f7c0ff5db59c5",
            "50cd8ced9b1c4ed39f75a831eec1278e",
            "c784a8f660d44404af54d6aa6094192b",
            "206b93f4c58a4bedb0b183bc425bb45f"
          ]
        },
        "id": "0UjI_IOeN4Yn",
        "outputId": "7026a217-66e4-4912-e358-b21bd119a566"
      },
      "outputs": [
        {
          "name": "stderr",
          "output_type": "stream",
          "text": [
            "Device set to use mps:0\n"
          ]
        },
        {
          "name": "stdout",
          "output_type": "stream",
          "text": [
            "Loading transformer-based sentiment analyzer...\n",
            "Running transformer sentiment on 2000 tweets...\n"
          ]
        },
        {
          "data": {
            "text/plain": [
              "<Figure size 1200x800 with 0 Axes>"
            ]
          },
          "metadata": {},
          "output_type": "display_data"
        },
        {
          "data": {
            "image/png": "[encoded data removed]",
            "text/plain": [
              "<Figure size 1200x600 with 1 Axes>"
            ]
          },
          "metadata": {},
          "output_type": "display_data"
        }
      ],
      "source": [
        "# Create a more advanced transformer-based sentiment analyzer\n",
        "from transformers import pipeline\n",
        "\n",
        "# Initialize the sentiment analysis pipeline\n",
        "print(\"Loading transformer-based sentiment analyzer...\")\n",
        "classifier = pipeline('sentiment-analysis', model=\"distilbert-base-uncased-finetuned-sst-2-english\")\n",
        "\n",
        "# Function to analyze sentiment with transformer\n",
        "def analyze_transformer_sentiment(texts, batch_size=32):\n",
        "    results = []\n",
        "    # Process in batches to avoid memory issues\n",
        "    for i in range(0, len(texts), batch_size):\n",
        "        batch = texts[i:i+batch_size]\n",
        "        batch_results = classifier(batch)\n",
        "        results.extend(batch_results)\n",
        "    return results\n",
        "\n",
        "# Sample a subset for transformer analysis (to save time)\n",
        "sample_size = min(2000, len(df))\n",
        "sampled_df = df.sample(sample_size)\n",
        "\n",
        "# Run transformer sentiment analysis on sample\n",
        "print(f\"Running transformer sentiment on {sample_size} tweets...\")\n",
        "transformer_results = analyze_transformer_sentiment(sampled_df['clean_text'].tolist())\n",
        "sampled_df['transformer_label'] = [r['label'] for r in transformer_results]\n",
        "sampled_df['transformer_score'] = [r['score'] for r in transformer_results]\n",
        "\n",
        "# Compare sentiment across vaccines\n",
        "plt.figure(figsize=(12, 8))\n",
        "vaccine_sentiments = []\n",
        "\n",
        "for vaccine in vaccine_keywords.keys():\n",
        "    # VADER sentiment by vaccine\n",
        "    vac_sentiment = df[df[f'mentions_{vaccine}']]['vader_sentiment'].value_counts(normalize=True)\n",
        "    vaccine_sentiments.append({\n",
        "        'vaccine': vaccine,\n",
        "        'positive': vac_sentiment.get('positive', 0),\n",
        "        'neutral': vac_sentiment.get('neutral', 0),\n",
        "        'negative': vac_sentiment.get('negative', 0)\n",
        "    })\n",
        "\n",
        "# Create DataFrame for visualization\n",
        "sent_df = pd.DataFrame(vaccine_sentiments)\n",
        "sent_df = sent_df.melt(id_vars=['vaccine'], var_name='sentiment', value_name='percentage')\n",
        "\n",
        "# Plot sentiment comparison\n",
        "plt.figure(figsize=(12, 6))\n",
        "chart = sns.barplot(data=sent_df, x='vaccine', y='percentage', hue='sentiment', palette='viridis')\n",
        "chart.set_title('Sentiment Distribution by Vaccine', fontsize=16)\n",
        "chart.set_xlabel('Vaccine', fontsize=14)\n",
        "chart.set_ylabel('Percentage', fontsize=14)\n",
        "chart.bar_label(chart.containers[0], fmt='%.1f%%', padding=5)\n",
        "chart.bar_label(chart.containers[1], fmt='%.1f%%', padding=5)\n",
        "chart.bar_label(chart.containers[2], fmt='%.1f%%', padding=5)\n",
        "plt.tight_layout()\n",
        "plt.show()\n"
      ]
    },
    {
      "cell_type": "code",
      "execution_count": 31,
      "metadata": {
        "colab": {
          "base_uri": "https://localhost:8080/",
          "height": 1000
        },
        "id": "hME5JNPCPzSU",
        "outputId": "48d09fc5-817e-4b89-f537-415289ae89bb"
      },
      "outputs": [
        {
          "name": "stdout",
          "output_type": "stream",
          "text": [
            "Building interaction network...\n",
            "Network has 5556 nodes and 2467 edges\n",
            "Calculating network metrics...\n",
            "Network is large, calculating betweenness on top nodes only...\n",
            "Detecting communities...\n",
            "Network modularity: 0.9170\n",
            "\n",
            "Top 10 Influencers by PageRank:\n",
            "pfizer: 0.0109\n",
            "Simon Hodes ⬅️2m➡️ 😷: 0.0102\n",
            "Whtrslugcaviiersong#dontstayhomeandcatchcovid19: 0.0058\n",
            "BorisJohnson: 0.0050\n",
            "Ian 3.5% #FBPE: 0.0049\n",
            "Medical Study Blog: 0.0045\n",
            "🕷Financial Bear 3.5%: 0.0044\n",
            "ℙ𝕙𝕚𝕝 ⚒ #FBPE #RejoinEU #GTTO: 0.0043\n",
            "Rose Webster: 0.0036\n",
            "WHO: 0.0035\n",
            "Generating interactive network visualization...\n",
            "Warning: When  cdn_resources is 'local' jupyter notebook has issues displaying graphics on chrome/safari. Use cdn_resources='in_line' or cdn_resources='remote' if you have issues viewing graphics in a notebook.\n",
            "vaccine_network.html\n"
          ]
        },
        {
          "data": {
            "text/html": [
              "\n",
              "        <iframe\n",
              "            width=\"100%\"\n",
              "            height=\"750px\"\n",
              "            src=\"vaccine_network.html\"\n",
              "            frameborder=\"0\"\n",
              "            allowfullscreen\n",
              "            \n",
              "        ></iframe>\n",
              "        "
            ],
            "text/plain": [
              "<IPython.lib.display.IFrame at 0x3e6052060>"
            ]
          },
          "execution_count": 31,
          "metadata": {},
          "output_type": "execute_result"
        }
      ],
      "source": [
        "# Build retweet/mention network\n",
        "def create_interaction_network(df, user_col='user_name', interaction_col='mentions', min_weight=2):\n",
        "    G = nx.Graph()\n",
        "\n",
        "    # Add nodes (users)\n",
        "    users = df[user_col].unique()\n",
        "    G.add_nodes_from(users)\n",
        "\n",
        "    # Add edges for interactions\n",
        "    interactions = {}\n",
        "    for _, row in df.iterrows():\n",
        "        user = row[user_col]\n",
        "        for mentioned in row[interaction_col]:\n",
        "            if mentioned and mentioned != user:  # Avoid self-loops\n",
        "                key = tuple(sorted([user, mentioned]))\n",
        "                interactions[key] = interactions.get(key, 0) + 1\n",
        "\n",
        "    # Add weighted edges\n",
        "    for (user1, user2), weight in interactions.items():\n",
        "        if weight >= min_weight:  # Only add edges with sufficient interactions\n",
        "            G.add_edge(user1, user2, weight=weight)\n",
        "\n",
        "    return G\n",
        "\n",
        "# Create the network\n",
        "print(\"Building interaction network...\")\n",
        "mention_network = create_interaction_network(df, min_weight=1)\n",
        "print(f\"Network has {mention_network.number_of_nodes()} nodes and {mention_network.number_of_edges()} edges\")\n",
        "\n",
        "# Calculate centrality metrics\n",
        "print(\"Calculating network metrics...\")\n",
        "# Degree centrality\n",
        "degree_cent = nx.degree_centrality(mention_network)\n",
        "# PageRank\n",
        "pagerank = nx.pagerank(mention_network, weight='weight')\n",
        "# Betweenness (on a sample if the network is large)\n",
        "if mention_network.number_of_nodes() > 1000:\n",
        "    print(\"Network is large, calculating betweenness on top nodes only...\")\n",
        "    top_nodes = sorted(pagerank, key=pagerank.get, reverse=True)[:500]\n",
        "    sub_graph = mention_network.subgraph(top_nodes)\n",
        "    betweenness = nx.betweenness_centrality(sub_graph, weight='weight')\n",
        "else:\n",
        "    betweenness = nx.betweenness_centrality(mention_network, weight='weight')\n",
        "\n",
        "# Identify communities\n",
        "print(\"Detecting communities...\")\n",
        "communities = community_louvain.best_partition(mention_network)\n",
        "modularity = community_louvain.modularity(communities, mention_network)\n",
        "print(f\"Network modularity: {modularity:.4f}\")\n",
        "\n",
        "# Show top influencers\n",
        "print(\"\\nTop 10 Influencers by PageRank:\")\n",
        "top_influencers = sorted(pagerank.items(), key=lambda x: x[1], reverse=True)[:10]\n",
        "for user, score in top_influencers:\n",
        "    print(f\"{user}: {score:.4f}\")\n",
        "\n",
        "# Visualize network with PyVis\n",
        "def visualize_network(G, centrality_dict, communities, output_path='network.html', max_nodes=300):\n",
        "    # Create subset for visualization if needed\n",
        "    if G.number_of_nodes() > max_nodes:\n",
        "        top_nodes = sorted(centrality_dict, key=centrality_dict.get, reverse=True)[:max_nodes]\n",
        "        G = G.subgraph(top_nodes)\n",
        "\n",
        "    # Create PyVis network\n",
        "    net = Network(height=\"750px\", width=\"100%\", notebook=True, bgcolor=\"#222222\", font_color=\"white\")\n",
        "\n",
        "    # Set node properties based on centrality and community\n",
        "    community_colors = [\"#e41a1c\", \"#377eb8\", \"#4daf4a\", \"#984ea3\", \"#ff7f00\", \"#ffff33\", \"#a65628\", \"#f781bf\"]\n",
        "\n",
        "    for node in G.nodes():\n",
        "        size = 10 + 50 * centrality_dict.get(node, 0)  # Node size based on centrality\n",
        "        community_id = communities.get(node, 0)\n",
        "        color = community_colors[community_id % len(community_colors)]\n",
        "        net.add_node(node, size=size, title=f\"User: {node}\\nCentrality: {centrality_dict.get(node, 0):.4f}\", color=color)\n",
        "\n",
        "    # Add edges with weights\n",
        "    for source, target, data in G.edges(data=True):\n",
        "        width = 1 + 0.5 * data.get('weight', 1)\n",
        "        net.add_edge(source, target, width=width, title=f\"Weight: {data.get('weight', 1)}\")\n",
        "\n",
        "    # Set physics layout options\n",
        "    net.barnes_hut(gravity=-80000, central_gravity=0.3, spring_length=250, spring_strength=0.001, damping=0.09)\n",
        "    net.save_graph(output_path)\n",
        "    return net\n",
        "\n",
        "# Visualize network\n",
        "print(\"Generating interactive network visualization...\")\n",
        "net_vis = visualize_network(mention_network, pagerank, communities, 'vaccine_network.html')\n",
        "net_vis.show('vaccine_network.html')\n"
      ]
    },
    {
      "cell_type": "code",
      "execution_count": 33,
      "metadata": {},
      "outputs": [
        {
          "name": "stdout",
          "output_type": "stream",
          "text": [
            "Collecting wordcloud\n",
            "  Downloading wordcloud-1.9.4-cp312-cp312-macosx_11_0_arm64.whl.metadata (3.4 kB)\n",
            "Requirement already satisfied: numpy>=1.6.1 in /opt/anaconda3/lib/python3.12/site-packages (from wordcloud) (1.26.4)\n",
            "Requirement already satisfied: pillow in /opt/anaconda3/lib/python3.12/site-packages (from wordcloud) (10.4.0)\n",
            "Requirement already satisfied: matplotlib in /opt/anaconda3/lib/python3.12/site-packages (from wordcloud) (3.9.2)\n",
            "Requirement already satisfied: contourpy>=1.0.1 in /opt/anaconda3/lib/python3.12/site-packages (from matplotlib->wordcloud) (1.2.0)\n",
            "Requirement already satisfied: cycler>=0.10 in /opt/anaconda3/lib/python3.12/site-packages (from matplotlib->wordcloud) (0.11.0)\n",
            "Requirement already satisfied: fonttools>=4.22.0 in /opt/anaconda3/lib/python3.12/site-packages (from matplotlib->wordcloud) (4.51.0)\n",
            "Requirement already satisfied: kiwisolver>=1.3.1 in /opt/anaconda3/lib/python3.12/site-packages (from matplotlib->wordcloud) (1.4.4)\n",
            "Requirement already satisfied: packaging>=20.0 in /opt/anaconda3/lib/python3.12/site-packages (from matplotlib->wordcloud) (24.1)\n",
            "Requirement already satisfied: pyparsing>=2.3.1 in /opt/anaconda3/lib/python3.12/site-packages (from matplotlib->wordcloud) (3.1.2)\n",
            "Requirement already satisfied: python-dateutil>=2.7 in /opt/anaconda3/lib/python3.12/site-packages (from matplotlib->wordcloud) (2.9.0.post0)\n",
            "Requirement already satisfied: six>=1.5 in /opt/anaconda3/lib/python3.12/site-packages (from python-dateutil>=2.7->matplotlib->wordcloud) (1.16.0)\n",
            "Downloading wordcloud-1.9.4-cp312-cp312-macosx_11_0_arm64.whl (168 kB)\n",
            "Installing collected packages: wordcloud\n",
            "Successfully installed wordcloud-1.9.4\n"
          ]
        }
      ],
      "source": [
        "!pip install wordcloud"
      ]
    },
    {
      "cell_type": "code",
      "execution_count": 34,
      "metadata": {},
      "outputs": [
        {
          "data": {
            "application/vnd.jupyter.widget-view+json": {
              "model_id": "46dddc76d2e641e29f35409982cd85e5",
              "version_major": 2,
              "version_minor": 0
            },
            "text/plain": [
              "Tab(children=(Output(), Output(), Output(), Output(), Output(), Output(), Output()), _titles={'0': 'Sentiment …"
            ]
          },
          "metadata": {},
          "output_type": "display_data"
        }
      ],
      "source": [
        "# Fixed version of create_dashboard function\n",
        "import pandas as pd\n",
        "import numpy as np\n",
        "import matplotlib.pyplot as plt\n",
        "import networkx as nx\n",
        "from community import community_louvain\n",
        "import plotly.express as px\n",
        "from wordcloud import WordCloud\n",
        "import ipywidgets as widgets\n",
        "from IPython.display import display\n",
        "from sklearn.feature_extraction.text import CountVectorizer\n",
        "from sklearn.decomposition import LatentDirichletAllocation\n",
        "\n",
        "def create_dashboard():\n",
        "    # Create tabs\n",
        "    tab = widgets.Tab()\n",
        "    children = []\n",
        "\n",
        "    # Tab 1: Sentiment Trends\n",
        "    tab1 = widgets.Output()\n",
        "    with tab1:\n",
        "        # Create sentiment over time visualization\n",
        "        print(\"Visualizing sentiment trends...\")\n",
        "        df_time = df.copy()\n",
        "        df_time['date'] = df_time['created_at'].dt.date\n",
        "        sentiment_by_date = df_time.groupby('date')['vader_compound'].mean().reset_index()\n",
        "        \n",
        "        plt.figure(figsize=(12, 6))\n",
        "        plt.plot(sentiment_by_date['date'], sentiment_by_date['vader_compound'], 'b-', linewidth=2)\n",
        "        plt.axhline(y=0, color='r', linestyle='--', alpha=0.3)\n",
        "        plt.title('Sentiment Trend Over Time')\n",
        "        plt.xlabel('Date')\n",
        "        plt.ylabel('Average Sentiment Score')\n",
        "        plt.xticks(rotation=45)\n",
        "        plt.tight_layout()\n",
        "        plt.show()\n",
        "        \n",
        "        # Create wordcloud\n",
        "        print(\"\\nGenerating wordcloud of common terms...\")\n",
        "        text = \" \".join(df['clean_text'].dropna())\n",
        "        wordcloud = WordCloud(width=800, height=400, background_color='black', \n",
        "                             colormap='viridis', max_words=100).generate(text)\n",
        "        \n",
        "        plt.figure(figsize=(12, 6))\n",
        "        plt.imshow(wordcloud, interpolation='bilinear')\n",
        "        plt.axis('off')\n",
        "        plt.tight_layout()\n",
        "        plt.show()\n",
        "    \n",
        "    children.append(tab1)\n",
        "\n",
        "    # Tab 2: Network Analysis\n",
        "    tab2 = widgets.Output()\n",
        "    with tab2:\n",
        "        print(\"Displaying network visualization...\")\n",
        "        print(\"This is an interactive network that was previously generated.\")\n",
        "        print(\"The network visualization shows connections between users based on mentions and retweets.\")\n",
        "        print(\"\\nNetwork Statistics:\")\n",
        "        print(f\"Number of nodes: {mention_network.number_of_nodes()}\")\n",
        "        print(f\"Number of edges: {mention_network.number_of_edges()}\")\n",
        "        \n",
        "        # Display top influencers\n",
        "        print(\"\\nTop 10 Influencers (by PageRank centrality):\")\n",
        "        top_influencers = sorted(pagerank.items(), key=lambda x: x[1], reverse=True)[:10]\n",
        "        for i, (user, score) in enumerate(top_influencers, 1):\n",
        "            print(f\"{i}. {user}: {score:.4f}\")\n",
        "            \n",
        "        # Display community information\n",
        "        community_sizes = {}\n",
        "        for user, community_id in communities.items():\n",
        "            community_sizes[community_id] = community_sizes.get(community_id, 0) + 1\n",
        "            \n",
        "        print(\"\\nCommunity Sizes:\")\n",
        "        for community_id, size in sorted(community_sizes.items(), key=lambda x: x[1], reverse=True)[:5]:\n",
        "            print(f\"Community {community_id}: {size} members\")\n",
        "    \n",
        "    children.append(tab2)\n",
        "\n",
        "    # Tab 3: Topic Modeling\n",
        "    tab3 = widgets.Output()\n",
        "    with tab3:\n",
        "        print(\"Performing topic modeling...\")\n",
        "        # Simple LDA topic modeling\n",
        "        vectorizer = CountVectorizer(max_df=0.95, min_df=2, stop_words='english', max_features=1000)\n",
        "        dtm = vectorizer.fit_transform(df['clean_text'].dropna())\n",
        "        \n",
        "        lda = LatentDirichletAllocation(n_components=5, random_state=42)\n",
        "        lda.fit(dtm)\n",
        "        \n",
        "        terms = vectorizer.get_feature_names_out()\n",
        "        \n",
        "        print(\"Top terms for each topic:\")\n",
        "        for i, topic in enumerate(lda.components_):\n",
        "            print(f\"\\nTopic {i+1}:\")\n",
        "            print(\", \".join([terms[i] for i in topic.argsort()[-10:]]))\n",
        "            \n",
        "        # Create simple topic distribution plot\n",
        "        topic_values = lda.transform(dtm).argmax(axis=1)\n",
        "        topic_counts = pd.Series(topic_values).value_counts().sort_index()\n",
        "        \n",
        "        plt.figure(figsize=(10, 6))\n",
        "        plt.bar(range(len(topic_counts)), topic_counts.values)\n",
        "        plt.xlabel('Topic Number')\n",
        "        plt.ylabel('Number of Documents')\n",
        "        plt.title('Document Distribution Across Topics')\n",
        "        plt.xticks(range(len(topic_counts)), [f\"Topic {i+1}\" for i in range(len(topic_counts))])\n",
        "        plt.show()\n",
        "    \n",
        "    children.append(tab3)\n",
        "\n",
        "    # Tab 4: Influencer Analysis\n",
        "    tab4 = widgets.Output()\n",
        "    with tab4:\n",
        "        print(\"Analyzing top influencers...\")\n",
        "        # Create a dataframe with centrality metrics\n",
        "        user_metrics = []\n",
        "        for user in pagerank:\n",
        "            user_metrics.append({\n",
        "                'user': user,\n",
        "                'pagerank': pagerank.get(user, 0),\n",
        "                'degree_centrality': degree_cent.get(user, 0),\n",
        "                'betweenness': betweenness.get(user, 0),\n",
        "                'community': communities.get(user, 0)\n",
        "            })\n",
        "        \n",
        "        influencer_df = pd.DataFrame(user_metrics)\n",
        "        influencer_df = influencer_df.sort_values('pagerank', ascending=False).head(20)\n",
        "        \n",
        "        # Create visualization\n",
        "        plt.figure(figsize=(12, 8))\n",
        "        plt.scatter(influencer_df['degree_centrality'], influencer_df['pagerank'], \n",
        "                   s=100, alpha=0.7, c=influencer_df['community'], cmap='viridis')\n",
        "        \n",
        "        for i, row in influencer_df.head(10).iterrows():\n",
        "            plt.annotate(row['user'], \n",
        "                        (row['degree_centrality'], row['pagerank']),\n",
        "                        fontsize=9, ha='center')\n",
        "            \n",
        "        plt.title('Top Influencers: PageRank vs Degree Centrality')\n",
        "        plt.xlabel('Degree Centrality')\n",
        "        plt.ylabel('PageRank')\n",
        "        plt.colorbar(label='Community ID')\n",
        "        plt.grid(True, alpha=0.3)\n",
        "        plt.tight_layout()\n",
        "        plt.show()\n",
        "        \n",
        "        # List top influencers\n",
        "        print(\"\\nTop 20 Influencers:\")\n",
        "        for i, row in influencer_df.iterrows():\n",
        "            print(f\"{row['user']}: PageRank={row['pagerank']:.4f}, Degree={row['degree_centrality']:.4f}\")\n",
        "    \n",
        "    children.append(tab4)\n",
        "\n",
        "    # Tab 5: Community Sentiment\n",
        "    tab5 = widgets.Output()\n",
        "    with tab5:\n",
        "        print(\"Analyzing sentiment by community...\")\n",
        "        # Create a dataframe mapping users to communities and sentiments\n",
        "        user_community = []\n",
        "        for user, community_id in communities.items():\n",
        "            # Get tweets from this user\n",
        "            user_tweets = df[df['user_name'] == user]\n",
        "            if not user_tweets.empty:\n",
        "                avg_sentiment = user_tweets['vader_compound'].mean()\n",
        "                user_community.append({\n",
        "                    'user': user,\n",
        "                    'community': community_id,\n",
        "                    'sentiment': avg_sentiment,\n",
        "                    'tweet_count': len(user_tweets)\n",
        "                })\n",
        "        \n",
        "        community_df = pd.DataFrame(user_community)\n",
        "        \n",
        "        # Calculate average sentiment by community\n",
        "        community_sentiment = community_df.groupby('community').agg({\n",
        "            'sentiment': 'mean',\n",
        "            'user': 'count',\n",
        "            'tweet_count': 'sum'\n",
        "        }).sort_values('user', ascending=False).reset_index()\n",
        "        \n",
        "        community_sentiment = community_sentiment.rename(columns={'user': 'user_count'})\n",
        "        community_sentiment = community_sentiment[community_sentiment['user_count'] > 5]  # Filter small communities\n",
        "        \n",
        "        # Create visualization\n",
        "        plt.figure(figsize=(12, 6))\n",
        "        bars = plt.bar(community_sentiment['community'], community_sentiment['sentiment'], \n",
        "               alpha=0.7, color=plt.cm.viridis(community_sentiment['sentiment']/2 + 0.5))\n",
        "        \n",
        "        plt.axhline(y=0, color='r', linestyle='--', alpha=0.3)\n",
        "        plt.title('Average Sentiment by Community')\n",
        "        plt.xlabel('Community ID')\n",
        "        plt.ylabel('Average Sentiment')\n",
        "        plt.xticks(rotation=45)\n",
        "        \n",
        "        # Add user count as text\n",
        "        for i, bar in enumerate(bars):\n",
        "            plt.text(bar.get_x() + bar.get_width()/2, \n",
        "                    bar.get_height() + 0.02 if bar.get_height() >= 0 else bar.get_height() - 0.05,\n",
        "                    f\"n={community_sentiment.iloc[i]['user_count']}\", \n",
        "                    ha='center', va='bottom', fontsize=8)\n",
        "        \n",
        "        plt.tight_layout()\n",
        "        plt.show()\n",
        "        \n",
        "        # Print community sentiment stats\n",
        "        print(\"\\nCommunity Sentiment Analysis:\")\n",
        "        print(community_sentiment.sort_values('sentiment', ascending=False).head(10))\n",
        "    \n",
        "    children.append(tab5)\n",
        "\n",
        "    # Tab 6: Information Propagation\n",
        "    tab6 = widgets.Output()\n",
        "    with tab6:\n",
        "        print(\"Analyzing information propagation...\")\n",
        "        # Build and analyze cascades\n",
        "        print(\"Building cascades network...\")\n",
        "        G_cascades = build_cascades(df)\n",
        "        cascade_df = analyze_cascades(G_cascades)\n",
        "        metrics = propagation_metrics(cascade_df)\n",
        "        \n",
        "        # Display metrics\n",
        "        print(\"\\nInformation Propagation Metrics:\")\n",
        "        print(f\"Average Cascade Size: {metrics['average_cascade_size']:.2f} users\")\n",
        "        print(f\"Average Cascade Duration: {metrics['average_cascade_duration']}\")\n",
        "        print(f\"Number of Cascades: {len(cascade_df)}\")\n",
        "        \n",
        "        # Create simple visualization\n",
        "        plt.figure(figsize=(10, 6))\n",
        "        # Convert timedelta to hours for better plotting\n",
        "        cascade_df['duration_hours'] = cascade_df['duration'].apply(lambda x: x.total_seconds() / 3600)\n",
        "        \n",
        "        plt.scatter(cascade_df['duration_hours'], cascade_df['size'], alpha=0.5)\n",
        "        plt.xscale('log')\n",
        "        plt.yscale('log')\n",
        "        plt.title('Information Cascades: Size vs Duration')\n",
        "        plt.xlabel('Cascade Duration (hours, log scale)')\n",
        "        plt.ylabel('Cascade Size (users, log scale)')\n",
        "        plt.grid(True, alpha=0.3)\n",
        "        plt.tight_layout()\n",
        "        plt.show()\n",
        "        \n",
        "        # Print largest cascades\n",
        "        print(\"\\nLargest Cascades:\")\n",
        "        largest_cascades = cascade_df.sort_values('size', ascending=False).head(5)\n",
        "        for i, row in largest_cascades.iterrows():\n",
        "            print(f\"Cascade {i+1}: {row['size']} users, {row['duration']} duration\")\n",
        "    \n",
        "    children.append(tab6)\n",
        "\n",
        "    # Tab 7: Causal Inference\n",
        "    tab7 = widgets.Output()\n",
        "    with tab7:\n",
        "        print(\"Performing causal inference analysis...\")\n",
        "        # Define important event dates (key vaccine events)\n",
        "        events = {\n",
        "            'Moderna EUA': '2020-12-18',\n",
        "            'Pfizer EUA': '2020-12-11',\n",
        "            'J&J EUA': '2021-02-27',\n",
        "        }\n",
        "        \n",
        "        # Create simple sentiment comparison visualization\n",
        "        event_date = events['Moderna EUA']\n",
        "        print(f\"\\nAnalyzing effects of {event_date} (Moderna EUA)\")\n",
        "        \n",
        "        # Add vader_compound as sentiment_score if it doesn't exist\n",
        "        df_did = df.copy()\n",
        "        if 'sentiment_score' not in df_did.columns:\n",
        "            df_did['sentiment_score'] = df_did['vader_compound']\n",
        "        \n",
        "        event_date_pd = pd.to_datetime(event_date)\n",
        "        df_did['days_from_event'] = (df_did['created_at'] - event_date_pd).dt.days\n",
        "        \n",
        "        # Create visualization\n",
        "        df_window = df_did[(df_did['days_from_event'] >= -30) & (df_did['days_from_event'] <= 30)]\n",
        "        daily_sentiment = df_window.groupby('days_from_event')['sentiment_score'].mean().reset_index()\n",
        "        \n",
        "        plt.figure(figsize=(12, 6))\n",
        "        plt.plot(daily_sentiment['days_from_event'], daily_sentiment['sentiment_score'], 'b-', linewidth=2)\n",
        "        plt.axvline(x=0, color='r', linestyle='--', alpha=0.7, label='Event Date')\n",
        "        plt.axhline(y=0, color='gray', linestyle='--', alpha=0.3)\n",
        "        \n",
        "        # Calculate pre and post averages\n",
        "        pre_event = daily_sentiment[daily_sentiment['days_from_event'] < 0]['sentiment_score'].mean()\n",
        "        post_event = daily_sentiment[daily_sentiment['days_from_event'] >= 0]['sentiment_score'].mean()\n",
        "        \n",
        "        plt.axhline(y=pre_event, color='blue', linestyle=':', alpha=0.5, label=f'Pre-Event Avg: {pre_event:.3f}')\n",
        "        plt.axhline(y=post_event, color='green', linestyle=':', alpha=0.5, label=f'Post-Event Avg: {post_event:.3f}')\n",
        "        \n",
        "        plt.title(f'Sentiment Before and After Event (Moderna EUA - {event_date})')\n",
        "        plt.xlabel('Days from Event (0 = Event Date)')\n",
        "        plt.ylabel('Average Sentiment Score')\n",
        "        plt.grid(True, alpha=0.2)\n",
        "        plt.legend()\n",
        "        plt.tight_layout()\n",
        "        plt.show()\n",
        "        \n",
        "        # Simple statistical test\n",
        "        pre_event_data = df_did[df_did['created_at'] < event_date_pd]['sentiment_score']\n",
        "        post_event_data = df_did[df_did['created_at'] >= event_date_pd]['sentiment_score']\n",
        "        \n",
        "        print(\"\\nSimple Before-After Analysis:\")\n",
        "        print(f\"Pre-event mean sentiment: {pre_event_data.mean():.4f} (n={len(pre_event_data)})\")\n",
        "        print(f\"Post-event mean sentiment: {post_event_data.mean():.4f} (n={len(post_event_data)})\")\n",
        "        print(f\"Change: {post_event_data.mean() - pre_event_data.mean():.4f}\")\n",
        "        \n",
        "        # Try to do a simple DiD if we have a treatment variable\n",
        "        if 'mentions_moderna' in df.columns:\n",
        "            print(\"\\nDifference-in-Differences Analysis:\")\n",
        "            print(\"Using mentions of 'moderna' as treatment group...\")\n",
        "            \n",
        "            # Prepare DiD data\n",
        "            df_did['post_event'] = (df_did['created_at'] >= event_date_pd).astype(int)\n",
        "            df_did['treatment'] = df_did['mentions_moderna'].astype(int)\n",
        "            df_did['interaction'] = df_did['treatment'] * df_did['post_event']\n",
        "            \n",
        "            # Calculate group means\n",
        "            groups = df_did.groupby(['treatment', 'post_event'])['sentiment_score'].mean().reset_index()\n",
        "            \n",
        "            print(\"\\nGroup Means:\")\n",
        "            for _, row in groups.iterrows():\n",
        "                group_type = f\"{'Treatment' if row['treatment'] else 'Control'}, {'Post' if row['post_event'] else 'Pre'}\"\n",
        "                print(f\"{group_type}: {row['sentiment_score']:.4f}\")\n",
        "            \n",
        "            # Calculate DiD manually\n",
        "            control_pre = groups[(groups['treatment'] == 0) & (groups['post_event'] == 0)]['sentiment_score'].values[0]\n",
        "            control_post = groups[(groups['treatment'] == 0) & (groups['post_event'] == 1)]['sentiment_score'].values[0]\n",
        "            treat_pre = groups[(groups['treatment'] == 1) & (groups['post_event'] == 0)]['sentiment_score'].values[0]\n",
        "            treat_post = groups[(groups['treatment'] == 1) & (groups['post_event'] == 1)]['sentiment_score'].values[0]\n",
        "            \n",
        "            did_effect = (treat_post - treat_pre) - (control_post - control_pre)\n",
        "            print(f\"\\nDiD Estimate: {did_effect:.4f}\")\n",
        "            print(f\"Interpretation: The causal effect of Moderna EUA approval on sentiment was {did_effect:.4f} points\")\n",
        "        else:\n",
        "            # Use follower count as treatment\n",
        "            print(\"\\nUsing follower count as treatment variable...\")\n",
        "            \n",
        "            # Prepare DiD data\n",
        "            if 'user_followers' in df.columns:\n",
        "                df_did['post_event'] = (df_did['created_at'] >= event_date_pd).astype(int)\n",
        "                follower_median = df['user_followers'].median()\n",
        "                df_did['treatment'] = (df_did['user_followers'] > follower_median).astype(int)\n",
        "                df_did['interaction'] = df_did['treatment'] * df_did['post_event']\n",
        "                \n",
        "                # Calculate group means\n",
        "                groups = df_did.groupby(['treatment', 'post_event'])['sentiment_score'].mean().reset_index()\n",
        "                \n",
        "                print(\"\\nGroup Means:\")\n",
        "                for _, row in groups.iterrows():\n",
        "                    group_type = f\"{'High followers' if row['treatment'] else 'Low followers'}, {'Post' if row['post_event'] else 'Pre'}\"\n",
        "                    print(f\"{group_type}: {row['sentiment_score']:.4f}\")\n",
        "                \n",
        "                # Calculate DiD manually\n",
        "                try:\n",
        "                    control_pre = groups[(groups['treatment'] == 0) & (groups['post_event'] == 0)]['sentiment_score'].values[0]\n",
        "                    control_post = groups[(groups['treatment'] == 0) & (groups['post_event'] == 1)]['sentiment_score'].values[0]\n",
        "                    treat_pre = groups[(groups['treatment'] == 1) & (groups['post_event'] == 0)]['sentiment_score'].values[0]\n",
        "                    treat_post = groups[(groups['treatment'] == 1) & (groups['post_event'] == 1)]['sentiment_score'].values[0]\n",
        "                    \n",
        "                    did_effect = (treat_post - treat_pre) - (control_post - control_pre)\n",
        "                    print(f\"\\nDiD Estimate: {did_effect:.4f}\")\n",
        "                    print(f\"Interpretation: The differential effect on high-follower accounts was {did_effect:.4f} points\")\n",
        "                except:\n",
        "                    print(\"Unable to calculate DiD - missing data for one or more groups\")\n",
        "            else:\n",
        "                print(\"Cannot perform DiD analysis: Missing treatment variable (user_followers)\")\n",
        "    \n",
        "    children.append(tab7)\n",
        "\n",
        "    # Set the children \n",
        "    tab.children = children\n",
        "    \n",
        "    # Set tab titles\n",
        "    tab_titles = ['Sentiment Trends', 'Network Analysis', 'Topic Modeling',\n",
        "                'Influencer Analysis', 'Community Sentiment',\n",
        "                'Information Propagation', 'Causal Inference']\n",
        "    \n",
        "    # Set tab titles\n",
        "    for i, title in enumerate(tab_titles):\n",
        "        tab.set_title(i, title)\n",
        "    \n",
        "    return tab\n",
        "\n",
        "# Create and display the dashboard\n",
        "dashboard = create_dashboard()\n",
        "display(dashboard)"
      ]
    },
    {
      "cell_type": "code",
      "execution_count": null,
      "metadata": {},
      "outputs": [],
      "source": []
    }
  ],
  "metadata": {
    "accelerator": "GPU",
    "colab": {
      "gpuType": "T4",
      "provenance": []
    },
    "kernelspec": {
      "display_name": "base",
      "language": "python",
      "name": "python3"
    },
    "language_info": {
      "codemirror_mode": {
        "name": "ipython",
        "version": 3
      },
      "file_extension": ".py",
      "mimetype": "text/x-python",
      "name": "python",
      "nbconvert_exporter": "python",
      "pygments_lexer": "ipython3",
      "version": "3.12.7"
    },
    "widgets": {
      "application/vnd.jupyter.widget-state+json": {
        "013653af5cd5419b85856905c9560801": {
          "model_module": "@jupyter-widgets/base",
          "model_module_version": "1.2.0",
          "model_name": "LayoutModel",
          "state": {
            "_model_module": "@jupyter-widgets/base",
            "_model_module_version": "1.2.0",
            "_model_name": "LayoutModel",
            "_view_count": null,
            "_view_module": "@jupyter-widgets/base",
            "_view_module_version": "1.2.0",
            "_view_name": "LayoutView",
            "align_content": null,
            "align_items": null,
            "align_self": null,
            "border": null,
            "bottom": null,
            "display": null,
            "flex": null,
            "flex_flow": null,
            "grid_area": null,
            "grid_auto_columns": null,
            "grid_auto_flow": null,
            "grid_auto_rows": null,
            "grid_column": null,
            "grid_gap": null,
            "grid_row": null,
            "grid_template_areas": null,
            "grid_template_columns": null,
            "grid_template_rows": null,
            "height": null,
            "justify_content": null,
            "justify_items": null,
            "left": null,
            "margin": null,
            "max_height": null,
            "max_width": null,
            "min_height": null,
            "min_width": null,
            "object_fit": null,
            "object_position": null,
            "order": null,
            "overflow": null,
            "overflow_x": null,
            "overflow_y": null,
            "padding": null,
            "right": null,
            "top": null,
            "visibility": null,
            "width": null
          }
        },
        "027410c8fa314637a0ace4507ff3308d": {
          "model_module": "@jupyter-widgets/base",
          "model_module_version": "1.2.0",
          "model_name": "LayoutModel",
          "state": {
            "_model_module": "@jupyter-widgets/base",
            "_model_module_version": "1.2.0",
            "_model_name": "LayoutModel",
            "_view_count": null,
            "_view_module": "@jupyter-widgets/base",
            "_view_module_version": "1.2.0",
            "_view_name": "LayoutView",
            "align_content": null,
            "align_items": null,
            "align_self": null,
            "border": null,
            "bottom": null,
            "display": null,
            "flex": null,
            "flex_flow": null,
            "grid_area": null,
            "grid_auto_columns": null,
            "grid_auto_flow": null,
            "grid_auto_rows": null,
            "grid_column": null,
            "grid_gap": null,
            "grid_row": null,
            "grid_template_areas": null,
            "grid_template_columns": null,
            "grid_template_rows": null,
            "height": null,
            "justify_content": null,
            "justify_items": null,
            "left": null,
            "margin": null,
            "max_height": null,
            "max_width": null,
            "min_height": null,
            "min_width": null,
            "object_fit": null,
            "object_position": null,
            "order": null,
            "overflow": null,
            "overflow_x": null,
            "overflow_y": null,
            "padding": null,
            "right": null,
            "top": null,
            "visibility": null,
            "width": null
          }
        },
        "02ac49cd3de54764a2a4fc8eeb5cc4ec": {
          "model_module": "@jupyter-widgets/base",
          "model_module_version": "1.2.0",
          "model_name": "LayoutModel",
          "state": {
            "_model_module": "@jupyter-widgets/base",
            "_model_module_version": "1.2.0",
            "_model_name": "LayoutModel",
            "_view_count": null,
            "_view_module": "@jupyter-widgets/base",
            "_view_module_version": "1.2.0",
            "_view_name": "LayoutView",
            "align_content": null,
            "align_items": null,
            "align_self": null,
            "border": null,
            "bottom": null,
            "display": null,
            "flex": null,
            "flex_flow": null,
            "grid_area": null,
            "grid_auto_columns": null,
            "grid_auto_flow": null,
            "grid_auto_rows": null,
            "grid_column": null,
            "grid_gap": null,
            "grid_row": null,
            "grid_template_areas": null,
            "grid_template_columns": null,
            "grid_template_rows": null,
            "height": null,
            "justify_content": null,
            "justify_items": null,
            "left": null,
            "margin": null,
            "max_height": null,
            "max_width": null,
            "min_height": null,
            "min_width": null,
            "object_fit": null,
            "object_position": null,
            "order": null,
            "overflow": null,
            "overflow_x": null,
            "overflow_y": null,
            "padding": null,
            "right": null,
            "top": null,
            "visibility": null,
            "width": null
          }
        },
        "09b68794950c4bd2982591e205c1c7ca": {
          "model_module": "@jupyter-widgets/controls",
          "model_module_version": "1.5.0",
          "model_name": "HBoxModel",
          "state": {
            "_dom_classes": [],
            "_model_module": "@jupyter-widgets/controls",
            "_model_module_version": "1.5.0",
            "_model_name": "HBoxModel",
            "_view_count": null,
            "_view_module": "@jupyter-widgets/controls",
            "_view_module_version": "1.5.0",
            "_view_name": "HBoxView",
            "box_style": "",
            "children": [
              "IPY_MODEL_e214b568818a45aa95b59560f5d3b724",
              "IPY_MODEL_906b9318060b4d83bf0d9d2cfbbf8895",
              "IPY_MODEL_ff4d0676ad5647c0990752581c1824ec"
            ],
            "layout": "IPY_MODEL_4b5a16a0270e4601a9ec857a8b2c3948"
          }
        },
        "0a746b01042246929a95c89abf979e93": {
          "model_module": "@jupyter-widgets/base",
          "model_module_version": "1.2.0",
          "model_name": "LayoutModel",
          "state": {
            "_model_module": "@jupyter-widgets/base",
            "_model_module_version": "1.2.0",
            "_model_name": "LayoutModel",
            "_view_count": null,
            "_view_module": "@jupyter-widgets/base",
            "_view_module_version": "1.2.0",
            "_view_name": "LayoutView",
            "align_content": null,
            "align_items": null,
            "align_self": null,
            "border": null,
            "bottom": null,
            "display": null,
            "flex": null,
            "flex_flow": null,
            "grid_area": null,
            "grid_auto_columns": null,
            "grid_auto_flow": null,
            "grid_auto_rows": null,
            "grid_column": null,
            "grid_gap": null,
            "grid_row": null,
            "grid_template_areas": null,
            "grid_template_columns": null,
            "grid_template_rows": null,
            "height": null,
            "justify_content": null,
            "justify_items": null,
            "left": null,
            "margin": null,
            "max_height": null,
            "max_width": null,
            "min_height": null,
            "min_width": null,
            "object_fit": null,
            "object_position": null,
            "order": null,
            "overflow": null,
            "overflow_x": null,
            "overflow_y": null,
            "padding": null,
            "right": null,
            "top": null,
            "visibility": null,
            "width": null
          }
        },
        "0c2fd0a467ff4fa194f711c276f59b01": {
          "model_module": "@jupyter-widgets/controls",
          "model_module_version": "1.5.0",
          "model_name": "HTMLModel",
          "state": {
            "_dom_classes": [],
            "_model_module": "@jupyter-widgets/controls",
            "_model_module_version": "1.5.0",
            "_model_name": "HTMLModel",
            "_view_count": null,
            "_view_module": "@jupyter-widgets/controls",
            "_view_module_version": "1.5.0",
            "_view_name": "HTMLView",
            "description": "",
            "description_tooltip": null,
            "layout": "IPY_MODEL_78b95e875d2f4bed9a021eae6827923e",
            "placeholder": "​",
            "style": "IPY_MODEL_1d622c810b8145fdbb6c1bec214fdfab",
            "value": " 268M/268M [00:01&lt;00:00, 226MB/s]"
          }
        },
        "11a7651157914185add40f92cf4ba128": {
          "model_module": "@jupyter-widgets/controls",
          "model_module_version": "1.5.0",
          "model_name": "HTMLModel",
          "state": {
            "_dom_classes": [],
            "_model_module": "@jupyter-widgets/controls",
            "_model_module_version": "1.5.0",
            "_model_name": "HTMLModel",
            "_view_count": null,
            "_view_module": "@jupyter-widgets/controls",
            "_view_module_version": "1.5.0",
            "_view_name": "HTMLView",
            "description": "",
            "description_tooltip": null,
            "layout": "IPY_MODEL_8a37e224aeeb48c8b3b240d487bd85f6",
            "placeholder": "​",
            "style": "IPY_MODEL_8fbb3a89bada495fae29ad3933eda3aa",
            "value": "model.safetensors: 100%"
          }
        },
        "12fd421ac4d443f293aae752589eee60": {
          "model_module": "@jupyter-widgets/controls",
          "model_module_version": "1.5.0",
          "model_name": "DescriptionStyleModel",
          "state": {
            "_model_module": "@jupyter-widgets/controls",
            "_model_module_version": "1.5.0",
            "_model_name": "DescriptionStyleModel",
            "_view_count": null,
            "_view_module": "@jupyter-widgets/base",
            "_view_module_version": "1.2.0",
            "_view_name": "StyleView",
            "description_width": ""
          }
        },
        "13927f5fba5149fdb1c3af54d0ef0c97": {
          "model_module": "@jupyter-widgets/controls",
          "model_module_version": "1.5.0",
          "model_name": "HBoxModel",
          "state": {
            "_dom_classes": [],
            "_model_module": "@jupyter-widgets/controls",
            "_model_module_version": "1.5.0",
            "_model_name": "HBoxModel",
            "_view_count": null,
            "_view_module": "@jupyter-widgets/controls",
            "_view_module_version": "1.5.0",
            "_view_name": "HBoxView",
            "box_style": "",
            "children": [
              "IPY_MODEL_38b97a9710d84dc489312e459f1d5aae",
              "IPY_MODEL_ee215cee1b124e00aa7b3b820dcfd43f",
              "IPY_MODEL_a1ac28e805d743749fff61dbcc8f8cb1"
            ],
            "layout": "IPY_MODEL_d7e459d80a0e445cadc3bf871307e212"
          }
        },
        "1625043d9ce7439bb4daadd69a31876c": {
          "model_module": "@jupyter-widgets/controls",
          "model_module_version": "1.5.0",
          "model_name": "HTMLModel",
          "state": {
            "_dom_classes": [],
            "_model_module": "@jupyter-widgets/controls",
            "_model_module_version": "1.5.0",
            "_model_name": "HTMLModel",
            "_view_count": null,
            "_view_module": "@jupyter-widgets/controls",
            "_view_module_version": "1.5.0",
            "_view_name": "HTMLView",
            "description": "",
            "description_tooltip": null,
            "layout": "IPY_MODEL_a42fe7b7fb5e4c7497f3e72c0819906f",
            "placeholder": "​",
            "style": "IPY_MODEL_30f6d223b16e416a8621a4ca8b3d0f86",
            "value": "README.md: 100%"
          }
        },
        "1780637a970f472781110a4fefb73f37": {
          "model_module": "@jupyter-widgets/controls",
          "model_module_version": "1.5.0",
          "model_name": "FloatProgressModel",
          "state": {
            "_dom_classes": [],
            "_model_module": "@jupyter-widgets/controls",
            "_model_module_version": "1.5.0",
            "_model_name": "FloatProgressModel",
            "_view_count": null,
            "_view_module": "@jupyter-widgets/controls",
            "_view_module_version": "1.5.0",
            "_view_name": "ProgressView",
            "bar_style": "success",
            "description": "",
            "description_tooltip": null,
            "layout": "IPY_MODEL_a494347971e54a679385f1ec10e24cf1",
            "max": 267832558,
            "min": 0,
            "orientation": "horizontal",
            "style": "IPY_MODEL_99f0f1150e0c47ca8b5de3f47bf216eb",
            "value": 267832558
          }
        },
        "17acb1a44fcb46ceb14c0902ed7f6ad3": {
          "model_module": "@jupyter-widgets/base",
          "model_module_version": "1.2.0",
          "model_name": "LayoutModel",
          "state": {
            "_model_module": "@jupyter-widgets/base",
            "_model_module_version": "1.2.0",
            "_model_name": "LayoutModel",
            "_view_count": null,
            "_view_module": "@jupyter-widgets/base",
            "_view_module_version": "1.2.0",
            "_view_name": "LayoutView",
            "align_content": null,
            "align_items": null,
            "align_self": null,
            "border": null,
            "bottom": null,
            "display": null,
            "flex": null,
            "flex_flow": null,
            "grid_area": null,
            "grid_auto_columns": null,
            "grid_auto_flow": null,
            "grid_auto_rows": null,
            "grid_column": null,
            "grid_gap": null,
            "grid_row": null,
            "grid_template_areas": null,
            "grid_template_columns": null,
            "grid_template_rows": null,
            "height": null,
            "justify_content": null,
            "justify_items": null,
            "left": null,
            "margin": null,
            "max_height": null,
            "max_width": null,
            "min_height": null,
            "min_width": null,
            "object_fit": null,
            "object_position": null,
            "order": null,
            "overflow": null,
            "overflow_x": null,
            "overflow_y": null,
            "padding": null,
            "right": null,
            "top": null,
            "visibility": null,
            "width": null
          }
        },
        "1d622c810b8145fdbb6c1bec214fdfab": {
          "model_module": "@jupyter-widgets/controls",
          "model_module_version": "1.5.0",
          "model_name": "DescriptionStyleModel",
          "state": {
            "_model_module": "@jupyter-widgets/controls",
            "_model_module_version": "1.5.0",
            "_model_name": "DescriptionStyleModel",
            "_view_count": null,
            "_view_module": "@jupyter-widgets/base",
            "_view_module_version": "1.2.0",
            "_view_name": "StyleView",
            "description_width": ""
          }
        },
        "1dcf59ebcd6f400da8ae5d3a35be57c0": {
          "model_module": "@jupyter-widgets/controls",
          "model_module_version": "1.5.0",
          "model_name": "HBoxModel",
          "state": {
            "_dom_classes": [],
            "_model_module": "@jupyter-widgets/controls",
            "_model_module_version": "1.5.0",
            "_model_name": "HBoxModel",
            "_view_count": null,
            "_view_module": "@jupyter-widgets/controls",
            "_view_module_version": "1.5.0",
            "_view_name": "HBoxView",
            "box_style": "",
            "children": [
              "IPY_MODEL_487de762947a4a8cabdfba3cb76a23c3",
              "IPY_MODEL_f8fe1a54229a4018a698d99be117c2f9",
              "IPY_MODEL_c5067ef5826d4ad7be970616be85ea69"
            ],
            "layout": "IPY_MODEL_7517224df60c48968e0975f6a5ae804f"
          }
        },
        "1e7b96331e72436e9f0638fdfa0972fa": {
          "model_module": "@jupyter-widgets/controls",
          "model_module_version": "1.5.0",
          "model_name": "DescriptionStyleModel",
          "state": {
            "_model_module": "@jupyter-widgets/controls",
            "_model_module_version": "1.5.0",
            "_model_name": "DescriptionStyleModel",
            "_view_count": null,
            "_view_module": "@jupyter-widgets/base",
            "_view_module_version": "1.2.0",
            "_view_name": "StyleView",
            "description_width": ""
          }
        },
        "1fe2051fae35459e8f02f90de3634e02": {
          "model_module": "@jupyter-widgets/controls",
          "model_module_version": "1.5.0",
          "model_name": "HTMLModel",
          "state": {
            "_dom_classes": [],
            "_model_module": "@jupyter-widgets/controls",
            "_model_module_version": "1.5.0",
            "_model_name": "HTMLModel",
            "_view_count": null,
            "_view_module": "@jupyter-widgets/controls",
            "_view_module_version": "1.5.0",
            "_view_name": "HTMLView",
            "description": "",
            "description_tooltip": null,
            "layout": "IPY_MODEL_0a746b01042246929a95c89abf979e93",
            "placeholder": "​",
            "style": "IPY_MODEL_fc7da7fd44d44afcb70060b188700f54",
            "value": " 116/116 [00:00&lt;00:00, 10.4kB/s]"
          }
        },
        "1fee51782ce043ce991af89c9fe4b6fe": {
          "model_module": "@jupyter-widgets/base",
          "model_module_version": "1.2.0",
          "model_name": "LayoutModel",
          "state": {
            "_model_module": "@jupyter-widgets/base",
            "_model_module_version": "1.2.0",
            "_model_name": "LayoutModel",
            "_view_count": null,
            "_view_module": "@jupyter-widgets/base",
            "_view_module_version": "1.2.0",
            "_view_name": "LayoutView",
            "align_content": null,
            "align_items": null,
            "align_self": null,
            "border": null,
            "bottom": null,
            "display": null,
            "flex": null,
            "flex_flow": null,
            "grid_area": null,
            "grid_auto_columns": null,
            "grid_auto_flow": null,
            "grid_auto_rows": null,
            "grid_column": null,
            "grid_gap": null,
            "grid_row": null,
            "grid_template_areas": null,
            "grid_template_columns": null,
            "grid_template_rows": null,
            "height": null,
            "justify_content": null,
            "justify_items": null,
            "left": null,
            "margin": null,
            "max_height": null,
            "max_width": null,
            "min_height": null,
            "min_width": null,
            "object_fit": null,
            "object_position": null,
            "order": null,
            "overflow": null,
            "overflow_x": null,
            "overflow_y": null,
            "padding": null,
            "right": null,
            "top": null,
            "visibility": null,
            "width": null
          }
        },
        "204208d88a7942a4b2464b6e686ea744": {
          "model_module": "@jupyter-widgets/controls",
          "model_module_version": "1.5.0",
          "model_name": "DescriptionStyleModel",
          "state": {
            "_model_module": "@jupyter-widgets/controls",
            "_model_module_version": "1.5.0",
            "_model_name": "DescriptionStyleModel",
            "_view_count": null,
            "_view_module": "@jupyter-widgets/base",
            "_view_module_version": "1.2.0",
            "_view_name": "StyleView",
            "description_width": ""
          }
        },
        "206b93f4c58a4bedb0b183bc425bb45f": {
          "model_module": "@jupyter-widgets/controls",
          "model_module_version": "1.5.0",
          "model_name": "DescriptionStyleModel",
          "state": {
            "_model_module": "@jupyter-widgets/controls",
            "_model_module_version": "1.5.0",
            "_model_name": "DescriptionStyleModel",
            "_view_count": null,
            "_view_module": "@jupyter-widgets/base",
            "_view_module_version": "1.2.0",
            "_view_name": "StyleView",
            "description_width": ""
          }
        },
        "20ce2406710b49c7a5b95e265657c0d9": {
          "model_module": "@jupyter-widgets/controls",
          "model_module_version": "1.5.0",
          "model_name": "HBoxModel",
          "state": {
            "_dom_classes": [],
            "_model_module": "@jupyter-widgets/controls",
            "_model_module_version": "1.5.0",
            "_model_name": "HBoxModel",
            "_view_count": null,
            "_view_module": "@jupyter-widgets/controls",
            "_view_module_version": "1.5.0",
            "_view_name": "HBoxView",
            "box_style": "",
            "children": [
              "IPY_MODEL_e6558fcfaffc4c9fa3094515bebf9274",
              "IPY_MODEL_646404a9d52c47b9ad61f84e0e692de5",
              "IPY_MODEL_ace1cf347a0542e19591c6beba3d2a37"
            ],
            "layout": "IPY_MODEL_5b15be81bcde4547be9112bb7ac14845"
          }
        },
        "21a442f2bcf6400fb484d1826bdffcf7": {
          "model_module": "@jupyter-widgets/controls",
          "model_module_version": "1.5.0",
          "model_name": "DescriptionStyleModel",
          "state": {
            "_model_module": "@jupyter-widgets/controls",
            "_model_module_version": "1.5.0",
            "_model_name": "DescriptionStyleModel",
            "_view_count": null,
            "_view_module": "@jupyter-widgets/base",
            "_view_module_version": "1.2.0",
            "_view_name": "StyleView",
            "description_width": ""
          }
        },
        "232330ef8b5a49edb8fc69bd61ecb362": {
          "model_module": "@jupyter-widgets/controls",
          "model_module_version": "1.5.0",
          "model_name": "ProgressStyleModel",
          "state": {
            "_model_module": "@jupyter-widgets/controls",
            "_model_module_version": "1.5.0",
            "_model_name": "ProgressStyleModel",
            "_view_count": null,
            "_view_module": "@jupyter-widgets/base",
            "_view_module_version": "1.2.0",
            "_view_name": "StyleView",
            "bar_color": null,
            "description_width": ""
          }
        },
        "24f331ab58bf48258f29a0832a59af2d": {
          "model_module": "@jupyter-widgets/controls",
          "model_module_version": "1.5.0",
          "model_name": "DescriptionStyleModel",
          "state": {
            "_model_module": "@jupyter-widgets/controls",
            "_model_module_version": "1.5.0",
            "_model_name": "DescriptionStyleModel",
            "_view_count": null,
            "_view_module": "@jupyter-widgets/base",
            "_view_module_version": "1.2.0",
            "_view_name": "StyleView",
            "description_width": ""
          }
        },
        "263e8a46412f4ba286b6f006effe25da": {
          "model_module": "@jupyter-widgets/controls",
          "model_module_version": "1.5.0",
          "model_name": "DescriptionStyleModel",
          "state": {
            "_model_module": "@jupyter-widgets/controls",
            "_model_module_version": "1.5.0",
            "_model_name": "DescriptionStyleModel",
            "_view_count": null,
            "_view_module": "@jupyter-widgets/base",
            "_view_module_version": "1.2.0",
            "_view_name": "StyleView",
            "description_width": ""
          }
        },
        "27277493c5d04026925c4fb0a8e82737": {
          "model_module": "@jupyter-widgets/controls",
          "model_module_version": "1.5.0",
          "model_name": "HBoxModel",
          "state": {
            "_dom_classes": [],
            "_model_module": "@jupyter-widgets/controls",
            "_model_module_version": "1.5.0",
            "_model_name": "HBoxModel",
            "_view_count": null,
            "_view_module": "@jupyter-widgets/controls",
            "_view_module_version": "1.5.0",
            "_view_name": "HBoxView",
            "box_style": "",
            "children": [
              "IPY_MODEL_472410a16c334039b4add5ff1aaf076e",
              "IPY_MODEL_431b06c7091f4280aca84c4987f663b7",
              "IPY_MODEL_57b3b3b51ee2405382062ceaa4cba031"
            ],
            "layout": "IPY_MODEL_3b4bfb672d3543f7a5cb50217f1ce6a9"
          }
        },
        "27586bbb13e04f3995d17e1c8d4dfc3a": {
          "model_module": "@jupyter-widgets/controls",
          "model_module_version": "1.5.0",
          "model_name": "HBoxModel",
          "state": {
            "_dom_classes": [],
            "_model_module": "@jupyter-widgets/controls",
            "_model_module_version": "1.5.0",
            "_model_name": "HBoxModel",
            "_view_count": null,
            "_view_module": "@jupyter-widgets/controls",
            "_view_module_version": "1.5.0",
            "_view_name": "HBoxView",
            "box_style": "",
            "children": [
              "IPY_MODEL_570563d9323e4c619cf0fc9a812b73ea",
              "IPY_MODEL_6479422fb311481cbaa915651c1e8ab5",
              "IPY_MODEL_be9ac414d2d945638fd1668df86a16fb"
            ],
            "layout": "IPY_MODEL_3084313f6a684edb90d056bd58c31292"
          }
        },
        "28898d95643a48f48c5d6e6b8bdea522": {
          "model_module": "@jupyter-widgets/controls",
          "model_module_version": "1.5.0",
          "model_name": "ProgressStyleModel",
          "state": {
            "_model_module": "@jupyter-widgets/controls",
            "_model_module_version": "1.5.0",
            "_model_name": "ProgressStyleModel",
            "_view_count": null,
            "_view_module": "@jupyter-widgets/base",
            "_view_module_version": "1.2.0",
            "_view_name": "StyleView",
            "bar_color": null,
            "description_width": ""
          }
        },
        "28dabe47c5ff40f89757a621d088fa34": {
          "model_module": "@jupyter-widgets/controls",
          "model_module_version": "1.5.0",
          "model_name": "DescriptionStyleModel",
          "state": {
            "_model_module": "@jupyter-widgets/controls",
            "_model_module_version": "1.5.0",
            "_model_name": "DescriptionStyleModel",
            "_view_count": null,
            "_view_module": "@jupyter-widgets/base",
            "_view_module_version": "1.2.0",
            "_view_name": "StyleView",
            "description_width": ""
          }
        },
        "2b177419b7d24ed8b47ff363d4c94145": {
          "model_module": "@jupyter-widgets/controls",
          "model_module_version": "1.5.0",
          "model_name": "FloatProgressModel",
          "state": {
            "_dom_classes": [],
            "_model_module": "@jupyter-widgets/controls",
            "_model_module_version": "1.5.0",
            "_model_name": "FloatProgressModel",
            "_view_count": null,
            "_view_module": "@jupyter-widgets/controls",
            "_view_module_version": "1.5.0",
            "_view_name": "ProgressView",
            "bar_style": "success",
            "description": "",
            "description_tooltip": null,
            "layout": "IPY_MODEL_adb7decfe4b84827b294d9af6bbad169",
            "max": 48,
            "min": 0,
            "orientation": "horizontal",
            "style": "IPY_MODEL_59e9d79d77a64d3ebc33663886347bae",
            "value": 48
          }
        },
        "2ca0905aeab04ed0958d8bd57b819573": {
          "model_module": "@jupyter-widgets/controls",
          "model_module_version": "1.5.0",
          "model_name": "DescriptionStyleModel",
          "state": {
            "_model_module": "@jupyter-widgets/controls",
            "_model_module_version": "1.5.0",
            "_model_name": "DescriptionStyleModel",
            "_view_count": null,
            "_view_module": "@jupyter-widgets/base",
            "_view_module_version": "1.2.0",
            "_view_name": "StyleView",
            "description_width": ""
          }
        },
        "2fb93d692aae4057ab2fa28c83003357": {
          "model_module": "@jupyter-widgets/controls",
          "model_module_version": "1.5.0",
          "model_name": "DescriptionStyleModel",
          "state": {
            "_model_module": "@jupyter-widgets/controls",
            "_model_module_version": "1.5.0",
            "_model_name": "DescriptionStyleModel",
            "_view_count": null,
            "_view_module": "@jupyter-widgets/base",
            "_view_module_version": "1.2.0",
            "_view_name": "StyleView",
            "description_width": ""
          }
        },
        "3084313f6a684edb90d056bd58c31292": {
          "model_module": "@jupyter-widgets/base",
          "model_module_version": "1.2.0",
          "model_name": "LayoutModel",
          "state": {
            "_model_module": "@jupyter-widgets/base",
            "_model_module_version": "1.2.0",
            "_model_name": "LayoutModel",
            "_view_count": null,
            "_view_module": "@jupyter-widgets/base",
            "_view_module_version": "1.2.0",
            "_view_name": "LayoutView",
            "align_content": null,
            "align_items": null,
            "align_self": null,
            "border": null,
            "bottom": null,
            "display": null,
            "flex": null,
            "flex_flow": null,
            "grid_area": null,
            "grid_auto_columns": null,
            "grid_auto_flow": null,
            "grid_auto_rows": null,
            "grid_column": null,
            "grid_gap": null,
            "grid_row": null,
            "grid_template_areas": null,
            "grid_template_columns": null,
            "grid_template_rows": null,
            "height": null,
            "justify_content": null,
            "justify_items": null,
            "left": null,
            "margin": null,
            "max_height": null,
            "max_width": null,
            "min_height": null,
            "min_width": null,
            "object_fit": null,
            "object_position": null,
            "order": null,
            "overflow": null,
            "overflow_x": null,
            "overflow_y": null,
            "padding": null,
            "right": null,
            "top": null,
            "visibility": null,
            "width": null
          }
        },
        "30e0c2892b2f410c9ccf1e42d7c56856": {
          "model_module": "@jupyter-widgets/base",
          "model_module_version": "1.2.0",
          "model_name": "LayoutModel",
          "state": {
            "_model_module": "@jupyter-widgets/base",
            "_model_module_version": "1.2.0",
            "_model_name": "LayoutModel",
            "_view_count": null,
            "_view_module": "@jupyter-widgets/base",
            "_view_module_version": "1.2.0",
            "_view_name": "LayoutView",
            "align_content": null,
            "align_items": null,
            "align_self": null,
            "border": null,
            "bottom": null,
            "display": null,
            "flex": null,
            "flex_flow": null,
            "grid_area": null,
            "grid_auto_columns": null,
            "grid_auto_flow": null,
            "grid_auto_rows": null,
            "grid_column": null,
            "grid_gap": null,
            "grid_row": null,
            "grid_template_areas": null,
            "grid_template_columns": null,
            "grid_template_rows": null,
            "height": null,
            "justify_content": null,
            "justify_items": null,
            "left": null,
            "margin": null,
            "max_height": null,
            "max_width": null,
            "min_height": null,
            "min_width": null,
            "object_fit": null,
            "object_position": null,
            "order": null,
            "overflow": null,
            "overflow_x": null,
            "overflow_y": null,
            "padding": null,
            "right": null,
            "top": null,
            "visibility": null,
            "width": null
          }
        },
        "30f6d223b16e416a8621a4ca8b3d0f86": {
          "model_module": "@jupyter-widgets/controls",
          "model_module_version": "1.5.0",
          "model_name": "DescriptionStyleModel",
          "state": {
            "_model_module": "@jupyter-widgets/controls",
            "_model_module_version": "1.5.0",
            "_model_name": "DescriptionStyleModel",
            "_view_count": null,
            "_view_module": "@jupyter-widgets/base",
            "_view_module_version": "1.2.0",
            "_view_name": "StyleView",
            "description_width": ""
          }
        },
        "33c183245512489198bf26309f39091f": {
          "model_module": "@jupyter-widgets/base",
          "model_module_version": "1.2.0",
          "model_name": "LayoutModel",
          "state": {
            "_model_module": "@jupyter-widgets/base",
            "_model_module_version": "1.2.0",
            "_model_name": "LayoutModel",
            "_view_count": null,
            "_view_module": "@jupyter-widgets/base",
            "_view_module_version": "1.2.0",
            "_view_name": "LayoutView",
            "align_content": null,
            "align_items": null,
            "align_self": null,
            "border": null,
            "bottom": null,
            "display": null,
            "flex": null,
            "flex_flow": null,
            "grid_area": null,
            "grid_auto_columns": null,
            "grid_auto_flow": null,
            "grid_auto_rows": null,
            "grid_column": null,
            "grid_gap": null,
            "grid_row": null,
            "grid_template_areas": null,
            "grid_template_columns": null,
            "grid_template_rows": null,
            "height": null,
            "justify_content": null,
            "justify_items": null,
            "left": null,
            "margin": null,
            "max_height": null,
            "max_width": null,
            "min_height": null,
            "min_width": null,
            "object_fit": null,
            "object_position": null,
            "order": null,
            "overflow": null,
            "overflow_x": null,
            "overflow_y": null,
            "padding": null,
            "right": null,
            "top": null,
            "visibility": null,
            "width": null
          }
        },
        "3737cc88efc1400aa37d9946e1da5f8d": {
          "model_module": "@jupyter-widgets/controls",
          "model_module_version": "1.5.0",
          "model_name": "DescriptionStyleModel",
          "state": {
            "_model_module": "@jupyter-widgets/controls",
            "_model_module_version": "1.5.0",
            "_model_name": "DescriptionStyleModel",
            "_view_count": null,
            "_view_module": "@jupyter-widgets/base",
            "_view_module_version": "1.2.0",
            "_view_name": "StyleView",
            "description_width": ""
          }
        },
        "38b97a9710d84dc489312e459f1d5aae": {
          "model_module": "@jupyter-widgets/controls",
          "model_module_version": "1.5.0",
          "model_name": "HTMLModel",
          "state": {
            "_dom_classes": [],
            "_model_module": "@jupyter-widgets/controls",
            "_model_module_version": "1.5.0",
            "_model_name": "HTMLModel",
            "_view_count": null,
            "_view_module": "@jupyter-widgets/controls",
            "_view_module_version": "1.5.0",
            "_view_name": "HTMLView",
            "description": "",
            "description_tooltip": null,
            "layout": "IPY_MODEL_ce30bdbae33e4d29a5c661516fee8d26",
            "placeholder": "​",
            "style": "IPY_MODEL_2fb93d692aae4057ab2fa28c83003357",
            "value": "config.json: 100%"
          }
        },
        "396aed935d2348a997ec1d659f5b8121": {
          "model_module": "@jupyter-widgets/controls",
          "model_module_version": "1.5.0",
          "model_name": "FloatProgressModel",
          "state": {
            "_dom_classes": [],
            "_model_module": "@jupyter-widgets/controls",
            "_model_module_version": "1.5.0",
            "_model_name": "FloatProgressModel",
            "_view_count": null,
            "_view_module": "@jupyter-widgets/controls",
            "_view_module_version": "1.5.0",
            "_view_name": "ProgressView",
            "bar_style": "success",
            "description": "",
            "description_tooltip": null,
            "layout": "IPY_MODEL_4f4e414ae1fb4bcabb8b0dee422428b1",
            "max": 116,
            "min": 0,
            "orientation": "horizontal",
            "style": "IPY_MODEL_65c24bcfd74647379423eac698328288",
            "value": 116
          }
        },
        "3a104f9590974db2a23d2406c9aec3c5": {
          "model_module": "@jupyter-widgets/controls",
          "model_module_version": "1.5.0",
          "model_name": "HBoxModel",
          "state": {
            "_dom_classes": [],
            "_model_module": "@jupyter-widgets/controls",
            "_model_module_version": "1.5.0",
            "_model_name": "HBoxModel",
            "_view_count": null,
            "_view_module": "@jupyter-widgets/controls",
            "_view_module_version": "1.5.0",
            "_view_name": "HBoxView",
            "box_style": "",
            "children": [
              "IPY_MODEL_9612863cd3414e78bca8c43ac3fc1fd3",
              "IPY_MODEL_a5e3ac21ab3d47c8aa359f2ababf26ca",
              "IPY_MODEL_4244b605757840bc8e85c4054feb81e8"
            ],
            "layout": "IPY_MODEL_f86e222886b04030a0ffaa65d5ff13c0"
          }
        },
        "3af9108d2709440d8efe7349bfda0dd7": {
          "model_module": "@jupyter-widgets/base",
          "model_module_version": "1.2.0",
          "model_name": "LayoutModel",
          "state": {
            "_model_module": "@jupyter-widgets/base",
            "_model_module_version": "1.2.0",
            "_model_name": "LayoutModel",
            "_view_count": null,
            "_view_module": "@jupyter-widgets/base",
            "_view_module_version": "1.2.0",
            "_view_name": "LayoutView",
            "align_content": null,
            "align_items": null,
            "align_self": null,
            "border": null,
            "bottom": null,
            "display": null,
            "flex": null,
            "flex_flow": null,
            "grid_area": null,
            "grid_auto_columns": null,
            "grid_auto_flow": null,
            "grid_auto_rows": null,
            "grid_column": null,
            "grid_gap": null,
            "grid_row": null,
            "grid_template_areas": null,
            "grid_template_columns": null,
            "grid_template_rows": null,
            "height": null,
            "justify_content": null,
            "justify_items": null,
            "left": null,
            "margin": null,
            "max_height": null,
            "max_width": null,
            "min_height": null,
            "min_width": null,
            "object_fit": null,
            "object_position": null,
            "order": null,
            "overflow": null,
            "overflow_x": null,
            "overflow_y": null,
            "padding": null,
            "right": null,
            "top": null,
            "visibility": null,
            "width": null
          }
        },
        "3b4bfb672d3543f7a5cb50217f1ce6a9": {
          "model_module": "@jupyter-widgets/base",
          "model_module_version": "1.2.0",
          "model_name": "LayoutModel",
          "state": {
            "_model_module": "@jupyter-widgets/base",
            "_model_module_version": "1.2.0",
            "_model_name": "LayoutModel",
            "_view_count": null,
            "_view_module": "@jupyter-widgets/base",
            "_view_module_version": "1.2.0",
            "_view_name": "LayoutView",
            "align_content": null,
            "align_items": null,
            "align_self": null,
            "border": null,
            "bottom": null,
            "display": null,
            "flex": null,
            "flex_flow": null,
            "grid_area": null,
            "grid_auto_columns": null,
            "grid_auto_flow": null,
            "grid_auto_rows": null,
            "grid_column": null,
            "grid_gap": null,
            "grid_row": null,
            "grid_template_areas": null,
            "grid_template_columns": null,
            "grid_template_rows": null,
            "height": null,
            "justify_content": null,
            "justify_items": null,
            "left": null,
            "margin": null,
            "max_height": null,
            "max_width": null,
            "min_height": null,
            "min_width": null,
            "object_fit": null,
            "object_position": null,
            "order": null,
            "overflow": null,
            "overflow_x": null,
            "overflow_y": null,
            "padding": null,
            "right": null,
            "top": null,
            "visibility": null,
            "width": null
          }
        },
        "3d435b513b0a480bb75ec7af612464a3": {
          "model_module": "@jupyter-widgets/controls",
          "model_module_version": "1.5.0",
          "model_name": "ProgressStyleModel",
          "state": {
            "_model_module": "@jupyter-widgets/controls",
            "_model_module_version": "1.5.0",
            "_model_name": "ProgressStyleModel",
            "_view_count": null,
            "_view_module": "@jupyter-widgets/base",
            "_view_module_version": "1.2.0",
            "_view_name": "StyleView",
            "bar_color": null,
            "description_width": ""
          }
        },
        "406a1af93483485a8e6bd9ef6246a9f5": {
          "model_module": "@jupyter-widgets/controls",
          "model_module_version": "1.5.0",
          "model_name": "HBoxModel",
          "state": {
            "_dom_classes": [],
            "_model_module": "@jupyter-widgets/controls",
            "_model_module_version": "1.5.0",
            "_model_name": "HBoxModel",
            "_view_count": null,
            "_view_module": "@jupyter-widgets/controls",
            "_view_module_version": "1.5.0",
            "_view_name": "HBoxView",
            "box_style": "",
            "children": [
              "IPY_MODEL_6f93402f73cc44baab85f33d5bb27c1d",
              "IPY_MODEL_396aed935d2348a997ec1d659f5b8121",
              "IPY_MODEL_1fe2051fae35459e8f02f90de3634e02"
            ],
            "layout": "IPY_MODEL_d2bfbed761d14a768dc37bdf4778de1b"
          }
        },
        "4244b605757840bc8e85c4054feb81e8": {
          "model_module": "@jupyter-widgets/controls",
          "model_module_version": "1.5.0",
          "model_name": "HTMLModel",
          "state": {
            "_dom_classes": [],
            "_model_module": "@jupyter-widgets/controls",
            "_model_module_version": "1.5.0",
            "_model_name": "HTMLModel",
            "_view_count": null,
            "_view_module": "@jupyter-widgets/controls",
            "_view_module_version": "1.5.0",
            "_view_name": "HTMLView",
            "description": "",
            "description_tooltip": null,
            "layout": "IPY_MODEL_f1d637d20dd44926b5854d7308fedb74",
            "placeholder": "​",
            "style": "IPY_MODEL_d247fb2c38484780a7079ab9e1805b44",
            "value": " 112/112 [00:00&lt;00:00, 6.41kB/s]"
          }
        },
        "431b06c7091f4280aca84c4987f663b7": {
          "model_module": "@jupyter-widgets/controls",
          "model_module_version": "1.5.0",
          "model_name": "FloatProgressModel",
          "state": {
            "_dom_classes": [],
            "_model_module": "@jupyter-widgets/controls",
            "_model_module_version": "1.5.0",
            "_model_name": "FloatProgressModel",
            "_view_count": null,
            "_view_module": "@jupyter-widgets/controls",
            "_view_module_version": "1.5.0",
            "_view_name": "ProgressView",
            "bar_style": "success",
            "description": "",
            "description_tooltip": null,
            "layout": "IPY_MODEL_7712002c851f40e8a095e91782473d64",
            "max": 612,
            "min": 0,
            "orientation": "horizontal",
            "style": "IPY_MODEL_28898d95643a48f48c5d6e6b8bdea522",
            "value": 612
          }
        },
        "4338ff18446842bfbb1454221553dca4": {
          "model_module": "@jupyter-widgets/base",
          "model_module_version": "1.2.0",
          "model_name": "LayoutModel",
          "state": {
            "_model_module": "@jupyter-widgets/base",
            "_model_module_version": "1.2.0",
            "_model_name": "LayoutModel",
            "_view_count": null,
            "_view_module": "@jupyter-widgets/base",
            "_view_module_version": "1.2.0",
            "_view_name": "LayoutView",
            "align_content": null,
            "align_items": null,
            "align_self": null,
            "border": null,
            "bottom": null,
            "display": null,
            "flex": null,
            "flex_flow": null,
            "grid_area": null,
            "grid_auto_columns": null,
            "grid_auto_flow": null,
            "grid_auto_rows": null,
            "grid_column": null,
            "grid_gap": null,
            "grid_row": null,
            "grid_template_areas": null,
            "grid_template_columns": null,
            "grid_template_rows": null,
            "height": null,
            "justify_content": null,
            "justify_items": null,
            "left": null,
            "margin": null,
            "max_height": null,
            "max_width": null,
            "min_height": null,
            "min_width": null,
            "object_fit": null,
            "object_position": null,
            "order": null,
            "overflow": null,
            "overflow_x": null,
            "overflow_y": null,
            "padding": null,
            "right": null,
            "top": null,
            "visibility": null,
            "width": null
          }
        },
        "43620df6c446423e80ffe31fc5d2cd24": {
          "model_module": "@jupyter-widgets/base",
          "model_module_version": "1.2.0",
          "model_name": "LayoutModel",
          "state": {
            "_model_module": "@jupyter-widgets/base",
            "_model_module_version": "1.2.0",
            "_model_name": "LayoutModel",
            "_view_count": null,
            "_view_module": "@jupyter-widgets/base",
            "_view_module_version": "1.2.0",
            "_view_name": "LayoutView",
            "align_content": null,
            "align_items": null,
            "align_self": null,
            "border": null,
            "bottom": null,
            "display": null,
            "flex": null,
            "flex_flow": null,
            "grid_area": null,
            "grid_auto_columns": null,
            "grid_auto_flow": null,
            "grid_auto_rows": null,
            "grid_column": null,
            "grid_gap": null,
            "grid_row": null,
            "grid_template_areas": null,
            "grid_template_columns": null,
            "grid_template_rows": null,
            "height": null,
            "justify_content": null,
            "justify_items": null,
            "left": null,
            "margin": null,
            "max_height": null,
            "max_width": null,
            "min_height": null,
            "min_width": null,
            "object_fit": null,
            "object_position": null,
            "order": null,
            "overflow": null,
            "overflow_x": null,
            "overflow_y": null,
            "padding": null,
            "right": null,
            "top": null,
            "visibility": null,
            "width": null
          }
        },
        "472410a16c334039b4add5ff1aaf076e": {
          "model_module": "@jupyter-widgets/controls",
          "model_module_version": "1.5.0",
          "model_name": "HTMLModel",
          "state": {
            "_dom_classes": [],
            "_model_module": "@jupyter-widgets/controls",
            "_model_module_version": "1.5.0",
            "_model_name": "HTMLModel",
            "_view_count": null,
            "_view_module": "@jupyter-widgets/controls",
            "_view_module_version": "1.5.0",
            "_view_name": "HTMLView",
            "description": "",
            "description_tooltip": null,
            "layout": "IPY_MODEL_02ac49cd3de54764a2a4fc8eeb5cc4ec",
            "placeholder": "​",
            "style": "IPY_MODEL_ae3dc02504134910b4a383a123a80706",
            "value": "config.json: 100%"
          }
        },
        "4851e084e3e24f59aa4a9bdab70cb7fa": {
          "model_module": "@jupyter-widgets/base",
          "model_module_version": "1.2.0",
          "model_name": "LayoutModel",
          "state": {
            "_model_module": "@jupyter-widgets/base",
            "_model_module_version": "1.2.0",
            "_model_name": "LayoutModel",
            "_view_count": null,
            "_view_module": "@jupyter-widgets/base",
            "_view_module_version": "1.2.0",
            "_view_name": "LayoutView",
            "align_content": null,
            "align_items": null,
            "align_self": null,
            "border": null,
            "bottom": null,
            "display": null,
            "flex": null,
            "flex_flow": null,
            "grid_area": null,
            "grid_auto_columns": null,
            "grid_auto_flow": null,
            "grid_auto_rows": null,
            "grid_column": null,
            "grid_gap": null,
            "grid_row": null,
            "grid_template_areas": null,
            "grid_template_columns": null,
            "grid_template_rows": null,
            "height": null,
            "justify_content": null,
            "justify_items": null,
            "left": null,
            "margin": null,
            "max_height": null,
            "max_width": null,
            "min_height": null,
            "min_width": null,
            "object_fit": null,
            "object_position": null,
            "order": null,
            "overflow": null,
            "overflow_x": null,
            "overflow_y": null,
            "padding": null,
            "right": null,
            "top": null,
            "visibility": null,
            "width": null
          }
        },
        "487de762947a4a8cabdfba3cb76a23c3": {
          "model_module": "@jupyter-widgets/controls",
          "model_module_version": "1.5.0",
          "model_name": "HTMLModel",
          "state": {
            "_dom_classes": [],
            "_model_module": "@jupyter-widgets/controls",
            "_model_module_version": "1.5.0",
            "_model_name": "HTMLModel",
            "_view_count": null,
            "_view_module": "@jupyter-widgets/controls",
            "_view_module_version": "1.5.0",
            "_view_name": "HTMLView",
            "description": "",
            "description_tooltip": null,
            "layout": "IPY_MODEL_027410c8fa314637a0ace4507ff3308d",
            "placeholder": "​",
            "style": "IPY_MODEL_5deb1f7ba96d40c3b6bc939d5c067f4f",
            "value": "model.safetensors: 100%"
          }
        },
        "4b5a16a0270e4601a9ec857a8b2c3948": {
          "model_module": "@jupyter-widgets/base",
          "model_module_version": "1.2.0",
          "model_name": "LayoutModel",
          "state": {
            "_model_module": "@jupyter-widgets/base",
            "_model_module_version": "1.2.0",
            "_model_name": "LayoutModel",
            "_view_count": null,
            "_view_module": "@jupyter-widgets/base",
            "_view_module_version": "1.2.0",
            "_view_name": "LayoutView",
            "align_content": null,
            "align_items": null,
            "align_self": null,
            "border": null,
            "bottom": null,
            "display": null,
            "flex": null,
            "flex_flow": null,
            "grid_area": null,
            "grid_auto_columns": null,
            "grid_auto_flow": null,
            "grid_auto_rows": null,
            "grid_column": null,
            "grid_gap": null,
            "grid_row": null,
            "grid_template_areas": null,
            "grid_template_columns": null,
            "grid_template_rows": null,
            "height": null,
            "justify_content": null,
            "justify_items": null,
            "left": null,
            "margin": null,
            "max_height": null,
            "max_width": null,
            "min_height": null,
            "min_width": null,
            "object_fit": null,
            "object_position": null,
            "order": null,
            "overflow": null,
            "overflow_x": null,
            "overflow_y": null,
            "padding": null,
            "right": null,
            "top": null,
            "visibility": null,
            "width": null
          }
        },
        "4e697a6b0ca04ff09003b5779452bb24": {
          "model_module": "@jupyter-widgets/controls",
          "model_module_version": "1.5.0",
          "model_name": "DescriptionStyleModel",
          "state": {
            "_model_module": "@jupyter-widgets/controls",
            "_model_module_version": "1.5.0",
            "_model_name": "DescriptionStyleModel",
            "_view_count": null,
            "_view_module": "@jupyter-widgets/base",
            "_view_module_version": "1.2.0",
            "_view_name": "StyleView",
            "description_width": ""
          }
        },
        "4f4e414ae1fb4bcabb8b0dee422428b1": {
          "model_module": "@jupyter-widgets/base",
          "model_module_version": "1.2.0",
          "model_name": "LayoutModel",
          "state": {
            "_model_module": "@jupyter-widgets/base",
            "_model_module_version": "1.2.0",
            "_model_name": "LayoutModel",
            "_view_count": null,
            "_view_module": "@jupyter-widgets/base",
            "_view_module_version": "1.2.0",
            "_view_name": "LayoutView",
            "align_content": null,
            "align_items": null,
            "align_self": null,
            "border": null,
            "bottom": null,
            "display": null,
            "flex": null,
            "flex_flow": null,
            "grid_area": null,
            "grid_auto_columns": null,
            "grid_auto_flow": null,
            "grid_auto_rows": null,
            "grid_column": null,
            "grid_gap": null,
            "grid_row": null,
            "grid_template_areas": null,
            "grid_template_columns": null,
            "grid_template_rows": null,
            "height": null,
            "justify_content": null,
            "justify_items": null,
            "left": null,
            "margin": null,
            "max_height": null,
            "max_width": null,
            "min_height": null,
            "min_width": null,
            "object_fit": null,
            "object_position": null,
            "order": null,
            "overflow": null,
            "overflow_x": null,
            "overflow_y": null,
            "padding": null,
            "right": null,
            "top": null,
            "visibility": null,
            "width": null
          }
        },
        "50cd8ced9b1c4ed39f75a831eec1278e": {
          "model_module": "@jupyter-widgets/controls",
          "model_module_version": "1.5.0",
          "model_name": "ProgressStyleModel",
          "state": {
            "_model_module": "@jupyter-widgets/controls",
            "_model_module_version": "1.5.0",
            "_model_name": "ProgressStyleModel",
            "_view_count": null,
            "_view_module": "@jupyter-widgets/base",
            "_view_module_version": "1.2.0",
            "_view_name": "StyleView",
            "bar_color": null,
            "description_width": ""
          }
        },
        "521ca146f9c8413b8d0ffbdd7aae588d": {
          "model_module": "@jupyter-widgets/base",
          "model_module_version": "1.2.0",
          "model_name": "LayoutModel",
          "state": {
            "_model_module": "@jupyter-widgets/base",
            "_model_module_version": "1.2.0",
            "_model_name": "LayoutModel",
            "_view_count": null,
            "_view_module": "@jupyter-widgets/base",
            "_view_module_version": "1.2.0",
            "_view_name": "LayoutView",
            "align_content": null,
            "align_items": null,
            "align_self": null,
            "border": null,
            "bottom": null,
            "display": null,
            "flex": null,
            "flex_flow": null,
            "grid_area": null,
            "grid_auto_columns": null,
            "grid_auto_flow": null,
            "grid_auto_rows": null,
            "grid_column": null,
            "grid_gap": null,
            "grid_row": null,
            "grid_template_areas": null,
            "grid_template_columns": null,
            "grid_template_rows": null,
            "height": null,
            "justify_content": null,
            "justify_items": null,
            "left": null,
            "margin": null,
            "max_height": null,
            "max_width": null,
            "min_height": null,
            "min_width": null,
            "object_fit": null,
            "object_position": null,
            "order": null,
            "overflow": null,
            "overflow_x": null,
            "overflow_y": null,
            "padding": null,
            "right": null,
            "top": null,
            "visibility": null,
            "width": null
          }
        },
        "570563d9323e4c619cf0fc9a812b73ea": {
          "model_module": "@jupyter-widgets/controls",
          "model_module_version": "1.5.0",
          "model_name": "HTMLModel",
          "state": {
            "_dom_classes": [],
            "_model_module": "@jupyter-widgets/controls",
            "_model_module_version": "1.5.0",
            "_model_name": "HTMLModel",
            "_view_count": null,
            "_view_module": "@jupyter-widgets/controls",
            "_view_module_version": "1.5.0",
            "_view_name": "HTMLView",
            "description": "",
            "description_tooltip": null,
            "layout": "IPY_MODEL_a9b6922591674779828ae1177bdd4d6e",
            "placeholder": "​",
            "style": "IPY_MODEL_21a442f2bcf6400fb484d1826bdffcf7",
            "value": "modules.json: 100%"
          }
        },
        "57b3b3b51ee2405382062ceaa4cba031": {
          "model_module": "@jupyter-widgets/controls",
          "model_module_version": "1.5.0",
          "model_name": "HTMLModel",
          "state": {
            "_dom_classes": [],
            "_model_module": "@jupyter-widgets/controls",
            "_model_module_version": "1.5.0",
            "_model_name": "HTMLModel",
            "_view_count": null,
            "_view_module": "@jupyter-widgets/controls",
            "_view_module_version": "1.5.0",
            "_view_name": "HTMLView",
            "description": "",
            "description_tooltip": null,
            "layout": "IPY_MODEL_b1e8e2424e064ade96858bd2e53f93c9",
            "placeholder": "​",
            "style": "IPY_MODEL_28dabe47c5ff40f89757a621d088fa34",
            "value": " 612/612 [00:00&lt;00:00, 61.7kB/s]"
          }
        },
        "57f130ca3d974a64b97d25857b9aa76b": {
          "model_module": "@jupyter-widgets/base",
          "model_module_version": "1.2.0",
          "model_name": "LayoutModel",
          "state": {
            "_model_module": "@jupyter-widgets/base",
            "_model_module_version": "1.2.0",
            "_model_name": "LayoutModel",
            "_view_count": null,
            "_view_module": "@jupyter-widgets/base",
            "_view_module_version": "1.2.0",
            "_view_name": "LayoutView",
            "align_content": null,
            "align_items": null,
            "align_self": null,
            "border": null,
            "bottom": null,
            "display": null,
            "flex": null,
            "flex_flow": null,
            "grid_area": null,
            "grid_auto_columns": null,
            "grid_auto_flow": null,
            "grid_auto_rows": null,
            "grid_column": null,
            "grid_gap": null,
            "grid_row": null,
            "grid_template_areas": null,
            "grid_template_columns": null,
            "grid_template_rows": null,
            "height": null,
            "justify_content": null,
            "justify_items": null,
            "left": null,
            "margin": null,
            "max_height": null,
            "max_width": null,
            "min_height": null,
            "min_width": null,
            "object_fit": null,
            "object_position": null,
            "order": null,
            "overflow": null,
            "overflow_x": null,
            "overflow_y": null,
            "padding": null,
            "right": null,
            "top": null,
            "visibility": null,
            "width": null
          }
        },
        "594a821fbd3240e097793bc00597a21a": {
          "model_module": "@jupyter-widgets/base",
          "model_module_version": "1.2.0",
          "model_name": "LayoutModel",
          "state": {
            "_model_module": "@jupyter-widgets/base",
            "_model_module_version": "1.2.0",
            "_model_name": "LayoutModel",
            "_view_count": null,
            "_view_module": "@jupyter-widgets/base",
            "_view_module_version": "1.2.0",
            "_view_name": "LayoutView",
            "align_content": null,
            "align_items": null,
            "align_self": null,
            "border": null,
            "bottom": null,
            "display": null,
            "flex": null,
            "flex_flow": null,
            "grid_area": null,
            "grid_auto_columns": null,
            "grid_auto_flow": null,
            "grid_auto_rows": null,
            "grid_column": null,
            "grid_gap": null,
            "grid_row": null,
            "grid_template_areas": null,
            "grid_template_columns": null,
            "grid_template_rows": null,
            "height": null,
            "justify_content": null,
            "justify_items": null,
            "left": null,
            "margin": null,
            "max_height": null,
            "max_width": null,
            "min_height": null,
            "min_width": null,
            "object_fit": null,
            "object_position": null,
            "order": null,
            "overflow": null,
            "overflow_x": null,
            "overflow_y": null,
            "padding": null,
            "right": null,
            "top": null,
            "visibility": null,
            "width": null
          }
        },
        "59e9d79d77a64d3ebc33663886347bae": {
          "model_module": "@jupyter-widgets/controls",
          "model_module_version": "1.5.0",
          "model_name": "ProgressStyleModel",
          "state": {
            "_model_module": "@jupyter-widgets/controls",
            "_model_module_version": "1.5.0",
            "_model_name": "ProgressStyleModel",
            "_view_count": null,
            "_view_module": "@jupyter-widgets/base",
            "_view_module_version": "1.2.0",
            "_view_name": "StyleView",
            "bar_color": null,
            "description_width": ""
          }
        },
        "5b15be81bcde4547be9112bb7ac14845": {
          "model_module": "@jupyter-widgets/base",
          "model_module_version": "1.2.0",
          "model_name": "LayoutModel",
          "state": {
            "_model_module": "@jupyter-widgets/base",
            "_model_module_version": "1.2.0",
            "_model_name": "LayoutModel",
            "_view_count": null,
            "_view_module": "@jupyter-widgets/base",
            "_view_module_version": "1.2.0",
            "_view_name": "LayoutView",
            "align_content": null,
            "align_items": null,
            "align_self": null,
            "border": null,
            "bottom": null,
            "display": null,
            "flex": null,
            "flex_flow": null,
            "grid_area": null,
            "grid_auto_columns": null,
            "grid_auto_flow": null,
            "grid_auto_rows": null,
            "grid_column": null,
            "grid_gap": null,
            "grid_row": null,
            "grid_template_areas": null,
            "grid_template_columns": null,
            "grid_template_rows": null,
            "height": null,
            "justify_content": null,
            "justify_items": null,
            "left": null,
            "margin": null,
            "max_height": null,
            "max_width": null,
            "min_height": null,
            "min_width": null,
            "object_fit": null,
            "object_position": null,
            "order": null,
            "overflow": null,
            "overflow_x": null,
            "overflow_y": null,
            "padding": null,
            "right": null,
            "top": null,
            "visibility": null,
            "width": null
          }
        },
        "5deb1f7ba96d40c3b6bc939d5c067f4f": {
          "model_module": "@jupyter-widgets/controls",
          "model_module_version": "1.5.0",
          "model_name": "DescriptionStyleModel",
          "state": {
            "_model_module": "@jupyter-widgets/controls",
            "_model_module_version": "1.5.0",
            "_model_name": "DescriptionStyleModel",
            "_view_count": null,
            "_view_module": "@jupyter-widgets/base",
            "_view_module_version": "1.2.0",
            "_view_name": "StyleView",
            "description_width": ""
          }
        },
        "646404a9d52c47b9ad61f84e0e692de5": {
          "model_module": "@jupyter-widgets/controls",
          "model_module_version": "1.5.0",
          "model_name": "FloatProgressModel",
          "state": {
            "_dom_classes": [],
            "_model_module": "@jupyter-widgets/controls",
            "_model_module_version": "1.5.0",
            "_model_name": "FloatProgressModel",
            "_view_count": null,
            "_view_module": "@jupyter-widgets/controls",
            "_view_module_version": "1.5.0",
            "_view_name": "ProgressView",
            "bar_style": "success",
            "description": "",
            "description_tooltip": null,
            "layout": "IPY_MODEL_4851e084e3e24f59aa4a9bdab70cb7fa",
            "max": 180,
            "min": 0,
            "orientation": "horizontal",
            "style": "IPY_MODEL_f36eda2a20734a3297021aad447aa284",
            "value": 180
          }
        },
        "6479422fb311481cbaa915651c1e8ab5": {
          "model_module": "@jupyter-widgets/controls",
          "model_module_version": "1.5.0",
          "model_name": "FloatProgressModel",
          "state": {
            "_dom_classes": [],
            "_model_module": "@jupyter-widgets/controls",
            "_model_module_version": "1.5.0",
            "_model_name": "FloatProgressModel",
            "_view_count": null,
            "_view_module": "@jupyter-widgets/controls",
            "_view_module_version": "1.5.0",
            "_view_name": "ProgressView",
            "bar_style": "success",
            "description": "",
            "description_tooltip": null,
            "layout": "IPY_MODEL_c036577ef2844df681de951056967be7",
            "max": 349,
            "min": 0,
            "orientation": "horizontal",
            "style": "IPY_MODEL_232330ef8b5a49edb8fc69bd61ecb362",
            "value": 349
          }
        },
        "65c24bcfd74647379423eac698328288": {
          "model_module": "@jupyter-widgets/controls",
          "model_module_version": "1.5.0",
          "model_name": "ProgressStyleModel",
          "state": {
            "_model_module": "@jupyter-widgets/controls",
            "_model_module_version": "1.5.0",
            "_model_name": "ProgressStyleModel",
            "_view_count": null,
            "_view_module": "@jupyter-widgets/base",
            "_view_module_version": "1.2.0",
            "_view_name": "StyleView",
            "bar_color": null,
            "description_width": ""
          }
        },
        "662e438614e34ff48d6559660597083f": {
          "model_module": "@jupyter-widgets/controls",
          "model_module_version": "1.5.0",
          "model_name": "HBoxModel",
          "state": {
            "_dom_classes": [],
            "_model_module": "@jupyter-widgets/controls",
            "_model_module_version": "1.5.0",
            "_model_name": "HBoxModel",
            "_view_count": null,
            "_view_module": "@jupyter-widgets/controls",
            "_view_module_version": "1.5.0",
            "_view_name": "HBoxView",
            "box_style": "",
            "children": [
              "IPY_MODEL_dc371ede4fe546138add4c7d366b5b4d",
              "IPY_MODEL_9ea2796555c84392b5beffc2472d352b",
              "IPY_MODEL_ceb9fed8138a4bb6903d9a0008e7545f"
            ],
            "layout": "IPY_MODEL_594a821fbd3240e097793bc00597a21a"
          }
        },
        "6789045c6c2b427b95dc1fd366e73aa2": {
          "model_module": "@jupyter-widgets/controls",
          "model_module_version": "1.5.0",
          "model_name": "HTMLModel",
          "state": {
            "_dom_classes": [],
            "_model_module": "@jupyter-widgets/controls",
            "_model_module_version": "1.5.0",
            "_model_name": "HTMLModel",
            "_view_count": null,
            "_view_module": "@jupyter-widgets/controls",
            "_view_module_version": "1.5.0",
            "_view_name": "HTMLView",
            "description": "",
            "description_tooltip": null,
            "layout": "IPY_MODEL_521ca146f9c8413b8d0ffbdd7aae588d",
            "placeholder": "​",
            "style": "IPY_MODEL_3737cc88efc1400aa37d9946e1da5f8d",
            "value": " 10.5k/10.5k [00:00&lt;00:00, 974kB/s]"
          }
        },
        "6cd2590fee4a4702adcf35d3d1921864": {
          "model_module": "@jupyter-widgets/base",
          "model_module_version": "1.2.0",
          "model_name": "LayoutModel",
          "state": {
            "_model_module": "@jupyter-widgets/base",
            "_model_module_version": "1.2.0",
            "_model_name": "LayoutModel",
            "_view_count": null,
            "_view_module": "@jupyter-widgets/base",
            "_view_module_version": "1.2.0",
            "_view_name": "LayoutView",
            "align_content": null,
            "align_items": null,
            "align_self": null,
            "border": null,
            "bottom": null,
            "display": null,
            "flex": null,
            "flex_flow": null,
            "grid_area": null,
            "grid_auto_columns": null,
            "grid_auto_flow": null,
            "grid_auto_rows": null,
            "grid_column": null,
            "grid_gap": null,
            "grid_row": null,
            "grid_template_areas": null,
            "grid_template_columns": null,
            "grid_template_rows": null,
            "height": null,
            "justify_content": null,
            "justify_items": null,
            "left": null,
            "margin": null,
            "max_height": null,
            "max_width": null,
            "min_height": null,
            "min_width": null,
            "object_fit": null,
            "object_position": null,
            "order": null,
            "overflow": null,
            "overflow_x": null,
            "overflow_y": null,
            "padding": null,
            "right": null,
            "top": null,
            "visibility": null,
            "width": null
          }
        },
        "6f93402f73cc44baab85f33d5bb27c1d": {
          "model_module": "@jupyter-widgets/controls",
          "model_module_version": "1.5.0",
          "model_name": "HTMLModel",
          "state": {
            "_dom_classes": [],
            "_model_module": "@jupyter-widgets/controls",
            "_model_module_version": "1.5.0",
            "_model_name": "HTMLModel",
            "_view_count": null,
            "_view_module": "@jupyter-widgets/controls",
            "_view_module_version": "1.5.0",
            "_view_name": "HTMLView",
            "description": "",
            "description_tooltip": null,
            "layout": "IPY_MODEL_aec8c9239f7948f3bfa688593a0bc171",
            "placeholder": "​",
            "style": "IPY_MODEL_24f331ab58bf48258f29a0832a59af2d",
            "value": "config_sentence_transformers.json: 100%"
          }
        },
        "72e9bfd356b04bc69b80f8e068bb8f73": {
          "model_module": "@jupyter-widgets/controls",
          "model_module_version": "1.5.0",
          "model_name": "DescriptionStyleModel",
          "state": {
            "_model_module": "@jupyter-widgets/controls",
            "_model_module_version": "1.5.0",
            "_model_name": "DescriptionStyleModel",
            "_view_count": null,
            "_view_module": "@jupyter-widgets/base",
            "_view_module_version": "1.2.0",
            "_view_name": "StyleView",
            "description_width": ""
          }
        },
        "7389b774107c46af966a6c1d42b9dbc1": {
          "model_module": "@jupyter-widgets/controls",
          "model_module_version": "1.5.0",
          "model_name": "ProgressStyleModel",
          "state": {
            "_model_module": "@jupyter-widgets/controls",
            "_model_module_version": "1.5.0",
            "_model_name": "ProgressStyleModel",
            "_view_count": null,
            "_view_module": "@jupyter-widgets/base",
            "_view_module_version": "1.2.0",
            "_view_name": "StyleView",
            "bar_color": null,
            "description_width": ""
          }
        },
        "73fc6a6de1e747e1a6da9a5b84d7c45c": {
          "model_module": "@jupyter-widgets/controls",
          "model_module_version": "1.5.0",
          "model_name": "HTMLModel",
          "state": {
            "_dom_classes": [],
            "_model_module": "@jupyter-widgets/controls",
            "_model_module_version": "1.5.0",
            "_model_name": "HTMLModel",
            "_view_count": null,
            "_view_module": "@jupyter-widgets/controls",
            "_view_module_version": "1.5.0",
            "_view_name": "HTMLView",
            "description": "",
            "description_tooltip": null,
            "layout": "IPY_MODEL_ac54aa94139243d7b91ed6306ab302ee",
            "placeholder": "​",
            "style": "IPY_MODEL_cd8e940f5570415cb564edacd2ae3a10",
            "value": " 466k/466k [00:00&lt;00:00, 7.77MB/s]"
          }
        },
        "7517224df60c48968e0975f6a5ae804f": {
          "model_module": "@jupyter-widgets/base",
          "model_module_version": "1.2.0",
          "model_name": "LayoutModel",
          "state": {
            "_model_module": "@jupyter-widgets/base",
            "_model_module_version": "1.2.0",
            "_model_name": "LayoutModel",
            "_view_count": null,
            "_view_module": "@jupyter-widgets/base",
            "_view_module_version": "1.2.0",
            "_view_name": "LayoutView",
            "align_content": null,
            "align_items": null,
            "align_self": null,
            "border": null,
            "bottom": null,
            "display": null,
            "flex": null,
            "flex_flow": null,
            "grid_area": null,
            "grid_auto_columns": null,
            "grid_auto_flow": null,
            "grid_auto_rows": null,
            "grid_column": null,
            "grid_gap": null,
            "grid_row": null,
            "grid_template_areas": null,
            "grid_template_columns": null,
            "grid_template_rows": null,
            "height": null,
            "justify_content": null,
            "justify_items": null,
            "left": null,
            "margin": null,
            "max_height": null,
            "max_width": null,
            "min_height": null,
            "min_width": null,
            "object_fit": null,
            "object_position": null,
            "order": null,
            "overflow": null,
            "overflow_x": null,
            "overflow_y": null,
            "padding": null,
            "right": null,
            "top": null,
            "visibility": null,
            "width": null
          }
        },
        "76aef0b87d6a4a50b3c8019118a75cc5": {
          "model_module": "@jupyter-widgets/controls",
          "model_module_version": "1.5.0",
          "model_name": "ProgressStyleModel",
          "state": {
            "_model_module": "@jupyter-widgets/controls",
            "_model_module_version": "1.5.0",
            "_model_name": "ProgressStyleModel",
            "_view_count": null,
            "_view_module": "@jupyter-widgets/base",
            "_view_module_version": "1.2.0",
            "_view_name": "StyleView",
            "bar_color": null,
            "description_width": ""
          }
        },
        "7712002c851f40e8a095e91782473d64": {
          "model_module": "@jupyter-widgets/base",
          "model_module_version": "1.2.0",
          "model_name": "LayoutModel",
          "state": {
            "_model_module": "@jupyter-widgets/base",
            "_model_module_version": "1.2.0",
            "_model_name": "LayoutModel",
            "_view_count": null,
            "_view_module": "@jupyter-widgets/base",
            "_view_module_version": "1.2.0",
            "_view_name": "LayoutView",
            "align_content": null,
            "align_items": null,
            "align_self": null,
            "border": null,
            "bottom": null,
            "display": null,
            "flex": null,
            "flex_flow": null,
            "grid_area": null,
            "grid_auto_columns": null,
            "grid_auto_flow": null,
            "grid_auto_rows": null,
            "grid_column": null,
            "grid_gap": null,
            "grid_row": null,
            "grid_template_areas": null,
            "grid_template_columns": null,
            "grid_template_rows": null,
            "height": null,
            "justify_content": null,
            "justify_items": null,
            "left": null,
            "margin": null,
            "max_height": null,
            "max_width": null,
            "min_height": null,
            "min_width": null,
            "object_fit": null,
            "object_position": null,
            "order": null,
            "overflow": null,
            "overflow_x": null,
            "overflow_y": null,
            "padding": null,
            "right": null,
            "top": null,
            "visibility": null,
            "width": null
          }
        },
        "78b95e875d2f4bed9a021eae6827923e": {
          "model_module": "@jupyter-widgets/base",
          "model_module_version": "1.2.0",
          "model_name": "LayoutModel",
          "state": {
            "_model_module": "@jupyter-widgets/base",
            "_model_module_version": "1.2.0",
            "_model_name": "LayoutModel",
            "_view_count": null,
            "_view_module": "@jupyter-widgets/base",
            "_view_module_version": "1.2.0",
            "_view_name": "LayoutView",
            "align_content": null,
            "align_items": null,
            "align_self": null,
            "border": null,
            "bottom": null,
            "display": null,
            "flex": null,
            "flex_flow": null,
            "grid_area": null,
            "grid_auto_columns": null,
            "grid_auto_flow": null,
            "grid_auto_rows": null,
            "grid_column": null,
            "grid_gap": null,
            "grid_row": null,
            "grid_template_areas": null,
            "grid_template_columns": null,
            "grid_template_rows": null,
            "height": null,
            "justify_content": null,
            "justify_items": null,
            "left": null,
            "margin": null,
            "max_height": null,
            "max_width": null,
            "min_height": null,
            "min_width": null,
            "object_fit": null,
            "object_position": null,
            "order": null,
            "overflow": null,
            "overflow_x": null,
            "overflow_y": null,
            "padding": null,
            "right": null,
            "top": null,
            "visibility": null,
            "width": null
          }
        },
        "79b4651f81c94fa49fd7ca0fd0360d99": {
          "model_module": "@jupyter-widgets/controls",
          "model_module_version": "1.5.0",
          "model_name": "HTMLModel",
          "state": {
            "_dom_classes": [],
            "_model_module": "@jupyter-widgets/controls",
            "_model_module_version": "1.5.0",
            "_model_name": "HTMLModel",
            "_view_count": null,
            "_view_module": "@jupyter-widgets/controls",
            "_view_module_version": "1.5.0",
            "_view_name": "HTMLView",
            "description": "",
            "description_tooltip": null,
            "layout": "IPY_MODEL_c784a8f660d44404af54d6aa6094192b",
            "placeholder": "​",
            "style": "IPY_MODEL_206b93f4c58a4bedb0b183bc425bb45f",
            "value": " 232k/232k [00:00&lt;00:00, 1.90MB/s]"
          }
        },
        "7a0dafbe60944578bbb3ae1779a39acf": {
          "model_module": "@jupyter-widgets/controls",
          "model_module_version": "1.5.0",
          "model_name": "HBoxModel",
          "state": {
            "_dom_classes": [],
            "_model_module": "@jupyter-widgets/controls",
            "_model_module_version": "1.5.0",
            "_model_name": "HBoxModel",
            "_view_count": null,
            "_view_module": "@jupyter-widgets/controls",
            "_view_module_version": "1.5.0",
            "_view_name": "HBoxView",
            "box_style": "",
            "children": [
              "IPY_MODEL_e62a0a75decc4527834a54947373044a",
              "IPY_MODEL_e305a42ff43b4daaae186bdc37d18bb7",
              "IPY_MODEL_73fc6a6de1e747e1a6da9a5b84d7c45c"
            ],
            "layout": "IPY_MODEL_a7125356065b43a1aa7eecbc21f5faf8"
          }
        },
        "7c08bfecf7f348aa9f69ac9d4f7b99b5": {
          "model_module": "@jupyter-widgets/controls",
          "model_module_version": "1.5.0",
          "model_name": "DescriptionStyleModel",
          "state": {
            "_model_module": "@jupyter-widgets/controls",
            "_model_module_version": "1.5.0",
            "_model_name": "DescriptionStyleModel",
            "_view_count": null,
            "_view_module": "@jupyter-widgets/base",
            "_view_module_version": "1.2.0",
            "_view_name": "StyleView",
            "description_width": ""
          }
        },
        "7fdc0d2575244a9a89c4b7dbf11efdc6": {
          "model_module": "@jupyter-widgets/controls",
          "model_module_version": "1.5.0",
          "model_name": "FloatProgressModel",
          "state": {
            "_dom_classes": [],
            "_model_module": "@jupyter-widgets/controls",
            "_model_module_version": "1.5.0",
            "_model_name": "FloatProgressModel",
            "_view_count": null,
            "_view_module": "@jupyter-widgets/controls",
            "_view_module_version": "1.5.0",
            "_view_name": "ProgressView",
            "bar_style": "success",
            "description": "",
            "description_tooltip": null,
            "layout": "IPY_MODEL_9ca960c884524b3fb8930a05c89c57cf",
            "max": 10454,
            "min": 0,
            "orientation": "horizontal",
            "style": "IPY_MODEL_828fe142fcc94276b98015890e9135b1",
            "value": 10454
          }
        },
        "81069c4855a14ea6891ccdaa6f25d067": {
          "model_module": "@jupyter-widgets/controls",
          "model_module_version": "1.5.0",
          "model_name": "ProgressStyleModel",
          "state": {
            "_model_module": "@jupyter-widgets/controls",
            "_model_module_version": "1.5.0",
            "_model_name": "ProgressStyleModel",
            "_view_count": null,
            "_view_module": "@jupyter-widgets/base",
            "_view_module_version": "1.2.0",
            "_view_name": "StyleView",
            "bar_color": null,
            "description_width": ""
          }
        },
        "828fe142fcc94276b98015890e9135b1": {
          "model_module": "@jupyter-widgets/controls",
          "model_module_version": "1.5.0",
          "model_name": "ProgressStyleModel",
          "state": {
            "_model_module": "@jupyter-widgets/controls",
            "_model_module_version": "1.5.0",
            "_model_name": "ProgressStyleModel",
            "_view_count": null,
            "_view_module": "@jupyter-widgets/base",
            "_view_module_version": "1.2.0",
            "_view_name": "StyleView",
            "bar_color": null,
            "description_width": ""
          }
        },
        "839579d56a104b1ebe0db0e6e807c688": {
          "model_module": "@jupyter-widgets/controls",
          "model_module_version": "1.5.0",
          "model_name": "ProgressStyleModel",
          "state": {
            "_model_module": "@jupyter-widgets/controls",
            "_model_module_version": "1.5.0",
            "_model_name": "ProgressStyleModel",
            "_view_count": null,
            "_view_module": "@jupyter-widgets/base",
            "_view_module_version": "1.2.0",
            "_view_name": "StyleView",
            "bar_color": null,
            "description_width": ""
          }
        },
        "8397eaef68b74dd2ae80b817bbe64abe": {
          "model_module": "@jupyter-widgets/controls",
          "model_module_version": "1.5.0",
          "model_name": "HTMLModel",
          "state": {
            "_dom_classes": [],
            "_model_module": "@jupyter-widgets/controls",
            "_model_module_version": "1.5.0",
            "_model_name": "HTMLModel",
            "_view_count": null,
            "_view_module": "@jupyter-widgets/controls",
            "_view_module_version": "1.5.0",
            "_view_name": "HTMLView",
            "description": "",
            "description_tooltip": null,
            "layout": "IPY_MODEL_17acb1a44fcb46ceb14c0902ed7f6ad3",
            "placeholder": "​",
            "style": "IPY_MODEL_204208d88a7942a4b2464b6e686ea744",
            "value": " 350/350 [00:00&lt;00:00, 35.0kB/s]"
          }
        },
        "854eb314a9334d838a17aa5c899e034d": {
          "model_module": "@jupyter-widgets/base",
          "model_module_version": "1.2.0",
          "model_name": "LayoutModel",
          "state": {
            "_model_module": "@jupyter-widgets/base",
            "_model_module_version": "1.2.0",
            "_model_name": "LayoutModel",
            "_view_count": null,
            "_view_module": "@jupyter-widgets/base",
            "_view_module_version": "1.2.0",
            "_view_name": "LayoutView",
            "align_content": null,
            "align_items": null,
            "align_self": null,
            "border": null,
            "bottom": null,
            "display": null,
            "flex": null,
            "flex_flow": null,
            "grid_area": null,
            "grid_auto_columns": null,
            "grid_auto_flow": null,
            "grid_auto_rows": null,
            "grid_column": null,
            "grid_gap": null,
            "grid_row": null,
            "grid_template_areas": null,
            "grid_template_columns": null,
            "grid_template_rows": null,
            "height": null,
            "justify_content": null,
            "justify_items": null,
            "left": null,
            "margin": null,
            "max_height": null,
            "max_width": null,
            "min_height": null,
            "min_width": null,
            "object_fit": null,
            "object_position": null,
            "order": null,
            "overflow": null,
            "overflow_x": null,
            "overflow_y": null,
            "padding": null,
            "right": null,
            "top": null,
            "visibility": null,
            "width": null
          }
        },
        "892d024c16f94456a82349d474fc48d1": {
          "model_module": "@jupyter-widgets/controls",
          "model_module_version": "1.5.0",
          "model_name": "FloatProgressModel",
          "state": {
            "_dom_classes": [],
            "_model_module": "@jupyter-widgets/controls",
            "_model_module_version": "1.5.0",
            "_model_name": "FloatProgressModel",
            "_view_count": null,
            "_view_module": "@jupyter-widgets/controls",
            "_view_module_version": "1.5.0",
            "_view_name": "ProgressView",
            "bar_style": "success",
            "description": "",
            "description_tooltip": null,
            "layout": "IPY_MODEL_a2d2f94ef618434e8248bb896ecfa1c0",
            "max": 350,
            "min": 0,
            "orientation": "horizontal",
            "style": "IPY_MODEL_3d435b513b0a480bb75ec7af612464a3",
            "value": 350
          }
        },
        "8a37e224aeeb48c8b3b240d487bd85f6": {
          "model_module": "@jupyter-widgets/base",
          "model_module_version": "1.2.0",
          "model_name": "LayoutModel",
          "state": {
            "_model_module": "@jupyter-widgets/base",
            "_model_module_version": "1.2.0",
            "_model_name": "LayoutModel",
            "_view_count": null,
            "_view_module": "@jupyter-widgets/base",
            "_view_module_version": "1.2.0",
            "_view_name": "LayoutView",
            "align_content": null,
            "align_items": null,
            "align_self": null,
            "border": null,
            "bottom": null,
            "display": null,
            "flex": null,
            "flex_flow": null,
            "grid_area": null,
            "grid_auto_columns": null,
            "grid_auto_flow": null,
            "grid_auto_rows": null,
            "grid_column": null,
            "grid_gap": null,
            "grid_row": null,
            "grid_template_areas": null,
            "grid_template_columns": null,
            "grid_template_rows": null,
            "height": null,
            "justify_content": null,
            "justify_items": null,
            "left": null,
            "margin": null,
            "max_height": null,
            "max_width": null,
            "min_height": null,
            "min_width": null,
            "object_fit": null,
            "object_position": null,
            "order": null,
            "overflow": null,
            "overflow_x": null,
            "overflow_y": null,
            "padding": null,
            "right": null,
            "top": null,
            "visibility": null,
            "width": null
          }
        },
        "8b7913692a9f4c30b6b4debe8795e68a": {
          "model_module": "@jupyter-widgets/controls",
          "model_module_version": "1.5.0",
          "model_name": "DescriptionStyleModel",
          "state": {
            "_model_module": "@jupyter-widgets/controls",
            "_model_module_version": "1.5.0",
            "_model_name": "DescriptionStyleModel",
            "_view_count": null,
            "_view_module": "@jupyter-widgets/base",
            "_view_module_version": "1.2.0",
            "_view_name": "StyleView",
            "description_width": ""
          }
        },
        "8ceb7e19107c4492a5e55fd884f2cc79": {
          "model_module": "@jupyter-widgets/base",
          "model_module_version": "1.2.0",
          "model_name": "LayoutModel",
          "state": {
            "_model_module": "@jupyter-widgets/base",
            "_model_module_version": "1.2.0",
            "_model_name": "LayoutModel",
            "_view_count": null,
            "_view_module": "@jupyter-widgets/base",
            "_view_module_version": "1.2.0",
            "_view_name": "LayoutView",
            "align_content": null,
            "align_items": null,
            "align_self": null,
            "border": null,
            "bottom": null,
            "display": null,
            "flex": null,
            "flex_flow": null,
            "grid_area": null,
            "grid_auto_columns": null,
            "grid_auto_flow": null,
            "grid_auto_rows": null,
            "grid_column": null,
            "grid_gap": null,
            "grid_row": null,
            "grid_template_areas": null,
            "grid_template_columns": null,
            "grid_template_rows": null,
            "height": null,
            "justify_content": null,
            "justify_items": null,
            "left": null,
            "margin": null,
            "max_height": null,
            "max_width": null,
            "min_height": null,
            "min_width": null,
            "object_fit": null,
            "object_position": null,
            "order": null,
            "overflow": null,
            "overflow_x": null,
            "overflow_y": null,
            "padding": null,
            "right": null,
            "top": null,
            "visibility": null,
            "width": null
          }
        },
        "8cfcfc2305314bf1898f7c0ff5db59c5": {
          "model_module": "@jupyter-widgets/base",
          "model_module_version": "1.2.0",
          "model_name": "LayoutModel",
          "state": {
            "_model_module": "@jupyter-widgets/base",
            "_model_module_version": "1.2.0",
            "_model_name": "LayoutModel",
            "_view_count": null,
            "_view_module": "@jupyter-widgets/base",
            "_view_module_version": "1.2.0",
            "_view_name": "LayoutView",
            "align_content": null,
            "align_items": null,
            "align_self": null,
            "border": null,
            "bottom": null,
            "display": null,
            "flex": null,
            "flex_flow": null,
            "grid_area": null,
            "grid_auto_columns": null,
            "grid_auto_flow": null,
            "grid_auto_rows": null,
            "grid_column": null,
            "grid_gap": null,
            "grid_row": null,
            "grid_template_areas": null,
            "grid_template_columns": null,
            "grid_template_rows": null,
            "height": null,
            "justify_content": null,
            "justify_items": null,
            "left": null,
            "margin": null,
            "max_height": null,
            "max_width": null,
            "min_height": null,
            "min_width": null,
            "object_fit": null,
            "object_position": null,
            "order": null,
            "overflow": null,
            "overflow_x": null,
            "overflow_y": null,
            "padding": null,
            "right": null,
            "top": null,
            "visibility": null,
            "width": null
          }
        },
        "8fbb3a89bada495fae29ad3933eda3aa": {
          "model_module": "@jupyter-widgets/controls",
          "model_module_version": "1.5.0",
          "model_name": "DescriptionStyleModel",
          "state": {
            "_model_module": "@jupyter-widgets/controls",
            "_model_module_version": "1.5.0",
            "_model_name": "DescriptionStyleModel",
            "_view_count": null,
            "_view_module": "@jupyter-widgets/base",
            "_view_module_version": "1.2.0",
            "_view_name": "StyleView",
            "description_width": ""
          }
        },
        "906b9318060b4d83bf0d9d2cfbbf8895": {
          "model_module": "@jupyter-widgets/controls",
          "model_module_version": "1.5.0",
          "model_name": "FloatProgressModel",
          "state": {
            "_dom_classes": [],
            "_model_module": "@jupyter-widgets/controls",
            "_model_module_version": "1.5.0",
            "_model_name": "FloatProgressModel",
            "_view_count": null,
            "_view_module": "@jupyter-widgets/controls",
            "_view_module_version": "1.5.0",
            "_view_name": "ProgressView",
            "bar_style": "success",
            "description": "",
            "description_tooltip": null,
            "layout": "IPY_MODEL_caf34eef10214541ae48ee9e1b013d75",
            "max": 53,
            "min": 0,
            "orientation": "horizontal",
            "style": "IPY_MODEL_ee8e7dbc087a4e35a7b0efbf7c9fc178",
            "value": 53
          }
        },
        "9279a61202a64f2ea9520ab24f39072a": {
          "model_module": "@jupyter-widgets/base",
          "model_module_version": "1.2.0",
          "model_name": "LayoutModel",
          "state": {
            "_model_module": "@jupyter-widgets/base",
            "_model_module_version": "1.2.0",
            "_model_name": "LayoutModel",
            "_view_count": null,
            "_view_module": "@jupyter-widgets/base",
            "_view_module_version": "1.2.0",
            "_view_name": "LayoutView",
            "align_content": null,
            "align_items": null,
            "align_self": null,
            "border": null,
            "bottom": null,
            "display": null,
            "flex": null,
            "flex_flow": null,
            "grid_area": null,
            "grid_auto_columns": null,
            "grid_auto_flow": null,
            "grid_auto_rows": null,
            "grid_column": null,
            "grid_gap": null,
            "grid_row": null,
            "grid_template_areas": null,
            "grid_template_columns": null,
            "grid_template_rows": null,
            "height": null,
            "justify_content": null,
            "justify_items": null,
            "left": null,
            "margin": null,
            "max_height": null,
            "max_width": null,
            "min_height": null,
            "min_width": null,
            "object_fit": null,
            "object_position": null,
            "order": null,
            "overflow": null,
            "overflow_x": null,
            "overflow_y": null,
            "padding": null,
            "right": null,
            "top": null,
            "visibility": null,
            "width": null
          }
        },
        "9612863cd3414e78bca8c43ac3fc1fd3": {
          "model_module": "@jupyter-widgets/controls",
          "model_module_version": "1.5.0",
          "model_name": "HTMLModel",
          "state": {
            "_dom_classes": [],
            "_model_module": "@jupyter-widgets/controls",
            "_model_module_version": "1.5.0",
            "_model_name": "HTMLModel",
            "_view_count": null,
            "_view_module": "@jupyter-widgets/controls",
            "_view_module_version": "1.5.0",
            "_view_name": "HTMLView",
            "description": "",
            "description_tooltip": null,
            "layout": "IPY_MODEL_a44bbfcd72c44e018e6bb73c825666fd",
            "placeholder": "​",
            "style": "IPY_MODEL_72e9bfd356b04bc69b80f8e068bb8f73",
            "value": "special_tokens_map.json: 100%"
          }
        },
        "99f0f1150e0c47ca8b5de3f47bf216eb": {
          "model_module": "@jupyter-widgets/controls",
          "model_module_version": "1.5.0",
          "model_name": "ProgressStyleModel",
          "state": {
            "_model_module": "@jupyter-widgets/controls",
            "_model_module_version": "1.5.0",
            "_model_name": "ProgressStyleModel",
            "_view_count": null,
            "_view_module": "@jupyter-widgets/base",
            "_view_module_version": "1.2.0",
            "_view_name": "StyleView",
            "bar_color": null,
            "description_width": ""
          }
        },
        "9ca960c884524b3fb8930a05c89c57cf": {
          "model_module": "@jupyter-widgets/base",
          "model_module_version": "1.2.0",
          "model_name": "LayoutModel",
          "state": {
            "_model_module": "@jupyter-widgets/base",
            "_model_module_version": "1.2.0",
            "_model_name": "LayoutModel",
            "_view_count": null,
            "_view_module": "@jupyter-widgets/base",
            "_view_module_version": "1.2.0",
            "_view_name": "LayoutView",
            "align_content": null,
            "align_items": null,
            "align_self": null,
            "border": null,
            "bottom": null,
            "display": null,
            "flex": null,
            "flex_flow": null,
            "grid_area": null,
            "grid_auto_columns": null,
            "grid_auto_flow": null,
            "grid_auto_rows": null,
            "grid_column": null,
            "grid_gap": null,
            "grid_row": null,
            "grid_template_areas": null,
            "grid_template_columns": null,
            "grid_template_rows": null,
            "height": null,
            "justify_content": null,
            "justify_items": null,
            "left": null,
            "margin": null,
            "max_height": null,
            "max_width": null,
            "min_height": null,
            "min_width": null,
            "object_fit": null,
            "object_position": null,
            "order": null,
            "overflow": null,
            "overflow_x": null,
            "overflow_y": null,
            "padding": null,
            "right": null,
            "top": null,
            "visibility": null,
            "width": null
          }
        },
        "9ea2796555c84392b5beffc2472d352b": {
          "model_module": "@jupyter-widgets/controls",
          "model_module_version": "1.5.0",
          "model_name": "FloatProgressModel",
          "state": {
            "_dom_classes": [],
            "_model_module": "@jupyter-widgets/controls",
            "_model_module_version": "1.5.0",
            "_model_name": "FloatProgressModel",
            "_view_count": null,
            "_view_module": "@jupyter-widgets/controls",
            "_view_module_version": "1.5.0",
            "_view_name": "ProgressView",
            "bar_style": "success",
            "description": "",
            "description_tooltip": null,
            "layout": "IPY_MODEL_f874a9d7ac0343e1829a4e36c2e9d4d7",
            "max": 190,
            "min": 0,
            "orientation": "horizontal",
            "style": "IPY_MODEL_c018555c449c4658a81304038edc471c",
            "value": 190
          }
        },
        "a1ac28e805d743749fff61dbcc8f8cb1": {
          "model_module": "@jupyter-widgets/controls",
          "model_module_version": "1.5.0",
          "model_name": "HTMLModel",
          "state": {
            "_dom_classes": [],
            "_model_module": "@jupyter-widgets/controls",
            "_model_module_version": "1.5.0",
            "_model_name": "HTMLModel",
            "_view_count": null,
            "_view_module": "@jupyter-widgets/controls",
            "_view_module_version": "1.5.0",
            "_view_name": "HTMLView",
            "description": "",
            "description_tooltip": null,
            "layout": "IPY_MODEL_a2ac3d62dafb4fd88110d3ee7ed98cfe",
            "placeholder": "​",
            "style": "IPY_MODEL_12fd421ac4d443f293aae752589eee60",
            "value": " 629/629 [00:00&lt;00:00, 46.3kB/s]"
          }
        },
        "a2384efafd7743c1af0b67992ad931c4": {
          "model_module": "@jupyter-widgets/controls",
          "model_module_version": "1.5.0",
          "model_name": "HTMLModel",
          "state": {
            "_dom_classes": [],
            "_model_module": "@jupyter-widgets/controls",
            "_model_module_version": "1.5.0",
            "_model_name": "HTMLModel",
            "_view_count": null,
            "_view_module": "@jupyter-widgets/controls",
            "_view_module_version": "1.5.0",
            "_view_name": "HTMLView",
            "description": "",
            "description_tooltip": null,
            "layout": "IPY_MODEL_b91e279f189d42e1811521f752dc68e1",
            "placeholder": "​",
            "style": "IPY_MODEL_d8cc9b21ee2645698d04f0ae9239eeef",
            "value": "tokenizer_config.json: 100%"
          }
        },
        "a2ac3d62dafb4fd88110d3ee7ed98cfe": {
          "model_module": "@jupyter-widgets/base",
          "model_module_version": "1.2.0",
          "model_name": "LayoutModel",
          "state": {
            "_model_module": "@jupyter-widgets/base",
            "_model_module_version": "1.2.0",
            "_model_name": "LayoutModel",
            "_view_count": null,
            "_view_module": "@jupyter-widgets/base",
            "_view_module_version": "1.2.0",
            "_view_name": "LayoutView",
            "align_content": null,
            "align_items": null,
            "align_self": null,
            "border": null,
            "bottom": null,
            "display": null,
            "flex": null,
            "flex_flow": null,
            "grid_area": null,
            "grid_auto_columns": null,
            "grid_auto_flow": null,
            "grid_auto_rows": null,
            "grid_column": null,
            "grid_gap": null,
            "grid_row": null,
            "grid_template_areas": null,
            "grid_template_columns": null,
            "grid_template_rows": null,
            "height": null,
            "justify_content": null,
            "justify_items": null,
            "left": null,
            "margin": null,
            "max_height": null,
            "max_width": null,
            "min_height": null,
            "min_width": null,
            "object_fit": null,
            "object_position": null,
            "order": null,
            "overflow": null,
            "overflow_x": null,
            "overflow_y": null,
            "padding": null,
            "right": null,
            "top": null,
            "visibility": null,
            "width": null
          }
        },
        "a2d2f94ef618434e8248bb896ecfa1c0": {
          "model_module": "@jupyter-widgets/base",
          "model_module_version": "1.2.0",
          "model_name": "LayoutModel",
          "state": {
            "_model_module": "@jupyter-widgets/base",
            "_model_module_version": "1.2.0",
            "_model_name": "LayoutModel",
            "_view_count": null,
            "_view_module": "@jupyter-widgets/base",
            "_view_module_version": "1.2.0",
            "_view_name": "LayoutView",
            "align_content": null,
            "align_items": null,
            "align_self": null,
            "border": null,
            "bottom": null,
            "display": null,
            "flex": null,
            "flex_flow": null,
            "grid_area": null,
            "grid_auto_columns": null,
            "grid_auto_flow": null,
            "grid_auto_rows": null,
            "grid_column": null,
            "grid_gap": null,
            "grid_row": null,
            "grid_template_areas": null,
            "grid_template_columns": null,
            "grid_template_rows": null,
            "height": null,
            "justify_content": null,
            "justify_items": null,
            "left": null,
            "margin": null,
            "max_height": null,
            "max_width": null,
            "min_height": null,
            "min_width": null,
            "object_fit": null,
            "object_position": null,
            "order": null,
            "overflow": null,
            "overflow_x": null,
            "overflow_y": null,
            "padding": null,
            "right": null,
            "top": null,
            "visibility": null,
            "width": null
          }
        },
        "a42fe7b7fb5e4c7497f3e72c0819906f": {
          "model_module": "@jupyter-widgets/base",
          "model_module_version": "1.2.0",
          "model_name": "LayoutModel",
          "state": {
            "_model_module": "@jupyter-widgets/base",
            "_model_module_version": "1.2.0",
            "_model_name": "LayoutModel",
            "_view_count": null,
            "_view_module": "@jupyter-widgets/base",
            "_view_module_version": "1.2.0",
            "_view_name": "LayoutView",
            "align_content": null,
            "align_items": null,
            "align_self": null,
            "border": null,
            "bottom": null,
            "display": null,
            "flex": null,
            "flex_flow": null,
            "grid_area": null,
            "grid_auto_columns": null,
            "grid_auto_flow": null,
            "grid_auto_rows": null,
            "grid_column": null,
            "grid_gap": null,
            "grid_row": null,
            "grid_template_areas": null,
            "grid_template_columns": null,
            "grid_template_rows": null,
            "height": null,
            "justify_content": null,
            "justify_items": null,
            "left": null,
            "margin": null,
            "max_height": null,
            "max_width": null,
            "min_height": null,
            "min_width": null,
            "object_fit": null,
            "object_position": null,
            "order": null,
            "overflow": null,
            "overflow_x": null,
            "overflow_y": null,
            "padding": null,
            "right": null,
            "top": null,
            "visibility": null,
            "width": null
          }
        },
        "a44bbfcd72c44e018e6bb73c825666fd": {
          "model_module": "@jupyter-widgets/base",
          "model_module_version": "1.2.0",
          "model_name": "LayoutModel",
          "state": {
            "_model_module": "@jupyter-widgets/base",
            "_model_module_version": "1.2.0",
            "_model_name": "LayoutModel",
            "_view_count": null,
            "_view_module": "@jupyter-widgets/base",
            "_view_module_version": "1.2.0",
            "_view_name": "LayoutView",
            "align_content": null,
            "align_items": null,
            "align_self": null,
            "border": null,
            "bottom": null,
            "display": null,
            "flex": null,
            "flex_flow": null,
            "grid_area": null,
            "grid_auto_columns": null,
            "grid_auto_flow": null,
            "grid_auto_rows": null,
            "grid_column": null,
            "grid_gap": null,
            "grid_row": null,
            "grid_template_areas": null,
            "grid_template_columns": null,
            "grid_template_rows": null,
            "height": null,
            "justify_content": null,
            "justify_items": null,
            "left": null,
            "margin": null,
            "max_height": null,
            "max_width": null,
            "min_height": null,
            "min_width": null,
            "object_fit": null,
            "object_position": null,
            "order": null,
            "overflow": null,
            "overflow_x": null,
            "overflow_y": null,
            "padding": null,
            "right": null,
            "top": null,
            "visibility": null,
            "width": null
          }
        },
        "a494347971e54a679385f1ec10e24cf1": {
          "model_module": "@jupyter-widgets/base",
          "model_module_version": "1.2.0",
          "model_name": "LayoutModel",
          "state": {
            "_model_module": "@jupyter-widgets/base",
            "_model_module_version": "1.2.0",
            "_model_name": "LayoutModel",
            "_view_count": null,
            "_view_module": "@jupyter-widgets/base",
            "_view_module_version": "1.2.0",
            "_view_name": "LayoutView",
            "align_content": null,
            "align_items": null,
            "align_self": null,
            "border": null,
            "bottom": null,
            "display": null,
            "flex": null,
            "flex_flow": null,
            "grid_area": null,
            "grid_auto_columns": null,
            "grid_auto_flow": null,
            "grid_auto_rows": null,
            "grid_column": null,
            "grid_gap": null,
            "grid_row": null,
            "grid_template_areas": null,
            "grid_template_columns": null,
            "grid_template_rows": null,
            "height": null,
            "justify_content": null,
            "justify_items": null,
            "left": null,
            "margin": null,
            "max_height": null,
            "max_width": null,
            "min_height": null,
            "min_width": null,
            "object_fit": null,
            "object_position": null,
            "order": null,
            "overflow": null,
            "overflow_x": null,
            "overflow_y": null,
            "padding": null,
            "right": null,
            "top": null,
            "visibility": null,
            "width": null
          }
        },
        "a4b89dc349d848a5a7fdda4f7208f0f0": {
          "model_module": "@jupyter-widgets/controls",
          "model_module_version": "1.5.0",
          "model_name": "FloatProgressModel",
          "state": {
            "_dom_classes": [],
            "_model_module": "@jupyter-widgets/controls",
            "_model_module_version": "1.5.0",
            "_model_name": "FloatProgressModel",
            "_view_count": null,
            "_view_module": "@jupyter-widgets/controls",
            "_view_module_version": "1.5.0",
            "_view_name": "ProgressView",
            "bar_style": "success",
            "description": "",
            "description_tooltip": null,
            "layout": "IPY_MODEL_8cfcfc2305314bf1898f7c0ff5db59c5",
            "max": 231508,
            "min": 0,
            "orientation": "horizontal",
            "style": "IPY_MODEL_50cd8ced9b1c4ed39f75a831eec1278e",
            "value": 231508
          }
        },
        "a508f62631424dcfbee3d6ae23adba08": {
          "model_module": "@jupyter-widgets/base",
          "model_module_version": "1.2.0",
          "model_name": "LayoutModel",
          "state": {
            "_model_module": "@jupyter-widgets/base",
            "_model_module_version": "1.2.0",
            "_model_name": "LayoutModel",
            "_view_count": null,
            "_view_module": "@jupyter-widgets/base",
            "_view_module_version": "1.2.0",
            "_view_name": "LayoutView",
            "align_content": null,
            "align_items": null,
            "align_self": null,
            "border": null,
            "bottom": null,
            "display": null,
            "flex": null,
            "flex_flow": null,
            "grid_area": null,
            "grid_auto_columns": null,
            "grid_auto_flow": null,
            "grid_auto_rows": null,
            "grid_column": null,
            "grid_gap": null,
            "grid_row": null,
            "grid_template_areas": null,
            "grid_template_columns": null,
            "grid_template_rows": null,
            "height": null,
            "justify_content": null,
            "justify_items": null,
            "left": null,
            "margin": null,
            "max_height": null,
            "max_width": null,
            "min_height": null,
            "min_width": null,
            "object_fit": null,
            "object_position": null,
            "order": null,
            "overflow": null,
            "overflow_x": null,
            "overflow_y": null,
            "padding": null,
            "right": null,
            "top": null,
            "visibility": null,
            "width": null
          }
        },
        "a5e3ac21ab3d47c8aa359f2ababf26ca": {
          "model_module": "@jupyter-widgets/controls",
          "model_module_version": "1.5.0",
          "model_name": "FloatProgressModel",
          "state": {
            "_dom_classes": [],
            "_model_module": "@jupyter-widgets/controls",
            "_model_module_version": "1.5.0",
            "_model_name": "FloatProgressModel",
            "_view_count": null,
            "_view_module": "@jupyter-widgets/controls",
            "_view_module_version": "1.5.0",
            "_view_name": "ProgressView",
            "bar_style": "success",
            "description": "",
            "description_tooltip": null,
            "layout": "IPY_MODEL_3af9108d2709440d8efe7349bfda0dd7",
            "max": 112,
            "min": 0,
            "orientation": "horizontal",
            "style": "IPY_MODEL_76aef0b87d6a4a50b3c8019118a75cc5",
            "value": 112
          }
        },
        "a6762141347c4aee96e7671e7c55351b": {
          "model_module": "@jupyter-widgets/base",
          "model_module_version": "1.2.0",
          "model_name": "LayoutModel",
          "state": {
            "_model_module": "@jupyter-widgets/base",
            "_model_module_version": "1.2.0",
            "_model_name": "LayoutModel",
            "_view_count": null,
            "_view_module": "@jupyter-widgets/base",
            "_view_module_version": "1.2.0",
            "_view_name": "LayoutView",
            "align_content": null,
            "align_items": null,
            "align_self": null,
            "border": null,
            "bottom": null,
            "display": null,
            "flex": null,
            "flex_flow": null,
            "grid_area": null,
            "grid_auto_columns": null,
            "grid_auto_flow": null,
            "grid_auto_rows": null,
            "grid_column": null,
            "grid_gap": null,
            "grid_row": null,
            "grid_template_areas": null,
            "grid_template_columns": null,
            "grid_template_rows": null,
            "height": null,
            "justify_content": null,
            "justify_items": null,
            "left": null,
            "margin": null,
            "max_height": null,
            "max_width": null,
            "min_height": null,
            "min_width": null,
            "object_fit": null,
            "object_position": null,
            "order": null,
            "overflow": null,
            "overflow_x": null,
            "overflow_y": null,
            "padding": null,
            "right": null,
            "top": null,
            "visibility": null,
            "width": null
          }
        },
        "a7125356065b43a1aa7eecbc21f5faf8": {
          "model_module": "@jupyter-widgets/base",
          "model_module_version": "1.2.0",
          "model_name": "LayoutModel",
          "state": {
            "_model_module": "@jupyter-widgets/base",
            "_model_module_version": "1.2.0",
            "_model_name": "LayoutModel",
            "_view_count": null,
            "_view_module": "@jupyter-widgets/base",
            "_view_module_version": "1.2.0",
            "_view_name": "LayoutView",
            "align_content": null,
            "align_items": null,
            "align_self": null,
            "border": null,
            "bottom": null,
            "display": null,
            "flex": null,
            "flex_flow": null,
            "grid_area": null,
            "grid_auto_columns": null,
            "grid_auto_flow": null,
            "grid_auto_rows": null,
            "grid_column": null,
            "grid_gap": null,
            "grid_row": null,
            "grid_template_areas": null,
            "grid_template_columns": null,
            "grid_template_rows": null,
            "height": null,
            "justify_content": null,
            "justify_items": null,
            "left": null,
            "margin": null,
            "max_height": null,
            "max_width": null,
            "min_height": null,
            "min_width": null,
            "object_fit": null,
            "object_position": null,
            "order": null,
            "overflow": null,
            "overflow_x": null,
            "overflow_y": null,
            "padding": null,
            "right": null,
            "top": null,
            "visibility": null,
            "width": null
          }
        },
        "a91380cac0514a0ead70c3388fe5c4f7": {
          "model_module": "@jupyter-widgets/controls",
          "model_module_version": "1.5.0",
          "model_name": "HBoxModel",
          "state": {
            "_dom_classes": [],
            "_model_module": "@jupyter-widgets/controls",
            "_model_module_version": "1.5.0",
            "_model_name": "HBoxModel",
            "_view_count": null,
            "_view_module": "@jupyter-widgets/controls",
            "_view_module_version": "1.5.0",
            "_view_name": "HBoxView",
            "box_style": "",
            "children": [
              "IPY_MODEL_1625043d9ce7439bb4daadd69a31876c",
              "IPY_MODEL_7fdc0d2575244a9a89c4b7dbf11efdc6",
              "IPY_MODEL_6789045c6c2b427b95dc1fd366e73aa2"
            ],
            "layout": "IPY_MODEL_43620df6c446423e80ffe31fc5d2cd24"
          }
        },
        "a9b6922591674779828ae1177bdd4d6e": {
          "model_module": "@jupyter-widgets/base",
          "model_module_version": "1.2.0",
          "model_name": "LayoutModel",
          "state": {
            "_model_module": "@jupyter-widgets/base",
            "_model_module_version": "1.2.0",
            "_model_name": "LayoutModel",
            "_view_count": null,
            "_view_module": "@jupyter-widgets/base",
            "_view_module_version": "1.2.0",
            "_view_name": "LayoutView",
            "align_content": null,
            "align_items": null,
            "align_self": null,
            "border": null,
            "bottom": null,
            "display": null,
            "flex": null,
            "flex_flow": null,
            "grid_area": null,
            "grid_auto_columns": null,
            "grid_auto_flow": null,
            "grid_auto_rows": null,
            "grid_column": null,
            "grid_gap": null,
            "grid_row": null,
            "grid_template_areas": null,
            "grid_template_columns": null,
            "grid_template_rows": null,
            "height": null,
            "justify_content": null,
            "justify_items": null,
            "left": null,
            "margin": null,
            "max_height": null,
            "max_width": null,
            "min_height": null,
            "min_width": null,
            "object_fit": null,
            "object_position": null,
            "order": null,
            "overflow": null,
            "overflow_x": null,
            "overflow_y": null,
            "padding": null,
            "right": null,
            "top": null,
            "visibility": null,
            "width": null
          }
        },
        "aafed71d7b114c51bd5bec37f7a6c858": {
          "model_module": "@jupyter-widgets/controls",
          "model_module_version": "1.5.0",
          "model_name": "DescriptionStyleModel",
          "state": {
            "_model_module": "@jupyter-widgets/controls",
            "_model_module_version": "1.5.0",
            "_model_name": "DescriptionStyleModel",
            "_view_count": null,
            "_view_module": "@jupyter-widgets/base",
            "_view_module_version": "1.2.0",
            "_view_name": "StyleView",
            "description_width": ""
          }
        },
        "ac54aa94139243d7b91ed6306ab302ee": {
          "model_module": "@jupyter-widgets/base",
          "model_module_version": "1.2.0",
          "model_name": "LayoutModel",
          "state": {
            "_model_module": "@jupyter-widgets/base",
            "_model_module_version": "1.2.0",
            "_model_name": "LayoutModel",
            "_view_count": null,
            "_view_module": "@jupyter-widgets/base",
            "_view_module_version": "1.2.0",
            "_view_name": "LayoutView",
            "align_content": null,
            "align_items": null,
            "align_self": null,
            "border": null,
            "bottom": null,
            "display": null,
            "flex": null,
            "flex_flow": null,
            "grid_area": null,
            "grid_auto_columns": null,
            "grid_auto_flow": null,
            "grid_auto_rows": null,
            "grid_column": null,
            "grid_gap": null,
            "grid_row": null,
            "grid_template_areas": null,
            "grid_template_columns": null,
            "grid_template_rows": null,
            "height": null,
            "justify_content": null,
            "justify_items": null,
            "left": null,
            "margin": null,
            "max_height": null,
            "max_width": null,
            "min_height": null,
            "min_width": null,
            "object_fit": null,
            "object_position": null,
            "order": null,
            "overflow": null,
            "overflow_x": null,
            "overflow_y": null,
            "padding": null,
            "right": null,
            "top": null,
            "visibility": null,
            "width": null
          }
        },
        "ac787a16b7544f509140eaa7476591d1": {
          "model_module": "@jupyter-widgets/base",
          "model_module_version": "1.2.0",
          "model_name": "LayoutModel",
          "state": {
            "_model_module": "@jupyter-widgets/base",
            "_model_module_version": "1.2.0",
            "_model_name": "LayoutModel",
            "_view_count": null,
            "_view_module": "@jupyter-widgets/base",
            "_view_module_version": "1.2.0",
            "_view_name": "LayoutView",
            "align_content": null,
            "align_items": null,
            "align_self": null,
            "border": null,
            "bottom": null,
            "display": null,
            "flex": null,
            "flex_flow": null,
            "grid_area": null,
            "grid_auto_columns": null,
            "grid_auto_flow": null,
            "grid_auto_rows": null,
            "grid_column": null,
            "grid_gap": null,
            "grid_row": null,
            "grid_template_areas": null,
            "grid_template_columns": null,
            "grid_template_rows": null,
            "height": null,
            "justify_content": null,
            "justify_items": null,
            "left": null,
            "margin": null,
            "max_height": null,
            "max_width": null,
            "min_height": null,
            "min_width": null,
            "object_fit": null,
            "object_position": null,
            "order": null,
            "overflow": null,
            "overflow_x": null,
            "overflow_y": null,
            "padding": null,
            "right": null,
            "top": null,
            "visibility": null,
            "width": null
          }
        },
        "ace1cf347a0542e19591c6beba3d2a37": {
          "model_module": "@jupyter-widgets/controls",
          "model_module_version": "1.5.0",
          "model_name": "HTMLModel",
          "state": {
            "_dom_classes": [],
            "_model_module": "@jupyter-widgets/controls",
            "_model_module_version": "1.5.0",
            "_model_name": "HTMLModel",
            "_view_count": null,
            "_view_module": "@jupyter-widgets/controls",
            "_view_module_version": "1.5.0",
            "_view_name": "HTMLView",
            "description": "",
            "description_tooltip": null,
            "layout": "IPY_MODEL_f6a11bb3630043e49bc589e779cfe65a",
            "placeholder": "​",
            "style": "IPY_MODEL_c9b725e411b84d2e8bdfc177860cd387",
            "value": " 180/180 [00:02&lt;00:00, 95.83it/s]"
          }
        },
        "adb7decfe4b84827b294d9af6bbad169": {
          "model_module": "@jupyter-widgets/base",
          "model_module_version": "1.2.0",
          "model_name": "LayoutModel",
          "state": {
            "_model_module": "@jupyter-widgets/base",
            "_model_module_version": "1.2.0",
            "_model_name": "LayoutModel",
            "_view_count": null,
            "_view_module": "@jupyter-widgets/base",
            "_view_module_version": "1.2.0",
            "_view_name": "LayoutView",
            "align_content": null,
            "align_items": null,
            "align_self": null,
            "border": null,
            "bottom": null,
            "display": null,
            "flex": null,
            "flex_flow": null,
            "grid_area": null,
            "grid_auto_columns": null,
            "grid_auto_flow": null,
            "grid_auto_rows": null,
            "grid_column": null,
            "grid_gap": null,
            "grid_row": null,
            "grid_template_areas": null,
            "grid_template_columns": null,
            "grid_template_rows": null,
            "height": null,
            "justify_content": null,
            "justify_items": null,
            "left": null,
            "margin": null,
            "max_height": null,
            "max_width": null,
            "min_height": null,
            "min_width": null,
            "object_fit": null,
            "object_position": null,
            "order": null,
            "overflow": null,
            "overflow_x": null,
            "overflow_y": null,
            "padding": null,
            "right": null,
            "top": null,
            "visibility": null,
            "width": null
          }
        },
        "ae3dc02504134910b4a383a123a80706": {
          "model_module": "@jupyter-widgets/controls",
          "model_module_version": "1.5.0",
          "model_name": "DescriptionStyleModel",
          "state": {
            "_model_module": "@jupyter-widgets/controls",
            "_model_module_version": "1.5.0",
            "_model_name": "DescriptionStyleModel",
            "_view_count": null,
            "_view_module": "@jupyter-widgets/base",
            "_view_module_version": "1.2.0",
            "_view_name": "StyleView",
            "description_width": ""
          }
        },
        "aec8c9239f7948f3bfa688593a0bc171": {
          "model_module": "@jupyter-widgets/base",
          "model_module_version": "1.2.0",
          "model_name": "LayoutModel",
          "state": {
            "_model_module": "@jupyter-widgets/base",
            "_model_module_version": "1.2.0",
            "_model_name": "LayoutModel",
            "_view_count": null,
            "_view_module": "@jupyter-widgets/base",
            "_view_module_version": "1.2.0",
            "_view_name": "LayoutView",
            "align_content": null,
            "align_items": null,
            "align_self": null,
            "border": null,
            "bottom": null,
            "display": null,
            "flex": null,
            "flex_flow": null,
            "grid_area": null,
            "grid_auto_columns": null,
            "grid_auto_flow": null,
            "grid_auto_rows": null,
            "grid_column": null,
            "grid_gap": null,
            "grid_row": null,
            "grid_template_areas": null,
            "grid_template_columns": null,
            "grid_template_rows": null,
            "height": null,
            "justify_content": null,
            "justify_items": null,
            "left": null,
            "margin": null,
            "max_height": null,
            "max_width": null,
            "min_height": null,
            "min_width": null,
            "object_fit": null,
            "object_position": null,
            "order": null,
            "overflow": null,
            "overflow_x": null,
            "overflow_y": null,
            "padding": null,
            "right": null,
            "top": null,
            "visibility": null,
            "width": null
          }
        },
        "afed6b063c824aed8035f4feffa2c246": {
          "model_module": "@jupyter-widgets/base",
          "model_module_version": "1.2.0",
          "model_name": "LayoutModel",
          "state": {
            "_model_module": "@jupyter-widgets/base",
            "_model_module_version": "1.2.0",
            "_model_name": "LayoutModel",
            "_view_count": null,
            "_view_module": "@jupyter-widgets/base",
            "_view_module_version": "1.2.0",
            "_view_name": "LayoutView",
            "align_content": null,
            "align_items": null,
            "align_self": null,
            "border": null,
            "bottom": null,
            "display": null,
            "flex": null,
            "flex_flow": null,
            "grid_area": null,
            "grid_auto_columns": null,
            "grid_auto_flow": null,
            "grid_auto_rows": null,
            "grid_column": null,
            "grid_gap": null,
            "grid_row": null,
            "grid_template_areas": null,
            "grid_template_columns": null,
            "grid_template_rows": null,
            "height": null,
            "justify_content": null,
            "justify_items": null,
            "left": null,
            "margin": null,
            "max_height": null,
            "max_width": null,
            "min_height": null,
            "min_width": null,
            "object_fit": null,
            "object_position": null,
            "order": null,
            "overflow": null,
            "overflow_x": null,
            "overflow_y": null,
            "padding": null,
            "right": null,
            "top": null,
            "visibility": null,
            "width": null
          }
        },
        "b004917466a44eaebae5a3860078fd3a": {
          "model_module": "@jupyter-widgets/controls",
          "model_module_version": "1.5.0",
          "model_name": "HBoxModel",
          "state": {
            "_dom_classes": [],
            "_model_module": "@jupyter-widgets/controls",
            "_model_module_version": "1.5.0",
            "_model_name": "HBoxModel",
            "_view_count": null,
            "_view_module": "@jupyter-widgets/controls",
            "_view_module_version": "1.5.0",
            "_view_name": "HBoxView",
            "box_style": "",
            "children": [
              "IPY_MODEL_11a7651157914185add40f92cf4ba128",
              "IPY_MODEL_1780637a970f472781110a4fefb73f37",
              "IPY_MODEL_0c2fd0a467ff4fa194f711c276f59b01"
            ],
            "layout": "IPY_MODEL_30e0c2892b2f410c9ccf1e42d7c56856"
          }
        },
        "b13391b21fb444c6b9f9d1e35629bc97": {
          "model_module": "@jupyter-widgets/controls",
          "model_module_version": "1.5.0",
          "model_name": "HTMLModel",
          "state": {
            "_dom_classes": [],
            "_model_module": "@jupyter-widgets/controls",
            "_model_module_version": "1.5.0",
            "_model_name": "HTMLModel",
            "_view_count": null,
            "_view_module": "@jupyter-widgets/controls",
            "_view_module_version": "1.5.0",
            "_view_name": "HTMLView",
            "description": "",
            "description_tooltip": null,
            "layout": "IPY_MODEL_a6762141347c4aee96e7671e7c55351b",
            "placeholder": "​",
            "style": "IPY_MODEL_8b7913692a9f4c30b6b4debe8795e68a",
            "value": "vocab.txt: 100%"
          }
        },
        "b1e8e2424e064ade96858bd2e53f93c9": {
          "model_module": "@jupyter-widgets/base",
          "model_module_version": "1.2.0",
          "model_name": "LayoutModel",
          "state": {
            "_model_module": "@jupyter-widgets/base",
            "_model_module_version": "1.2.0",
            "_model_name": "LayoutModel",
            "_view_count": null,
            "_view_module": "@jupyter-widgets/base",
            "_view_module_version": "1.2.0",
            "_view_name": "LayoutView",
            "align_content": null,
            "align_items": null,
            "align_self": null,
            "border": null,
            "bottom": null,
            "display": null,
            "flex": null,
            "flex_flow": null,
            "grid_area": null,
            "grid_auto_columns": null,
            "grid_auto_flow": null,
            "grid_auto_rows": null,
            "grid_column": null,
            "grid_gap": null,
            "grid_row": null,
            "grid_template_areas": null,
            "grid_template_columns": null,
            "grid_template_rows": null,
            "height": null,
            "justify_content": null,
            "justify_items": null,
            "left": null,
            "margin": null,
            "max_height": null,
            "max_width": null,
            "min_height": null,
            "min_width": null,
            "object_fit": null,
            "object_position": null,
            "order": null,
            "overflow": null,
            "overflow_x": null,
            "overflow_y": null,
            "padding": null,
            "right": null,
            "top": null,
            "visibility": null,
            "width": null
          }
        },
        "b3642b21a01548929f8d93697f6525f7": {
          "model_module": "@jupyter-widgets/controls",
          "model_module_version": "1.5.0",
          "model_name": "DescriptionStyleModel",
          "state": {
            "_model_module": "@jupyter-widgets/controls",
            "_model_module_version": "1.5.0",
            "_model_name": "DescriptionStyleModel",
            "_view_count": null,
            "_view_module": "@jupyter-widgets/base",
            "_view_module_version": "1.2.0",
            "_view_name": "StyleView",
            "description_width": ""
          }
        },
        "b889be686ac64653a295be0b3af94e5d": {
          "model_module": "@jupyter-widgets/controls",
          "model_module_version": "1.5.0",
          "model_name": "DescriptionStyleModel",
          "state": {
            "_model_module": "@jupyter-widgets/controls",
            "_model_module_version": "1.5.0",
            "_model_name": "DescriptionStyleModel",
            "_view_count": null,
            "_view_module": "@jupyter-widgets/base",
            "_view_module_version": "1.2.0",
            "_view_name": "StyleView",
            "description_width": ""
          }
        },
        "b91e279f189d42e1811521f752dc68e1": {
          "model_module": "@jupyter-widgets/base",
          "model_module_version": "1.2.0",
          "model_name": "LayoutModel",
          "state": {
            "_model_module": "@jupyter-widgets/base",
            "_model_module_version": "1.2.0",
            "_model_name": "LayoutModel",
            "_view_count": null,
            "_view_module": "@jupyter-widgets/base",
            "_view_module_version": "1.2.0",
            "_view_name": "LayoutView",
            "align_content": null,
            "align_items": null,
            "align_self": null,
            "border": null,
            "bottom": null,
            "display": null,
            "flex": null,
            "flex_flow": null,
            "grid_area": null,
            "grid_auto_columns": null,
            "grid_auto_flow": null,
            "grid_auto_rows": null,
            "grid_column": null,
            "grid_gap": null,
            "grid_row": null,
            "grid_template_areas": null,
            "grid_template_columns": null,
            "grid_template_rows": null,
            "height": null,
            "justify_content": null,
            "justify_items": null,
            "left": null,
            "margin": null,
            "max_height": null,
            "max_width": null,
            "min_height": null,
            "min_width": null,
            "object_fit": null,
            "object_position": null,
            "order": null,
            "overflow": null,
            "overflow_x": null,
            "overflow_y": null,
            "padding": null,
            "right": null,
            "top": null,
            "visibility": null,
            "width": null
          }
        },
        "b9374a17b39b41e69be0e3c7c8b88676": {
          "model_module": "@jupyter-widgets/base",
          "model_module_version": "1.2.0",
          "model_name": "LayoutModel",
          "state": {
            "_model_module": "@jupyter-widgets/base",
            "_model_module_version": "1.2.0",
            "_model_name": "LayoutModel",
            "_view_count": null,
            "_view_module": "@jupyter-widgets/base",
            "_view_module_version": "1.2.0",
            "_view_name": "LayoutView",
            "align_content": null,
            "align_items": null,
            "align_self": null,
            "border": null,
            "bottom": null,
            "display": null,
            "flex": null,
            "flex_flow": null,
            "grid_area": null,
            "grid_auto_columns": null,
            "grid_auto_flow": null,
            "grid_auto_rows": null,
            "grid_column": null,
            "grid_gap": null,
            "grid_row": null,
            "grid_template_areas": null,
            "grid_template_columns": null,
            "grid_template_rows": null,
            "height": null,
            "justify_content": null,
            "justify_items": null,
            "left": null,
            "margin": null,
            "max_height": null,
            "max_width": null,
            "min_height": null,
            "min_width": null,
            "object_fit": null,
            "object_position": null,
            "order": null,
            "overflow": null,
            "overflow_x": null,
            "overflow_y": null,
            "padding": null,
            "right": null,
            "top": null,
            "visibility": null,
            "width": null
          }
        },
        "bc2e246c00924cafb52036f5e7adfa74": {
          "model_module": "@jupyter-widgets/controls",
          "model_module_version": "1.5.0",
          "model_name": "DescriptionStyleModel",
          "state": {
            "_model_module": "@jupyter-widgets/controls",
            "_model_module_version": "1.5.0",
            "_model_name": "DescriptionStyleModel",
            "_view_count": null,
            "_view_module": "@jupyter-widgets/base",
            "_view_module_version": "1.2.0",
            "_view_name": "StyleView",
            "description_width": ""
          }
        },
        "bdf482ce63714708be733444868d14f4": {
          "model_module": "@jupyter-widgets/controls",
          "model_module_version": "1.5.0",
          "model_name": "ProgressStyleModel",
          "state": {
            "_model_module": "@jupyter-widgets/controls",
            "_model_module_version": "1.5.0",
            "_model_name": "ProgressStyleModel",
            "_view_count": null,
            "_view_module": "@jupyter-widgets/base",
            "_view_module_version": "1.2.0",
            "_view_name": "StyleView",
            "bar_color": null,
            "description_width": ""
          }
        },
        "be2545adb78b4401a603acfdbbe067fe": {
          "model_module": "@jupyter-widgets/base",
          "model_module_version": "1.2.0",
          "model_name": "LayoutModel",
          "state": {
            "_model_module": "@jupyter-widgets/base",
            "_model_module_version": "1.2.0",
            "_model_name": "LayoutModel",
            "_view_count": null,
            "_view_module": "@jupyter-widgets/base",
            "_view_module_version": "1.2.0",
            "_view_name": "LayoutView",
            "align_content": null,
            "align_items": null,
            "align_self": null,
            "border": null,
            "bottom": null,
            "display": null,
            "flex": null,
            "flex_flow": null,
            "grid_area": null,
            "grid_auto_columns": null,
            "grid_auto_flow": null,
            "grid_auto_rows": null,
            "grid_column": null,
            "grid_gap": null,
            "grid_row": null,
            "grid_template_areas": null,
            "grid_template_columns": null,
            "grid_template_rows": null,
            "height": null,
            "justify_content": null,
            "justify_items": null,
            "left": null,
            "margin": null,
            "max_height": null,
            "max_width": null,
            "min_height": null,
            "min_width": null,
            "object_fit": null,
            "object_position": null,
            "order": null,
            "overflow": null,
            "overflow_x": null,
            "overflow_y": null,
            "padding": null,
            "right": null,
            "top": null,
            "visibility": null,
            "width": null
          }
        },
        "be9ac414d2d945638fd1668df86a16fb": {
          "model_module": "@jupyter-widgets/controls",
          "model_module_version": "1.5.0",
          "model_name": "HTMLModel",
          "state": {
            "_dom_classes": [],
            "_model_module": "@jupyter-widgets/controls",
            "_model_module_version": "1.5.0",
            "_model_name": "HTMLModel",
            "_view_count": null,
            "_view_module": "@jupyter-widgets/controls",
            "_view_module_version": "1.5.0",
            "_view_name": "HTMLView",
            "description": "",
            "description_tooltip": null,
            "layout": "IPY_MODEL_4338ff18446842bfbb1454221553dca4",
            "placeholder": "​",
            "style": "IPY_MODEL_263e8a46412f4ba286b6f006effe25da",
            "value": " 349/349 [00:00&lt;00:00, 36.5kB/s]"
          }
        },
        "c018555c449c4658a81304038edc471c": {
          "model_module": "@jupyter-widgets/controls",
          "model_module_version": "1.5.0",
          "model_name": "ProgressStyleModel",
          "state": {
            "_model_module": "@jupyter-widgets/controls",
            "_model_module_version": "1.5.0",
            "_model_name": "ProgressStyleModel",
            "_view_count": null,
            "_view_module": "@jupyter-widgets/base",
            "_view_module_version": "1.2.0",
            "_view_name": "StyleView",
            "bar_color": null,
            "description_width": ""
          }
        },
        "c036577ef2844df681de951056967be7": {
          "model_module": "@jupyter-widgets/base",
          "model_module_version": "1.2.0",
          "model_name": "LayoutModel",
          "state": {
            "_model_module": "@jupyter-widgets/base",
            "_model_module_version": "1.2.0",
            "_model_name": "LayoutModel",
            "_view_count": null,
            "_view_module": "@jupyter-widgets/base",
            "_view_module_version": "1.2.0",
            "_view_name": "LayoutView",
            "align_content": null,
            "align_items": null,
            "align_self": null,
            "border": null,
            "bottom": null,
            "display": null,
            "flex": null,
            "flex_flow": null,
            "grid_area": null,
            "grid_auto_columns": null,
            "grid_auto_flow": null,
            "grid_auto_rows": null,
            "grid_column": null,
            "grid_gap": null,
            "grid_row": null,
            "grid_template_areas": null,
            "grid_template_columns": null,
            "grid_template_rows": null,
            "height": null,
            "justify_content": null,
            "justify_items": null,
            "left": null,
            "margin": null,
            "max_height": null,
            "max_width": null,
            "min_height": null,
            "min_width": null,
            "object_fit": null,
            "object_position": null,
            "order": null,
            "overflow": null,
            "overflow_x": null,
            "overflow_y": null,
            "padding": null,
            "right": null,
            "top": null,
            "visibility": null,
            "width": null
          }
        },
        "c5067ef5826d4ad7be970616be85ea69": {
          "model_module": "@jupyter-widgets/controls",
          "model_module_version": "1.5.0",
          "model_name": "HTMLModel",
          "state": {
            "_dom_classes": [],
            "_model_module": "@jupyter-widgets/controls",
            "_model_module_version": "1.5.0",
            "_model_name": "HTMLModel",
            "_view_count": null,
            "_view_module": "@jupyter-widgets/controls",
            "_view_module_version": "1.5.0",
            "_view_name": "HTMLView",
            "description": "",
            "description_tooltip": null,
            "layout": "IPY_MODEL_33c183245512489198bf26309f39091f",
            "placeholder": "​",
            "style": "IPY_MODEL_bc2e246c00924cafb52036f5e7adfa74",
            "value": " 90.9M/90.9M [00:00&lt;00:00, 197MB/s]"
          }
        },
        "c5dc5102eba742df80fc23e3f924e546": {
          "model_module": "@jupyter-widgets/base",
          "model_module_version": "1.2.0",
          "model_name": "LayoutModel",
          "state": {
            "_model_module": "@jupyter-widgets/base",
            "_model_module_version": "1.2.0",
            "_model_name": "LayoutModel",
            "_view_count": null,
            "_view_module": "@jupyter-widgets/base",
            "_view_module_version": "1.2.0",
            "_view_name": "LayoutView",
            "align_content": null,
            "align_items": null,
            "align_self": null,
            "border": null,
            "bottom": null,
            "display": null,
            "flex": null,
            "flex_flow": null,
            "grid_area": null,
            "grid_auto_columns": null,
            "grid_auto_flow": null,
            "grid_auto_rows": null,
            "grid_column": null,
            "grid_gap": null,
            "grid_row": null,
            "grid_template_areas": null,
            "grid_template_columns": null,
            "grid_template_rows": null,
            "height": null,
            "justify_content": null,
            "justify_items": null,
            "left": null,
            "margin": null,
            "max_height": null,
            "max_width": null,
            "min_height": null,
            "min_width": null,
            "object_fit": null,
            "object_position": null,
            "order": null,
            "overflow": null,
            "overflow_x": null,
            "overflow_y": null,
            "padding": null,
            "right": null,
            "top": null,
            "visibility": null,
            "width": null
          }
        },
        "c784a8f660d44404af54d6aa6094192b": {
          "model_module": "@jupyter-widgets/base",
          "model_module_version": "1.2.0",
          "model_name": "LayoutModel",
          "state": {
            "_model_module": "@jupyter-widgets/base",
            "_model_module_version": "1.2.0",
            "_model_name": "LayoutModel",
            "_view_count": null,
            "_view_module": "@jupyter-widgets/base",
            "_view_module_version": "1.2.0",
            "_view_name": "LayoutView",
            "align_content": null,
            "align_items": null,
            "align_self": null,
            "border": null,
            "bottom": null,
            "display": null,
            "flex": null,
            "flex_flow": null,
            "grid_area": null,
            "grid_auto_columns": null,
            "grid_auto_flow": null,
            "grid_auto_rows": null,
            "grid_column": null,
            "grid_gap": null,
            "grid_row": null,
            "grid_template_areas": null,
            "grid_template_columns": null,
            "grid_template_rows": null,
            "height": null,
            "justify_content": null,
            "justify_items": null,
            "left": null,
            "margin": null,
            "max_height": null,
            "max_width": null,
            "min_height": null,
            "min_width": null,
            "object_fit": null,
            "object_position": null,
            "order": null,
            "overflow": null,
            "overflow_x": null,
            "overflow_y": null,
            "padding": null,
            "right": null,
            "top": null,
            "visibility": null,
            "width": null
          }
        },
        "c9b725e411b84d2e8bdfc177860cd387": {
          "model_module": "@jupyter-widgets/controls",
          "model_module_version": "1.5.0",
          "model_name": "DescriptionStyleModel",
          "state": {
            "_model_module": "@jupyter-widgets/controls",
            "_model_module_version": "1.5.0",
            "_model_name": "DescriptionStyleModel",
            "_view_count": null,
            "_view_module": "@jupyter-widgets/base",
            "_view_module_version": "1.2.0",
            "_view_name": "StyleView",
            "description_width": ""
          }
        },
        "caf34eef10214541ae48ee9e1b013d75": {
          "model_module": "@jupyter-widgets/base",
          "model_module_version": "1.2.0",
          "model_name": "LayoutModel",
          "state": {
            "_model_module": "@jupyter-widgets/base",
            "_model_module_version": "1.2.0",
            "_model_name": "LayoutModel",
            "_view_count": null,
            "_view_module": "@jupyter-widgets/base",
            "_view_module_version": "1.2.0",
            "_view_name": "LayoutView",
            "align_content": null,
            "align_items": null,
            "align_self": null,
            "border": null,
            "bottom": null,
            "display": null,
            "flex": null,
            "flex_flow": null,
            "grid_area": null,
            "grid_auto_columns": null,
            "grid_auto_flow": null,
            "grid_auto_rows": null,
            "grid_column": null,
            "grid_gap": null,
            "grid_row": null,
            "grid_template_areas": null,
            "grid_template_columns": null,
            "grid_template_rows": null,
            "height": null,
            "justify_content": null,
            "justify_items": null,
            "left": null,
            "margin": null,
            "max_height": null,
            "max_width": null,
            "min_height": null,
            "min_width": null,
            "object_fit": null,
            "object_position": null,
            "order": null,
            "overflow": null,
            "overflow_x": null,
            "overflow_y": null,
            "padding": null,
            "right": null,
            "top": null,
            "visibility": null,
            "width": null
          }
        },
        "cc482dbe27de43dbb29f21d956ee19c1": {
          "model_module": "@jupyter-widgets/controls",
          "model_module_version": "1.5.0",
          "model_name": "FloatProgressModel",
          "state": {
            "_dom_classes": [],
            "_model_module": "@jupyter-widgets/controls",
            "_model_module_version": "1.5.0",
            "_model_name": "FloatProgressModel",
            "_view_count": null,
            "_view_module": "@jupyter-widgets/controls",
            "_view_module_version": "1.5.0",
            "_view_name": "ProgressView",
            "bar_style": "success",
            "description": "",
            "description_tooltip": null,
            "layout": "IPY_MODEL_fb916502ad81480bacb59d541970f526",
            "max": 231508,
            "min": 0,
            "orientation": "horizontal",
            "style": "IPY_MODEL_bdf482ce63714708be733444868d14f4",
            "value": 231508
          }
        },
        "cd8e940f5570415cb564edacd2ae3a10": {
          "model_module": "@jupyter-widgets/controls",
          "model_module_version": "1.5.0",
          "model_name": "DescriptionStyleModel",
          "state": {
            "_model_module": "@jupyter-widgets/controls",
            "_model_module_version": "1.5.0",
            "_model_name": "DescriptionStyleModel",
            "_view_count": null,
            "_view_module": "@jupyter-widgets/base",
            "_view_module_version": "1.2.0",
            "_view_name": "StyleView",
            "description_width": ""
          }
        },
        "ce30bdbae33e4d29a5c661516fee8d26": {
          "model_module": "@jupyter-widgets/base",
          "model_module_version": "1.2.0",
          "model_name": "LayoutModel",
          "state": {
            "_model_module": "@jupyter-widgets/base",
            "_model_module_version": "1.2.0",
            "_model_name": "LayoutModel",
            "_view_count": null,
            "_view_module": "@jupyter-widgets/base",
            "_view_module_version": "1.2.0",
            "_view_name": "LayoutView",
            "align_content": null,
            "align_items": null,
            "align_self": null,
            "border": null,
            "bottom": null,
            "display": null,
            "flex": null,
            "flex_flow": null,
            "grid_area": null,
            "grid_auto_columns": null,
            "grid_auto_flow": null,
            "grid_auto_rows": null,
            "grid_column": null,
            "grid_gap": null,
            "grid_row": null,
            "grid_template_areas": null,
            "grid_template_columns": null,
            "grid_template_rows": null,
            "height": null,
            "justify_content": null,
            "justify_items": null,
            "left": null,
            "margin": null,
            "max_height": null,
            "max_width": null,
            "min_height": null,
            "min_width": null,
            "object_fit": null,
            "object_position": null,
            "order": null,
            "overflow": null,
            "overflow_x": null,
            "overflow_y": null,
            "padding": null,
            "right": null,
            "top": null,
            "visibility": null,
            "width": null
          }
        },
        "ceb9fed8138a4bb6903d9a0008e7545f": {
          "model_module": "@jupyter-widgets/controls",
          "model_module_version": "1.5.0",
          "model_name": "HTMLModel",
          "state": {
            "_dom_classes": [],
            "_model_module": "@jupyter-widgets/controls",
            "_model_module_version": "1.5.0",
            "_model_name": "HTMLModel",
            "_view_count": null,
            "_view_module": "@jupyter-widgets/controls",
            "_view_module_version": "1.5.0",
            "_view_name": "HTMLView",
            "description": "",
            "description_tooltip": null,
            "layout": "IPY_MODEL_1fee51782ce043ce991af89c9fe4b6fe",
            "placeholder": "​",
            "style": "IPY_MODEL_b889be686ac64653a295be0b3af94e5d",
            "value": " 190/190 [00:00&lt;00:00, 10.6kB/s]"
          }
        },
        "cf9316031a2f4a03bac2381420b758f2": {
          "model_module": "@jupyter-widgets/base",
          "model_module_version": "1.2.0",
          "model_name": "LayoutModel",
          "state": {
            "_model_module": "@jupyter-widgets/base",
            "_model_module_version": "1.2.0",
            "_model_name": "LayoutModel",
            "_view_count": null,
            "_view_module": "@jupyter-widgets/base",
            "_view_module_version": "1.2.0",
            "_view_name": "LayoutView",
            "align_content": null,
            "align_items": null,
            "align_self": null,
            "border": null,
            "bottom": null,
            "display": null,
            "flex": null,
            "flex_flow": null,
            "grid_area": null,
            "grid_auto_columns": null,
            "grid_auto_flow": null,
            "grid_auto_rows": null,
            "grid_column": null,
            "grid_gap": null,
            "grid_row": null,
            "grid_template_areas": null,
            "grid_template_columns": null,
            "grid_template_rows": null,
            "height": null,
            "justify_content": null,
            "justify_items": null,
            "left": null,
            "margin": null,
            "max_height": null,
            "max_width": null,
            "min_height": null,
            "min_width": null,
            "object_fit": null,
            "object_position": null,
            "order": null,
            "overflow": null,
            "overflow_x": null,
            "overflow_y": null,
            "padding": null,
            "right": null,
            "top": null,
            "visibility": null,
            "width": null
          }
        },
        "d247fb2c38484780a7079ab9e1805b44": {
          "model_module": "@jupyter-widgets/controls",
          "model_module_version": "1.5.0",
          "model_name": "DescriptionStyleModel",
          "state": {
            "_model_module": "@jupyter-widgets/controls",
            "_model_module_version": "1.5.0",
            "_model_name": "DescriptionStyleModel",
            "_view_count": null,
            "_view_module": "@jupyter-widgets/base",
            "_view_module_version": "1.2.0",
            "_view_name": "StyleView",
            "description_width": ""
          }
        },
        "d27b10ff1a614a118ed30e4916c2fe7c": {
          "model_module": "@jupyter-widgets/base",
          "model_module_version": "1.2.0",
          "model_name": "LayoutModel",
          "state": {
            "_model_module": "@jupyter-widgets/base",
            "_model_module_version": "1.2.0",
            "_model_name": "LayoutModel",
            "_view_count": null,
            "_view_module": "@jupyter-widgets/base",
            "_view_module_version": "1.2.0",
            "_view_name": "LayoutView",
            "align_content": null,
            "align_items": null,
            "align_self": null,
            "border": null,
            "bottom": null,
            "display": null,
            "flex": null,
            "flex_flow": null,
            "grid_area": null,
            "grid_auto_columns": null,
            "grid_auto_flow": null,
            "grid_auto_rows": null,
            "grid_column": null,
            "grid_gap": null,
            "grid_row": null,
            "grid_template_areas": null,
            "grid_template_columns": null,
            "grid_template_rows": null,
            "height": null,
            "justify_content": null,
            "justify_items": null,
            "left": null,
            "margin": null,
            "max_height": null,
            "max_width": null,
            "min_height": null,
            "min_width": null,
            "object_fit": null,
            "object_position": null,
            "order": null,
            "overflow": null,
            "overflow_x": null,
            "overflow_y": null,
            "padding": null,
            "right": null,
            "top": null,
            "visibility": null,
            "width": null
          }
        },
        "d2bfbed761d14a768dc37bdf4778de1b": {
          "model_module": "@jupyter-widgets/base",
          "model_module_version": "1.2.0",
          "model_name": "LayoutModel",
          "state": {
            "_model_module": "@jupyter-widgets/base",
            "_model_module_version": "1.2.0",
            "_model_name": "LayoutModel",
            "_view_count": null,
            "_view_module": "@jupyter-widgets/base",
            "_view_module_version": "1.2.0",
            "_view_name": "LayoutView",
            "align_content": null,
            "align_items": null,
            "align_self": null,
            "border": null,
            "bottom": null,
            "display": null,
            "flex": null,
            "flex_flow": null,
            "grid_area": null,
            "grid_auto_columns": null,
            "grid_auto_flow": null,
            "grid_auto_rows": null,
            "grid_column": null,
            "grid_gap": null,
            "grid_row": null,
            "grid_template_areas": null,
            "grid_template_columns": null,
            "grid_template_rows": null,
            "height": null,
            "justify_content": null,
            "justify_items": null,
            "left": null,
            "margin": null,
            "max_height": null,
            "max_width": null,
            "min_height": null,
            "min_width": null,
            "object_fit": null,
            "object_position": null,
            "order": null,
            "overflow": null,
            "overflow_x": null,
            "overflow_y": null,
            "padding": null,
            "right": null,
            "top": null,
            "visibility": null,
            "width": null
          }
        },
        "d3fde33c91844b27a4eb116af0ef31a3": {
          "model_module": "@jupyter-widgets/controls",
          "model_module_version": "1.5.0",
          "model_name": "DescriptionStyleModel",
          "state": {
            "_model_module": "@jupyter-widgets/controls",
            "_model_module_version": "1.5.0",
            "_model_name": "DescriptionStyleModel",
            "_view_count": null,
            "_view_module": "@jupyter-widgets/base",
            "_view_module_version": "1.2.0",
            "_view_name": "StyleView",
            "description_width": ""
          }
        },
        "d7cc4907ea02407c91ec33ae34ef6fc9": {
          "model_module": "@jupyter-widgets/controls",
          "model_module_version": "1.5.0",
          "model_name": "HBoxModel",
          "state": {
            "_dom_classes": [],
            "_model_module": "@jupyter-widgets/controls",
            "_model_module_version": "1.5.0",
            "_model_name": "HBoxModel",
            "_view_count": null,
            "_view_module": "@jupyter-widgets/controls",
            "_view_module_version": "1.5.0",
            "_view_name": "HBoxView",
            "box_style": "",
            "children": [
              "IPY_MODEL_b13391b21fb444c6b9f9d1e35629bc97",
              "IPY_MODEL_cc482dbe27de43dbb29f21d956ee19c1",
              "IPY_MODEL_e6c672bbf7904e31b8eedf7b2c7525b4"
            ],
            "layout": "IPY_MODEL_013653af5cd5419b85856905c9560801"
          }
        },
        "d7e459d80a0e445cadc3bf871307e212": {
          "model_module": "@jupyter-widgets/base",
          "model_module_version": "1.2.0",
          "model_name": "LayoutModel",
          "state": {
            "_model_module": "@jupyter-widgets/base",
            "_model_module_version": "1.2.0",
            "_model_name": "LayoutModel",
            "_view_count": null,
            "_view_module": "@jupyter-widgets/base",
            "_view_module_version": "1.2.0",
            "_view_name": "LayoutView",
            "align_content": null,
            "align_items": null,
            "align_self": null,
            "border": null,
            "bottom": null,
            "display": null,
            "flex": null,
            "flex_flow": null,
            "grid_area": null,
            "grid_auto_columns": null,
            "grid_auto_flow": null,
            "grid_auto_rows": null,
            "grid_column": null,
            "grid_gap": null,
            "grid_row": null,
            "grid_template_areas": null,
            "grid_template_columns": null,
            "grid_template_rows": null,
            "height": null,
            "justify_content": null,
            "justify_items": null,
            "left": null,
            "margin": null,
            "max_height": null,
            "max_width": null,
            "min_height": null,
            "min_width": null,
            "object_fit": null,
            "object_position": null,
            "order": null,
            "overflow": null,
            "overflow_x": null,
            "overflow_y": null,
            "padding": null,
            "right": null,
            "top": null,
            "visibility": null,
            "width": null
          }
        },
        "d8cc9b21ee2645698d04f0ae9239eeef": {
          "model_module": "@jupyter-widgets/controls",
          "model_module_version": "1.5.0",
          "model_name": "DescriptionStyleModel",
          "state": {
            "_model_module": "@jupyter-widgets/controls",
            "_model_module_version": "1.5.0",
            "_model_name": "DescriptionStyleModel",
            "_view_count": null,
            "_view_module": "@jupyter-widgets/base",
            "_view_module_version": "1.2.0",
            "_view_name": "StyleView",
            "description_width": ""
          }
        },
        "d91e9a65a3b14b8f8060f099f8c5bb56": {
          "model_module": "@jupyter-widgets/controls",
          "model_module_version": "1.5.0",
          "model_name": "DescriptionStyleModel",
          "state": {
            "_model_module": "@jupyter-widgets/controls",
            "_model_module_version": "1.5.0",
            "_model_name": "DescriptionStyleModel",
            "_view_count": null,
            "_view_module": "@jupyter-widgets/base",
            "_view_module_version": "1.2.0",
            "_view_name": "StyleView",
            "description_width": ""
          }
        },
        "d9e3b5e7a2ad4bc78a912a627adafc23": {
          "model_module": "@jupyter-widgets/controls",
          "model_module_version": "1.5.0",
          "model_name": "DescriptionStyleModel",
          "state": {
            "_model_module": "@jupyter-widgets/controls",
            "_model_module_version": "1.5.0",
            "_model_name": "DescriptionStyleModel",
            "_view_count": null,
            "_view_module": "@jupyter-widgets/base",
            "_view_module_version": "1.2.0",
            "_view_name": "StyleView",
            "description_width": ""
          }
        },
        "dc371ede4fe546138add4c7d366b5b4d": {
          "model_module": "@jupyter-widgets/controls",
          "model_module_version": "1.5.0",
          "model_name": "HTMLModel",
          "state": {
            "_dom_classes": [],
            "_model_module": "@jupyter-widgets/controls",
            "_model_module_version": "1.5.0",
            "_model_name": "HTMLModel",
            "_view_count": null,
            "_view_module": "@jupyter-widgets/controls",
            "_view_module_version": "1.5.0",
            "_view_name": "HTMLView",
            "description": "",
            "description_tooltip": null,
            "layout": "IPY_MODEL_854eb314a9334d838a17aa5c899e034d",
            "placeholder": "​",
            "style": "IPY_MODEL_d3fde33c91844b27a4eb116af0ef31a3",
            "value": "config.json: 100%"
          }
        },
        "dcb6812789854d53aa6420fdb955c179": {
          "model_module": "@jupyter-widgets/controls",
          "model_module_version": "1.5.0",
          "model_name": "HTMLModel",
          "state": {
            "_dom_classes": [],
            "_model_module": "@jupyter-widgets/controls",
            "_model_module_version": "1.5.0",
            "_model_name": "HTMLModel",
            "_view_count": null,
            "_view_module": "@jupyter-widgets/controls",
            "_view_module_version": "1.5.0",
            "_view_name": "HTMLView",
            "description": "",
            "description_tooltip": null,
            "layout": "IPY_MODEL_c5dc5102eba742df80fc23e3f924e546",
            "placeholder": "​",
            "style": "IPY_MODEL_7c08bfecf7f348aa9f69ac9d4f7b99b5",
            "value": " 48.0/48.0 [00:00&lt;00:00, 2.68kB/s]"
          }
        },
        "deef6f45007e42eda1b680283105370d": {
          "model_module": "@jupyter-widgets/controls",
          "model_module_version": "1.5.0",
          "model_name": "HBoxModel",
          "state": {
            "_dom_classes": [],
            "_model_module": "@jupyter-widgets/controls",
            "_model_module_version": "1.5.0",
            "_model_name": "HBoxModel",
            "_view_count": null,
            "_view_module": "@jupyter-widgets/controls",
            "_view_module_version": "1.5.0",
            "_view_name": "HBoxView",
            "box_style": "",
            "children": [
              "IPY_MODEL_e5a08c0f17004ece83175a1eaad92909",
              "IPY_MODEL_2b177419b7d24ed8b47ff363d4c94145",
              "IPY_MODEL_dcb6812789854d53aa6420fdb955c179"
            ],
            "layout": "IPY_MODEL_e87092b0fdd245338334f867b77ce7b3"
          }
        },
        "e214b568818a45aa95b59560f5d3b724": {
          "model_module": "@jupyter-widgets/controls",
          "model_module_version": "1.5.0",
          "model_name": "HTMLModel",
          "state": {
            "_dom_classes": [],
            "_model_module": "@jupyter-widgets/controls",
            "_model_module_version": "1.5.0",
            "_model_name": "HTMLModel",
            "_view_count": null,
            "_view_module": "@jupyter-widgets/controls",
            "_view_module_version": "1.5.0",
            "_view_name": "HTMLView",
            "description": "",
            "description_tooltip": null,
            "layout": "IPY_MODEL_d27b10ff1a614a118ed30e4916c2fe7c",
            "placeholder": "​",
            "style": "IPY_MODEL_4e697a6b0ca04ff09003b5779452bb24",
            "value": "sentence_bert_config.json: 100%"
          }
        },
        "e305a42ff43b4daaae186bdc37d18bb7": {
          "model_module": "@jupyter-widgets/controls",
          "model_module_version": "1.5.0",
          "model_name": "FloatProgressModel",
          "state": {
            "_dom_classes": [],
            "_model_module": "@jupyter-widgets/controls",
            "_model_module_version": "1.5.0",
            "_model_name": "FloatProgressModel",
            "_view_count": null,
            "_view_module": "@jupyter-widgets/controls",
            "_view_module_version": "1.5.0",
            "_view_name": "ProgressView",
            "bar_style": "success",
            "description": "",
            "description_tooltip": null,
            "layout": "IPY_MODEL_cf9316031a2f4a03bac2381420b758f2",
            "max": 466247,
            "min": 0,
            "orientation": "horizontal",
            "style": "IPY_MODEL_7389b774107c46af966a6c1d42b9dbc1",
            "value": 466247
          }
        },
        "e5a08c0f17004ece83175a1eaad92909": {
          "model_module": "@jupyter-widgets/controls",
          "model_module_version": "1.5.0",
          "model_name": "HTMLModel",
          "state": {
            "_dom_classes": [],
            "_model_module": "@jupyter-widgets/controls",
            "_model_module_version": "1.5.0",
            "_model_name": "HTMLModel",
            "_view_count": null,
            "_view_module": "@jupyter-widgets/controls",
            "_view_module_version": "1.5.0",
            "_view_name": "HTMLView",
            "description": "",
            "description_tooltip": null,
            "layout": "IPY_MODEL_a508f62631424dcfbee3d6ae23adba08",
            "placeholder": "​",
            "style": "IPY_MODEL_d9e3b5e7a2ad4bc78a912a627adafc23",
            "value": "tokenizer_config.json: 100%"
          }
        },
        "e62a0a75decc4527834a54947373044a": {
          "model_module": "@jupyter-widgets/controls",
          "model_module_version": "1.5.0",
          "model_name": "HTMLModel",
          "state": {
            "_dom_classes": [],
            "_model_module": "@jupyter-widgets/controls",
            "_model_module_version": "1.5.0",
            "_model_name": "HTMLModel",
            "_view_count": null,
            "_view_module": "@jupyter-widgets/controls",
            "_view_module_version": "1.5.0",
            "_view_name": "HTMLView",
            "description": "",
            "description_tooltip": null,
            "layout": "IPY_MODEL_8ceb7e19107c4492a5e55fd884f2cc79",
            "placeholder": "​",
            "style": "IPY_MODEL_b3642b21a01548929f8d93697f6525f7",
            "value": "tokenizer.json: 100%"
          }
        },
        "e6558fcfaffc4c9fa3094515bebf9274": {
          "model_module": "@jupyter-widgets/controls",
          "model_module_version": "1.5.0",
          "model_name": "HTMLModel",
          "state": {
            "_dom_classes": [],
            "_model_module": "@jupyter-widgets/controls",
            "_model_module_version": "1.5.0",
            "_model_name": "HTMLModel",
            "_view_count": null,
            "_view_module": "@jupyter-widgets/controls",
            "_view_module_version": "1.5.0",
            "_view_name": "HTMLView",
            "description": "",
            "description_tooltip": null,
            "layout": "IPY_MODEL_f639425e4ee542a485ad2f4d63ccab31",
            "placeholder": "​",
            "style": "IPY_MODEL_aafed71d7b114c51bd5bec37f7a6c858",
            "value": "Batches: 100%"
          }
        },
        "e6c672bbf7904e31b8eedf7b2c7525b4": {
          "model_module": "@jupyter-widgets/controls",
          "model_module_version": "1.5.0",
          "model_name": "HTMLModel",
          "state": {
            "_dom_classes": [],
            "_model_module": "@jupyter-widgets/controls",
            "_model_module_version": "1.5.0",
            "_model_name": "HTMLModel",
            "_view_count": null,
            "_view_module": "@jupyter-widgets/controls",
            "_view_module_version": "1.5.0",
            "_view_name": "HTMLView",
            "description": "",
            "description_tooltip": null,
            "layout": "IPY_MODEL_ac787a16b7544f509140eaa7476591d1",
            "placeholder": "​",
            "style": "IPY_MODEL_1e7b96331e72436e9f0638fdfa0972fa",
            "value": " 232k/232k [00:00&lt;00:00, 4.05MB/s]"
          }
        },
        "e87092b0fdd245338334f867b77ce7b3": {
          "model_module": "@jupyter-widgets/base",
          "model_module_version": "1.2.0",
          "model_name": "LayoutModel",
          "state": {
            "_model_module": "@jupyter-widgets/base",
            "_model_module_version": "1.2.0",
            "_model_name": "LayoutModel",
            "_view_count": null,
            "_view_module": "@jupyter-widgets/base",
            "_view_module_version": "1.2.0",
            "_view_name": "LayoutView",
            "align_content": null,
            "align_items": null,
            "align_self": null,
            "border": null,
            "bottom": null,
            "display": null,
            "flex": null,
            "flex_flow": null,
            "grid_area": null,
            "grid_auto_columns": null,
            "grid_auto_flow": null,
            "grid_auto_rows": null,
            "grid_column": null,
            "grid_gap": null,
            "grid_row": null,
            "grid_template_areas": null,
            "grid_template_columns": null,
            "grid_template_rows": null,
            "height": null,
            "justify_content": null,
            "justify_items": null,
            "left": null,
            "margin": null,
            "max_height": null,
            "max_width": null,
            "min_height": null,
            "min_width": null,
            "object_fit": null,
            "object_position": null,
            "order": null,
            "overflow": null,
            "overflow_x": null,
            "overflow_y": null,
            "padding": null,
            "right": null,
            "top": null,
            "visibility": null,
            "width": null
          }
        },
        "ee215cee1b124e00aa7b3b820dcfd43f": {
          "model_module": "@jupyter-widgets/controls",
          "model_module_version": "1.5.0",
          "model_name": "FloatProgressModel",
          "state": {
            "_dom_classes": [],
            "_model_module": "@jupyter-widgets/controls",
            "_model_module_version": "1.5.0",
            "_model_name": "FloatProgressModel",
            "_view_count": null,
            "_view_module": "@jupyter-widgets/controls",
            "_view_module_version": "1.5.0",
            "_view_name": "ProgressView",
            "bar_style": "success",
            "description": "",
            "description_tooltip": null,
            "layout": "IPY_MODEL_57f130ca3d974a64b97d25857b9aa76b",
            "max": 629,
            "min": 0,
            "orientation": "horizontal",
            "style": "IPY_MODEL_839579d56a104b1ebe0db0e6e807c688",
            "value": 629
          }
        },
        "ee8e7dbc087a4e35a7b0efbf7c9fc178": {
          "model_module": "@jupyter-widgets/controls",
          "model_module_version": "1.5.0",
          "model_name": "ProgressStyleModel",
          "state": {
            "_model_module": "@jupyter-widgets/controls",
            "_model_module_version": "1.5.0",
            "_model_name": "ProgressStyleModel",
            "_view_count": null,
            "_view_module": "@jupyter-widgets/base",
            "_view_module_version": "1.2.0",
            "_view_name": "StyleView",
            "bar_color": null,
            "description_width": ""
          }
        },
        "f1d637d20dd44926b5854d7308fedb74": {
          "model_module": "@jupyter-widgets/base",
          "model_module_version": "1.2.0",
          "model_name": "LayoutModel",
          "state": {
            "_model_module": "@jupyter-widgets/base",
            "_model_module_version": "1.2.0",
            "_model_name": "LayoutModel",
            "_view_count": null,
            "_view_module": "@jupyter-widgets/base",
            "_view_module_version": "1.2.0",
            "_view_name": "LayoutView",
            "align_content": null,
            "align_items": null,
            "align_self": null,
            "border": null,
            "bottom": null,
            "display": null,
            "flex": null,
            "flex_flow": null,
            "grid_area": null,
            "grid_auto_columns": null,
            "grid_auto_flow": null,
            "grid_auto_rows": null,
            "grid_column": null,
            "grid_gap": null,
            "grid_row": null,
            "grid_template_areas": null,
            "grid_template_columns": null,
            "grid_template_rows": null,
            "height": null,
            "justify_content": null,
            "justify_items": null,
            "left": null,
            "margin": null,
            "max_height": null,
            "max_width": null,
            "min_height": null,
            "min_width": null,
            "object_fit": null,
            "object_position": null,
            "order": null,
            "overflow": null,
            "overflow_x": null,
            "overflow_y": null,
            "padding": null,
            "right": null,
            "top": null,
            "visibility": null,
            "width": null
          }
        },
        "f36eda2a20734a3297021aad447aa284": {
          "model_module": "@jupyter-widgets/controls",
          "model_module_version": "1.5.0",
          "model_name": "ProgressStyleModel",
          "state": {
            "_model_module": "@jupyter-widgets/controls",
            "_model_module_version": "1.5.0",
            "_model_name": "ProgressStyleModel",
            "_view_count": null,
            "_view_module": "@jupyter-widgets/base",
            "_view_module_version": "1.2.0",
            "_view_name": "StyleView",
            "bar_color": null,
            "description_width": ""
          }
        },
        "f639425e4ee542a485ad2f4d63ccab31": {
          "model_module": "@jupyter-widgets/base",
          "model_module_version": "1.2.0",
          "model_name": "LayoutModel",
          "state": {
            "_model_module": "@jupyter-widgets/base",
            "_model_module_version": "1.2.0",
            "_model_name": "LayoutModel",
            "_view_count": null,
            "_view_module": "@jupyter-widgets/base",
            "_view_module_version": "1.2.0",
            "_view_name": "LayoutView",
            "align_content": null,
            "align_items": null,
            "align_self": null,
            "border": null,
            "bottom": null,
            "display": null,
            "flex": null,
            "flex_flow": null,
            "grid_area": null,
            "grid_auto_columns": null,
            "grid_auto_flow": null,
            "grid_auto_rows": null,
            "grid_column": null,
            "grid_gap": null,
            "grid_row": null,
            "grid_template_areas": null,
            "grid_template_columns": null,
            "grid_template_rows": null,
            "height": null,
            "justify_content": null,
            "justify_items": null,
            "left": null,
            "margin": null,
            "max_height": null,
            "max_width": null,
            "min_height": null,
            "min_width": null,
            "object_fit": null,
            "object_position": null,
            "order": null,
            "overflow": null,
            "overflow_x": null,
            "overflow_y": null,
            "padding": null,
            "right": null,
            "top": null,
            "visibility": null,
            "width": null
          }
        },
        "f6a11bb3630043e49bc589e779cfe65a": {
          "model_module": "@jupyter-widgets/base",
          "model_module_version": "1.2.0",
          "model_name": "LayoutModel",
          "state": {
            "_model_module": "@jupyter-widgets/base",
            "_model_module_version": "1.2.0",
            "_model_name": "LayoutModel",
            "_view_count": null,
            "_view_module": "@jupyter-widgets/base",
            "_view_module_version": "1.2.0",
            "_view_name": "LayoutView",
            "align_content": null,
            "align_items": null,
            "align_self": null,
            "border": null,
            "bottom": null,
            "display": null,
            "flex": null,
            "flex_flow": null,
            "grid_area": null,
            "grid_auto_columns": null,
            "grid_auto_flow": null,
            "grid_auto_rows": null,
            "grid_column": null,
            "grid_gap": null,
            "grid_row": null,
            "grid_template_areas": null,
            "grid_template_columns": null,
            "grid_template_rows": null,
            "height": null,
            "justify_content": null,
            "justify_items": null,
            "left": null,
            "margin": null,
            "max_height": null,
            "max_width": null,
            "min_height": null,
            "min_width": null,
            "object_fit": null,
            "object_position": null,
            "order": null,
            "overflow": null,
            "overflow_x": null,
            "overflow_y": null,
            "padding": null,
            "right": null,
            "top": null,
            "visibility": null,
            "width": null
          }
        },
        "f70e550edee54d6e91fdc6982b8e4729": {
          "model_module": "@jupyter-widgets/controls",
          "model_module_version": "1.5.0",
          "model_name": "HBoxModel",
          "state": {
            "_dom_classes": [],
            "_model_module": "@jupyter-widgets/controls",
            "_model_module_version": "1.5.0",
            "_model_name": "HBoxModel",
            "_view_count": null,
            "_view_module": "@jupyter-widgets/controls",
            "_view_module_version": "1.5.0",
            "_view_name": "HBoxView",
            "box_style": "",
            "children": [
              "IPY_MODEL_fbee9a79e23d438fbd4c05daf52073b9",
              "IPY_MODEL_a4b89dc349d848a5a7fdda4f7208f0f0",
              "IPY_MODEL_79b4651f81c94fa49fd7ca0fd0360d99"
            ],
            "layout": "IPY_MODEL_afed6b063c824aed8035f4feffa2c246"
          }
        },
        "f86e222886b04030a0ffaa65d5ff13c0": {
          "model_module": "@jupyter-widgets/base",
          "model_module_version": "1.2.0",
          "model_name": "LayoutModel",
          "state": {
            "_model_module": "@jupyter-widgets/base",
            "_model_module_version": "1.2.0",
            "_model_name": "LayoutModel",
            "_view_count": null,
            "_view_module": "@jupyter-widgets/base",
            "_view_module_version": "1.2.0",
            "_view_name": "LayoutView",
            "align_content": null,
            "align_items": null,
            "align_self": null,
            "border": null,
            "bottom": null,
            "display": null,
            "flex": null,
            "flex_flow": null,
            "grid_area": null,
            "grid_auto_columns": null,
            "grid_auto_flow": null,
            "grid_auto_rows": null,
            "grid_column": null,
            "grid_gap": null,
            "grid_row": null,
            "grid_template_areas": null,
            "grid_template_columns": null,
            "grid_template_rows": null,
            "height": null,
            "justify_content": null,
            "justify_items": null,
            "left": null,
            "margin": null,
            "max_height": null,
            "max_width": null,
            "min_height": null,
            "min_width": null,
            "object_fit": null,
            "object_position": null,
            "order": null,
            "overflow": null,
            "overflow_x": null,
            "overflow_y": null,
            "padding": null,
            "right": null,
            "top": null,
            "visibility": null,
            "width": null
          }
        },
        "f874a9d7ac0343e1829a4e36c2e9d4d7": {
          "model_module": "@jupyter-widgets/base",
          "model_module_version": "1.2.0",
          "model_name": "LayoutModel",
          "state": {
            "_model_module": "@jupyter-widgets/base",
            "_model_module_version": "1.2.0",
            "_model_name": "LayoutModel",
            "_view_count": null,
            "_view_module": "@jupyter-widgets/base",
            "_view_module_version": "1.2.0",
            "_view_name": "LayoutView",
            "align_content": null,
            "align_items": null,
            "align_self": null,
            "border": null,
            "bottom": null,
            "display": null,
            "flex": null,
            "flex_flow": null,
            "grid_area": null,
            "grid_auto_columns": null,
            "grid_auto_flow": null,
            "grid_auto_rows": null,
            "grid_column": null,
            "grid_gap": null,
            "grid_row": null,
            "grid_template_areas": null,
            "grid_template_columns": null,
            "grid_template_rows": null,
            "height": null,
            "justify_content": null,
            "justify_items": null,
            "left": null,
            "margin": null,
            "max_height": null,
            "max_width": null,
            "min_height": null,
            "min_width": null,
            "object_fit": null,
            "object_position": null,
            "order": null,
            "overflow": null,
            "overflow_x": null,
            "overflow_y": null,
            "padding": null,
            "right": null,
            "top": null,
            "visibility": null,
            "width": null
          }
        },
        "f8fe1a54229a4018a698d99be117c2f9": {
          "model_module": "@jupyter-widgets/controls",
          "model_module_version": "1.5.0",
          "model_name": "FloatProgressModel",
          "state": {
            "_dom_classes": [],
            "_model_module": "@jupyter-widgets/controls",
            "_model_module_version": "1.5.0",
            "_model_name": "FloatProgressModel",
            "_view_count": null,
            "_view_module": "@jupyter-widgets/controls",
            "_view_module_version": "1.5.0",
            "_view_name": "ProgressView",
            "bar_style": "success",
            "description": "",
            "description_tooltip": null,
            "layout": "IPY_MODEL_b9374a17b39b41e69be0e3c7c8b88676",
            "max": 90868376,
            "min": 0,
            "orientation": "horizontal",
            "style": "IPY_MODEL_81069c4855a14ea6891ccdaa6f25d067",
            "value": 90868376
          }
        },
        "f9051ca55ba04c5c85527156f2618d5a": {
          "model_module": "@jupyter-widgets/controls",
          "model_module_version": "1.5.0",
          "model_name": "HBoxModel",
          "state": {
            "_dom_classes": [],
            "_model_module": "@jupyter-widgets/controls",
            "_model_module_version": "1.5.0",
            "_model_name": "HBoxModel",
            "_view_count": null,
            "_view_module": "@jupyter-widgets/controls",
            "_view_module_version": "1.5.0",
            "_view_name": "HBoxView",
            "box_style": "",
            "children": [
              "IPY_MODEL_a2384efafd7743c1af0b67992ad931c4",
              "IPY_MODEL_892d024c16f94456a82349d474fc48d1",
              "IPY_MODEL_8397eaef68b74dd2ae80b817bbe64abe"
            ],
            "layout": "IPY_MODEL_9279a61202a64f2ea9520ab24f39072a"
          }
        },
        "fb916502ad81480bacb59d541970f526": {
          "model_module": "@jupyter-widgets/base",
          "model_module_version": "1.2.0",
          "model_name": "LayoutModel",
          "state": {
            "_model_module": "@jupyter-widgets/base",
            "_model_module_version": "1.2.0",
            "_model_name": "LayoutModel",
            "_view_count": null,
            "_view_module": "@jupyter-widgets/base",
            "_view_module_version": "1.2.0",
            "_view_name": "LayoutView",
            "align_content": null,
            "align_items": null,
            "align_self": null,
            "border": null,
            "bottom": null,
            "display": null,
            "flex": null,
            "flex_flow": null,
            "grid_area": null,
            "grid_auto_columns": null,
            "grid_auto_flow": null,
            "grid_auto_rows": null,
            "grid_column": null,
            "grid_gap": null,
            "grid_row": null,
            "grid_template_areas": null,
            "grid_template_columns": null,
            "grid_template_rows": null,
            "height": null,
            "justify_content": null,
            "justify_items": null,
            "left": null,
            "margin": null,
            "max_height": null,
            "max_width": null,
            "min_height": null,
            "min_width": null,
            "object_fit": null,
            "object_position": null,
            "order": null,
            "overflow": null,
            "overflow_x": null,
            "overflow_y": null,
            "padding": null,
            "right": null,
            "top": null,
            "visibility": null,
            "width": null
          }
        },
        "fbee9a79e23d438fbd4c05daf52073b9": {
          "model_module": "@jupyter-widgets/controls",
          "model_module_version": "1.5.0",
          "model_name": "HTMLModel",
          "state": {
            "_dom_classes": [],
            "_model_module": "@jupyter-widgets/controls",
            "_model_module_version": "1.5.0",
            "_model_name": "HTMLModel",
            "_view_count": null,
            "_view_module": "@jupyter-widgets/controls",
            "_view_module_version": "1.5.0",
            "_view_name": "HTMLView",
            "description": "",
            "description_tooltip": null,
            "layout": "IPY_MODEL_6cd2590fee4a4702adcf35d3d1921864",
            "placeholder": "​",
            "style": "IPY_MODEL_2ca0905aeab04ed0958d8bd57b819573",
            "value": "vocab.txt: 100%"
          }
        },
        "fc7da7fd44d44afcb70060b188700f54": {
          "model_module": "@jupyter-widgets/controls",
          "model_module_version": "1.5.0",
          "model_name": "DescriptionStyleModel",
          "state": {
            "_model_module": "@jupyter-widgets/controls",
            "_model_module_version": "1.5.0",
            "_model_name": "DescriptionStyleModel",
            "_view_count": null,
            "_view_module": "@jupyter-widgets/base",
            "_view_module_version": "1.2.0",
            "_view_name": "StyleView",
            "description_width": ""
          }
        },
        "ff4d0676ad5647c0990752581c1824ec": {
          "model_module": "@jupyter-widgets/controls",
          "model_module_version": "1.5.0",
          "model_name": "HTMLModel",
          "state": {
            "_dom_classes": [],
            "_model_module": "@jupyter-widgets/controls",
            "_model_module_version": "1.5.0",
            "_model_name": "HTMLModel",
            "_view_count": null,
            "_view_module": "@jupyter-widgets/controls",
            "_view_module_version": "1.5.0",
            "_view_name": "HTMLView",
            "description": "",
            "description_tooltip": null,
            "layout": "IPY_MODEL_be2545adb78b4401a603acfdbbe067fe",
            "placeholder": "​",
            "style": "IPY_MODEL_d91e9a65a3b14b8f8060f099f8c5bb56",
            "value": " 53.0/53.0 [00:00&lt;00:00, 6.07kB/s]"
          }
        }
      }
    }
  },
  "nbformat": 4,
  "nbformat_minor": 0
}
